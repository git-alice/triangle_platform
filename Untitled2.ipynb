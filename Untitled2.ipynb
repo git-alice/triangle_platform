{
 "cells": [
  {
   "cell_type": "code",
   "execution_count": 13,
   "metadata": {},
   "outputs": [
    {
     "name": "stdout",
     "output_type": "stream",
     "text": [
      "The autoreload extension is already loaded. To reload it, use:\n",
      "  %reload_ext autoreload\n"
     ]
    }
   ],
   "source": [
    "%load_ext autoreload\n",
    "%autoreload 2\n",
    "\n",
    "from draw import *\n",
    "from utils import read_obj, write_obj\n",
    "import numpy as np\n",
    "import pandas as pd"
   ]
  },
  {
   "cell_type": "code",
   "execution_count": 39,
   "metadata": {},
   "outputs": [],
   "source": [
    "# Начальные условия и парметры\n",
    "t = symbols('t')\n",
    "p, h, d, r = symbols('p,h,d,r')\n",
    "\n",
    "psi0, psi1, psi2, theta0, theta1, theta2, x, y, alpha = symbols('psi_0, psi_1, psi_2, theta_0, theta_1, theta_2, x, y, alpha')\n",
    "\n",
    "eq_x = cos(t)\n",
    "eq_y = sin(t)\n",
    "eq_alpha = 0\n",
    "\n",
    "\n",
    "initial_conditions = {psi0:0,\n",
    "                      psi1:0,\n",
    "                      psi2:0,\n",
    "                      theta0:pi/2,\n",
    "                      theta1:0,\n",
    "                      theta2:0}\n",
    "params = {p: 3,\n",
    "          r: 1,\n",
    "          d: 0.2,\n",
    "          h: 2}\n",
    "\n",
    "t_end = 2*pi.evalf()"
   ]
  },
  {
   "cell_type": "code",
   "execution_count": 40,
   "metadata": {},
   "outputs": [
    {
     "name": "stdout",
     "output_type": "stream",
     "text": [
      "diff(PSI) i = 0:  (nu1(t)*cos(theta0(t)) + nu2(t)*sin(theta0(t)) - sin(beta0(t) - theta0(t))*Derivative(alpha(t), t))/r\n",
      "diff(THETA) i = 0:  (-d*Derivative(alpha(t), t) + nu1(t)*sin(theta0(t)) - nu2(t)*cos(theta0(t)) - cos(beta0(t) - theta0(t))*Derivative(alpha(t), t))/d\n",
      "[(-sin(t)*cos(theta_0) + sin(theta_0)*cos(t))/r, (-sin(t)*cos(theta_1) + sin(theta_1)*cos(t))/r, (-sin(t)*cos(theta_2) + sin(theta_2)*cos(t))/r, (-sin(t)*sin(theta_0) - cos(t)*cos(theta_0))/d, (-sin(t)*sin(theta_1) - cos(t)*cos(theta_1))/d, (-sin(t)*sin(theta_2) - cos(t)*cos(theta_2))/d]\n",
      "Количество совпадает: True\n"
     ]
    }
   ],
   "source": [
    "xout, yout, info, left, right = calc(eq_x, eq_y, eq_alpha, initial_conditions, params, t_end)"
   ]
  },
  {
   "cell_type": "code",
   "execution_count": 41,
   "metadata": {},
   "outputs": [],
   "source": [
    "# sc_coords\n"
   ]
  },
  {
   "cell_type": "code",
   "execution_count": 42,
   "metadata": {},
   "outputs": [
    {
     "name": "stdout",
     "output_type": "stream",
     "text": [
      "Matrix([[-sin(alpha(t))*sin(beta0(t)) + cos(alpha(t))*cos(beta0(t))], [sin(alpha(t))*cos(beta0(t)) + sin(beta0(t))*cos(alpha(t))], [0]])\n",
      "Matrix([[-sin(alpha(t))*sin(beta1(t)) + cos(alpha(t))*cos(beta1(t))], [sin(alpha(t))*cos(beta1(t)) + sin(beta1(t))*cos(alpha(t))], [0]])\n",
      "Matrix([[-sin(alpha(t))*sin(beta2(t)) + cos(alpha(t))*cos(beta2(t))], [sin(alpha(t))*cos(beta2(t)) + sin(beta2(t))*cos(alpha(t))], [0]])\n",
      "Matrix([[d*(-sin(alpha(t))*sin(theta0(t)) + cos(alpha(t))*cos(theta0(t)))], [d*(sin(alpha(t))*cos(theta0(t)) + sin(theta0(t))*cos(alpha(t)))], [-h]])\n",
      "Matrix([[d*(-sin(alpha(t))*sin(theta1(t)) + cos(alpha(t))*cos(theta1(t)))], [d*(sin(alpha(t))*cos(theta1(t)) + sin(theta1(t))*cos(alpha(t)))], [-h]])\n",
      "Matrix([[d*(-sin(alpha(t))*sin(theta2(t)) + cos(alpha(t))*cos(theta2(t)))], [d*(sin(alpha(t))*cos(theta2(t)) + sin(theta2(t))*cos(alpha(t)))], [-h]])\n"
     ]
    }
   ],
   "source": [
    "sc_coords = get_sc_coords(xout, yout, params)\n",
    "sp_coords = get_sp_coords(xout, yout, params)\n",
    "pc_coords = get_pc_coords(xout, yout, params)\n"
   ]
  },
  {
   "cell_type": "code",
   "execution_count": 43,
   "metadata": {},
   "outputs": [],
   "source": [
    "df = get_df(xout, yout, sc_coords, sp_coords, pc_coords)"
   ]
  },
  {
   "cell_type": "code",
   "execution_count": 44,
   "metadata": {},
   "outputs": [
    {
     "name": "stdout",
     "output_type": "stream",
     "text": [
      "Matrix([[d*(-sin(alpha(t))*sin(theta0(t)) + cos(alpha(t))*cos(theta0(t)))], [d*(sin(alpha(t))*cos(theta0(t)) + sin(theta0(t))*cos(alpha(t)))], [-h]])\n",
      "Matrix([[d*(-sin(alpha(t))*sin(theta1(t)) + cos(alpha(t))*cos(theta1(t)))], [d*(sin(alpha(t))*cos(theta1(t)) + sin(theta1(t))*cos(alpha(t)))], [-h]])\n",
      "Matrix([[d*(-sin(alpha(t))*sin(theta2(t)) + cos(alpha(t))*cos(theta2(t)))], [d*(sin(alpha(t))*cos(theta2(t)) + sin(theta2(t))*cos(alpha(t)))], [-h]])\n"
     ]
    }
   ],
   "source": [
    "_ = evaluate_vec(PC, xout, yout, params)"
   ]
  },
  {
   "cell_type": "code",
   "execution_count": 45,
   "metadata": {},
   "outputs": [
    {
     "name": "stdout",
     "output_type": "stream",
     "text": [
      "Matrix([[d*(-sin(alpha(t))*sin(theta0(t)) + cos(alpha(t))*cos(theta0(t)))], [d*(sin(alpha(t))*cos(theta0(t)) + sin(theta0(t))*cos(alpha(t)))], [-h]])\n",
      "Matrix([[d*(-sin(alpha(t))*sin(theta1(t)) + cos(alpha(t))*cos(theta1(t)))], [d*(sin(alpha(t))*cos(theta1(t)) + sin(theta1(t))*cos(alpha(t)))], [-h]])\n",
      "Matrix([[d*(-sin(alpha(t))*sin(theta2(t)) + cos(alpha(t))*cos(theta2(t)))], [d*(sin(alpha(t))*cos(theta2(t)) + sin(theta2(t))*cos(alpha(t)))], [-h]])\n"
     ]
    }
   ],
   "source": [
    "_ = get_pc_coords(xout, yout, params)"
   ]
  },
  {
   "cell_type": "code",
   "execution_count": 50,
   "metadata": {},
   "outputs": [],
   "source": [
    "# треугольники\n",
    "\n",
    "layout = {\n",
    "    'shapes': get_shapes(df, 5)\n",
    "}"
   ]
  },
  {
   "cell_type": "code",
   "execution_count": null,
   "metadata": {},
   "outputs": [],
   "source": []
  },
  {
   "cell_type": "code",
   "execution_count": 51,
   "metadata": {},
   "outputs": [],
   "source": [
    "data = data_for_plotly(\n",
    "    {\n",
    "        'x': df.x.values,\n",
    "        'y': df.y.values,\n",
    "        'name': 'x y'\n",
    "    },\n",
    "#     {\n",
    "#         'x': df.x.values + df.contact0x.values,\n",
    "#         'y': df.y.values + df.contact0y.values,\n",
    "#         'name': 'wheel 0'\n",
    "#     },\n",
    "#     {\n",
    "#         'x': df.x.values + df.contact1x.values,\n",
    "#         'y': df.y.values + df.contact1y.values,\n",
    "#         'name': 'wheel 1'\n",
    "#     },\n",
    "#     {\n",
    "#         'x': df.x.values + df.contact2x.values,\n",
    "#         'y': df.y.values + df.contact2y.values,\n",
    "#         'name': 'wheel 1'\n",
    "#     }\n",
    ")"
   ]
  },
  {
   "cell_type": "code",
   "execution_count": 55,
   "metadata": {},
   "outputs": [
    {
     "name": "stdout",
     "output_type": "stream",
     "text": [
      "High five! You successfully sent some data to your account on plotly. View your plot in your browser at https://plot.ly/~plotly-alice/0 or inside your plot.ly account where it is named 'line-mode'\n"
     ]
    },
    {
     "data": {
      "text/html": [
       "<iframe id=\"igraph\" scrolling=\"no\" style=\"border:none;\" seamless=\"seamless\" src=\"https://plot.ly/~plotly-alice/0.embed\" height=\"525px\" width=\"100%\"></iframe>"
      ],
      "text/plain": [
       "<plotly.tools.PlotlyDisplay object>"
      ]
     },
     "execution_count": 55,
     "metadata": {},
     "output_type": "execute_result"
    }
   ],
   "source": [
    "fig = {\n",
    "    'data': data,\n",
    "    'layout': layout,\n",
    "}\n",
    "\n",
    "py.iplot(fig, filename='line-mode')"
   ]
  },
  {
   "cell_type": "code",
   "execution_count": 122,
   "metadata": {},
   "outputs": [
    {
     "name": "stdout",
     "output_type": "stream",
     "text": [
      "High five! You successfully sent some data to your account on plotly. View your plot in your browser at https://plot.ly/~plotly-alice/0 or inside your plot.ly account where it is named 'line-mode'\n"
     ]
    },
    {
     "data": {
      "text/html": [
       "<iframe id=\"igraph\" scrolling=\"no\" style=\"border:none;\" seamless=\"seamless\" src=\"https://plot.ly/~plotly-alice/0.embed\" height=\"525px\" width=\"100%\"></iframe>"
      ],
      "text/plain": [
       "<plotly.tools.PlotlyDisplay object>"
      ]
     },
     "execution_count": 122,
     "metadata": {},
     "output_type": "execute_result"
    }
   ],
   "source": [
    "# по прямой с разворотом alpha"
   ]
  },
  {
   "cell_type": "code",
   "execution_count": 111,
   "metadata": {},
   "outputs": [
    {
     "name": "stdout",
     "output_type": "stream",
     "text": [
      "High five! You successfully sent some data to your account on plotly. View your plot in your browser at https://plot.ly/~plotly-alice/0 or inside your plot.ly account where it is named 'line-mode'\n"
     ]
    },
    {
     "data": {
      "text/html": [
       "<iframe id=\"igraph\" scrolling=\"no\" style=\"border:none;\" seamless=\"seamless\" src=\"https://plot.ly/~plotly-alice/0.embed\" height=\"525px\" width=\"100%\"></iframe>"
      ],
      "text/plain": [
       "<plotly.tools.PlotlyDisplay object>"
      ]
     },
     "execution_count": 111,
     "metadata": {},
     "output_type": "execute_result"
    }
   ],
   "source": [
    "# по прямой вдоль y (разворотом колеса)"
   ]
  },
  {
   "cell_type": "code",
   "execution_count": 101,
   "metadata": {},
   "outputs": [
    {
     "name": "stdout",
     "output_type": "stream",
     "text": [
      "High five! You successfully sent some data to your account on plotly. View your plot in your browser at https://plot.ly/~plotly-alice/0 or inside your plot.ly account where it is named 'line-mode'\n"
     ]
    },
    {
     "data": {
      "text/html": [
       "<iframe id=\"igraph\" scrolling=\"no\" style=\"border:none;\" seamless=\"seamless\" src=\"https://plot.ly/~plotly-alice/0.embed\" height=\"525px\" width=\"100%\"></iframe>"
      ],
      "text/plain": [
       "<plotly.tools.PlotlyDisplay object>"
      ]
     },
     "execution_count": 101,
     "metadata": {},
     "output_type": "execute_result"
    }
   ],
   "source": [
    "# по прямой вдоль x (разворотом колеса)"
   ]
  },
  {
   "cell_type": "code",
   "execution_count": 91,
   "metadata": {
    "collapsed": true
   },
   "outputs": [
    {
     "name": "stdout",
     "output_type": "stream",
     "text": [
      "High five! You successfully sent some data to your account on plotly. View your plot in your browser at https://plot.ly/~plotly-alice/0 or inside your plot.ly account where it is named 'line-mode'\n"
     ]
    },
    {
     "data": {
      "text/html": [
       "<iframe id=\"igraph\" scrolling=\"no\" style=\"border:none;\" seamless=\"seamless\" src=\"https://plot.ly/~plotly-alice/0.embed\" height=\"525px\" width=\"100%\"></iframe>"
      ],
      "text/plain": [
       "<plotly.tools.PlotlyDisplay object>"
      ]
     },
     "execution_count": 91,
     "metadata": {},
     "output_type": "execute_result"
    }
   ],
   "source": [
    "# по окружности"
   ]
  },
  {
   "cell_type": "code",
   "execution_count": null,
   "metadata": {},
   "outputs": [],
   "source": []
  }
 ],
 "metadata": {
  "kernelspec": {
   "display_name": "Python 3",
   "language": "python",
   "name": "python3"
  },
  "language_info": {
   "codemirror_mode": {
    "name": "ipython",
    "version": 3
   },
   "file_extension": ".py",
   "mimetype": "text/x-python",
   "name": "python",
   "nbconvert_exporter": "python",
   "pygments_lexer": "ipython3",
   "version": "3.6.7"
  }
 },
 "nbformat": 4,
 "nbformat_minor": 2
}
