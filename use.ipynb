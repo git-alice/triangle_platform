{
 "cells": [
  {
   "cell_type": "code",
   "execution_count": null,
   "metadata": {},
   "outputs": [],
   "source": [
    "for key, value in all_eq.items():\n",
    "    all_eq[key] = subs_for_ode(subs_init(value))\n",
    "      \n",
    "t = symbols('t')\n",
    "\n",
    "# nu1, nu2, alpha2, alpha1, psi0, theta0, psi1, theta1, psi2, theta2 = symbols('nu1, nu2, alpha2, alpha1, psi0, theta0, psi1, theta1, psi2, theta2')\n",
    "\n",
    "# from mpmath import *\n",
    "# f = odefun(lambda t, z: list(all_eq.values()), 0, [0,0,0,0,0,0,0,0,0,0])\n",
    "\n",
    "from mpmath import *\n",
    "mp.dps = 15; mp.pretty = True\n",
    "f = odefun(lambda x, [y,z]: y, 0, [0,1])\n",
    "for x in [0, 1, 2.5]:\n",
    "    print((f(x), exp(x)))"
   ]
  }
 ],
 "metadata": {
  "kernelspec": {
   "display_name": "Python 3",
   "language": "python",
   "name": "python3"
  },
  "language_info": {
   "codemirror_mode": {
    "name": "ipython",
    "version": 3
   },
   "file_extension": ".py",
   "mimetype": "text/x-python",
   "name": "python",
   "nbconvert_exporter": "python",
   "pygments_lexer": "ipython3",
   "version": "3.6.8"
  },
  "toc": {
   "base_numbering": 1,
   "nav_menu": {},
   "number_sections": true,
   "sideBar": true,
   "skip_h1_title": false,
   "title_cell": "Table of Contents",
   "title_sidebar": "Contents",
   "toc_cell": false,
   "toc_position": {},
   "toc_section_display": true,
   "toc_window_display": false
  },
  "varInspector": {
   "cols": {
    "lenName": 16,
    "lenType": 16,
    "lenVar": 40
   },
   "kernels_config": {
    "python": {
     "delete_cmd_postfix": "",
     "delete_cmd_prefix": "del ",
     "library": "var_list.py",
     "varRefreshCmd": "print(var_dic_list())"
    },
    "r": {
     "delete_cmd_postfix": ") ",
     "delete_cmd_prefix": "rm(",
     "library": "var_list.r",
     "varRefreshCmd": "cat(var_dic_list()) "
    }
   },
   "types_to_exclude": [
    "module",
    "function",
    "builtin_function_or_method",
    "instance",
    "_Feature"
   ],
   "window_display": false
  }
 },
 "nbformat": 4,
 "nbformat_minor": 2
}
