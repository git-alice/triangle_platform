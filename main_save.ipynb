{
 "cells": [
  {
   "cell_type": "code",
   "execution_count": 2,
   "metadata": {},
   "outputs": [],
   "source": [
    "%load_ext autoreload\n",
    "%autoreload 2\n",
    "\n",
    "from sympy import *\n",
    "from sympy.tensor import *\n",
    "import sympy.printing as printing\n",
    "from sympy.physics.vector import dynamicsymbols\n",
    "\n",
    "from variables import *\n",
    "from structure import *\n",
    "from functions import *\n",
    "from latex import *\n",
    "\n",
    "import utils\n",
    "from utils import write_obj, read_obj, c_print\n",
    "from utils import print_all_variables as pa\n",
    "# from main import SymbolSolver\n"
   ]
  },
  {
   "cell_type": "code",
   "execution_count": 3,
   "metadata": {},
   "outputs": [
    {
     "data": {
      "text/plain": [
       "Matrix([\n",
       "[-sin(alpha(t))*cos(theta0(t)) - sin(theta0(t))*cos(alpha(t))],\n",
       "[-sin(alpha(t))*sin(theta0(t)) + cos(alpha(t))*cos(theta0(t))],\n",
       "[                                                           0]])"
      ]
     },
     "execution_count": 3,
     "metadata": {},
     "output_type": "execute_result"
    }
   ],
   "source": []
  },
  {
   "cell_type": "code",
   "execution_count": 4,
   "metadata": {},
   "outputs": [],
   "source": [
    "# ss = SymbolSolver()\n",
    "# ss.get_omegas(calc=True)\n",
    "# ss.get_euler_equations(calc=True)\n",
    "\n",
    "calc=True"
   ]
  },
  {
   "cell_type": "markdown",
   "metadata": {},
   "source": [
    "# угловые скорости (платформы, вилки, колеса) относительно пола"
   ]
  },
  {
   "cell_type": "code",
   "execution_count": 5,
   "metadata": {},
   "outputs": [],
   "source": [
    "if calc:\n",
    "    omega['platform']= lambda i: Derivative(alpha,t)*e['z']\n",
    "    omega['fork']    = lambda i: omega['platform'](i) + Derivative(theta[i],t)*e['z']\n",
    "    omega['wheel']   = lambda i: omega['fork'](i) + Derivative(psi[i],t)*n_wheel(i)\n",
    "    write_obj(omega['platform'], 'angular_velocity_platform', 'угловая скорость платформы')\n",
    "    write_obj(omega['fork'], 'angular_velocity_fork', 'угловая скорость вилки')\n",
    "    write_obj(omega['wheel'], 'angular_velocity_wheel', 'угловая скорость колеса')\n",
    "else:\n",
    "    omega['platform'] = read_obj('angular_velocity_platform')\n",
    "    omega['fork'] = read_obj('angular_velocity_fork')\n",
    "    omega['wheel'] = read_obj('angular_velocity_wheel')"
   ]
  },
  {
   "cell_type": "code",
   "execution_count": 6,
   "metadata": {},
   "outputs": [
    {
     "data": {
      "text/plain": [
       "Matrix([\n",
       "[-sin(alpha(t))*sin(beta0(t)) + cos(alpha(t))*cos(beta0(t))],\n",
       "[ sin(alpha(t))*cos(beta0(t)) + sin(beta0(t))*cos(alpha(t))],\n",
       "[                                                         0]])"
      ]
     },
     "execution_count": 6,
     "metadata": {},
     "output_type": "execute_result"
    }
   ],
   "source": [
    "cos(beta[0]) * e['xi'] + sin(beta[0])*e['eta']"
   ]
  },
  {
   "cell_type": "markdown",
   "metadata": {},
   "source": [
    "# УРАНЕНИЯ ЭЁЛЕРА И ОТСУТСТВИЕ ПРОСКАЛЬЗЫВАНИЯ \n"
   ]
  },
  {
   "cell_type": "code",
   "execution_count": 7,
   "metadata": {},
   "outputs": [],
   "source": [
    "if calc:\n",
    "    v['S'] = euler(S, P)\n",
    "    v['P'] = euler(P, C)\n",
    "    v['C'] = euler(C, D)\n",
    "    v['D'] = lambda i: Matrix([0,0,0]) # проскальзывания нет\n",
    "    \n",
    "    write_obj(v['S'], 'point_S_velocity', 'скорость точки S')\n",
    "    write_obj(v['P'], 'point_P_velocity', 'скорость точки P')\n",
    "    write_obj(v['C'], 'point_C_velocity', 'скорость точки C')\n",
    "    write_obj(v['D'], 'point_D_velocity', 'скорость точки D')\n",
    "else:\n",
    "    v['S'] = read_obj('point_S_velocity')\n",
    "    v['P'] = read_obj('point_P_velocity')\n",
    "    v['C'] = read_obj('point_C_velocity')\n",
    "    v['D'] = read_obj('point_D_velocity')"
   ]
  },
  {
   "cell_type": "code",
   "execution_count": 8,
   "metadata": {},
   "outputs": [
    {
     "data": {
      "text/plain": [
       "Matrix([\n",
       "[ d*(Derivative(alpha(t), t) + Derivative(theta0(t), t))*sin(alpha(t) + theta0(t)) + r*cos(alpha(t) + theta0(t))*Derivative(psi0(t), t)],\n",
       "[-d*(Derivative(alpha(t), t) + Derivative(theta0(t), t))*cos(alpha(t) + theta0(t)) + r*sin(alpha(t) + theta0(t))*Derivative(psi0(t), t)],\n",
       "[                                                                                                                                     0]])"
      ]
     },
     "execution_count": 8,
     "metadata": {},
     "output_type": "execute_result"
    }
   ],
   "source": [
    "simplify(v['P'](0))"
   ]
  },
  {
   "cell_type": "code",
   "execution_count": 9,
   "metadata": {},
   "outputs": [
    {
     "data": {
      "text/plain": [
       "'0'"
      ]
     },
     "execution_count": 9,
     "metadata": {},
     "output_type": "execute_result"
    }
   ],
   "source": [
    "latex(simplify(v['S'](0))[2])"
   ]
  },
  {
   "cell_type": "code",
   "execution_count": 10,
   "metadata": {},
   "outputs": [],
   "source": [
    "# init_printing()\n",
    "# simplify(Transpose(v['C'](0))*v['C'](0))"
   ]
  },
  {
   "cell_type": "code",
   "execution_count": null,
   "metadata": {},
   "outputs": [],
   "source": [
    "# eq['nu1'](0)"
   ]
  },
  {
   "cell_type": "markdown",
   "metadata": {},
   "source": [
    "# Полученные выражения из связей для nu1 nu2 delta_x delta_y"
   ]
  },
  {
   "cell_type": "code",
   "execution_count": 11,
   "metadata": {},
   "outputs": [],
   "source": [
    "if calc:\n",
    "    eq['delta_x'] = lambda i: scalar(v['S'](i), e['x'])\n",
    "    eq['delta_y'] = lambda i: scalar(v['S'](i), e['y'])\n",
    "    eq['nu1']     = lambda i: scalar(v['S'](i), e['xi'])\n",
    "    eq['nu2']     = lambda i: scalar(v['S'](i), e['eta'])\n",
    "    write_obj(eq['delta_x'], 'delta_x', '')\n",
    "    write_obj(eq['delta_y'], 'delta_x', '')\n",
    "    write_obj(eq['nu1'], 'nu1', '')\n",
    "    write_obj(eq['nu2'], 'nu2', '')\n",
    "else:\n",
    "    read_obj('delta_x')\n",
    "    read_obj('delta_x')\n",
    "    read_obj('nu1')\n",
    "    read_obj('nu2')"
   ]
  },
  {
   "cell_type": "code",
   "execution_count": 12,
   "metadata": {},
   "outputs": [
    {
     "data": {
      "text/plain": [
       "'- d \\\\cos{\\\\left (\\\\theta_{0}{\\\\left (t \\\\right )} \\\\right )} \\\\frac{d}{d t} \\\\alpha{\\\\left (t \\\\right )} - d \\\\cos{\\\\left (\\\\theta_{0}{\\\\left (t \\\\right )} \\\\right )} \\\\frac{d}{d t} \\\\theta_{0}{\\\\left (t \\\\right )} + r \\\\sin{\\\\left (\\\\theta_{0}{\\\\left (t \\\\right )} \\\\right )} \\\\frac{d}{d t} \\\\psi_{0}{\\\\left (t \\\\right )} - \\\\cos{\\\\left (\\\\beta_{0}{\\\\left (t \\\\right )} \\\\right )} \\\\frac{d}{d t} \\\\alpha{\\\\left (t \\\\right )}'"
      ]
     },
     "execution_count": 12,
     "metadata": {},
     "output_type": "execute_result"
    }
   ],
   "source": [
    "latex(simplify(eq['nu2'](0)))"
   ]
  },
  {
   "cell_type": "markdown",
   "metadata": {},
   "source": [
    "# Связи через delta_alpha, delta_x, delta_y"
   ]
  },
  {
   "cell_type": "code",
   "execution_count": 13,
   "metadata": {},
   "outputs": [],
   "source": [
    "if calc:\n",
    "    # возвращает словарь с выражениями для diff(psi) и diff(theta)\n",
    "    eq['f(delta_x,delta_y)'] = lambda i: solve(\n",
    "                          [Eq(eq['delta_x'](i), delta['x']), Eq(eq['delta_y'](i), delta['y'])],\n",
    "                          [Derivative(psi[i],t), Derivative(theta[i],t)],\n",
    "                          dict=True)[0];\n",
    "\n",
    "\n",
    "    # !!! delta_x delta_y - symbols\n",
    "    eq['diff(psi)']   = lambda i: eq['f(delta_x,delta_y)'](i)[Derivative(psi[i],t)].\\\n",
    "        subs(Derivative(alpha,t), delta['alpha']).subs(Derivative(psi[i],t), delta['psi']).\\\n",
    "        subs(Derivative(theta[i],t), delta['theta'])\n",
    "    eq['diff(theta)'] = lambda i: eq['f(delta_x,delta_y)'](i)[Derivative(theta[i],t)].\\\n",
    "        subs(Derivative(alpha,t), delta['alpha']).subs(Derivative(psi[i],t), delta['psi']).\\\n",
    "        subs(Derivative(theta[i],t), delta['theta'])\n",
    "\n",
    "    write_obj(eq['diff(psi)'], 'diff(psi)', '3 уравнения связей на diff(psi) = ...')\n",
    "    write_obj(eq['diff(theta)'], 'diff(theta)', '3 уравнения связей на diff(theta) = ...')\n",
    "else:\n",
    "    eq['diff(psi)'] = read_obj('diff(psi)')\n",
    "    eq['diff(theta)'] = read_obj('diff(theta)')"
   ]
  },
  {
   "cell_type": "code",
   "execution_count": 14,
   "metadata": {},
   "outputs": [
    {
     "data": {
      "text/plain": [
       "'\\\\frac{- \\\\delta_{\\\\alpha} \\\\sin{\\\\left (\\\\beta_{0}{\\\\left (t \\\\right )} - \\\\theta_{0}{\\\\left (t \\\\right )} \\\\right )} + \\\\delta_{x} \\\\cos{\\\\left (\\\\alpha{\\\\left (t \\\\right )} + \\\\theta_{0}{\\\\left (t \\\\right )} \\\\right )} + \\\\delta_{y} \\\\sin{\\\\left (\\\\alpha{\\\\left (t \\\\right )} + \\\\theta_{0}{\\\\left (t \\\\right )} \\\\right )}}{r}'"
      ]
     },
     "execution_count": 14,
     "metadata": {},
     "output_type": "execute_result"
    }
   ],
   "source": [
    "latex(eq['diff(psi)'](0))"
   ]
  },
  {
   "cell_type": "markdown",
   "metadata": {},
   "source": [
    "# Связи через nu_1, nu_2"
   ]
  },
  {
   "cell_type": "code",
   "execution_count": 15,
   "metadata": {},
   "outputs": [],
   "source": [
    "if calc:\n",
    "    eq['f(nu1,nu2)'] = lambda i: solve(\n",
    "                          [Eq(eq['nu1'](i), nu[1]), Eq(eq['nu2'](i), nu[2])],\n",
    "                          [Derivative(psi[i],t), Derivative(theta[i],t)],\n",
    "                          dict=True)[0]; # возвращает словарь с выражениями для diff(psi) и diff(theta)\n",
    "\n",
    "    eq['diff(psi)_nu']   = lambda i: eq['f(nu1,nu2)'](i)[Derivative(psi[i],t)]\n",
    "    eq['diff(theta)_nu'] = lambda i: eq['f(nu1,nu2)'](i)[Derivative(theta[i],t)]\n",
    "    \n",
    "    write_obj(eq['diff(psi)_nu'], 'diff(psi)_nu', '3 уравнения связей на diff(psi) = ..., только уже от nu1 и nu2')\n",
    "    write_obj(eq['diff(theta)_nu'], 'diff(theta)_nu', '3 уравнения связей на diff(theta) = ..., только уже от nu1 и nu2')\n",
    "else:\n",
    "    eq['diff(psi)_nu'] = read_obj('diff(psi)_nu')\n",
    "    eq['diff(theta)_nu'] = read_obj('diff(theta)_nu')"
   ]
  },
  {
   "cell_type": "code",
   "execution_count": null,
   "metadata": {},
   "outputs": [],
   "source": []
  },
  {
   "cell_type": "code",
   "execution_count": 16,
   "metadata": {},
   "outputs": [
    {
     "data": {
      "text/plain": [
       "'\\\\frac{- d \\\\frac{d}{d t} \\\\alpha{\\\\left (t \\\\right )} + \\\\nu_{1}{\\\\left (t \\\\right )} \\\\sin{\\\\left (\\\\theta_{0}{\\\\left (t \\\\right )} \\\\right )} - \\\\nu_{2}{\\\\left (t \\\\right )} \\\\cos{\\\\left (\\\\theta_{0}{\\\\left (t \\\\right )} \\\\right )} - \\\\cos{\\\\left (\\\\beta_{0}{\\\\left (t \\\\right )} - \\\\theta_{0}{\\\\left (t \\\\right )} \\\\right )} \\\\frac{d}{d t} \\\\alpha{\\\\left (t \\\\right )}}{d}'"
      ]
     },
     "execution_count": 16,
     "metadata": {},
     "output_type": "execute_result"
    }
   ],
   "source": [
    "latex(eq['diff(theta)_nu'](0))"
   ]
  },
  {
   "cell_type": "markdown",
   "metadata": {},
   "source": [
    "# ТЕЛО 1 (платформа)"
   ]
  },
  {
   "cell_type": "code",
   "execution_count": 17,
   "metadata": {},
   "outputs": [],
   "source": [
    "velocity['S']            = lambda i: nu[1]*e['xi'] + nu[2]*e['eta']\n",
    "F['platform']            = lambda i: zeros(3,1) # сил не действует\n",
    "delta_r['S']             = subs_delta(lambda i: delta['x']*e['x'] + delta['y']*e['y'])\n",
    "J['platform']            = eye(3,3)*a\n",
    "K['platform']            = lambda i: J['platform']*omega['platform'](i)\n",
    "omega_delta['platform']  = subs_delta(lambda i: omega['platform'](i).\\\n",
    "                                      subs(Derivative(alpha,t),delta['alpha'])) # alpha psi theta\n",
    "M['platform']            = lambda i: -(-W[i + 1]*e['z']) # +1 потому что W[1], W[2], W[3]\n",
    "\n",
    "A['platform'] = dalamber(mass = m['platform'],\n",
    "                         velocity = velocity['S'],\n",
    "                         F = F['platform'],\n",
    "                         delta_r = delta_r['S'],\n",
    "                         K = K['platform'],\n",
    "                         M = M['platform'],\n",
    "                         omega_delta = omega_delta['platform'])"
   ]
  },
  {
   "cell_type": "markdown",
   "metadata": {},
   "source": [
    "# ТЕЛО 2 (вилки)"
   ]
  },
  {
   "cell_type": "code",
   "execution_count": 18,
   "metadata": {},
   "outputs": [],
   "source": [
    "velocity['P']        = v['P']\n",
    "F['fork']            = lambda i: zeros(3,1) # сил не действует\n",
    "delta_r['P']         = subs_delta(lambda i: delta_r['S'](i) + cross(omega['platform'](i), vec_by_2dots(S,P)(i)))\n",
    "J['fork']            = zeros(3,3)\n",
    "K['fork']            = lambda i: J['fork']*omega['fork'](i)\n",
    "omega_delta['fork']  = subs_delta(lambda i: omega['fork'](i))\n",
    "M['fork']            = lambda i: -(W[i + 1]*e['z']  - T[i + 1]*n_wheel(i))\n",
    "\n",
    "A['fork'] = dalamber(mass = 0,\n",
    "                     velocity = velocity['P'],\n",
    "                     F = F['fork'],\n",
    "                     delta_r = delta_r['P'],\n",
    "                     K = K['fork'],\n",
    "                     M = M['fork'],\n",
    "                     omega_delta = omega_delta['fork'])"
   ]
  },
  {
   "cell_type": "markdown",
   "metadata": {},
   "source": [
    "# ТЕЛО 3 (колёса)"
   ]
  },
  {
   "cell_type": "code",
   "execution_count": 41,
   "metadata": {},
   "outputs": [],
   "source": [
    "velocity['C']         = v['C']\n",
    "F['wheel']            = lambda i: zeros(3,1) # сил не действует\n",
    "delta_r['C']          = subs_delta(lambda i: delta_r['P'](i) + cross(omega['fork'](i), vec_by_2dots(P,C)(i)))\n",
    "J['wheel']            = Matrix([[b,0,0],[0,c,0],[0,0,b]])\n",
    "# K['wheel']            = lambda i: J['wheel'] * Matrix([scalar(omega['wheel'](i), e_wheel(i)), \n",
    "#                                                        scalar(omega['wheel'](i), n_wheel(i)),\n",
    "#                                                        scalar(omega['wheel'](i), e['z'])])\n",
    "K['wheel']            = lambda i: c*psi[i].diff(t)*n_wheel(i) + b*(alpha.diff(t) + theta[0].diff(t))*e['z']\n",
    "omega_delta['wheel']  = subs_delta(lambda i: omega['wheel'](i))\n",
    "M['wheel']            = lambda i: -T[i + 1]*n_wheel(i)\n",
    "\n",
    "A['wheel'] = dalamber(mass= m['wheel'],\n",
    "                     velocity = velocity['C'],\n",
    "                     F = F['wheel'],\n",
    "                     delta_r = delta_r['C'],\n",
    "                     K = K['wheel'],\n",
    "                     M = M['wheel'],\n",
    "                     omega_delta = omega_delta['wheel'])\n"
   ]
  },
  {
   "cell_type": "code",
   "execution_count": 40,
   "metadata": {},
   "outputs": [
    {
     "data": {
      "text/plain": [
       "Matrix([\n",
       "[                                                     0],\n",
       "[                              c*Derivative(psi0(t), t)],\n",
       "[b*(Derivative(alpha(t), t) + Derivative(theta0(t), t))]])"
      ]
     },
     "execution_count": 40,
     "metadata": {},
     "output_type": "execute_result"
    }
   ],
   "source": [
    "K['wheel']            = lambda i: J['wheel'] * Matrix([scalar(omega['wheel'](i), e_wheel(i)), \n",
    "                                                       scalar(omega['wheel'](i), n_wheel(i)),\n",
    "                                                       scalar(omega['wheel'](i), e['z'])])\n",
    "simplify(K['wheel'](0))"
   ]
  },
  {
   "cell_type": "code",
   "execution_count": 21,
   "metadata": {},
   "outputs": [
    {
     "data": {
      "text/plain": [
       "Matrix([\n",
       "[            -c*delta_psi0(t)*sin(alpha(t) + theta0(t))],\n",
       "[             c*delta_psi0(t)*cos(alpha(t) + theta0(t))],\n",
       "[b*(Derivative(alpha(t), t) + Derivative(theta0(t), t))]])"
      ]
     },
     "execution_count": 21,
     "metadata": {},
     "output_type": "execute_result"
    }
   ],
   "source": [
    "simplify(c*delta['psi'][0]*n_wheel(0) + b*(alpha.diff(t) + theta[0].diff(t))*e['z'])"
   ]
  },
  {
   "cell_type": "code",
   "execution_count": 60,
   "metadata": {},
   "outputs": [
    {
     "name": "stdout",
     "output_type": "stream",
     "text": [
      "\\left[\\begin{matrix}- c \\sin{\\left (\\alpha{\\left (t \\right )} + \\theta_{0}{\\left (t \\right )} \\right )} \\frac{d}{d t} \\psi_{0}{\\left (t \\right )}\\\\c \\cos{\\left (\\alpha{\\left (t \\right )} + \\theta_{0}{\\left (t \\right )} \\right )} \\frac{d}{d t} \\psi_{0}{\\left (t \\right )}\\\\b \\left(\\frac{d}{d t} \\alpha{\\left (t \\right )} + \\frac{d}{d t} \\theta_{0}{\\left (t \\right )}\\right)\\end{matrix}\\right]\n"
     ]
    }
   ],
   "source": [
    "print(latex(simplify(K['wheel'](0))))"
   ]
  },
  {
   "cell_type": "code",
   "execution_count": 57,
   "metadata": {},
   "outputs": [
    {
     "data": {
      "text/plain": [
       "Matrix([\n",
       "[ c*(-sin(alpha(t))*cos(theta0(t)) - sin(theta0(t))*cos(alpha(t)))*Derivative(psi0(t), (t, 2)) + c*(sin(alpha(t))*sin(theta0(t))*Derivative(alpha(t), t) + sin(alpha(t))*sin(theta0(t))*Derivative(theta0(t), t) - cos(alpha(t))*cos(theta0(t))*Derivative(alpha(t), t) - cos(alpha(t))*cos(theta0(t))*Derivative(theta0(t), t))*Derivative(psi0(t), t)],\n",
       "[c*(-sin(alpha(t))*sin(theta0(t)) + cos(alpha(t))*cos(theta0(t)))*Derivative(psi0(t), (t, 2)) + c*(-sin(alpha(t))*cos(theta0(t))*Derivative(alpha(t), t) - sin(alpha(t))*cos(theta0(t))*Derivative(theta0(t), t) - sin(theta0(t))*cos(alpha(t))*Derivative(alpha(t), t) - sin(theta0(t))*cos(alpha(t))*Derivative(theta0(t), t))*Derivative(psi0(t), t)],\n",
       "[                                                                                                                                                                                                                                                                                      b*(Derivative(alpha(t), (t, 2)) + Derivative(theta0(t), (t, 2)))]])"
      ]
     },
     "execution_count": 57,
     "metadata": {},
     "output_type": "execute_result"
    }
   ],
   "source": [
    "K['wheel'](0).diff(t)"
   ]
  },
  {
   "cell_type": "code",
   "execution_count": null,
   "metadata": {},
   "outputs": [],
   "source": []
  },
  {
   "cell_type": "code",
   "execution_count": null,
   "metadata": {},
   "outputs": [],
   "source": []
  },
  {
   "cell_type": "code",
   "execution_count": null,
   "metadata": {},
   "outputs": [],
   "source": []
  },
  {
   "cell_type": "code",
   "execution_count": 82,
   "metadata": {},
   "outputs": [],
   "source": [
    "#\n",
    "#\n",
    "# scalar(velocity['P'](0), delta_r['P'](0)) + scalar(M['fork'](0), omega_delta['fork'](0))"
   ]
  },
  {
   "cell_type": "code",
   "execution_count": 25,
   "metadata": {},
   "outputs": [],
   "source": [
    "# A['wheel'] = dalamber_subs(A['wheel'])\n",
    "# A['fork'] = dalamber_subs(A['wheel'])\n",
    "# A['platfrom'] = dalamber_subs(A['wheel'])"
   ]
  },
  {
   "cell_type": "markdown",
   "metadata": {},
   "source": [
    "# Весь Даламбер / для одного колеса"
   ]
  },
  {
   "cell_type": "code",
   "execution_count": 42,
   "metadata": {},
   "outputs": [],
   "source": [
    "# I have not the foggiest idea\n",
    "# time ~1.5min\n",
    "\n",
    "# all_dalamber = dalamber_subs(A['wheel'])(0)\n",
    "# -> all_dalamber += dalamber_subs(A['fork'])(i) + dalamber_subs(A['platform'])(i)\n",
    "\n",
    "if calc:\n",
    "    all_dalamber = dalamber_subs(A['platform'], eq)(0)\n",
    "    for i in range(1): # для одного\n",
    "        all_dalamber += dalamber_subs(A['fork'], eq)(i) + dalamber_subs(A['wheel'], eq)(i)\n",
    "\n",
    "        write_obj(all_dalamber, 'all_dalamber', 'Даламбер для всего')\n",
    "else:\n",
    "    all_dalamber = read_obj('all_dalamber')"
   ]
  },
  {
   "cell_type": "code",
   "execution_count": 43,
   "metadata": {},
   "outputs": [
    {
     "data": {
      "text/plain": [
       "b*(delta_alpha + (-d*delta_alpha - delta_alpha*cos(beta0(t) - theta0(t)) + delta_x*sin(alpha(t) + theta0(t)) - delta_y*cos(alpha(t) + theta0(t)))/d)*(Derivative(alpha(t), (t, 2)) + Derivative(theta0(t), (t, 2))) + delta_alpha*(a*Derivative(alpha(t), (t, 2)) - W1(t)) + delta_x*m1*(-nu1(t)*sin(alpha(t))*Derivative(alpha(t), t) - nu2(t)*cos(alpha(t))*Derivative(alpha(t), t) - sin(alpha(t))*Derivative(nu2(t), t) + cos(alpha(t))*Derivative(nu1(t), t)) + delta_y*m1*(nu1(t)*cos(alpha(t))*Derivative(alpha(t), t) - nu2(t)*sin(alpha(t))*Derivative(alpha(t), t) + sin(alpha(t))*Derivative(nu1(t), t) + cos(alpha(t))*Derivative(nu2(t), t)) + m2*(r*(-sin(alpha(t))*sin(theta0(t)) + cos(alpha(t))*cos(theta0(t)))*Derivative(psi0(t), (t, 2)) + r*(-sin(alpha(t))*cos(theta0(t))*Derivative(alpha(t), t) - sin(alpha(t))*cos(theta0(t))*Derivative(theta0(t), t) - sin(theta0(t))*cos(alpha(t))*Derivative(alpha(t), t) - sin(theta0(t))*cos(alpha(t))*Derivative(theta0(t), t))*Derivative(psi0(t), t))*(-d*(delta_alpha + (-d*delta_alpha - delta_alpha*cos(beta0(t) - theta0(t)) + delta_x*sin(alpha(t) + theta0(t)) - delta_y*cos(alpha(t) + theta0(t)))/d)*(sin(alpha(t))*cos(theta0(t)) + sin(theta0(t))*cos(alpha(t))) - delta_alpha*(sin(alpha(t))*cos(beta0(t)) + sin(beta0(t))*cos(alpha(t))) + delta_x) + m2*(-r*(-sin(alpha(t))*cos(theta0(t)) - sin(theta0(t))*cos(alpha(t)))*Derivative(psi0(t), (t, 2)) - r*(sin(alpha(t))*sin(theta0(t))*Derivative(alpha(t), t) + sin(alpha(t))*sin(theta0(t))*Derivative(theta0(t), t) - cos(alpha(t))*cos(theta0(t))*Derivative(alpha(t), t) - cos(alpha(t))*cos(theta0(t))*Derivative(theta0(t), t))*Derivative(psi0(t), t))*(d*(delta_alpha + (-d*delta_alpha - delta_alpha*cos(beta0(t) - theta0(t)) + delta_x*sin(alpha(t) + theta0(t)) - delta_y*cos(alpha(t) + theta0(t)))/d)*(-sin(alpha(t))*sin(theta0(t)) + cos(alpha(t))*cos(theta0(t))) + delta_alpha*(-sin(alpha(t))*sin(beta0(t)) + cos(alpha(t))*cos(beta0(t))) + delta_y) + (delta_alpha + (-d*delta_alpha - delta_alpha*cos(beta0(t) - theta0(t)) + delta_x*sin(alpha(t) + theta0(t)) - delta_y*cos(alpha(t) + theta0(t)))/d)*W1(t) + (-sin(alpha(t))*sin(theta0(t)) + cos(alpha(t))*cos(theta0(t)))*(-delta_alpha*sin(beta0(t) - theta0(t)) + delta_x*cos(alpha(t) + theta0(t)) + delta_y*sin(alpha(t) + theta0(t)))*(c*(-sin(alpha(t))*sin(theta0(t)) + cos(alpha(t))*cos(theta0(t)))*Derivative(psi0(t), (t, 2)) + c*(-sin(alpha(t))*cos(theta0(t))*Derivative(alpha(t), t) - sin(alpha(t))*cos(theta0(t))*Derivative(theta0(t), t) - sin(theta0(t))*cos(alpha(t))*Derivative(alpha(t), t) - sin(theta0(t))*cos(alpha(t))*Derivative(theta0(t), t))*Derivative(psi0(t), t) + (-sin(alpha(t))*sin(theta0(t)) + cos(alpha(t))*cos(theta0(t)))*T1(t))/r + (-sin(alpha(t))*cos(theta0(t)) - sin(theta0(t))*cos(alpha(t)))*(-delta_alpha*sin(beta0(t) - theta0(t)) + delta_x*cos(alpha(t) + theta0(t)) + delta_y*sin(alpha(t) + theta0(t)))*(c*(-sin(alpha(t))*cos(theta0(t)) - sin(theta0(t))*cos(alpha(t)))*Derivative(psi0(t), (t, 2)) + c*(sin(alpha(t))*sin(theta0(t))*Derivative(alpha(t), t) + sin(alpha(t))*sin(theta0(t))*Derivative(theta0(t), t) - cos(alpha(t))*cos(theta0(t))*Derivative(alpha(t), t) - cos(alpha(t))*cos(theta0(t))*Derivative(theta0(t), t))*Derivative(psi0(t), t) + (-sin(alpha(t))*cos(theta0(t)) - sin(theta0(t))*cos(alpha(t)))*T1(t))/r"
      ]
     },
     "execution_count": 43,
     "metadata": {},
     "output_type": "execute_result"
    }
   ],
   "source": [
    "all_dalamber"
   ]
  },
  {
   "cell_type": "code",
   "execution_count": 44,
   "metadata": {},
   "outputs": [],
   "source": [
    "if calc:\n",
    "    poly_dalamber = Poly(all_dalamber, [delta['alpha'], delta['x'], delta['y']])\n",
    "    write_obj(poly_dalamber, 'poly_dalamber', 'Даламбер для всего, полином')\n",
    "else:\n",
    "    read_obj('poly_dalamber')"
   ]
  },
  {
   "cell_type": "code",
   "execution_count": 76,
   "metadata": {},
   "outputs": [],
   "source": [
    "# xtemp, ytemp = symbols('xtemp, ytemp')\n",
    "# Poly(xtemp*3+ytemp*2 + 3, [xtemp, ytemp]).coeffs()[1]"
   ]
  },
  {
   "cell_type": "code",
   "execution_count": 32,
   "metadata": {},
   "outputs": [],
   "source": [
    "# test = poly_dalamber.coeff_monomial(delta['alpha']) + poly_dalamber.coeff_monomial(delta['x']) + poly_dalamber.coeff_monomial(delta['y'])"
   ]
  },
  {
   "cell_type": "code",
   "execution_count": 105,
   "metadata": {},
   "outputs": [],
   "source": [
    "temp = all_dalamber - s_dalpha*delta['alpha'] - s_dx*delta['x'] - s_dy*delta['y']"
   ]
  },
  {
   "cell_type": "code",
   "execution_count": 45,
   "metadata": {},
   "outputs": [
    {
     "ename": "NameError",
     "evalue": "name 's_dy' is not defined",
     "output_type": "error",
     "traceback": [
      "\u001b[0;31m---------------------------------------------------------------------------\u001b[0m",
      "\u001b[0;31mNameError\u001b[0m                                 Traceback (most recent call last)",
      "\u001b[0;32m<ipython-input-45-33d2b1c99c3a>\u001b[0m in \u001b[0;36m<module>\u001b[0;34m\u001b[0m\n\u001b[0;32m----> 1\u001b[0;31m \u001b[0mtemp\u001b[0m \u001b[0;34m=\u001b[0m \u001b[0mall_dalamber\u001b[0m\u001b[0;34m.\u001b[0m\u001b[0mdiff\u001b[0m\u001b[0;34m(\u001b[0m\u001b[0mdelta\u001b[0m\u001b[0;34m[\u001b[0m\u001b[0;34m'y'\u001b[0m\u001b[0;34m]\u001b[0m\u001b[0;34m)\u001b[0m \u001b[0;34m-\u001b[0m \u001b[0ms_dy\u001b[0m\u001b[0;34m\u001b[0m\u001b[0;34m\u001b[0m\u001b[0m\n\u001b[0m\u001b[1;32m      2\u001b[0m \u001b[0msimplify\u001b[0m\u001b[0;34m(\u001b[0m\u001b[0mtemp\u001b[0m\u001b[0;34m)\u001b[0m\u001b[0;34m\u001b[0m\u001b[0;34m\u001b[0m\u001b[0m\n",
      "\u001b[0;31mNameError\u001b[0m: name 's_dy' is not defined"
     ]
    }
   ],
   "source": [
    "temp = all_dalamber.diff(delta['y']) - s_dy\n",
    "simplify(temp)"
   ]
  },
  {
   "cell_type": "code",
   "execution_count": 46,
   "metadata": {},
   "outputs": [],
   "source": [
    "if calc:\n",
    "    s_dalpha = simplify(poly_dalamber.coeff_monomial(delta['alpha']))\n",
    "    s_dx = simplify(poly_dalamber.coeff_monomial(delta['x']))\n",
    "    s_dy = simplify(poly_dalamber.coeff_monomial(delta['y']))\n",
    "    \n",
    "    write_obj(s_dx, 'dalamber_dx_coeff', 'коэффициент в уравнении Даламбера-Лагранжа при dx')\n",
    "    write_obj(s_dy, 'dalamber_dy_coeff', 'коэффициент в уравнении Даламбера-Лагранжа при dy')\n",
    "    write_obj(s_dalpha, 'dalamber_dalpha_coeff', 'коэффициент в уравнении Даламбера-Лагранжа при dAlpha')\n",
    "else:\n",
    "    read_obj('dalamber_dx_coeff')\n",
    "    read_obj('dalamber_dy_coeff')\n",
    "    read_obj('dalamber_dalpha_coeff')"
   ]
  },
  {
   "cell_type": "code",
   "execution_count": 47,
   "metadata": {},
   "outputs": [],
   "source": [
    "if calc:\n",
    "    TWA_s = Matrix([\n",
    "        [s_dalpha.diff(T[1]), s_dalpha.diff(W[1]), s_dalpha.diff(Derivative(alpha, t, 2))],\n",
    "        [s_dx.diff(T[1]),     s_dx.diff(W[1]),     s_dx.diff(Derivative(alpha, t, 2))],\n",
    "        [s_dy.diff(T[1]),     s_dy.diff(W[1]),     s_dy.diff(Derivative(alpha, t, 2))]\n",
    "    ])\n",
    "    write_obj(TWA_s, 'TWA', \"Матрица относительно T, W, alpha'' \")\n",
    "else:\n",
    "    read_obj('TWA')"
   ]
  },
  {
   "cell_type": "code",
   "execution_count": 52,
   "metadata": {},
   "outputs": [],
   "source": [
    "ns_dalpha = poly_dalamber.coeff_monomial(delta['alpha'])\n",
    "ns_dx = poly_dalamber.coeff_monomial(delta['x'])\n",
    "ns_dy = poly_dalamber.coeff_monomial(delta['y'])"
   ]
  },
  {
   "cell_type": "code",
   "execution_count": 53,
   "metadata": {},
   "outputs": [],
   "source": [
    "TWA = Matrix([\n",
    "    [ns_dalpha.diff(T[1]), ns_dalpha.diff(W[1]), ns_dalpha.diff(Derivative(alpha, t, 2))],\n",
    "    [ns_dx.diff(T[1]),     ns_dx.diff(W[1]),     ns_dx.diff(Derivative(alpha, t, 2))],\n",
    "    [ns_dy.diff(T[1]),     ns_dy.diff(W[1]),     ns_dy.diff(Derivative(alpha, t, 2))]\n",
    "])"
   ]
  },
  {
   "cell_type": "code",
   "execution_count": 51,
   "metadata": {},
   "outputs": [
    {
     "data": {
      "text/plain": [
       "-(a + b)/(d*r)"
      ]
     },
     "execution_count": 51,
     "metadata": {},
     "output_type": "execute_result"
    }
   ],
   "source": [
    "simplify(TWA_s.det())"
   ]
  },
  {
   "cell_type": "code",
   "execution_count": 54,
   "metadata": {},
   "outputs": [
    {
     "data": {
      "text/plain": [
       "-(a + b)/(d*r)"
      ]
     },
     "execution_count": 54,
     "metadata": {},
     "output_type": "execute_result"
    }
   ],
   "source": [
    "simplify(TWA.det())"
   ]
  },
  {
   "cell_type": "code",
   "execution_count": 67,
   "metadata": {},
   "outputs": [
    {
     "data": {
      "text/plain": [
       "Matrix([\n",
       "[-sin(beta0(t) - theta0(t))/r, (-d*r - r*cos(beta0(t) - theta0(t)))/(d*r), (a*d*r - b*r*cos(beta0(t) - theta0(t)))/(d*r)],\n",
       "[ cos(alpha(t) + theta0(t))/r,                sin(alpha(t) + theta0(t))/d,                 b*sin(alpha(t) + theta0(t))/d],\n",
       "[ sin(alpha(t) + theta0(t))/r,               -cos(alpha(t) + theta0(t))/d,                -b*cos(alpha(t) + theta0(t))/d]])"
      ]
     },
     "execution_count": 67,
     "metadata": {},
     "output_type": "execute_result"
    }
   ],
   "source": [
    "TWA_s"
   ]
  },
  {
   "cell_type": "code",
   "execution_count": 89,
   "metadata": {},
   "outputs": [],
   "source": [
    "TWA_right = Matrix([Poly(s_dalpha, [W[1], T[1], Derivative(alpha, t, 2)]).coeffs()[3],\n",
    "            Poly(s_dx, [W[1], T[1], Derivative(alpha, t, 2)]).coeffs()[3],\n",
    "            Poly(s_dy, [W[1], T[1], Derivative(alpha, t, 2)]).coeffs()[3]])"
   ]
  },
  {
   "cell_type": "code",
   "execution_count": 85,
   "metadata": {},
   "outputs": [],
   "source": []
  },
  {
   "cell_type": "code",
   "execution_count": 94,
   "metadata": {},
   "outputs": [],
   "source": [
    "TWA_right_s = simplify(TWA_right)"
   ]
  },
  {
   "cell_type": "code",
   "execution_count": null,
   "metadata": {},
   "outputs": [],
   "source": [
    "eq['nu1'] = cos(alpha)*diff(x) + sin(alpha)*diff(y)\n",
    "eq['nu2'] = -sin(alpha)*diff(x) + cos(alpha)*diff(y)"
   ]
  },
  {
   "cell_type": "code",
   "execution_count": 98,
   "metadata": {},
   "outputs": [],
   "source": [
    "TWA_res = simplify(TWA_s.inv()) * TWA_right_s"
   ]
  },
  {
   "cell_type": "code",
   "execution_count": 100,
   "metadata": {},
   "outputs": [],
   "source": [
    "TWA_res_s = simplify(TWA_res)"
   ]
  },
  {
   "cell_type": "code",
   "execution_count": null,
   "metadata": {},
   "outputs": [],
   "source": []
  },
  {
   "cell_type": "code",
   "execution_count": null,
   "metadata": {},
   "outputs": [],
   "source": []
  },
  {
   "cell_type": "code",
   "execution_count": 106,
   "metadata": {},
   "outputs": [],
   "source": [
    "# s_dalpha = simplify(poly_dalamber.coeff_monomial(delta['alpha']))"
   ]
  },
  {
   "cell_type": "code",
   "execution_count": 107,
   "metadata": {},
   "outputs": [],
   "source": [
    "# s_dx = simplify(poly_dalamber.coeff_monomial(delta['x']))"
   ]
  },
  {
   "cell_type": "code",
   "execution_count": 108,
   "metadata": {},
   "outputs": [],
   "source": [
    "# s_dy = simplify(poly_dalamber.coeff_monomial(delta['y']))"
   ]
  },
  {
   "cell_type": "code",
   "execution_count": 109,
   "metadata": {},
   "outputs": [],
   "source": [
    "# write_obj(s_dx, 'dalamber_dx_coeff', 'коэффициент в уравнении Даламбера-Лагранжа при dx')\n",
    "# write_obj(s_dy, 'dalamber_dy_coeff', 'коэффициент в уравнении Даламбера-Лагранжа при dy')\n",
    "# write_obj(s_dalpha, 'dalamber_dalpha_coeff', 'коэффициент в уравнении Даламбера-Лагранжа при dAlpha')"
   ]
  },
  {
   "cell_type": "code",
   "execution_count": 129,
   "metadata": {},
   "outputs": [
    {
     "data": {
      "text/plain": [
       "-(nu1(t)*cos(theta0(t)) + nu2(t)*sin(theta0(t)) + sin(beta0(t) - theta0(t))*Derivative(alpha(t), t))/r"
      ]
     },
     "execution_count": 129,
     "metadata": {},
     "output_type": "execute_result"
    }
   ],
   "source": [
    "# eq['diff(psi)_nu'](0)"
   ]
  },
  {
   "cell_type": "code",
   "execution_count": 64,
   "metadata": {},
   "outputs": [],
   "source": [
    "calc=False"
   ]
  },
  {
   "cell_type": "code",
   "execution_count": 141,
   "metadata": {
    "scrolled": true
   },
   "outputs": [
    {
     "data": {
      "text/plain": [
       "Derivative(-(nu1(t)*cos(theta0(t)) + nu2(t)*sin(theta0(t)) + sin(beta0(t) - theta0(t))*Derivative(alpha(t), t))/r, t)"
      ]
     },
     "execution_count": 141,
     "metadata": {},
     "output_type": "execute_result"
    }
   ],
   "source": [
    "# dalamber_subs_nu(Derivative(psi[0], t, 2), eq)"
   ]
  },
  {
   "cell_type": "code",
   "execution_count": 65,
   "metadata": {},
   "outputs": [],
   "source": [
    "if calc:\n",
    "    s_dalpha_nu = dalamber_subs_nu(s_dalpha, eq)\n",
    "    s_dx_nu = dalamber_subs_nu(s_dx, eq)\n",
    "    s_dy_nu = dalamber_subs_nu(s_dy, eq)\n",
    "    \n",
    "    write_obj(s_dx, 'dalamber_dx_coeff_nu', 'коэффициент в уравнении Даламбера-Лагранжа при dx')\n",
    "    write_obj(s_dy, 'dalamber_dy_coeff_nu', 'коэффициент в уравнении Даламбера-Лагранжа при dy')\n",
    "    write_obj(s_dalpha, 'dalamber_dalpha_coeff_nu', 'коэффициент в уравнении Даламбера-Лагранжа при dAlpha')\n",
    "else:\n",
    "    s_dx_nu = read_obj('dalamber_dx_coeff_nu')\n",
    "    s_dy_nu = read_obj('dalamber_dy_coeff_nu')\n",
    "    s_dalpha_nu = read_obj('dalamber_dalpha_coeff_nu')"
   ]
  },
  {
   "cell_type": "code",
   "execution_count": 66,
   "metadata": {},
   "outputs": [
    {
     "data": {
      "text/plain": [
       "(d*r*(-m1*nu1(t)*sin(alpha(t))*Derivative(alpha(t), t) - m1*nu2(t)*cos(alpha(t))*Derivative(alpha(t), t) - m1*sin(alpha(t))*Derivative(nu2(t), t) + m1*cos(alpha(t))*Derivative(nu1(t), t) + m2*r*sin(alpha(t) + theta0(t))*Derivative(alpha(t), t)*Derivative(psi0(t), t) + m2*r*sin(alpha(t) + theta0(t))*Derivative(psi0(t), t)*Derivative(theta0(t), t) + m2*r*sin(alpha(t) + theta1(t))*Derivative(alpha(t), t)*Derivative(psi1(t), t) + m2*r*sin(alpha(t) + theta1(t))*Derivative(psi1(t), t)*Derivative(theta1(t), t) + m2*r*sin(alpha(t) + theta2(t))*Derivative(alpha(t), t)*Derivative(psi2(t), t) + m2*r*sin(alpha(t) + theta2(t))*Derivative(psi2(t), t)*Derivative(theta2(t), t) - m2*r*cos(alpha(t) + theta0(t))*Derivative(psi0(t), (t, 2)) - m2*r*cos(alpha(t) + theta1(t))*Derivative(psi1(t), (t, 2)) - m2*r*cos(alpha(t) + theta2(t))*Derivative(psi2(t), (t, 2))) + d*(c*sin(alpha(t))*sin(theta0(t))*cos(alpha(t) + theta0(t))*Derivative(psi0(t), (t, 2)) + c*sin(alpha(t))*sin(theta1(t))*cos(alpha(t) + theta1(t))*Derivative(psi1(t), (t, 2)) + c*sin(alpha(t))*sin(theta2(t))*cos(alpha(t) + theta2(t))*Derivative(psi2(t), (t, 2)) - c*cos(alpha(t) + theta0(t))*cos(alpha(t))*cos(theta0(t))*Derivative(psi0(t), (t, 2)) - c*cos(alpha(t) + theta1(t))*cos(alpha(t))*cos(theta1(t))*Derivative(psi1(t), (t, 2)) - c*cos(alpha(t) + theta2(t))*cos(alpha(t))*cos(theta2(t))*Derivative(psi2(t), (t, 2)) - T1(t)*cos(alpha(t) + theta0(t)) - T2(t)*cos(alpha(t) + theta1(t)) - T3(t)*cos(alpha(t) + theta2(t))) + r*(-b*sin(alpha(t) + theta0(t))*Derivative(alpha(t), (t, 2)) - b*sin(alpha(t) + theta0(t))*Derivative(theta0(t), (t, 2)) - b*sin(alpha(t) + theta1(t))*Derivative(alpha(t), (t, 2)) - b*sin(alpha(t) + theta1(t))*Derivative(theta1(t), (t, 2)) - b*sin(alpha(t) + theta2(t))*Derivative(alpha(t), (t, 2)) - b*sin(alpha(t) + theta2(t))*Derivative(theta2(t), (t, 2)) - m2*r*sin(alpha(t) + theta0(t))*sin(beta0(t) - theta0(t))*Derivative(psi0(t), (t, 2)) + m2*r*sin(alpha(t) + theta0(t))*cos(beta0(t) - theta0(t))*Derivative(alpha(t), t)*Derivative(psi0(t), t) + m2*r*sin(alpha(t) + theta0(t))*cos(beta0(t) - theta0(t))*Derivative(psi0(t), t)*Derivative(theta0(t), t) - m2*r*sin(alpha(t) + theta1(t))*sin(beta1(t) - theta1(t))*Derivative(psi1(t), (t, 2)) + m2*r*sin(alpha(t) + theta1(t))*cos(beta1(t) - theta1(t))*Derivative(alpha(t), t)*Derivative(psi1(t), t) + m2*r*sin(alpha(t) + theta1(t))*cos(beta1(t) - theta1(t))*Derivative(psi1(t), t)*Derivative(theta1(t), t) - m2*r*sin(alpha(t) + theta2(t))*sin(beta2(t) - theta2(t))*Derivative(psi2(t), (t, 2)) + m2*r*sin(alpha(t) + theta2(t))*cos(beta2(t) - theta2(t))*Derivative(alpha(t), t)*Derivative(psi2(t), t) + m2*r*sin(alpha(t) + theta2(t))*cos(beta2(t) - theta2(t))*Derivative(psi2(t), t)*Derivative(theta2(t), t) - W1(t)*sin(alpha(t) + theta0(t)) - W2(t)*sin(alpha(t) + theta1(t)) - W3(t)*sin(alpha(t) + theta2(t))))/(d*r)"
      ]
     },
     "execution_count": 66,
     "metadata": {},
     "output_type": "execute_result"
    }
   ],
   "source": [
    "s_dx_nu"
   ]
  },
  {
   "cell_type": "code",
   "execution_count": 151,
   "metadata": {},
   "outputs": [
    {
     "data": {
      "text/plain": [
       "(-(Derivative(beta0(t), t) - Derivative(theta0(t), t))*cos(beta0(t) - theta0(t))*Derivative(alpha(t), t) + nu1(t)*sin(theta0(t))*Derivative(theta0(t), t) - nu2(t)*cos(theta0(t))*Derivative(theta0(t), t) - sin(beta0(t) - theta0(t))*Derivative(alpha(t), (t, 2)) - sin(theta0(t))*Derivative(nu2(t), t) - cos(theta0(t))*Derivative(nu1(t), t))/r"
      ]
     },
     "execution_count": 151,
     "metadata": {},
     "output_type": "execute_result"
    }
   ],
   "source": [
    "simplify(eq['diff(psi)_nu'](0).diff(t))"
   ]
  },
  {
   "cell_type": "code",
   "execution_count": 162,
   "metadata": {},
   "outputs": [
    {
     "data": {
      "text/plain": [
       "-a*t*cos(theta0(t))/r"
      ]
     },
     "execution_count": 162,
     "metadata": {},
     "output_type": "execute_result"
    }
   ],
   "source": [
    "eq['diff(psi)_nu'](0).subs(nu[2], 0).subs(nu[1], a*t).subs(Derivative(alpha, t), 0)"
   ]
  },
  {
   "cell_type": "code",
   "execution_count": 163,
   "metadata": {},
   "outputs": [
    {
     "data": {
      "text/plain": [
       "-a*t*sin(theta0(t))/d"
      ]
     },
     "execution_count": 163,
     "metadata": {},
     "output_type": "execute_result"
    }
   ],
   "source": [
    "eq['diff(theta)_nu'](0).subs(nu[2], 0).subs(nu[1], a*t).subs(Derivative(alpha, t), 0)"
   ]
  },
  {
   "cell_type": "code",
   "execution_count": 191,
   "metadata": {},
   "outputs": [
    {
     "data": {
      "text/latex": [
       "$$\\frac{- d \\frac{d}{d t} \\alpha{\\left (t \\right )} - \\nu_{1}{\\left (t \\right )} \\sin{\\left (\\theta_{0}{\\left (t \\right )} \\right )} + \\nu_{2}{\\left (t \\right )} \\cos{\\left (\\theta_{0}{\\left (t \\right )} \\right )} - \\cos{\\left (\\beta_{0}{\\left (t \\right )} - \\theta_{0}{\\left (t \\right )} \\right )} \\frac{d}{d t} \\alpha{\\left (t \\right )}}{d}$$"
      ],
      "text/plain": [
       "    d                                                                   d     \n",
       "- d⋅──(α(t)) - ν₁(t)⋅sin(θ₀(t)) + ν₂(t)⋅cos(θ₀(t)) - cos(β₀(t) - θ₀(t))⋅──(α(t\n",
       "    dt                                                                  dt    \n",
       "──────────────────────────────────────────────────────────────────────────────\n",
       "                                       d                                      \n",
       "\n",
       "  \n",
       "))\n",
       "  \n",
       "──\n",
       "  "
      ]
     },
     "execution_count": 191,
     "metadata": {},
     "output_type": "execute_result"
    }
   ],
   "source": [
    "init_printing(use_latex='mathjax')\n",
    "eq['diff(theta)_nu'](0)"
   ]
  },
  {
   "cell_type": "code",
   "execution_count": 61,
   "metadata": {},
   "outputs": [
    {
     "data": {
      "text/plain": [
       "m1"
      ]
     },
     "execution_count": 61,
     "metadata": {},
     "output_type": "execute_result"
    }
   ],
   "source": [
    "m['platform']"
   ]
  },
  {
   "cell_type": "code",
   "execution_count": 62,
   "metadata": {
    "collapsed": true
   },
   "outputs": [
    {
     "data": {
      "text/plain": [
       "(W1*delta_x*sin(alpha(t) + theta[0])/d + W2*delta_x*sin(alpha(t) + theta[1])/d + W3*delta_x*sin(alpha(t) + theta[2])/d - b*delta_x*sin(alpha(t) + theta[0])*Derivative(alpha(t), (t, 2))/d - b*delta_x*sin(alpha(t) + theta[1])*Derivative(alpha(t), (t, 2))/d - b*delta_x*sin(alpha(t) + theta[2])*Derivative(alpha(t), (t, 2))/d + 3*delta_x*m1*(-nu1(t)*sin(alpha(t))*Derivative(alpha(t), t) - nu2(t)*cos(alpha(t))*Derivative(alpha(t), t) - sin(alpha(t))*Derivative(nu2(t), t) + cos(alpha(t))*Derivative(nu1(t), t)) + delta_x*(-T1*(-sin(alpha(t))*sin(theta[0]) + cos(alpha(t))*cos(theta[0])) + c*((-sin(alpha(t))*sin(theta[0]) + cos(alpha(t))*cos(theta[0]))*(-2*sin(alpha(t))*cos(theta[0])*Derivative(alpha(t), t) - 2*sin(theta[0])*cos(alpha(t))*Derivative(alpha(t), t))*Derivative(psi[0], t) + (-sin(alpha(t))*cos(theta[0]) - sin(theta[0])*cos(alpha(t)))*(2*sin(alpha(t))*sin(theta[0])*Derivative(alpha(t), t) - 2*cos(alpha(t))*cos(theta[0])*Derivative(alpha(t), t))*Derivative(psi[0], t)))*(-sin(alpha(t))*sin(theta[0]) + cos(alpha(t))*cos(theta[0]))*cos(alpha(t) + theta[0])/r + delta_x*(-T1*(-sin(alpha(t))*cos(theta[0]) - sin(theta[0])*cos(alpha(t))) + b*((-sin(alpha(t))*sin(theta[0]) + cos(alpha(t))*cos(theta[0]))*(-sin(alpha(t))*sin(theta[0])*Derivative(alpha(t), t) + cos(alpha(t))*cos(theta[0])*Derivative(alpha(t), t))*Derivative(psi[0], t) + (-sin(alpha(t))*sin(theta[0]) + cos(alpha(t))*cos(theta[0]))*(sin(alpha(t))*sin(theta[0])*Derivative(alpha(t), t) - cos(alpha(t))*cos(theta[0])*Derivative(alpha(t), t))*Derivative(psi[0], t) + (-sin(alpha(t))*cos(theta[0]) - sin(theta[0])*cos(alpha(t)))*(-sin(alpha(t))*cos(theta[0])*Derivative(alpha(t), t) - sin(theta[0])*cos(alpha(t))*Derivative(alpha(t), t))*Derivative(psi[0], t) + (sin(alpha(t))*cos(theta[0]) + sin(theta[0])*cos(alpha(t)))*(-sin(alpha(t))*cos(theta[0])*Derivative(alpha(t), t) - sin(theta[0])*cos(alpha(t))*Derivative(alpha(t), t))*Derivative(psi[0], t)))*(-sin(alpha(t))*cos(theta[0]) - sin(theta[0])*cos(alpha(t)))*cos(alpha(t) + theta[0])/r + delta_x*(-T2*(-sin(alpha(t))*sin(theta[1]) + cos(alpha(t))*cos(theta[1])) + c*((-sin(alpha(t))*sin(theta[1]) + cos(alpha(t))*cos(theta[1]))*(-2*sin(alpha(t))*cos(theta[1])*Derivative(alpha(t), t) - 2*sin(theta[1])*cos(alpha(t))*Derivative(alpha(t), t))*Derivative(psi[1], t) + (-sin(alpha(t))*cos(theta[1]) - sin(theta[1])*cos(alpha(t)))*(2*sin(alpha(t))*sin(theta[1])*Derivative(alpha(t), t) - 2*cos(alpha(t))*cos(theta[1])*Derivative(alpha(t), t))*Derivative(psi[1], t)))*(-sin(alpha(t))*sin(theta[1]) + cos(alpha(t))*cos(theta[1]))*cos(alpha(t) + theta[1])/r + delta_x*(-T2*(-sin(alpha(t))*cos(theta[1]) - sin(theta[1])*cos(alpha(t))) + b*((-sin(alpha(t))*sin(theta[1]) + cos(alpha(t))*cos(theta[1]))*(-sin(alpha(t))*sin(theta[1])*Derivative(alpha(t), t) + cos(alpha(t))*cos(theta[1])*Derivative(alpha(t), t))*Derivative(psi[1], t) + (-sin(alpha(t))*sin(theta[1]) + cos(alpha(t))*cos(theta[1]))*(sin(alpha(t))*sin(theta[1])*Derivative(alpha(t), t) - cos(alpha(t))*cos(theta[1])*Derivative(alpha(t), t))*Derivative(psi[1], t) + (-sin(alpha(t))*cos(theta[1]) - sin(theta[1])*cos(alpha(t)))*(-sin(alpha(t))*cos(theta[1])*Derivative(alpha(t), t) - sin(theta[1])*cos(alpha(t))*Derivative(alpha(t), t))*Derivative(psi[1], t) + (sin(alpha(t))*cos(theta[1]) + sin(theta[1])*cos(alpha(t)))*(-sin(alpha(t))*cos(theta[1])*Derivative(alpha(t), t) - sin(theta[1])*cos(alpha(t))*Derivative(alpha(t), t))*Derivative(psi[1], t)))*(-sin(alpha(t))*cos(theta[1]) - sin(theta[1])*cos(alpha(t)))*cos(alpha(t) + theta[1])/r + delta_x*(-T3*(-sin(alpha(t))*sin(theta[2]) + cos(alpha(t))*cos(theta[2])) + c*((-sin(alpha(t))*sin(theta[2]) + cos(alpha(t))*cos(theta[2]))*(-2*sin(alpha(t))*cos(theta[2])*Derivative(alpha(t), t) - 2*sin(theta[2])*cos(alpha(t))*Derivative(alpha(t), t))*Derivative(psi[2], t) + (-sin(alpha(t))*cos(theta[2]) - sin(theta[2])*cos(alpha(t)))*(2*sin(alpha(t))*sin(theta[2])*Derivative(alpha(t), t) - 2*cos(alpha(t))*cos(theta[2])*Derivative(alpha(t), t))*Derivative(psi[2], t)))*(-sin(alpha(t))*sin(theta[2]) + cos(alpha(t))*cos(theta[2]))*cos(alpha(t) + theta[2])/r + delta_x*(-T3*(-sin(alpha(t))*cos(theta[2]) - sin(theta[2])*cos(alpha(t))) + b*((-sin(alpha(t))*sin(theta[2]) + cos(alpha(t))*cos(theta[2]))*(-sin(alpha(t))*sin(theta[2])*Derivative(alpha(t), t) + cos(alpha(t))*cos(theta[2])*Derivative(alpha(t), t))*Derivative(psi[2], t) + (-sin(alpha(t))*sin(theta[2]) + cos(alpha(t))*cos(theta[2]))*(sin(alpha(t))*sin(theta[2])*Derivative(alpha(t), t) - cos(alpha(t))*cos(theta[2])*Derivative(alpha(t), t))*Derivative(psi[2], t) + (-sin(alpha(t))*cos(theta[2]) - sin(theta[2])*cos(alpha(t)))*(-sin(alpha(t))*cos(theta[2])*Derivative(alpha(t), t) - sin(theta[2])*cos(alpha(t))*Derivative(alpha(t), t))*Derivative(psi[2], t) + (sin(alpha(t))*cos(theta[2]) + sin(theta[2])*cos(alpha(t)))*(-sin(alpha(t))*cos(theta[2])*Derivative(alpha(t), t) - sin(theta[2])*cos(alpha(t))*Derivative(alpha(t), t))*Derivative(psi[2], t)))*(-sin(alpha(t))*cos(theta[2]) - sin(theta[2])*cos(alpha(t)))*cos(alpha(t) + theta[2])/r + m2*(delta_x + delta_x*(sin(alpha(t))*cos(beta[0]) + sin(beta[0])*cos(alpha(t)))*sin(alpha(t) + theta[0])/d)*(-d*(sin(alpha(t))*cos(theta[0]) + sin(theta[0])*cos(alpha(t)))*Derivative(alpha(t), (t, 2)) - d*(-sin(alpha(t))*sin(theta[0])*Derivative(alpha(t), t) + cos(alpha(t))*cos(theta[0])*Derivative(alpha(t), t))*(Derivative(alpha(t), t) + Derivative(theta[0], t)) + (-sin(alpha(t))*cos(beta[0]) - sin(beta[0])*cos(alpha(t)))*Derivative(alpha(t), (t, 2)) + (sin(alpha(t))*sin(beta[0])*Derivative(alpha(t), t) - cos(alpha(t))*cos(beta[0])*Derivative(alpha(t), t))*Derivative(alpha(t), t) - nu1(t)*sin(alpha(t))*Derivative(alpha(t), t) - nu2(t)*cos(alpha(t))*Derivative(alpha(t), t) - sin(alpha(t))*Derivative(nu2(t), t) + cos(alpha(t))*Derivative(nu1(t), t)) + m2*(delta_x + delta_x*(sin(alpha(t))*cos(beta[1]) + sin(beta[1])*cos(alpha(t)))*sin(alpha(t) + theta[1])/d)*(-d*(sin(alpha(t))*cos(theta[1]) + sin(theta[1])*cos(alpha(t)))*Derivative(alpha(t), (t, 2)) - d*(-sin(alpha(t))*sin(theta[1])*Derivative(alpha(t), t) + cos(alpha(t))*cos(theta[1])*Derivative(alpha(t), t))*(Derivative(alpha(t), t) + Derivative(theta[1], t)) + (-sin(alpha(t))*cos(beta[1]) - sin(beta[1])*cos(alpha(t)))*Derivative(alpha(t), (t, 2)) + (sin(alpha(t))*sin(beta[1])*Derivative(alpha(t), t) - cos(alpha(t))*cos(beta[1])*Derivative(alpha(t), t))*Derivative(alpha(t), t) - nu1(t)*sin(alpha(t))*Derivative(alpha(t), t) - nu2(t)*cos(alpha(t))*Derivative(alpha(t), t) - sin(alpha(t))*Derivative(nu2(t), t) + cos(alpha(t))*Derivative(nu1(t), t)) + m2*(delta_x + delta_x*(sin(alpha(t))*cos(beta[2]) + sin(beta[2])*cos(alpha(t)))*sin(alpha(t) + theta[2])/d)*(-d*(sin(alpha(t))*cos(theta[2]) + sin(theta[2])*cos(alpha(t)))*Derivative(alpha(t), (t, 2)) - d*(-sin(alpha(t))*sin(theta[2])*Derivative(alpha(t), t) + cos(alpha(t))*cos(theta[2])*Derivative(alpha(t), t))*(Derivative(alpha(t), t) + Derivative(theta[2], t)) + (-sin(alpha(t))*cos(beta[2]) - sin(beta[2])*cos(alpha(t)))*Derivative(alpha(t), (t, 2)) + (sin(alpha(t))*sin(beta[2])*Derivative(alpha(t), t) - cos(alpha(t))*cos(beta[2])*Derivative(alpha(t), t))*Derivative(alpha(t), t) - nu1(t)*sin(alpha(t))*Derivative(alpha(t), t) - nu2(t)*cos(alpha(t))*Derivative(alpha(t), t) - sin(alpha(t))*Derivative(nu2(t), t) + cos(alpha(t))*Derivative(nu1(t), t)) - delta_x*m2*(-sin(alpha(t))*sin(beta[0]) + cos(alpha(t))*cos(beta[0]))*(d*(-sin(alpha(t))*sin(theta[0]) + cos(alpha(t))*cos(theta[0]))*Derivative(alpha(t), (t, 2)) + d*(-sin(alpha(t))*cos(theta[0])*Derivative(alpha(t), t) - sin(theta[0])*cos(alpha(t))*Derivative(alpha(t), t))*(Derivative(alpha(t), t) + Derivative(theta[0], t)) + (-sin(alpha(t))*sin(beta[0]) + cos(alpha(t))*cos(beta[0]))*Derivative(alpha(t), (t, 2)) + (-sin(alpha(t))*cos(beta[0])*Derivative(alpha(t), t) - sin(beta[0])*cos(alpha(t))*Derivative(alpha(t), t))*Derivative(alpha(t), t) + nu1(t)*cos(alpha(t))*Derivative(alpha(t), t) - nu2(t)*sin(alpha(t))*Derivative(alpha(t), t) + sin(alpha(t))*Derivative(nu1(t), t) + cos(alpha(t))*Derivative(nu2(t), t))*sin(alpha(t) + theta[0])/d - delta_x*m2*(-sin(alpha(t))*sin(beta[1]) + cos(alpha(t))*cos(beta[1]))*(d*(-sin(alpha(t))*sin(theta[1]) + cos(alpha(t))*cos(theta[1]))*Derivative(alpha(t), (t, 2)) + d*(-sin(alpha(t))*cos(theta[1])*Derivative(alpha(t), t) - sin(theta[1])*cos(alpha(t))*Derivative(alpha(t), t))*(Derivative(alpha(t), t) + Derivative(theta[1], t)) + (-sin(alpha(t))*sin(beta[1]) + cos(alpha(t))*cos(beta[1]))*Derivative(alpha(t), (t, 2)) + (-sin(alpha(t))*cos(beta[1])*Derivative(alpha(t), t) - sin(beta[1])*cos(alpha(t))*Derivative(alpha(t), t))*Derivative(alpha(t), t) + nu1(t)*cos(alpha(t))*Derivative(alpha(t), t) - nu2(t)*sin(alpha(t))*Derivative(alpha(t), t) + sin(alpha(t))*Derivative(nu1(t), t) + cos(alpha(t))*Derivative(nu2(t), t))*sin(alpha(t) + theta[1])/d - delta_x*m2*(-sin(alpha(t))*sin(beta[2]) + cos(alpha(t))*cos(beta[2]))*(d*(-sin(alpha(t))*sin(theta[2]) + cos(alpha(t))*cos(theta[2]))*Derivative(alpha(t), (t, 2)) + d*(-sin(alpha(t))*cos(theta[2])*Derivative(alpha(t), t) - sin(theta[2])*cos(alpha(t))*Derivative(alpha(t), t))*(Derivative(alpha(t), t) + Derivative(theta[2], t)) + (-sin(alpha(t))*sin(beta[2]) + cos(alpha(t))*cos(beta[2]))*Derivative(alpha(t), (t, 2)) + (-sin(alpha(t))*cos(beta[2])*Derivative(alpha(t), t) - sin(beta[2])*cos(alpha(t))*Derivative(alpha(t), t))*Derivative(alpha(t), t) + nu1(t)*cos(alpha(t))*Derivative(alpha(t), t) - nu2(t)*sin(alpha(t))*Derivative(alpha(t), t) + sin(alpha(t))*Derivative(nu1(t), t) + cos(alpha(t))*Derivative(nu2(t), t))*sin(alpha(t) + theta[2])/d)/delta_x"
      ]
     },
     "execution_count": 62,
     "metadata": {},
     "output_type": "execute_result"
    }
   ],
   "source": []
  },
  {
   "cell_type": "code",
   "execution_count": 63,
   "metadata": {},
   "outputs": [],
   "source": [
    "def diff_vars(obj1, obj2):\n",
    "    res = []\n",
    "    for x in pa(obj1):\n",
    "        if x not in pa(obj2):\n",
    "            res.append(x)\n",
    "    return res"
   ]
  },
  {
   "cell_type": "code",
   "execution_count": 64,
   "metadata": {},
   "outputs": [
    {
     "name": "stdout",
     "output_type": "stream",
     "text": [
      "\u001b[31m[dalpha] \u001b[0m[psi[1], c, psi[0], psi, Derivative(psi[2], t), Derivative(psi[1], t), delta_alpha, Derivative(psi[0], t), psi[2]]\n",
      "\u001b[31m[dx] \u001b[0m[psi[1], c, psi[0], psi, Derivative(psi[2], t), Derivative(psi[1], t), Derivative(psi[0], t), psi[2]]\n",
      "\u001b[31m[dy] \u001b[0m[psi[1], c, psi[0], psi, Derivative(psi[2], t), Derivative(psi[1], t), Derivative(psi[0], t), psi[2]]\n"
     ]
    }
   ],
   "source": []
  },
  {
   "cell_type": "code",
   "execution_count": 31,
   "metadata": {},
   "outputs": [],
   "source": []
  },
  {
   "cell_type": "code",
   "execution_count": 32,
   "metadata": {
    "collapsed": true
   },
   "outputs": [
    {
     "ename": "NameError",
     "evalue": "name 'poly_dalamber' is not defined",
     "output_type": "error",
     "traceback": [
      "\u001b[1;31m---------------------------------------------------------------------------\u001b[0m",
      "\u001b[1;31mNameError\u001b[0m                                 Traceback (most recent call last)",
      "\u001b[1;32m<ipython-input-32-2ab74569025e>\u001b[0m in \u001b[0;36m<module>\u001b[1;34m\u001b[0m\n\u001b[1;32m----> 1\u001b[1;33m \u001b[0mlen\u001b[0m\u001b[1;33m(\u001b[0m\u001b[0mpoly_dalamber\u001b[0m\u001b[1;33m.\u001b[0m\u001b[0mcoeffs\u001b[0m\u001b[1;33m(\u001b[0m\u001b[1;33m)\u001b[0m\u001b[1;33m)\u001b[0m\u001b[1;33m\u001b[0m\u001b[1;33m\u001b[0m\u001b[0m\n\u001b[0m",
      "\u001b[1;31mNameError\u001b[0m: name 'poly_dalamber' is not defined"
     ]
    }
   ],
   "source": []
  },
  {
   "cell_type": "code",
   "execution_count": null,
   "metadata": {},
   "outputs": [],
   "source": []
  },
  {
   "cell_type": "code",
   "execution_count": null,
   "metadata": {},
   "outputs": [],
   "source": []
  },
  {
   "cell_type": "code",
   "execution_count": null,
   "metadata": {},
   "outputs": [],
   "source": []
  },
  {
   "cell_type": "code",
   "execution_count": 94,
   "metadata": {},
   "outputs": [],
   "source": []
  },
  {
   "cell_type": "code",
   "execution_count": 65,
   "metadata": {},
   "outputs": [],
   "source": [
    "s_dx = simplify(delta_x_k)"
   ]
  },
  {
   "cell_type": "code",
   "execution_count": 66,
   "metadata": {},
   "outputs": [],
   "source": [
    "s_dy = simplify(delta_y_k)"
   ]
  },
  {
   "cell_type": "code",
   "execution_count": 67,
   "metadata": {},
   "outputs": [],
   "source": [
    "s_dalpha = simplify(delta_alpha_k)"
   ]
  },
  {
   "cell_type": "code",
   "execution_count": 73,
   "metadata": {},
   "outputs": [],
   "source": [
    "utils.write_obj(s_dx, 'dalamber_dx_coeff', 'коэффициент в уравнении Даламбера-Лагранжа при dx')\n",
    "utils.write_obj(s_dy, 'dalamber_dy_coeff', 'коэффициент в уравнении Даламбера-Лагранжа при dy')\n",
    "utils.write_obj(s_dalpha, 'dalamber_dalpha_coeff', 'коэффициент в уравнении Даламбера-Лагранжа при dAlpha')"
   ]
  },
  {
   "cell_type": "code",
   "execution_count": 50,
   "metadata": {},
   "outputs": [],
   "source": []
  },
  {
   "cell_type": "code",
   "execution_count": 60,
   "metadata": {
    "collapsed": true
   },
   "outputs": [
    {
     "data": {
      "text/plain": [
       "-T1*sin(alpha(t) + theta[0])*sin(alpha(t))**2*sin(theta[0])**2/r - T1*sin(alpha(t) + theta[0])*sin(alpha(t))**2*cos(theta[0])**2/r - T1*sin(alpha(t) + theta[0])*sin(theta[0])**2*cos(alpha(t))**2/r - T1*sin(alpha(t) + theta[0])*cos(alpha(t))**2*cos(theta[0])**2/r - T1*sin(beta[0] - theta[0])*sin(alpha(t))**2*sin(theta[0])**2/r - T1*sin(beta[0] - theta[0])*sin(alpha(t))**2*cos(theta[0])**2/r - T1*sin(beta[0] - theta[0])*sin(theta[0])**2*cos(alpha(t))**2/r - T1*sin(beta[0] - theta[0])*cos(alpha(t))**2*cos(theta[0])**2/r - T1*sin(alpha(t))**2*sin(theta[0])**2*cos(alpha(t) + theta[0])/r - T1*sin(alpha(t))**2*cos(alpha(t) + theta[0])*cos(theta[0])**2/r - T1*sin(theta[0])**2*cos(alpha(t) + theta[0])*cos(alpha(t))**2/r - T1*cos(alpha(t) + theta[0])*cos(alpha(t))**2*cos(theta[0])**2/r - T2*sin(alpha(t) + theta[1])*sin(alpha(t))**2*sin(theta[1])**2/r - T2*sin(alpha(t) + theta[1])*sin(alpha(t))**2*cos(theta[1])**2/r - T2*sin(alpha(t) + theta[1])*sin(theta[1])**2*cos(alpha(t))**2/r - T2*sin(alpha(t) + theta[1])*cos(alpha(t))**2*cos(theta[1])**2/r - T2*sin(beta[1] - theta[1])*sin(alpha(t))**2*sin(theta[1])**2/r - T2*sin(beta[1] - theta[1])*sin(alpha(t))**2*cos(theta[1])**2/r - T2*sin(beta[1] - theta[1])*sin(theta[1])**2*cos(alpha(t))**2/r - T2*sin(beta[1] - theta[1])*cos(alpha(t))**2*cos(theta[1])**2/r - T2*sin(alpha(t))**2*sin(theta[1])**2*cos(alpha(t) + theta[1])/r - T2*sin(alpha(t))**2*cos(alpha(t) + theta[1])*cos(theta[1])**2/r - T2*sin(theta[1])**2*cos(alpha(t) + theta[1])*cos(alpha(t))**2/r - T2*cos(alpha(t) + theta[1])*cos(alpha(t))**2*cos(theta[1])**2/r - T3*sin(alpha(t) + theta[2])*sin(alpha(t))**2*sin(theta[2])**2/r - T3*sin(alpha(t) + theta[2])*sin(alpha(t))**2*cos(theta[2])**2/r - T3*sin(alpha(t) + theta[2])*sin(theta[2])**2*cos(alpha(t))**2/r - T3*sin(alpha(t) + theta[2])*cos(alpha(t))**2*cos(theta[2])**2/r - T3*sin(beta[2] - theta[2])*sin(alpha(t))**2*sin(theta[2])**2/r - T3*sin(beta[2] - theta[2])*sin(alpha(t))**2*cos(theta[2])**2/r - T3*sin(beta[2] - theta[2])*sin(theta[2])**2*cos(alpha(t))**2/r - T3*sin(beta[2] - theta[2])*cos(alpha(t))**2*cos(theta[2])**2/r - T3*sin(alpha(t))**2*sin(theta[2])**2*cos(alpha(t) + theta[2])/r - T3*sin(alpha(t))**2*cos(alpha(t) + theta[2])*cos(theta[2])**2/r - T3*sin(theta[2])**2*cos(alpha(t) + theta[2])*cos(alpha(t))**2/r - T3*cos(alpha(t) + theta[2])*cos(alpha(t))**2*cos(theta[2])**2/r + W1 + W1*sin(alpha(t) + theta[0])/d - W1*cos(alpha(t) + theta[0])/d + W1*cos(beta[0] - theta[0])/d + W2 + W2*sin(alpha(t) + theta[1])/d - W2*cos(alpha(t) + theta[1])/d + W2*cos(beta[1] - theta[1])/d + W3 + W3*sin(alpha(t) + theta[2])/d - W3*cos(alpha(t) + theta[2])/d + W3*cos(beta[2] - theta[2])/d + 3*a*Derivative(alpha(t), (t, 2)) - b*sin(alpha(t) + theta[0])*Derivative(alpha(t), (t, 2))/d - b*sin(alpha(t) + theta[1])*Derivative(alpha(t), (t, 2))/d - b*sin(alpha(t) + theta[2])*Derivative(alpha(t), (t, 2))/d + b*cos(alpha(t) + theta[0])*Derivative(alpha(t), (t, 2))/d + b*cos(alpha(t) + theta[1])*Derivative(alpha(t), (t, 2))/d + b*cos(alpha(t) + theta[2])*Derivative(alpha(t), (t, 2))/d - b*cos(beta[0] - theta[0])*Derivative(alpha(t), (t, 2))/d - b*cos(beta[1] - theta[1])*Derivative(alpha(t), (t, 2))/d - b*cos(beta[2] - theta[2])*Derivative(alpha(t), (t, 2))/d + d*m2*sin(alpha(t))**2*sin(beta[0])*sin(theta[0])*Derivative(alpha(t), (t, 2)) + d*m2*sin(alpha(t))**2*sin(beta[0])*cos(theta[0])*Derivative(alpha(t), t)**2 + d*m2*sin(alpha(t))**2*sin(beta[0])*cos(theta[0])*Derivative(alpha(t), t)*Derivative(theta[0], t) + d*m2*sin(alpha(t))**2*sin(beta[1])*sin(theta[1])*Derivative(alpha(t), (t, 2)) + d*m2*sin(alpha(t))**2*sin(beta[1])*cos(theta[1])*Derivative(alpha(t), t)**2 + d*m2*sin(alpha(t))**2*sin(beta[1])*cos(theta[1])*Derivative(alpha(t), t)*Derivative(theta[1], t) + d*m2*sin(alpha(t))**2*sin(beta[2])*sin(theta[2])*Derivative(alpha(t), (t, 2)) + d*m2*sin(alpha(t))**2*sin(beta[2])*cos(theta[2])*Derivative(alpha(t), t)**2 + d*m2*sin(alpha(t))**2*sin(beta[2])*cos(theta[2])*Derivative(alpha(t), t)*Derivative(theta[2], t) - d*m2*sin(alpha(t))**2*sin(theta[0])*cos(beta[0])*Derivative(alpha(t), t)**2 - d*m2*sin(alpha(t))**2*sin(theta[0])*cos(beta[0])*Derivative(alpha(t), t)*Derivative(theta[0], t) - d*m2*sin(alpha(t))**2*sin(theta[1])*cos(beta[1])*Derivative(alpha(t), t)**2 - d*m2*sin(alpha(t))**2*sin(theta[1])*cos(beta[1])*Derivative(alpha(t), t)*Derivative(theta[1], t) - d*m2*sin(alpha(t))**2*sin(theta[2])*cos(beta[2])*Derivative(alpha(t), t)**2 - d*m2*sin(alpha(t))**2*sin(theta[2])*cos(beta[2])*Derivative(alpha(t), t)*Derivative(theta[2], t) + d*m2*sin(alpha(t))**2*cos(beta[0])*cos(theta[0])*Derivative(alpha(t), (t, 2)) + d*m2*sin(alpha(t))**2*cos(beta[1])*cos(theta[1])*Derivative(alpha(t), (t, 2)) + d*m2*sin(alpha(t))**2*cos(beta[2])*cos(theta[2])*Derivative(alpha(t), (t, 2)) + d*m2*sin(alpha(t))*sin(theta[0])*Derivative(alpha(t), t)**2 + d*m2*sin(alpha(t))*sin(theta[0])*Derivative(alpha(t), t)*Derivative(theta[0], t) - d*m2*sin(alpha(t))*sin(theta[0])*Derivative(alpha(t), (t, 2)) + d*m2*sin(alpha(t))*sin(theta[1])*Derivative(alpha(t), t)**2 + d*m2*sin(alpha(t))*sin(theta[1])*Derivative(alpha(t), t)*Derivative(theta[1], t) - d*m2*sin(alpha(t))*sin(theta[1])*Derivative(alpha(t), (t, 2)) + d*m2*sin(alpha(t))*sin(theta[2])*Derivative(alpha(t), t)**2 + d*m2*sin(alpha(t))*sin(theta[2])*Derivative(alpha(t), t)*Derivative(theta[2], t) - d*m2*sin(alpha(t))*sin(theta[2])*Derivative(alpha(t), (t, 2)) - d*m2*sin(alpha(t))*cos(theta[0])*Derivative(alpha(t), t)**2 - d*m2*sin(alpha(t))*cos(theta[0])*Derivative(alpha(t), t)*Derivative(theta[0], t) - d*m2*sin(alpha(t))*cos(theta[0])*Derivative(alpha(t), (t, 2)) - d*m2*sin(alpha(t))*cos(theta[1])*Derivative(alpha(t), t)**2 - d*m2*sin(alpha(t))*cos(theta[1])*Derivative(alpha(t), t)*Derivative(theta[1], t) - d*m2*sin(alpha(t))*cos(theta[1])*Derivative(alpha(t), (t, 2)) - d*m2*sin(alpha(t))*cos(theta[2])*Derivative(alpha(t), t)**2 - d*m2*sin(alpha(t))*cos(theta[2])*Derivative(alpha(t), t)*Derivative(theta[2], t) - d*m2*sin(alpha(t))*cos(theta[2])*Derivative(alpha(t), (t, 2)) + d*m2*sin(beta[0])*sin(theta[0])*cos(alpha(t))**2*Derivative(alpha(t), (t, 2)) + d*m2*sin(beta[0])*cos(alpha(t))**2*cos(theta[0])*Derivative(alpha(t), t)**2 + d*m2*sin(beta[0])*cos(alpha(t))**2*cos(theta[0])*Derivative(alpha(t), t)*Derivative(theta[0], t) + d*m2*sin(beta[1])*sin(theta[1])*cos(alpha(t))**2*Derivative(alpha(t), (t, 2)) + d*m2*sin(beta[1])*cos(alpha(t))**2*cos(theta[1])*Derivative(alpha(t), t)**2 + d*m2*sin(beta[1])*cos(alpha(t))**2*cos(theta[1])*Derivative(alpha(t), t)*Derivative(theta[1], t) + d*m2*sin(beta[2])*sin(theta[2])*cos(alpha(t))**2*Derivative(alpha(t), (t, 2)) + d*m2*sin(beta[2])*cos(alpha(t))**2*cos(theta[2])*Derivative(alpha(t), t)**2 + d*m2*sin(beta[2])*cos(alpha(t))**2*cos(theta[2])*Derivative(alpha(t), t)*Derivative(theta[2], t) - d*m2*sin(theta[0])*cos(alpha(t))**2*cos(beta[0])*Derivative(alpha(t), t)**2 - d*m2*sin(theta[0])*cos(alpha(t))**2*cos(beta[0])*Derivative(alpha(t), t)*Derivative(theta[0], t) - d*m2*sin(theta[0])*cos(alpha(t))*Derivative(alpha(t), t)**2 - d*m2*sin(theta[0])*cos(alpha(t))*Derivative(alpha(t), t)*Derivative(theta[0], t) - d*m2*sin(theta[0])*cos(alpha(t))*Derivative(alpha(t), (t, 2)) - d*m2*sin(theta[1])*cos(alpha(t))**2*cos(beta[1])*Derivative(alpha(t), t)**2 - d*m2*sin(theta[1])*cos(alpha(t))**2*cos(beta[1])*Derivative(alpha(t), t)*Derivative(theta[1], t) - d*m2*sin(theta[1])*cos(alpha(t))*Derivative(alpha(t), t)**2 - d*m2*sin(theta[1])*cos(alpha(t))*Derivative(alpha(t), t)*Derivative(theta[1], t) - d*m2*sin(theta[1])*cos(alpha(t))*Derivative(alpha(t), (t, 2)) - d*m2*sin(theta[2])*cos(alpha(t))**2*cos(beta[2])*Derivative(alpha(t), t)**2 - d*m2*sin(theta[2])*cos(alpha(t))**2*cos(beta[2])*Derivative(alpha(t), t)*Derivative(theta[2], t) - d*m2*sin(theta[2])*cos(alpha(t))*Derivative(alpha(t), t)**2 - d*m2*sin(theta[2])*cos(alpha(t))*Derivative(alpha(t), t)*Derivative(theta[2], t) - d*m2*sin(theta[2])*cos(alpha(t))*Derivative(alpha(t), (t, 2)) + d*m2*cos(alpha(t))**2*cos(beta[0])*cos(theta[0])*Derivative(alpha(t), (t, 2)) + d*m2*cos(alpha(t))**2*cos(beta[1])*cos(theta[1])*Derivative(alpha(t), (t, 2)) + d*m2*cos(alpha(t))**2*cos(beta[2])*cos(theta[2])*Derivative(alpha(t), (t, 2)) - d*m2*cos(alpha(t))*cos(theta[0])*Derivative(alpha(t), t)**2 - d*m2*cos(alpha(t))*cos(theta[0])*Derivative(alpha(t), t)*Derivative(theta[0], t) + d*m2*cos(alpha(t))*cos(theta[0])*Derivative(alpha(t), (t, 2)) - d*m2*cos(alpha(t))*cos(theta[1])*Derivative(alpha(t), t)**2 - d*m2*cos(alpha(t))*cos(theta[1])*Derivative(alpha(t), t)*Derivative(theta[1], t) + d*m2*cos(alpha(t))*cos(theta[1])*Derivative(alpha(t), (t, 2)) - d*m2*cos(alpha(t))*cos(theta[2])*Derivative(alpha(t), t)**2 - d*m2*cos(alpha(t))*cos(theta[2])*Derivative(alpha(t), t)*Derivative(theta[2], t) + d*m2*cos(alpha(t))*cos(theta[2])*Derivative(alpha(t), (t, 2)) - 3*m1*nu1(t)*sin(alpha(t))*Derivative(alpha(t), t) + 3*m1*nu1(t)*cos(alpha(t))*Derivative(alpha(t), t) - 3*m1*nu2(t)*sin(alpha(t))*Derivative(alpha(t), t) - 3*m1*nu2(t)*cos(alpha(t))*Derivative(alpha(t), t) + 3*m1*sin(alpha(t))*Derivative(nu1(t), t) - 3*m1*sin(alpha(t))*Derivative(nu2(t), t) + 3*m1*cos(alpha(t))*Derivative(nu1(t), t) + 3*m1*cos(alpha(t))*Derivative(nu2(t), t) + m2*nu1(t)*sin(alpha(t))**2*cos(beta[0])*Derivative(alpha(t), t) + m2*nu1(t)*sin(alpha(t))**2*cos(beta[1])*Derivative(alpha(t), t) + m2*nu1(t)*sin(alpha(t))**2*cos(beta[2])*Derivative(alpha(t), t) - 3*m2*nu1(t)*sin(alpha(t))*Derivative(alpha(t), t) + m2*nu1(t)*cos(alpha(t))**2*cos(beta[0])*Derivative(alpha(t), t) + m2*nu1(t)*cos(alpha(t))**2*cos(beta[1])*Derivative(alpha(t), t) + m2*nu1(t)*cos(alpha(t))**2*cos(beta[2])*Derivative(alpha(t), t) + 3*m2*nu1(t)*cos(alpha(t))*Derivative(alpha(t), t) + m2*nu2(t)*sin(alpha(t))**2*sin(beta[0])*Derivative(alpha(t), t) + m2*nu2(t)*sin(alpha(t))**2*sin(beta[1])*Derivative(alpha(t), t) + m2*nu2(t)*sin(alpha(t))**2*sin(beta[2])*Derivative(alpha(t), t) - 3*m2*nu2(t)*sin(alpha(t))*Derivative(alpha(t), t) + m2*nu2(t)*sin(beta[0])*cos(alpha(t))**2*Derivative(alpha(t), t) + m2*nu2(t)*sin(beta[1])*cos(alpha(t))**2*Derivative(alpha(t), t) + m2*nu2(t)*sin(beta[2])*cos(alpha(t))**2*Derivative(alpha(t), t) - 3*m2*nu2(t)*cos(alpha(t))*Derivative(alpha(t), t) - m2*sin(alpha(t) + theta[0])*sin(alpha(t))**2*sin(beta[0])*sin(theta[0])*Derivative(alpha(t), (t, 2)) - m2*sin(alpha(t) + theta[0])*sin(alpha(t))**2*sin(beta[0])*cos(theta[0])*Derivative(alpha(t), t)**2 - m2*sin(alpha(t) + theta[0])*sin(alpha(t))**2*sin(beta[0])*cos(theta[0])*Derivative(alpha(t), t)*Derivative(theta[0], t) + m2*sin(alpha(t) + theta[0])*sin(alpha(t))**2*sin(theta[0])*cos(beta[0])*Derivative(alpha(t), t)**2 + m2*sin(alpha(t) + theta[0])*sin(alpha(t))**2*sin(theta[0])*cos(beta[0])*Derivative(alpha(t), t)*Derivative(theta[0], t) - m2*sin(alpha(t) + theta[0])*sin(alpha(t))**2*cos(beta[0])*cos(theta[0])*Derivative(alpha(t), (t, 2)) - m2*sin(alpha(t) + theta[0])*sin(beta[0])*sin(theta[0])*cos(alpha(t))**2*Derivative(alpha(t), (t, 2)) - m2*sin(alpha(t) + theta[0])*sin(beta[0])*cos(alpha(t))**2*cos(theta[0])*Derivative(alpha(t), t)**2 - m2*sin(alpha(t) + theta[0])*sin(beta[0])*cos(alpha(t))**2*cos(theta[0])*Derivative(alpha(t), t)*Derivative(theta[0], t) + m2*sin(alpha(t) + theta[0])*sin(theta[0])*cos(alpha(t))**2*cos(beta[0])*Derivative(alpha(t), t)**2 + m2*sin(alpha(t) + theta[0])*sin(theta[0])*cos(alpha(t))**2*cos(beta[0])*Derivative(alpha(t), t)*Derivative(theta[0], t) - m2*sin(alpha(t) + theta[0])*cos(alpha(t))**2*cos(beta[0])*cos(theta[0])*Derivative(alpha(t), (t, 2)) - m2*sin(alpha(t) + theta[1])*sin(alpha(t))**2*sin(beta[1])*sin(theta[1])*Derivative(alpha(t), (t, 2)) - m2*sin(alpha(t) + theta[1])*sin(alpha(t))**2*sin(beta[1])*cos(theta[1])*Derivative(alpha(t), t)**2 - m2*sin(alpha(t) + theta[1])*sin(alpha(t))**2*sin(beta[1])*cos(theta[1])*Derivative(alpha(t), t)*Derivative(theta[1], t) + m2*sin(alpha(t) + theta[1])*sin(alpha(t))**2*sin(theta[1])*cos(beta[1])*Derivative(alpha(t), t)**2 + m2*sin(alpha(t) + theta[1])*sin(alpha(t))**2*sin(theta[1])*cos(beta[1])*Derivative(alpha(t), t)*Derivative(theta[1], t) - m2*sin(alpha(t) + theta[1])*sin(alpha(t))**2*cos(beta[1])*cos(theta[1])*Derivative(alpha(t), (t, 2)) - m2*sin(alpha(t) + theta[1])*sin(beta[1])*sin(theta[1])*cos(alpha(t))**2*Derivative(alpha(t), (t, 2)) - m2*sin(alpha(t) + theta[1])*sin(beta[1])*cos(alpha(t))**2*cos(theta[1])*Derivative(alpha(t), t)**2 - m2*sin(alpha(t) + theta[1])*sin(beta[1])*cos(alpha(t))**2*cos(theta[1])*Derivative(alpha(t), t)*Derivative(theta[1], t) + m2*sin(alpha(t) + theta[1])*sin(theta[1])*cos(alpha(t))**2*cos(beta[1])*Derivative(alpha(t), t)**2 + m2*sin(alpha(t) + theta[1])*sin(theta[1])*cos(alpha(t))**2*cos(beta[1])*Derivative(alpha(t), t)*Derivative(theta[1], t) - m2*sin(alpha(t) + theta[1])*cos(alpha(t))**2*cos(beta[1])*cos(theta[1])*Derivative(alpha(t), (t, 2)) - m2*sin(alpha(t) + theta[2])*sin(alpha(t))**2*sin(beta[2])*sin(theta[2])*Derivative(alpha(t), (t, 2)) - m2*sin(alpha(t) + theta[2])*sin(alpha(t))**2*sin(beta[2])*cos(theta[2])*Derivative(alpha(t), t)**2 - m2*sin(alpha(t) + theta[2])*sin(alpha(t))**2*sin(beta[2])*cos(theta[2])*Derivative(alpha(t), t)*Derivative(theta[2], t) + m2*sin(alpha(t) + theta[2])*sin(alpha(t))**2*sin(theta[2])*cos(beta[2])*Derivative(alpha(t), t)**2 + m2*sin(alpha(t) + theta[2])*sin(alpha(t))**2*sin(theta[2])*cos(beta[2])*Derivative(alpha(t), t)*Derivative(theta[2], t) - m2*sin(alpha(t) + theta[2])*sin(alpha(t))**2*cos(beta[2])*cos(theta[2])*Derivative(alpha(t), (t, 2)) - m2*sin(alpha(t) + theta[2])*sin(beta[2])*sin(theta[2])*cos(alpha(t))**2*Derivative(alpha(t), (t, 2)) - m2*sin(alpha(t) + theta[2])*sin(beta[2])*cos(alpha(t))**2*cos(theta[2])*Derivative(alpha(t), t)**2 - m2*sin(alpha(t) + theta[2])*sin(beta[2])*cos(alpha(t))**2*cos(theta[2])*Derivative(alpha(t), t)*Derivative(theta[2], t) + m2*sin(alpha(t) + theta[2])*sin(theta[2])*cos(alpha(t))**2*cos(beta[2])*Derivative(alpha(t), t)**2 + m2*sin(alpha(t) + theta[2])*sin(theta[2])*cos(alpha(t))**2*cos(beta[2])*Derivative(alpha(t), t)*Derivative(theta[2], t) - m2*sin(alpha(t) + theta[2])*cos(alpha(t))**2*cos(beta[2])*cos(theta[2])*Derivative(alpha(t), (t, 2)) + m2*sin(alpha(t))**2*sin(beta[0])**2*Derivative(alpha(t), (t, 2)) + m2*sin(alpha(t))**2*sin(beta[0])*sin(theta[0])*cos(alpha(t) + theta[0])*Derivative(alpha(t), (t, 2)) - m2*sin(alpha(t))**2*sin(beta[0])*sin(theta[0])*cos(beta[0] - theta[0])*Derivative(alpha(t), (t, 2)) + m2*sin(alpha(t))**2*sin(beta[0])*cos(alpha(t) + theta[0])*cos(theta[0])*Derivative(alpha(t), t)**2 + m2*sin(alpha(t))**2*sin(beta[0])*cos(alpha(t) + theta[0])*cos(theta[0])*Derivative(alpha(t), t)*Derivative(theta[0], t) - m2*sin(alpha(t))**2*sin(beta[0])*cos(beta[0] - theta[0])*cos(theta[0])*Derivative(alpha(t), t)**2 - m2*sin(alpha(t))**2*sin(beta[0])*cos(beta[0] - theta[0])*cos(theta[0])*Derivative(alpha(t), t)*Derivative(theta[0], t) - m2*sin(alpha(t))**2*sin(beta[0])*Derivative(nu1(t), t) + m2*sin(alpha(t))**2*sin(beta[1])**2*Derivative(alpha(t), (t, 2)) + m2*sin(alpha(t))**2*sin(beta[1])*sin(theta[1])*cos(alpha(t) + theta[1])*Derivative(alpha(t), (t, 2)) - m2*sin(alpha(t))**2*sin(beta[1])*sin(theta[1])*cos(beta[1] - theta[1])*Derivative(alpha(t), (t, 2)) + m2*sin(alpha(t))**2*sin(beta[1])*cos(alpha(t) + theta[1])*cos(theta[1])*Derivative(alpha(t), t)**2 + m2*sin(alpha(t))**2*sin(beta[1])*cos(alpha(t) + theta[1])*cos(theta[1])*Derivative(alpha(t), t)*Derivative(theta[1], t) - m2*sin(alpha(t))**2*sin(beta[1])*cos(beta[1] - theta[1])*cos(theta[1])*Derivative(alpha(t), t)**2 - m2*sin(alpha(t))**2*sin(beta[1])*cos(beta[1] - theta[1])*cos(theta[1])*Derivative(alpha(t), t)*Derivative(theta[1], t) - m2*sin(alpha(t))**2*sin(beta[1])*Derivative(nu1(t), t) + m2*sin(alpha(t))**2*sin(beta[2])**2*Derivative(alpha(t), (t, 2)) + m2*sin(alpha(t))**2*sin(beta[2])*sin(theta[2])*cos(alpha(t) + theta[2])*Derivative(alpha(t), (t, 2)) - m2*sin(alpha(t))**2*sin(beta[2])*sin(theta[2])*cos(beta[2] - theta[2])*Derivative(alpha(t), (t, 2)) + m2*sin(alpha(t))**2*sin(beta[2])*cos(alpha(t) + theta[2])*cos(theta[2])*Derivative(alpha(t), t)**2 + m2*sin(alpha(t))**2*sin(beta[2])*cos(alpha(t) + theta[2])*cos(theta[2])*Derivative(alpha(t), t)*Derivative(theta[2], t) - m2*sin(alpha(t))**2*sin(beta[2])*cos(beta[2] - theta[2])*cos(theta[2])*Derivative(alpha(t), t)**2 - m2*sin(alpha(t))**2*sin(beta[2])*cos(beta[2] - theta[2])*cos(theta[2])*Derivative(alpha(t), t)*Derivative(theta[2], t) - m2*sin(alpha(t))**2*sin(beta[2])*Derivative(nu1(t), t) - m2*sin(alpha(t))**2*sin(theta[0])*cos(alpha(t) + theta[0])*cos(beta[0])*Derivative(alpha(t), t)**2 - m2*sin(alpha(t))**2*sin(theta[0])*cos(alpha(t) + theta[0])*cos(beta[0])*Derivative(alpha(t), t)*Derivative(theta[0], t) + m2*sin(alpha(t))**2*sin(theta[0])*cos(beta[0] - theta[0])*cos(beta[0])*Derivative(alpha(t), t)**2 + m2*sin(alpha(t))**2*sin(theta[0])*cos(beta[0] - theta[0])*cos(beta[0])*Derivative(alpha(t), t)*Derivative(theta[0], t) - m2*sin(alpha(t))**2*sin(theta[1])*cos(alpha(t) + theta[1])*cos(beta[1])*Derivative(alpha(t), t)**2 - m2*sin(alpha(t))**2*sin(theta[1])*cos(alpha(t) + theta[1])*cos(beta[1])*Derivative(alpha(t), t)*Derivative(theta[1], t) + m2*sin(alpha(t))**2*sin(theta[1])*cos(beta[1] - theta[1])*cos(beta[1])*Derivative(alpha(t), t)**2 + m2*sin(alpha(t))**2*sin(theta[1])*cos(beta[1] - theta[1])*cos(beta[1])*Derivative(alpha(t), t)*Derivative(theta[1], t) - m2*sin(alpha(t))**2*sin(theta[2])*cos(alpha(t) + theta[2])*cos(beta[2])*Derivative(alpha(t), t)**2 - m2*sin(alpha(t))**2*sin(theta[2])*cos(alpha(t) + theta[2])*cos(beta[2])*Derivative(alpha(t), t)*Derivative(theta[2], t) + m2*sin(alpha(t))**2*sin(theta[2])*cos(beta[2] - theta[2])*cos(beta[2])*Derivative(alpha(t), t)**2 + m2*sin(alpha(t))**2*sin(theta[2])*cos(beta[2] - theta[2])*cos(beta[2])*Derivative(alpha(t), t)*Derivative(theta[2], t) + m2*sin(alpha(t))**2*cos(alpha(t) + theta[0])*cos(beta[0])*cos(theta[0])*Derivative(alpha(t), (t, 2)) + m2*sin(alpha(t))**2*cos(alpha(t) + theta[1])*cos(beta[1])*cos(theta[1])*Derivative(alpha(t), (t, 2)) + m2*sin(alpha(t))**2*cos(alpha(t) + theta[2])*cos(beta[2])*cos(theta[2])*Derivative(alpha(t), (t, 2)) - m2*sin(alpha(t))**2*cos(beta[0] - theta[0])*cos(beta[0])*cos(theta[0])*Derivative(alpha(t), (t, 2)) - m2*sin(alpha(t))**2*cos(beta[1] - theta[1])*cos(beta[1])*cos(theta[1])*Derivative(alpha(t), (t, 2)) - m2*sin(alpha(t))**2*cos(beta[2] - theta[2])*cos(beta[2])*cos(theta[2])*Derivative(alpha(t), (t, 2)) + m2*sin(alpha(t))**2*cos(beta[0])**2*Derivative(alpha(t), (t, 2)) + m2*sin(alpha(t))**2*cos(beta[0])*Derivative(nu2(t), t) + m2*sin(alpha(t))**2*cos(beta[1])**2*Derivative(alpha(t), (t, 2)) + m2*sin(alpha(t))**2*cos(beta[1])*Derivative(nu2(t), t) + m2*sin(alpha(t))**2*cos(beta[2])**2*Derivative(alpha(t), (t, 2)) + m2*sin(alpha(t))**2*cos(beta[2])*Derivative(nu2(t), t) + m2*sin(alpha(t))*sin(beta[0])*Derivative(alpha(t), t)**2 - m2*sin(alpha(t))*sin(beta[0])*Derivative(alpha(t), (t, 2)) + m2*sin(alpha(t))*sin(beta[1])*Derivative(alpha(t), t)**2 - m2*sin(alpha(t))*sin(beta[1])*Derivative(alpha(t), (t, 2)) + m2*sin(alpha(t))*sin(beta[2])*Derivative(alpha(t), t)**2 - m2*sin(alpha(t))*sin(beta[2])*Derivative(alpha(t), (t, 2)) - m2*sin(alpha(t))*cos(beta[0])*Derivative(alpha(t), t)**2 - m2*sin(alpha(t))*cos(beta[0])*Derivative(alpha(t), (t, 2)) - m2*sin(alpha(t))*cos(beta[1])*Derivative(alpha(t), t)**2 - m2*sin(alpha(t))*cos(beta[1])*Derivative(alpha(t), (t, 2)) - m2*sin(alpha(t))*cos(beta[2])*Derivative(alpha(t), t)**2 - m2*sin(alpha(t))*cos(beta[2])*Derivative(alpha(t), (t, 2)) + 3*m2*sin(alpha(t))*Derivative(nu1(t), t) - 3*m2*sin(alpha(t))*Derivative(nu2(t), t) + m2*sin(beta[0])**2*cos(alpha(t))**2*Derivative(alpha(t), (t, 2)) + m2*sin(beta[0])*sin(theta[0])*cos(alpha(t) + theta[0])*cos(alpha(t))**2*Derivative(alpha(t), (t, 2)) - m2*sin(beta[0])*sin(theta[0])*cos(beta[0] - theta[0])*cos(alpha(t))**2*Derivative(alpha(t), (t, 2)) + m2*sin(beta[0])*cos(alpha(t) + theta[0])*cos(alpha(t))**2*cos(theta[0])*Derivative(alpha(t), t)**2 + m2*sin(beta[0])*cos(alpha(t) + theta[0])*cos(alpha(t))**2*cos(theta[0])*Derivative(alpha(t), t)*Derivative(theta[0], t) - m2*sin(beta[0])*cos(beta[0] - theta[0])*cos(alpha(t))**2*cos(theta[0])*Derivative(alpha(t), t)**2 - m2*sin(beta[0])*cos(beta[0] - theta[0])*cos(alpha(t))**2*cos(theta[0])*Derivative(alpha(t), t)*Derivative(theta[0], t) - m2*sin(beta[0])*cos(alpha(t))**2*Derivative(nu1(t), t) - m2*sin(beta[0])*cos(alpha(t))*Derivative(alpha(t), t)**2 - m2*sin(beta[0])*cos(alpha(t))*Derivative(alpha(t), (t, 2)) + m2*sin(beta[1])**2*cos(alpha(t))**2*Derivative(alpha(t), (t, 2)) + m2*sin(beta[1])*sin(theta[1])*cos(alpha(t) + theta[1])*cos(alpha(t))**2*Derivative(alpha(t), (t, 2)) - m2*sin(beta[1])*sin(theta[1])*cos(beta[1] - theta[1])*cos(alpha(t))**2*Derivative(alpha(t), (t, 2)) + m2*sin(beta[1])*cos(alpha(t) + theta[1])*cos(alpha(t))**2*cos(theta[1])*Derivative(alpha(t), t)**2 + m2*sin(beta[1])*cos(alpha(t) + theta[1])*cos(alpha(t))**2*cos(theta[1])*Derivative(alpha(t), t)*Derivative(theta[1], t) - m2*sin(beta[1])*cos(beta[1] - theta[1])*cos(alpha(t))**2*cos(theta[1])*Derivative(alpha(t), t)**2 - m2*sin(beta[1])*cos(beta[1] - theta[1])*cos(alpha(t))**2*cos(theta[1])*Derivative(alpha(t), t)*Derivative(theta[1], t) - m2*sin(beta[1])*cos(alpha(t))**2*Derivative(nu1(t), t) - m2*sin(beta[1])*cos(alpha(t))*Derivative(alpha(t), t)**2 - m2*sin(beta[1])*cos(alpha(t))*Derivative(alpha(t), (t, 2)) + m2*sin(beta[2])**2*cos(alpha(t))**2*Derivative(alpha(t), (t, 2)) + m2*sin(beta[2])*sin(theta[2])*cos(alpha(t) + theta[2])*cos(alpha(t))**2*Derivative(alpha(t), (t, 2)) - m2*sin(beta[2])*sin(theta[2])*cos(beta[2] - theta[2])*cos(alpha(t))**2*Derivative(alpha(t), (t, 2)) + m2*sin(beta[2])*cos(alpha(t) + theta[2])*cos(alpha(t))**2*cos(theta[2])*Derivative(alpha(t), t)**2 + m2*sin(beta[2])*cos(alpha(t) + theta[2])*cos(alpha(t))**2*cos(theta[2])*Derivative(alpha(t), t)*Derivative(theta[2], t) - m2*sin(beta[2])*cos(beta[2] - theta[2])*cos(alpha(t))**2*cos(theta[2])*Derivative(alpha(t), t)**2 - m2*sin(beta[2])*cos(beta[2] - theta[2])*cos(alpha(t))**2*cos(theta[2])*Derivative(alpha(t), t)*Derivative(theta[2], t) - m2*sin(beta[2])*cos(alpha(t))**2*Derivative(nu1(t), t) - m2*sin(beta[2])*cos(alpha(t))*Derivative(alpha(t), t)**2 - m2*sin(beta[2])*cos(alpha(t))*Derivative(alpha(t), (t, 2)) - m2*sin(theta[0])*cos(alpha(t) + theta[0])*cos(alpha(t))**2*cos(beta[0])*Derivative(alpha(t), t)**2 - m2*sin(theta[0])*cos(alpha(t) + theta[0])*cos(alpha(t))**2*cos(beta[0])*Derivative(alpha(t), t)*Derivative(theta[0], t) + m2*sin(theta[0])*cos(beta[0] - theta[0])*cos(alpha(t))**2*cos(beta[0])*Derivative(alpha(t), t)**2 + m2*sin(theta[0])*cos(beta[0] - theta[0])*cos(alpha(t))**2*cos(beta[0])*Derivative(alpha(t), t)*Derivative(theta[0], t) - m2*sin(theta[1])*cos(alpha(t) + theta[1])*cos(alpha(t))**2*cos(beta[1])*Derivative(alpha(t), t)**2 - m2*sin(theta[1])*cos(alpha(t) + theta[1])*cos(alpha(t))**2*cos(beta[1])*Derivative(alpha(t), t)*Derivative(theta[1], t) + m2*sin(theta[1])*cos(beta[1] - theta[1])*cos(alpha(t))**2*cos(beta[1])*Derivative(alpha(t), t)**2 + m2*sin(theta[1])*cos(beta[1] - theta[1])*cos(alpha(t))**2*cos(beta[1])*Derivative(alpha(t), t)*Derivative(theta[1], t) - m2*sin(theta[2])*cos(alpha(t) + theta[2])*cos(alpha(t))**2*cos(beta[2])*Derivative(alpha(t), t)**2 - m2*sin(theta[2])*cos(alpha(t) + theta[2])*cos(alpha(t))**2*cos(beta[2])*Derivative(alpha(t), t)*Derivative(theta[2], t) + m2*sin(theta[2])*cos(beta[2] - theta[2])*cos(alpha(t))**2*cos(beta[2])*Derivative(alpha(t), t)**2 + m2*sin(theta[2])*cos(beta[2] - theta[2])*cos(alpha(t))**2*cos(beta[2])*Derivative(alpha(t), t)*Derivative(theta[2], t) + m2*cos(alpha(t) + theta[0])*cos(alpha(t))**2*cos(beta[0])*cos(theta[0])*Derivative(alpha(t), (t, 2)) + m2*cos(alpha(t) + theta[1])*cos(alpha(t))**2*cos(beta[1])*cos(theta[1])*Derivative(alpha(t), (t, 2)) + m2*cos(alpha(t) + theta[2])*cos(alpha(t))**2*cos(beta[2])*cos(theta[2])*Derivative(alpha(t), (t, 2)) - m2*cos(beta[0] - theta[0])*cos(alpha(t))**2*cos(beta[0])*cos(theta[0])*Derivative(alpha(t), (t, 2)) - m2*cos(beta[1] - theta[1])*cos(alpha(t))**2*cos(beta[1])*cos(theta[1])*Derivative(alpha(t), (t, 2)) - m2*cos(beta[2] - theta[2])*cos(alpha(t))**2*cos(beta[2])*cos(theta[2])*Derivative(alpha(t), (t, 2)) + m2*cos(alpha(t))**2*cos(beta[0])**2*Derivative(alpha(t), (t, 2)) + m2*cos(alpha(t))**2*cos(beta[0])*Derivative(nu2(t), t) + m2*cos(alpha(t))**2*cos(beta[1])**2*Derivative(alpha(t), (t, 2)) + m2*cos(alpha(t))**2*cos(beta[1])*Derivative(nu2(t), t) + m2*cos(alpha(t))**2*cos(beta[2])**2*Derivative(alpha(t), (t, 2)) + m2*cos(alpha(t))**2*cos(beta[2])*Derivative(nu2(t), t) - m2*cos(alpha(t))*cos(beta[0])*Derivative(alpha(t), t)**2 + m2*cos(alpha(t))*cos(beta[0])*Derivative(alpha(t), (t, 2)) - m2*cos(alpha(t))*cos(beta[1])*Derivative(alpha(t), t)**2 + m2*cos(alpha(t))*cos(beta[1])*Derivative(alpha(t), (t, 2)) - m2*cos(alpha(t))*cos(beta[2])*Derivative(alpha(t), t)**2 + m2*cos(alpha(t))*cos(beta[2])*Derivative(alpha(t), (t, 2)) + 3*m2*cos(alpha(t))*Derivative(nu1(t), t) + 3*m2*cos(alpha(t))*Derivative(nu2(t), t) - m2*nu1(t)*sin(alpha(t) + theta[0])*sin(alpha(t))**2*cos(beta[0])*Derivative(alpha(t), t)/d - m2*nu1(t)*sin(alpha(t) + theta[0])*cos(alpha(t))**2*cos(beta[0])*Derivative(alpha(t), t)/d - m2*nu1(t)*sin(alpha(t) + theta[1])*sin(alpha(t))**2*cos(beta[1])*Derivative(alpha(t), t)/d - m2*nu1(t)*sin(alpha(t) + theta[1])*cos(alpha(t))**2*cos(beta[1])*Derivative(alpha(t), t)/d - m2*nu1(t)*sin(alpha(t) + theta[2])*sin(alpha(t))**2*cos(beta[2])*Derivative(alpha(t), t)/d - m2*nu1(t)*sin(alpha(t) + theta[2])*cos(alpha(t))**2*cos(beta[2])*Derivative(alpha(t), t)/d + m2*nu1(t)*sin(alpha(t))**2*cos(alpha(t) + theta[0])*cos(beta[0])*Derivative(alpha(t), t)/d + m2*nu1(t)*sin(alpha(t))**2*cos(alpha(t) + theta[1])*cos(beta[1])*Derivative(alpha(t), t)/d + m2*nu1(t)*sin(alpha(t))**2*cos(alpha(t) + theta[2])*cos(beta[2])*Derivative(alpha(t), t)/d - m2*nu1(t)*sin(alpha(t))**2*cos(beta[0] - theta[0])*cos(beta[0])*Derivative(alpha(t), t)/d - m2*nu1(t)*sin(alpha(t))**2*cos(beta[1] - theta[1])*cos(beta[1])*Derivative(alpha(t), t)/d - m2*nu1(t)*sin(alpha(t))**2*cos(beta[2] - theta[2])*cos(beta[2])*Derivative(alpha(t), t)/d + m2*nu1(t)*cos(alpha(t) + theta[0])*cos(alpha(t))**2*cos(beta[0])*Derivative(alpha(t), t)/d + m2*nu1(t)*cos(alpha(t) + theta[1])*cos(alpha(t))**2*cos(beta[1])*Derivative(alpha(t), t)/d + m2*nu1(t)*cos(alpha(t) + theta[2])*cos(alpha(t))**2*cos(beta[2])*Derivative(alpha(t), t)/d - m2*nu1(t)*cos(beta[0] - theta[0])*cos(alpha(t))**2*cos(beta[0])*Derivative(alpha(t), t)/d - m2*nu1(t)*cos(beta[1] - theta[1])*cos(alpha(t))**2*cos(beta[1])*Derivative(alpha(t), t)/d - m2*nu1(t)*cos(beta[2] - theta[2])*cos(alpha(t))**2*cos(beta[2])*Derivative(alpha(t), t)/d - m2*nu2(t)*sin(alpha(t) + theta[0])*sin(alpha(t))**2*sin(beta[0])*Derivative(alpha(t), t)/d - m2*nu2(t)*sin(alpha(t) + theta[0])*sin(beta[0])*cos(alpha(t))**2*Derivative(alpha(t), t)/d - m2*nu2(t)*sin(alpha(t) + theta[1])*sin(alpha(t))**2*sin(beta[1])*Derivative(alpha(t), t)/d - m2*nu2(t)*sin(alpha(t) + theta[1])*sin(beta[1])*cos(alpha(t))**2*Derivative(alpha(t), t)/d - m2*nu2(t)*sin(alpha(t) + theta[2])*sin(alpha(t))**2*sin(beta[2])*Derivative(alpha(t), t)/d - m2*nu2(t)*sin(alpha(t) + theta[2])*sin(beta[2])*cos(alpha(t))**2*Derivative(alpha(t), t)/d + m2*nu2(t)*sin(alpha(t))**2*sin(beta[0])*cos(alpha(t) + theta[0])*Derivative(alpha(t), t)/d - m2*nu2(t)*sin(alpha(t))**2*sin(beta[0])*cos(beta[0] - theta[0])*Derivative(alpha(t), t)/d + m2*nu2(t)*sin(alpha(t))**2*sin(beta[1])*cos(alpha(t) + theta[1])*Derivative(alpha(t), t)/d - m2*nu2(t)*sin(alpha(t))**2*sin(beta[1])*cos(beta[1] - theta[1])*Derivative(alpha(t), t)/d + m2*nu2(t)*sin(alpha(t))**2*sin(beta[2])*cos(alpha(t) + theta[2])*Derivative(alpha(t), t)/d - m2*nu2(t)*sin(alpha(t))**2*sin(beta[2])*cos(beta[2] - theta[2])*Derivative(alpha(t), t)/d + m2*nu2(t)*sin(beta[0])*cos(alpha(t) + theta[0])*cos(alpha(t))**2*Derivative(alpha(t), t)/d - m2*nu2(t)*sin(beta[0])*cos(beta[0] - theta[0])*cos(alpha(t))**2*Derivative(alpha(t), t)/d + m2*nu2(t)*sin(beta[1])*cos(alpha(t) + theta[1])*cos(alpha(t))**2*Derivative(alpha(t), t)/d - m2*nu2(t)*sin(beta[1])*cos(beta[1] - theta[1])*cos(alpha(t))**2*Derivative(alpha(t), t)/d + m2*nu2(t)*sin(beta[2])*cos(alpha(t) + theta[2])*cos(alpha(t))**2*Derivative(alpha(t), t)/d - m2*nu2(t)*sin(beta[2])*cos(beta[2] - theta[2])*cos(alpha(t))**2*Derivative(alpha(t), t)/d - m2*sin(alpha(t) + theta[0])*sin(alpha(t))**2*sin(beta[0])**2*Derivative(alpha(t), (t, 2))/d + m2*sin(alpha(t) + theta[0])*sin(alpha(t))**2*sin(beta[0])*Derivative(nu1(t), t)/d - m2*sin(alpha(t) + theta[0])*sin(alpha(t))**2*cos(beta[0])**2*Derivative(alpha(t), (t, 2))/d - m2*sin(alpha(t) + theta[0])*sin(alpha(t))**2*cos(beta[0])*Derivative(nu2(t), t)/d - m2*sin(alpha(t) + theta[0])*sin(beta[0])**2*cos(alpha(t))**2*Derivative(alpha(t), (t, 2))/d + m2*sin(alpha(t) + theta[0])*sin(beta[0])*cos(alpha(t))**2*Derivative(nu1(t), t)/d - m2*sin(alpha(t) + theta[0])*cos(alpha(t))**2*cos(beta[0])**2*Derivative(alpha(t), (t, 2))/d - m2*sin(alpha(t) + theta[0])*cos(alpha(t))**2*cos(beta[0])*Derivative(nu2(t), t)/d - m2*sin(alpha(t) + theta[1])*sin(alpha(t))**2*sin(beta[1])**2*Derivative(alpha(t), (t, 2))/d + m2*sin(alpha(t) + theta[1])*sin(alpha(t))**2*sin(beta[1])*Derivative(nu1(t), t)/d - m2*sin(alpha(t) + theta[1])*sin(alpha(t))**2*cos(beta[1])**2*Derivative(alpha(t), (t, 2))/d - m2*sin(alpha(t) + theta[1])*sin(alpha(t))**2*cos(beta[1])*Derivative(nu2(t), t)/d - m2*sin(alpha(t) + theta[1])*sin(beta[1])**2*cos(alpha(t))**2*Derivative(alpha(t), (t, 2))/d + m2*sin(alpha(t) + theta[1])*sin(beta[1])*cos(alpha(t))**2*Derivative(nu1(t), t)/d - m2*sin(alpha(t) + theta[1])*cos(alpha(t))**2*cos(beta[1])**2*Derivative(alpha(t), (t, 2))/d - m2*sin(alpha(t) + theta[1])*cos(alpha(t))**2*cos(beta[1])*Derivative(nu2(t), t)/d - m2*sin(alpha(t) + theta[2])*sin(alpha(t))**2*sin(beta[2])**2*Derivative(alpha(t), (t, 2))/d + m2*sin(alpha(t) + theta[2])*sin(alpha(t))**2*sin(beta[2])*Derivative(nu1(t), t)/d - m2*sin(alpha(t) + theta[2])*sin(alpha(t))**2*cos(beta[2])**2*Derivative(alpha(t), (t, 2))/d - m2*sin(alpha(t) + theta[2])*sin(alpha(t))**2*cos(beta[2])*Derivative(nu2(t), t)/d - m2*sin(alpha(t) + theta[2])*sin(beta[2])**2*cos(alpha(t))**2*Derivative(alpha(t), (t, 2))/d + m2*sin(alpha(t) + theta[2])*sin(beta[2])*cos(alpha(t))**2*Derivative(nu1(t), t)/d - m2*sin(alpha(t) + theta[2])*cos(alpha(t))**2*cos(beta[2])**2*Derivative(alpha(t), (t, 2))/d - m2*sin(alpha(t) + theta[2])*cos(alpha(t))**2*cos(beta[2])*Derivative(nu2(t), t)/d + m2*sin(alpha(t))**2*sin(beta[0])**2*cos(alpha(t) + theta[0])*Derivative(alpha(t), (t, 2))/d - m2*sin(alpha(t))**2*sin(beta[0])**2*cos(beta[0] - theta[0])*Derivative(alpha(t), (t, 2))/d - m2*sin(alpha(t))**2*sin(beta[0])*cos(alpha(t) + theta[0])*Derivative(nu1(t), t)/d + m2*sin(alpha(t))**2*sin(beta[0])*cos(beta[0] - theta[0])*Derivative(nu1(t), t)/d + m2*sin(alpha(t))**2*sin(beta[1])**2*cos(alpha(t) + theta[1])*Derivative(alpha(t), (t, 2))/d - m2*sin(alpha(t))**2*sin(beta[1])**2*cos(beta[1] - theta[1])*Derivative(alpha(t), (t, 2))/d - m2*sin(alpha(t))**2*sin(beta[1])*cos(alpha(t) + theta[1])*Derivative(nu1(t), t)/d + m2*sin(alpha(t))**2*sin(beta[1])*cos(beta[1] - theta[1])*Derivative(nu1(t), t)/d + m2*sin(alpha(t))**2*sin(beta[2])**2*cos(alpha(t) + theta[2])*Derivative(alpha(t), (t, 2))/d - m2*sin(alpha(t))**2*sin(beta[2])**2*cos(beta[2] - theta[2])*Derivative(alpha(t), (t, 2))/d - m2*sin(alpha(t))**2*sin(beta[2])*cos(alpha(t) + theta[2])*Derivative(nu1(t), t)/d + m2*sin(alpha(t))**2*sin(beta[2])*cos(beta[2] - theta[2])*Derivative(nu1(t), t)/d + m2*sin(alpha(t))**2*cos(alpha(t) + theta[0])*cos(beta[0])**2*Derivative(alpha(t), (t, 2))/d + m2*sin(alpha(t))**2*cos(alpha(t) + theta[0])*cos(beta[0])*Derivative(nu2(t), t)/d + m2*sin(alpha(t))**2*cos(alpha(t) + theta[1])*cos(beta[1])**2*Derivative(alpha(t), (t, 2))/d + m2*sin(alpha(t))**2*cos(alpha(t) + theta[1])*cos(beta[1])*Derivative(nu2(t), t)/d + m2*sin(alpha(t))**2*cos(alpha(t) + theta[2])*cos(beta[2])**2*Derivative(alpha(t), (t, 2))/d + m2*sin(alpha(t))**2*cos(alpha(t) + theta[2])*cos(beta[2])*Derivative(nu2(t), t)/d - m2*sin(alpha(t))**2*cos(beta[0] - theta[0])*cos(beta[0])**2*Derivative(alpha(t), (t, 2))/d - m2*sin(alpha(t))**2*cos(beta[0] - theta[0])*cos(beta[0])*Derivative(nu2(t), t)/d - m2*sin(alpha(t))**2*cos(beta[1] - theta[1])*cos(beta[1])**2*Derivative(alpha(t), (t, 2))/d - m2*sin(alpha(t))**2*cos(beta[1] - theta[1])*cos(beta[1])*Derivative(nu2(t), t)/d - m2*sin(alpha(t))**2*cos(beta[2] - theta[2])*cos(beta[2])**2*Derivative(alpha(t), (t, 2))/d - m2*sin(alpha(t))**2*cos(beta[2] - theta[2])*cos(beta[2])*Derivative(nu2(t), t)/d + m2*sin(beta[0])**2*cos(alpha(t) + theta[0])*cos(alpha(t))**2*Derivative(alpha(t), (t, 2))/d - m2*sin(beta[0])**2*cos(beta[0] - theta[0])*cos(alpha(t))**2*Derivative(alpha(t), (t, 2))/d - m2*sin(beta[0])*cos(alpha(t) + theta[0])*cos(alpha(t))**2*Derivative(nu1(t), t)/d + m2*sin(beta[0])*cos(beta[0] - theta[0])*cos(alpha(t))**2*Derivative(nu1(t), t)/d + m2*sin(beta[1])**2*cos(alpha(t) + theta[1])*cos(alpha(t))**2*Derivative(alpha(t), (t, 2))/d - m2*sin(beta[1])**2*cos(beta[1] - theta[1])*cos(alpha(t))**2*Derivative(alpha(t), (t, 2))/d - m2*sin(beta[1])*cos(alpha(t) + theta[1])*cos(alpha(t))**2*Derivative(nu1(t), t)/d + m2*sin(beta[1])*cos(beta[1] - theta[1])*cos(alpha(t))**2*Derivative(nu1(t), t)/d + m2*sin(beta[2])**2*cos(alpha(t) + theta[2])*cos(alpha(t))**2*Derivative(alpha(t), (t, 2))/d - m2*sin(beta[2])**2*cos(beta[2] - theta[2])*cos(alpha(t))**2*Derivative(alpha(t), (t, 2))/d - m2*sin(beta[2])*cos(alpha(t) + theta[2])*cos(alpha(t))**2*Derivative(nu1(t), t)/d + m2*sin(beta[2])*cos(beta[2] - theta[2])*cos(alpha(t))**2*Derivative(nu1(t), t)/d + m2*cos(alpha(t) + theta[0])*cos(alpha(t))**2*cos(beta[0])**2*Derivative(alpha(t), (t, 2))/d + m2*cos(alpha(t) + theta[0])*cos(alpha(t))**2*cos(beta[0])*Derivative(nu2(t), t)/d + m2*cos(alpha(t) + theta[1])*cos(alpha(t))**2*cos(beta[1])**2*Derivative(alpha(t), (t, 2))/d + m2*cos(alpha(t) + theta[1])*cos(alpha(t))**2*cos(beta[1])*Derivative(nu2(t), t)/d + m2*cos(alpha(t) + theta[2])*cos(alpha(t))**2*cos(beta[2])**2*Derivative(alpha(t), (t, 2))/d + m2*cos(alpha(t) + theta[2])*cos(alpha(t))**2*cos(beta[2])*Derivative(nu2(t), t)/d - m2*cos(beta[0] - theta[0])*cos(alpha(t))**2*cos(beta[0])**2*Derivative(alpha(t), (t, 2))/d - m2*cos(beta[0] - theta[0])*cos(alpha(t))**2*cos(beta[0])*Derivative(nu2(t), t)/d - m2*cos(beta[1] - theta[1])*cos(alpha(t))**2*cos(beta[1])**2*Derivative(alpha(t), (t, 2))/d - m2*cos(beta[1] - theta[1])*cos(alpha(t))**2*cos(beta[1])*Derivative(nu2(t), t)/d - m2*cos(beta[2] - theta[2])*cos(alpha(t))**2*cos(beta[2])**2*Derivative(alpha(t), (t, 2))/d - m2*cos(beta[2] - theta[2])*cos(alpha(t))**2*cos(beta[2])*Derivative(nu2(t), t)/d"
      ]
     },
     "execution_count": 60,
     "metadata": {},
     "output_type": "execute_result"
    }
   ],
   "source": [
    "# poly_dalamber.coeff_monomial(delta['alpha']) + poly_dalamber.coeff_monomial(delta['x']) + poly_dalamber.coeff_monomial(delta['y'])"
   ]
  },
  {
   "cell_type": "code",
   "execution_count": 67,
   "metadata": {},
   "outputs": [
    {
     "data": {
      "text/plain": [
       "3"
      ]
     },
     "execution_count": 67,
     "metadata": {},
     "output_type": "execute_result"
    }
   ],
   "source": [
    "len(poly_dalamber)"
   ]
  },
  {
   "cell_type": "code",
   "execution_count": 69,
   "metadata": {},
   "outputs": [
    {
     "data": {
      "text/plain": [
       "3"
      ]
     },
     "execution_count": 69,
     "metadata": {},
     "output_type": "execute_result"
    }
   ],
   "source": [
    "# fuf, lul = symbols('fuf, lul')\n",
    "# mum = Poly(fuf*2 + 4*lul + 3, [fuf, lul])\n",
    "# len(mum.coeffs())"
   ]
  },
  {
   "cell_type": "code",
   "execution_count": 5,
   "metadata": {},
   "outputs": [],
   "source": [
    "s_dx = read_obj('dalamber_dx_coeff')\n",
    "s_dy = read_obj('dalamber_dy_coeff')\n",
    "s_dalpha = read_obj('dalamber_dalpha_coeff')"
   ]
  },
  {
   "cell_type": "code",
   "execution_count": 7,
   "metadata": {
    "collapsed": true
   },
   "outputs": [
    {
     "name": "stdout",
     "output_type": "stream",
     "text": [
      "-----\n",
      " -delta_x*(3*d*m1*r*(nu1(t)*sin(alpha(t))*Derivative(alpha(t), t) + nu2(t)*cos(alpha(t))*Derivative(alpha(t), t) + sin(alpha(t))*Derivative(nu2(t), t) - cos(alpha(t))*Derivative(nu1(t), t)) + d*(T1*cos(alpha(t) + theta[0]) + T2*cos(alpha(t) + theta[1]) + T3*cos(alpha(t) + theta[2])) + r*(-W1*sin(alpha(t) + theta[0]) - W2*sin(alpha(t) + theta[1]) - W3*sin(alpha(t) + theta[2]) + b*sin(alpha(t) + theta[0])*Derivative(alpha(t), (t, 2)) + b*sin(alpha(t) + theta[1])*Derivative(alpha(t), (t, 2)) + b*sin(alpha(t) + theta[2])*Derivative(alpha(t), (t, 2)) + m2*(d + sin(alpha(t) + beta[0])*sin(alpha(t) + theta[0]))*(d*(Derivative(alpha(t), t) + Derivative(theta[0], t))*cos(alpha(t) + theta[0])*Derivative(alpha(t), t) + d*sin(alpha(t) + theta[0])*Derivative(alpha(t), (t, 2)) + nu1(t)*sin(alpha(t))*Derivative(alpha(t), t) + nu2(t)*cos(alpha(t))*Derivative(alpha(t), t) + sin(alpha(t) + beta[0])*Derivative(alpha(t), (t, 2)) + sin(alpha(t))*Derivative(nu2(t), t) + cos(alpha(t) + beta[0])*Derivative(alpha(t), t)**2 - cos(alpha(t))*Derivative(nu1(t), t)) + m2*(d + sin(alpha(t) + beta[1])*sin(alpha(t) + theta[1]))*(d*(Derivative(alpha(t), t) + Derivative(theta[1], t))*cos(alpha(t) + theta[1])*Derivative(alpha(t), t) + d*sin(alpha(t) + theta[1])*Derivative(alpha(t), (t, 2)) + nu1(t)*sin(alpha(t))*Derivative(alpha(t), t) + nu2(t)*cos(alpha(t))*Derivative(alpha(t), t) + sin(alpha(t) + beta[1])*Derivative(alpha(t), (t, 2)) + sin(alpha(t))*Derivative(nu2(t), t) + cos(alpha(t) + beta[1])*Derivative(alpha(t), t)**2 - cos(alpha(t))*Derivative(nu1(t), t)) + m2*(d + sin(alpha(t) + beta[2])*sin(alpha(t) + theta[2]))*(d*(Derivative(alpha(t), t) + Derivative(theta[2], t))*cos(alpha(t) + theta[2])*Derivative(alpha(t), t) + d*sin(alpha(t) + theta[2])*Derivative(alpha(t), (t, 2)) + nu1(t)*sin(alpha(t))*Derivative(alpha(t), t) + nu2(t)*cos(alpha(t))*Derivative(alpha(t), t) + sin(alpha(t) + beta[2])*Derivative(alpha(t), (t, 2)) + sin(alpha(t))*Derivative(nu2(t), t) + cos(alpha(t) + beta[2])*Derivative(alpha(t), t)**2 - cos(alpha(t))*Derivative(nu1(t), t)) + m2*(-d*(Derivative(alpha(t), t) + Derivative(theta[0], t))*sin(alpha(t) + theta[0])*Derivative(alpha(t), t) + d*cos(alpha(t) + theta[0])*Derivative(alpha(t), (t, 2)) + nu1(t)*cos(alpha(t))*Derivative(alpha(t), t) - nu2(t)*sin(alpha(t))*Derivative(alpha(t), t) - sin(alpha(t) + beta[0])*Derivative(alpha(t), t)**2 + sin(alpha(t))*Derivative(nu1(t), t) + cos(alpha(t) + beta[0])*Derivative(alpha(t), (t, 2)) + cos(alpha(t))*Derivative(nu2(t), t))*sin(alpha(t) + theta[0])*cos(alpha(t) + beta[0]) + m2*(-d*(Derivative(alpha(t), t) + Derivative(theta[1], t))*sin(alpha(t) + theta[1])*Derivative(alpha(t), t) + d*cos(alpha(t) + theta[1])*Derivative(alpha(t), (t, 2)) + nu1(t)*cos(alpha(t))*Derivative(alpha(t), t) - nu2(t)*sin(alpha(t))*Derivative(alpha(t), t) - sin(alpha(t) + beta[1])*Derivative(alpha(t), t)**2 + sin(alpha(t))*Derivative(nu1(t), t) + cos(alpha(t) + beta[1])*Derivative(alpha(t), (t, 2)) + cos(alpha(t))*Derivative(nu2(t), t))*sin(alpha(t) + theta[1])*cos(alpha(t) + beta[1]) + m2*(-d*(Derivative(alpha(t), t) + Derivative(theta[2], t))*sin(alpha(t) + theta[2])*Derivative(alpha(t), t) + d*cos(alpha(t) + theta[2])*Derivative(alpha(t), (t, 2)) + nu1(t)*cos(alpha(t))*Derivative(alpha(t), t) - nu2(t)*sin(alpha(t))*Derivative(alpha(t), t) - sin(alpha(t) + beta[2])*Derivative(alpha(t), t)**2 + sin(alpha(t))*Derivative(nu1(t), t) + cos(alpha(t) + beta[2])*Derivative(alpha(t), (t, 2)) + cos(alpha(t))*Derivative(nu2(t), t))*sin(alpha(t) + theta[2])*cos(alpha(t) + beta[2])))/(d*delta_y*r)\n",
      "-----\n",
      " delta_y*(3*d*m1*r*(nu1(t)*cos(alpha(t))*Derivative(alpha(t), t) - nu2(t)*sin(alpha(t))*Derivative(alpha(t), t) + sin(alpha(t))*Derivative(nu1(t), t) + cos(alpha(t))*Derivative(nu2(t), t)) - d*(T1*sin(alpha(t) + theta[0]) + T2*sin(alpha(t) + theta[1]) + T3*sin(alpha(t) + theta[2])) + r*(-W1*cos(alpha(t) + theta[0]) - W2*cos(alpha(t) + theta[1]) - W3*cos(alpha(t) + theta[2]) + b*cos(alpha(t) + theta[0])*Derivative(alpha(t), (t, 2)) + b*cos(alpha(t) + theta[1])*Derivative(alpha(t), (t, 2)) + b*cos(alpha(t) + theta[2])*Derivative(alpha(t), (t, 2)) - m2*(d + cos(alpha(t) + beta[0])*cos(alpha(t) + theta[0]))*(d*(Derivative(alpha(t), t) + Derivative(theta[0], t))*sin(alpha(t) + theta[0])*Derivative(alpha(t), t) - d*cos(alpha(t) + theta[0])*Derivative(alpha(t), (t, 2)) - nu1(t)*cos(alpha(t))*Derivative(alpha(t), t) + nu2(t)*sin(alpha(t))*Derivative(alpha(t), t) + sin(alpha(t) + beta[0])*Derivative(alpha(t), t)**2 - sin(alpha(t))*Derivative(nu1(t), t) - cos(alpha(t) + beta[0])*Derivative(alpha(t), (t, 2)) - cos(alpha(t))*Derivative(nu2(t), t)) - m2*(d + cos(alpha(t) + beta[1])*cos(alpha(t) + theta[1]))*(d*(Derivative(alpha(t), t) + Derivative(theta[1], t))*sin(alpha(t) + theta[1])*Derivative(alpha(t), t) - d*cos(alpha(t) + theta[1])*Derivative(alpha(t), (t, 2)) - nu1(t)*cos(alpha(t))*Derivative(alpha(t), t) + nu2(t)*sin(alpha(t))*Derivative(alpha(t), t) + sin(alpha(t) + beta[1])*Derivative(alpha(t), t)**2 - sin(alpha(t))*Derivative(nu1(t), t) - cos(alpha(t) + beta[1])*Derivative(alpha(t), (t, 2)) - cos(alpha(t))*Derivative(nu2(t), t)) - m2*(d + cos(alpha(t) + beta[2])*cos(alpha(t) + theta[2]))*(d*(Derivative(alpha(t), t) + Derivative(theta[2], t))*sin(alpha(t) + theta[2])*Derivative(alpha(t), t) - d*cos(alpha(t) + theta[2])*Derivative(alpha(t), (t, 2)) - nu1(t)*cos(alpha(t))*Derivative(alpha(t), t) + nu2(t)*sin(alpha(t))*Derivative(alpha(t), t) + sin(alpha(t) + beta[2])*Derivative(alpha(t), t)**2 - sin(alpha(t))*Derivative(nu1(t), t) - cos(alpha(t) + beta[2])*Derivative(alpha(t), (t, 2)) - cos(alpha(t))*Derivative(nu2(t), t)) + m2*(d*(Derivative(alpha(t), t) + Derivative(theta[0], t))*cos(alpha(t) + theta[0])*Derivative(alpha(t), t) + d*sin(alpha(t) + theta[0])*Derivative(alpha(t), (t, 2)) + nu1(t)*sin(alpha(t))*Derivative(alpha(t), t) + nu2(t)*cos(alpha(t))*Derivative(alpha(t), t) + sin(alpha(t) + beta[0])*Derivative(alpha(t), (t, 2)) + sin(alpha(t))*Derivative(nu2(t), t) + cos(alpha(t) + beta[0])*Derivative(alpha(t), t)**2 - cos(alpha(t))*Derivative(nu1(t), t))*sin(alpha(t) + beta[0])*cos(alpha(t) + theta[0]) + m2*(d*(Derivative(alpha(t), t) + Derivative(theta[1], t))*cos(alpha(t) + theta[1])*Derivative(alpha(t), t) + d*sin(alpha(t) + theta[1])*Derivative(alpha(t), (t, 2)) + nu1(t)*sin(alpha(t))*Derivative(alpha(t), t) + nu2(t)*cos(alpha(t))*Derivative(alpha(t), t) + sin(alpha(t) + beta[1])*Derivative(alpha(t), (t, 2)) + sin(alpha(t))*Derivative(nu2(t), t) + cos(alpha(t) + beta[1])*Derivative(alpha(t), t)**2 - cos(alpha(t))*Derivative(nu1(t), t))*sin(alpha(t) + beta[1])*cos(alpha(t) + theta[1]) + m2*(d*(Derivative(alpha(t), t) + Derivative(theta[2], t))*cos(alpha(t) + theta[2])*Derivative(alpha(t), t) + d*sin(alpha(t) + theta[2])*Derivative(alpha(t), (t, 2)) + nu1(t)*sin(alpha(t))*Derivative(alpha(t), t) + nu2(t)*cos(alpha(t))*Derivative(alpha(t), t) + sin(alpha(t) + beta[2])*Derivative(alpha(t), (t, 2)) + sin(alpha(t))*Derivative(nu2(t), t) + cos(alpha(t) + beta[2])*Derivative(alpha(t), t)**2 - cos(alpha(t))*Derivative(nu1(t), t))*sin(alpha(t) + beta[2])*cos(alpha(t) + theta[2])))/(d*delta_x*r)\n",
      "-----\n",
      " (d*r*(W1 + W2 + W3 + 3*a*Derivative(alpha(t), (t, 2))) - d*(T1*sin(beta[0] - theta[0]) + T2*sin(beta[1] - theta[1]) + T3*sin(beta[2] - theta[2])) + r*(W1*cos(beta[0] - theta[0]) + W2*cos(beta[1] - theta[1]) + W3*cos(beta[2] - theta[2]) - b*cos(beta[0] - theta[0])*Derivative(alpha(t), (t, 2)) - b*cos(beta[1] - theta[1])*Derivative(alpha(t), (t, 2)) - b*cos(beta[2] - theta[2])*Derivative(alpha(t), (t, 2)) - m2*(d - cos(beta[0] - theta[0]))*(d*(Derivative(alpha(t), t) + Derivative(theta[0], t))*sin(alpha(t) + theta[0])*Derivative(alpha(t), t) - d*cos(alpha(t) + theta[0])*Derivative(alpha(t), (t, 2)) - nu1(t)*cos(alpha(t))*Derivative(alpha(t), t) + nu2(t)*sin(alpha(t))*Derivative(alpha(t), t) + sin(alpha(t) + beta[0])*Derivative(alpha(t), t)**2 - sin(alpha(t))*Derivative(nu1(t), t) - cos(alpha(t) + beta[0])*Derivative(alpha(t), (t, 2)) - cos(alpha(t))*Derivative(nu2(t), t))*cos(alpha(t) + beta[0]) + m2*(d - cos(beta[0] - theta[0]))*(d*(Derivative(alpha(t), t) + Derivative(theta[0], t))*cos(alpha(t) + theta[0])*Derivative(alpha(t), t) + d*sin(alpha(t) + theta[0])*Derivative(alpha(t), (t, 2)) + nu1(t)*sin(alpha(t))*Derivative(alpha(t), t) + nu2(t)*cos(alpha(t))*Derivative(alpha(t), t) + sin(alpha(t) + beta[0])*Derivative(alpha(t), (t, 2)) + sin(alpha(t))*Derivative(nu2(t), t) + cos(alpha(t) + beta[0])*Derivative(alpha(t), t)**2 - cos(alpha(t))*Derivative(nu1(t), t))*sin(alpha(t) + beta[0]) - m2*(d - cos(beta[1] - theta[1]))*(d*(Derivative(alpha(t), t) + Derivative(theta[1], t))*sin(alpha(t) + theta[1])*Derivative(alpha(t), t) - d*cos(alpha(t) + theta[1])*Derivative(alpha(t), (t, 2)) - nu1(t)*cos(alpha(t))*Derivative(alpha(t), t) + nu2(t)*sin(alpha(t))*Derivative(alpha(t), t) + sin(alpha(t) + beta[1])*Derivative(alpha(t), t)**2 - sin(alpha(t))*Derivative(nu1(t), t) - cos(alpha(t) + beta[1])*Derivative(alpha(t), (t, 2)) - cos(alpha(t))*Derivative(nu2(t), t))*cos(alpha(t) + beta[1]) + m2*(d - cos(beta[1] - theta[1]))*(d*(Derivative(alpha(t), t) + Derivative(theta[1], t))*cos(alpha(t) + theta[1])*Derivative(alpha(t), t) + d*sin(alpha(t) + theta[1])*Derivative(alpha(t), (t, 2)) + nu1(t)*sin(alpha(t))*Derivative(alpha(t), t) + nu2(t)*cos(alpha(t))*Derivative(alpha(t), t) + sin(alpha(t) + beta[1])*Derivative(alpha(t), (t, 2)) + sin(alpha(t))*Derivative(nu2(t), t) + cos(alpha(t) + beta[1])*Derivative(alpha(t), t)**2 - cos(alpha(t))*Derivative(nu1(t), t))*sin(alpha(t) + beta[1]) - m2*(d - cos(beta[2] - theta[2]))*(d*(Derivative(alpha(t), t) + Derivative(theta[2], t))*sin(alpha(t) + theta[2])*Derivative(alpha(t), t) - d*cos(alpha(t) + theta[2])*Derivative(alpha(t), (t, 2)) - nu1(t)*cos(alpha(t))*Derivative(alpha(t), t) + nu2(t)*sin(alpha(t))*Derivative(alpha(t), t) + sin(alpha(t) + beta[2])*Derivative(alpha(t), t)**2 - sin(alpha(t))*Derivative(nu1(t), t) - cos(alpha(t) + beta[2])*Derivative(alpha(t), (t, 2)) - cos(alpha(t))*Derivative(nu2(t), t))*cos(alpha(t) + beta[2]) + m2*(d - cos(beta[2] - theta[2]))*(d*(Derivative(alpha(t), t) + Derivative(theta[2], t))*cos(alpha(t) + theta[2])*Derivative(alpha(t), t) + d*sin(alpha(t) + theta[2])*Derivative(alpha(t), (t, 2)) + nu1(t)*sin(alpha(t))*Derivative(alpha(t), t) + nu2(t)*cos(alpha(t))*Derivative(alpha(t), t) + sin(alpha(t) + beta[2])*Derivative(alpha(t), (t, 2)) + sin(alpha(t))*Derivative(nu2(t), t) + cos(alpha(t) + beta[2])*Derivative(alpha(t), t)**2 - cos(alpha(t))*Derivative(nu1(t), t))*sin(alpha(t) + beta[2])))/(d*r)\n"
     ]
    }
   ],
   "source": [
    "print('-----\\n', s_dx)\n",
    "print('-----\\n', s_dy)\n",
    "print('-----\\n', s_dalpha)"
   ]
  },
  {
   "cell_type": "code",
   "execution_count": 74,
   "metadata": {},
   "outputs": [],
   "source": [
    "coeff[delta['x']] = s_dx\n",
    "coeff[delta['y']] = s_dy\n",
    "coeff[delta['alpha']] = s_dalpha"
   ]
  },
  {
   "cell_type": "code",
   "execution_count": 75,
   "metadata": {},
   "outputs": [],
   "source": [
    "# %%time\n",
    "\n",
    "res_poly_dx = Poly(coeff[delta['x']], [Derivative(nu[1],t), Derivative(nu[2],t), Derivative(alpha,t,2)])\n",
    "res_poly_dy = Poly(coeff[delta['y']], [Derivative(nu[1],t), Derivative(nu[2],t), Derivative(alpha,t,2)])\n",
    "res_poly_dalpha = Poly(coeff[delta['alpha']], [Derivative(nu[1],t), Derivative(nu[2],t), Derivative(alpha,t,2)])\n"
   ]
  },
  {
   "cell_type": "code",
   "execution_count": 26,
   "metadata": {},
   "outputs": [],
   "source": [
    "# %%time\n",
    "# res_poly_dx = Poly(coeff[delta['x']], [Derivative(nu[1],t), Derivative(nu[2],t), Derivative(alpha,t,2)])"
   ]
  },
  {
   "cell_type": "code",
   "execution_count": 27,
   "metadata": {
    "collapsed": true
   },
   "outputs": [
    {
     "name": "stdout",
     "output_type": "stream",
     "text": [
      "Poly((-4*m2*sin(beta[0]) - 4*m2*sin(beta[1]) - 4*m2*sin(beta[2]))*Derivative(nu1(t), t) + (4*m2*cos(beta[0]) + 4*m2*cos(beta[1]) + 4*m2*cos(beta[2]))*Derivative(nu2(t), t) + (3*a + 6*b + 4*d*m2*cos(beta[0] - theta[0]) + 4*d*m2*cos(beta[1] - theta[1]) + 4*d*m2*cos(beta[2] - theta[2]) + 12*m2)*Derivative(alpha(t), (t, 2)) + 3*W + 6*d*m2*sin(beta[0] - theta[0])*Derivative(alpha(t), t)**2 + 6*d*m2*sin(beta[1] - theta[1])*Derivative(alpha(t), t)**2 + 6*d*m2*sin(beta[2] - theta[2])*Derivative(alpha(t), t)**2 + 2*m2*nu1(t)*sin(beta[0] - theta[0])*sin(theta[0])*Derivative(alpha(t), t) + 2*m2*nu1(t)*sin(beta[1] - theta[1])*sin(theta[1])*Derivative(alpha(t), t) + 2*m2*nu1(t)*sin(beta[2] - theta[2])*sin(theta[2])*Derivative(alpha(t), t) + 4*m2*nu1(t)*cos(beta[0])*Derivative(alpha(t), t) + 4*m2*nu1(t)*cos(beta[1])*Derivative(alpha(t), t) + 4*m2*nu1(t)*cos(beta[2])*Derivative(alpha(t), t) + 2*m2*nu2(t)*sin(beta[0])*Derivative(alpha(t), t) + 2*m2*nu2(t)*sin(beta[1])*Derivative(alpha(t), t) + 2*m2*nu2(t)*sin(beta[2])*Derivative(alpha(t), t) + 2*m2*nu2(t)*sin(theta[0])*cos(beta[0] - theta[0])*Derivative(alpha(t), t) + 2*m2*nu2(t)*sin(theta[1])*cos(beta[1] - theta[1])*Derivative(alpha(t), t) + 2*m2*nu2(t)*sin(theta[2])*cos(beta[2] - theta[2])*Derivative(alpha(t), t) + 8*m2*sin(beta[0] - theta[0])*sin(beta[0])*sin(theta[0])*Derivative(alpha(t), t)**2 + 8*m2*sin(beta[1] - theta[1])*sin(beta[1])*sin(theta[1])*Derivative(alpha(t), t)**2 + 8*m2*sin(beta[2] - theta[2])*sin(beta[2])*sin(theta[2])*Derivative(alpha(t), t)**2 + 4*m2*sin(beta[0])*cos(beta[0])*Derivative(alpha(t), t)**2 + 4*m2*sin(beta[1])*cos(beta[1])*Derivative(alpha(t), t)**2 + 4*m2*sin(beta[2])*cos(beta[2])*Derivative(alpha(t), t)**2 - 4*m2*sin(theta[0])*cos(theta[0])*Derivative(alpha(t), t)**2 - 4*m2*sin(theta[1])*cos(theta[1])*Derivative(alpha(t), t)**2 - 4*m2*sin(theta[2])*cos(theta[2])*Derivative(alpha(t), t)**2 + 2*m2*nu1(t)*sin(beta[0] - theta[0])*sin(theta[0])*cos(beta[0] - theta[0])*Derivative(alpha(t), t)/d + 2*m2*nu1(t)*sin(beta[1] - theta[1])*sin(theta[1])*cos(beta[1] - theta[1])*Derivative(alpha(t), t)/d + 2*m2*nu1(t)*sin(beta[2] - theta[2])*sin(theta[2])*cos(beta[2] - theta[2])*Derivative(alpha(t), t)/d - 4*m2*nu2(t)*sin(beta[0])**2*sin(theta[0])*Derivative(alpha(t), t)/d + 4*m2*nu2(t)*sin(beta[0])*sin(theta[0])**2*cos(beta[0] - theta[0])*Derivative(alpha(t), t)/d - 2*m2*nu2(t)*sin(beta[0])*cos(beta[0])*cos(theta[0])*Derivative(alpha(t), t)/d - 4*m2*nu2(t)*sin(beta[1])**2*sin(theta[1])*Derivative(alpha(t), t)/d + 4*m2*nu2(t)*sin(beta[1])*sin(theta[1])**2*cos(beta[1] - theta[1])*Derivative(alpha(t), t)/d - 2*m2*nu2(t)*sin(beta[1])*cos(beta[1])*cos(theta[1])*Derivative(alpha(t), t)/d - 4*m2*nu2(t)*sin(beta[2])**2*sin(theta[2])*Derivative(alpha(t), t)/d + 4*m2*nu2(t)*sin(beta[2])*sin(theta[2])**2*cos(beta[2] - theta[2])*Derivative(alpha(t), t)/d - 2*m2*nu2(t)*sin(beta[2])*cos(beta[2])*cos(theta[2])*Derivative(alpha(t), t)/d - 2*m2*nu2(t)*sin(theta[0])**3*Derivative(alpha(t), t)/d + 2*m2*nu2(t)*sin(theta[0])*Derivative(alpha(t), t)/d - 2*m2*nu2(t)*sin(theta[1])**3*Derivative(alpha(t), t)/d + 2*m2*nu2(t)*sin(theta[1])*Derivative(alpha(t), t)/d - 2*m2*nu2(t)*sin(theta[2])**3*Derivative(alpha(t), t)/d + 2*m2*nu2(t)*sin(theta[2])*Derivative(alpha(t), t)/d - 2*m2*sin(beta[0] - theta[0])*sin(beta[0])**2*Derivative(alpha(t), t)**2/d + 4*m2*sin(beta[0] - theta[0])*sin(beta[0])*sin(theta[0])*cos(beta[0] - theta[0])*Derivative(alpha(t), t)**2/d - 2*m2*sin(beta[0] - theta[0])*sin(theta[0])**2*Derivative(alpha(t), t)**2/d + 2*m2*sin(beta[0] - theta[0])*Derivative(alpha(t), t)**2/d - 2*m2*sin(beta[1] - theta[1])*sin(beta[1])**2*Derivative(alpha(t), t)**2/d + 4*m2*sin(beta[1] - theta[1])*sin(beta[1])*sin(theta[1])*cos(beta[1] - theta[1])*Derivative(alpha(t), t)**2/d - 2*m2*sin(beta[1] - theta[1])*sin(theta[1])**2*Derivative(alpha(t), t)**2/d + 2*m2*sin(beta[1] - theta[1])*Derivative(alpha(t), t)**2/d - 2*m2*sin(beta[2] - theta[2])*sin(beta[2])**2*Derivative(alpha(t), t)**2/d + 4*m2*sin(beta[2] - theta[2])*sin(beta[2])*sin(theta[2])*cos(beta[2] - theta[2])*Derivative(alpha(t), t)**2/d - 2*m2*sin(beta[2] - theta[2])*sin(theta[2])**2*Derivative(alpha(t), t)**2/d + 2*m2*sin(beta[2] - theta[2])*Derivative(alpha(t), t)**2/d, Derivative(nu1(t), t), Derivative(nu2(t), t), Derivative(alpha(t), (t, 2)), domain='EX')\n"
     ]
    }
   ],
   "source": [
    "# CHECK YOURSELF\n",
    "\n",
    "# print(res_poly_dx)\n",
    "# print(pa(res_poly_dy))\n",
    "print(res_poly_dalpha)"
   ]
  },
  {
   "cell_type": "code",
   "execution_count": 28,
   "metadata": {
    "collapsed": true
   },
   "outputs": [
    {
     "name": "stdout",
     "output_type": "stream",
     "text": [
      "{Derivative(alpha(t), t), theta[2], beta[0], d, m2, alpha(t), beta[1], Derivative(alpha(t), (t, 2)), theta[0], m1, beta, beta[2], theta[1], theta, t}\n",
      "None\n",
      "{Derivative(alpha(t), t), theta[2], beta[0], d, m2, alpha(t), beta[1], Derivative(alpha(t), (t, 2)), theta[0], m1, beta, beta[2], theta[1], theta, t}\n",
      "None\n",
      "{Derivative(alpha(t), t), theta[2], a, theta[0], beta[2], theta[1], beta[0], d, W, alpha(t), beta[1], b, Derivative(alpha(t), (t, 2)), beta, m2, theta, t}\n",
      "None\n"
     ]
    }
   ],
   "source": [
    "print(pa(res_poly_dx))\n",
    "print(pa(res_poly_dy))\n",
    "print(pa(res_poly_dalpha))"
   ]
  },
  {
   "cell_type": "code",
   "execution_count": 76,
   "metadata": {},
   "outputs": [
    {
     "name": "stdout",
     "output_type": "stream",
     "text": [
      "4\n",
      "4\n",
      "4\n"
     ]
    }
   ],
   "source": [
    "# CHECK YOURSELF\n",
    "\n",
    "print(len(res_poly_dx.coeffs()))\n",
    "print(len(res_poly_dy.coeffs()))\n",
    "print(len(res_poly_dalpha.coeffs()))"
   ]
  },
  {
   "cell_type": "code",
   "execution_count": 56,
   "metadata": {
    "collapsed": true
   },
   "outputs": [
    {
     "data": {
      "text/plain": [
       "Poly((3*m1*cos(alpha(t)) + 6*m2*cos(alpha(t)))*Derivative(nu1(t), t) + (-3*m1*sin(alpha(t)) - 6*m2*sin(alpha(t)))*Derivative(nu2(t), t) + (-2*d*m2*sin(alpha(t) + theta[0]) - 2*d*m2*sin(alpha(t) + theta[1]) - 2*d*m2*sin(alpha(t) + theta[2]) - 2*m2*sin(alpha(t) + beta[0]) - 2*m2*sin(alpha(t) + beta[1]) - 2*m2*sin(alpha(t) + beta[2]))*Derivative(alpha(t), (t, 2)) - 2*d*m2*cos(alpha(t) + theta[0])*Derivative(alpha(t), t)**2 - 2*d*m2*cos(alpha(t) + theta[1])*Derivative(alpha(t), t)**2 - 2*d*m2*cos(alpha(t) + theta[2])*Derivative(alpha(t), t)**2 - 3*m1*nu1(t)*sin(alpha(t))*Derivative(alpha(t), t) - 3*m1*nu2(t)*cos(alpha(t))*Derivative(alpha(t), t) - 6*m2*nu1(t)*sin(alpha(t))*Derivative(alpha(t), t) - 6*m2*nu2(t)*cos(alpha(t))*Derivative(alpha(t), t) + 2*m2*sin(alpha(t) + theta[0])*sin(beta[0] - theta[0])*Derivative(alpha(t), t)**2 + 2*m2*sin(alpha(t) + theta[1])*sin(beta[1] - theta[1])*Derivative(alpha(t), t)**2 + 2*m2*sin(alpha(t) + theta[2])*sin(beta[2] - theta[2])*Derivative(alpha(t), t)**2 - 2*m2*cos(alpha(t) + beta[0])*Derivative(alpha(t), t)**2 - 2*m2*cos(alpha(t) + beta[1])*Derivative(alpha(t), t)**2 - 2*m2*cos(alpha(t) + beta[2])*Derivative(alpha(t), t)**2 + 2*m2*nu1(t)*sin(alpha(t) + theta[0])*sin(beta[0] - theta[0])*sin(theta[0])*Derivative(alpha(t), t)/d + 2*m2*nu1(t)*sin(alpha(t) + theta[1])*sin(beta[1] - theta[1])*sin(theta[1])*Derivative(alpha(t), t)/d + 2*m2*nu1(t)*sin(alpha(t) + theta[2])*sin(beta[2] - theta[2])*sin(theta[2])*Derivative(alpha(t), t)/d - 2*m2*nu2(t)*sin(alpha(t) + theta[0])*sin(beta[0])*Derivative(alpha(t), t)/d + 2*m2*nu2(t)*sin(alpha(t) + theta[0])*sin(theta[0])*cos(beta[0] - theta[0])*Derivative(alpha(t), t)/d - 2*m2*nu2(t)*sin(alpha(t) + theta[1])*sin(beta[1])*Derivative(alpha(t), t)/d + 2*m2*nu2(t)*sin(alpha(t) + theta[1])*sin(theta[1])*cos(beta[1] - theta[1])*Derivative(alpha(t), t)/d - 2*m2*nu2(t)*sin(alpha(t) + theta[2])*sin(beta[2])*Derivative(alpha(t), t)/d + 2*m2*nu2(t)*sin(alpha(t) + theta[2])*sin(theta[2])*cos(beta[2] - theta[2])*Derivative(alpha(t), t)/d + 2*m2*sin(beta[0] - theta[0])*sin(beta[0])*sin(theta[0])**2*cos(alpha(t))*Derivative(alpha(t), t)**2/d + 2*m2*sin(beta[1] - theta[1])*sin(beta[1])*sin(theta[1])**2*cos(alpha(t))*Derivative(alpha(t), t)**2/d + 2*m2*sin(beta[2] - theta[2])*sin(beta[2])*sin(theta[2])**2*cos(alpha(t))*Derivative(alpha(t), t)**2/d - 2*m2*sin(alpha(t) - beta[0] + theta[0])*sin(theta[0])*cos(beta[0])*cos(theta[0])*Derivative(alpha(t), t)**2/d - 2*m2*sin(alpha(t) - beta[1] + theta[1])*sin(theta[1])*cos(beta[1])*cos(theta[1])*Derivative(alpha(t), t)**2/d - 2*m2*sin(alpha(t) - beta[2] + theta[2])*sin(theta[2])*cos(beta[2])*cos(theta[2])*Derivative(alpha(t), t)**2/d + 2*m2*sin(alpha(t))*sin(beta[0])*cos(beta[0] - theta[0])*cos(theta[0])**2*Derivative(alpha(t), t)**2/d + 2*m2*sin(alpha(t))*sin(beta[1])*cos(beta[1] - theta[1])*cos(theta[1])**2*Derivative(alpha(t), t)**2/d + 2*m2*sin(alpha(t))*sin(beta[2])*cos(beta[2] - theta[2])*cos(theta[2])**2*Derivative(alpha(t), t)**2/d, Derivative(nu1(t), t), Derivative(nu2(t), t), Derivative(alpha(t), (t, 2)), domain='EX')"
      ]
     },
     "execution_count": 56,
     "metadata": {},
     "output_type": "execute_result"
    }
   ],
   "source": [
    "res_poly_dx"
   ]
  },
  {
   "cell_type": "code",
   "execution_count": 57,
   "metadata": {
    "collapsed": true
   },
   "outputs": [
    {
     "data": {
      "text/plain": [
       "Poly((3*m1*sin(alpha(t)) + 6*m2*sin(alpha(t)))*Derivative(nu1(t), t) + (3*m1*cos(alpha(t)) + 6*m2*cos(alpha(t)))*Derivative(nu2(t), t) + (2*d*m2*cos(alpha(t) + theta[0]) + 2*d*m2*cos(alpha(t) + theta[1]) + 2*d*m2*cos(alpha(t) + theta[2]) + 2*m2*cos(alpha(t) + beta[0]) + 2*m2*cos(alpha(t) + beta[1]) + 2*m2*cos(alpha(t) + beta[2]))*Derivative(alpha(t), (t, 2)) - 2*d*m2*sin(alpha(t) + theta[0])*Derivative(alpha(t), t)**2 - 2*d*m2*sin(alpha(t) + theta[1])*Derivative(alpha(t), t)**2 - 2*d*m2*sin(alpha(t) + theta[2])*Derivative(alpha(t), t)**2 + 3*m1*nu1(t)*cos(alpha(t))*Derivative(alpha(t), t) - 3*m1*nu2(t)*sin(alpha(t))*Derivative(alpha(t), t) + 6*m2*nu1(t)*cos(alpha(t))*Derivative(alpha(t), t) - 6*m2*nu2(t)*sin(alpha(t))*Derivative(alpha(t), t) - 2*m2*sin(alpha(t) + beta[0])*Derivative(alpha(t), t)**2 - 2*m2*sin(alpha(t) + beta[1])*Derivative(alpha(t), t)**2 - 2*m2*sin(alpha(t) + beta[2])*Derivative(alpha(t), t)**2 - 2*m2*sin(beta[0] - theta[0])*cos(alpha(t) + theta[0])*Derivative(alpha(t), t)**2 - 2*m2*sin(beta[1] - theta[1])*cos(alpha(t) + theta[1])*Derivative(alpha(t), t)**2 - 2*m2*sin(beta[2] - theta[2])*cos(alpha(t) + theta[2])*Derivative(alpha(t), t)**2 - 2*m2*nu1(t)*sin(beta[0] - theta[0])*sin(theta[0])*cos(alpha(t) + theta[0])*Derivative(alpha(t), t)/d - 2*m2*nu1(t)*sin(beta[1] - theta[1])*sin(theta[1])*cos(alpha(t) + theta[1])*Derivative(alpha(t), t)/d - 2*m2*nu1(t)*sin(beta[2] - theta[2])*sin(theta[2])*cos(alpha(t) + theta[2])*Derivative(alpha(t), t)/d + 2*m2*nu2(t)*sin(beta[0])*cos(alpha(t) + theta[0])*Derivative(alpha(t), t)/d + 2*m2*nu2(t)*sin(beta[1])*cos(alpha(t) + theta[1])*Derivative(alpha(t), t)/d + 2*m2*nu2(t)*sin(beta[2])*cos(alpha(t) + theta[2])*Derivative(alpha(t), t)/d - 2*m2*nu2(t)*sin(theta[0])*cos(alpha(t) + theta[0])*cos(beta[0] - theta[0])*Derivative(alpha(t), t)/d - 2*m2*nu2(t)*sin(theta[1])*cos(alpha(t) + theta[1])*cos(beta[1] - theta[1])*Derivative(alpha(t), t)/d - 2*m2*nu2(t)*sin(theta[2])*cos(alpha(t) + theta[2])*cos(beta[2] - theta[2])*Derivative(alpha(t), t)/d - 2*m2*sin(beta[0] - theta[0])*cos(alpha(t) + theta[0])*cos(beta[0] - theta[0])*Derivative(alpha(t), t)**2/d - 2*m2*sin(beta[1] - theta[1])*cos(alpha(t) + theta[1])*cos(beta[1] - theta[1])*Derivative(alpha(t), t)**2/d - 2*m2*sin(beta[2] - theta[2])*cos(alpha(t) + theta[2])*cos(beta[2] - theta[2])*Derivative(alpha(t), t)**2/d, Derivative(nu1(t), t), Derivative(nu2(t), t), Derivative(alpha(t), (t, 2)), domain='EX')"
      ]
     },
     "execution_count": 57,
     "metadata": {},
     "output_type": "execute_result"
    }
   ],
   "source": [
    "res_poly_dy"
   ]
  },
  {
   "cell_type": "code",
   "execution_count": 58,
   "metadata": {
    "collapsed": true
   },
   "outputs": [
    {
     "data": {
      "text/plain": [
       "Poly((-4*m2*sin(beta[0]) - 4*m2*sin(beta[1]) - 4*m2*sin(beta[2]))*Derivative(nu1(t), t) + (4*m2*cos(beta[0]) + 4*m2*cos(beta[1]) + 4*m2*cos(beta[2]))*Derivative(nu2(t), t) + (3*a + 6*b + 4*d*m2*cos(beta[0] - theta[0]) + 4*d*m2*cos(beta[1] - theta[1]) + 4*d*m2*cos(beta[2] - theta[2]) + 12*m2)*Derivative(alpha(t), (t, 2)) + 6*d*m2*sin(beta[0] - theta[0])*Derivative(alpha(t), t)**2 + 6*d*m2*sin(beta[1] - theta[1])*Derivative(alpha(t), t)**2 + 6*d*m2*sin(beta[2] - theta[2])*Derivative(alpha(t), t)**2 + 2*m2*nu1(t)*sin(beta[0] - theta[0])*sin(theta[0])*Derivative(alpha(t), t) + 2*m2*nu1(t)*sin(beta[1] - theta[1])*sin(theta[1])*Derivative(alpha(t), t) + 2*m2*nu1(t)*sin(beta[2] - theta[2])*sin(theta[2])*Derivative(alpha(t), t) + 4*m2*nu1(t)*cos(beta[0])*Derivative(alpha(t), t) + 4*m2*nu1(t)*cos(beta[1])*Derivative(alpha(t), t) + 4*m2*nu1(t)*cos(beta[2])*Derivative(alpha(t), t) + 2*m2*nu2(t)*sin(beta[0])*Derivative(alpha(t), t) + 2*m2*nu2(t)*sin(beta[1])*Derivative(alpha(t), t) + 2*m2*nu2(t)*sin(beta[2])*Derivative(alpha(t), t) + 2*m2*nu2(t)*sin(theta[0])*cos(beta[0] - theta[0])*Derivative(alpha(t), t) + 2*m2*nu2(t)*sin(theta[1])*cos(beta[1] - theta[1])*Derivative(alpha(t), t) + 2*m2*nu2(t)*sin(theta[2])*cos(beta[2] - theta[2])*Derivative(alpha(t), t) + 8*m2*sin(beta[0] - theta[0])*sin(beta[0])*sin(theta[0])*Derivative(alpha(t), t)**2 + 8*m2*sin(beta[1] - theta[1])*sin(beta[1])*sin(theta[1])*Derivative(alpha(t), t)**2 + 8*m2*sin(beta[2] - theta[2])*sin(beta[2])*sin(theta[2])*Derivative(alpha(t), t)**2 + 4*m2*sin(beta[0])*cos(beta[0])*Derivative(alpha(t), t)**2 + 4*m2*sin(beta[1])*cos(beta[1])*Derivative(alpha(t), t)**2 + 4*m2*sin(beta[2])*cos(beta[2])*Derivative(alpha(t), t)**2 - 4*m2*sin(theta[0])*cos(theta[0])*Derivative(alpha(t), t)**2 - 4*m2*sin(theta[1])*cos(theta[1])*Derivative(alpha(t), t)**2 - 4*m2*sin(theta[2])*cos(theta[2])*Derivative(alpha(t), t)**2 + W[0] + W[1] + W[2] + 2*m2*nu1(t)*sin(beta[0] - theta[0])*sin(theta[0])*cos(beta[0] - theta[0])*Derivative(alpha(t), t)/d + 2*m2*nu1(t)*sin(beta[1] - theta[1])*sin(theta[1])*cos(beta[1] - theta[1])*Derivative(alpha(t), t)/d + 2*m2*nu1(t)*sin(beta[2] - theta[2])*sin(theta[2])*cos(beta[2] - theta[2])*Derivative(alpha(t), t)/d - 4*m2*nu2(t)*sin(beta[0])**2*sin(theta[0])*Derivative(alpha(t), t)/d + 4*m2*nu2(t)*sin(beta[0])*sin(theta[0])**2*cos(beta[0] - theta[0])*Derivative(alpha(t), t)/d - 2*m2*nu2(t)*sin(beta[0])*cos(beta[0])*cos(theta[0])*Derivative(alpha(t), t)/d - 4*m2*nu2(t)*sin(beta[1])**2*sin(theta[1])*Derivative(alpha(t), t)/d + 4*m2*nu2(t)*sin(beta[1])*sin(theta[1])**2*cos(beta[1] - theta[1])*Derivative(alpha(t), t)/d - 2*m2*nu2(t)*sin(beta[1])*cos(beta[1])*cos(theta[1])*Derivative(alpha(t), t)/d - 4*m2*nu2(t)*sin(beta[2])**2*sin(theta[2])*Derivative(alpha(t), t)/d + 4*m2*nu2(t)*sin(beta[2])*sin(theta[2])**2*cos(beta[2] - theta[2])*Derivative(alpha(t), t)/d - 2*m2*nu2(t)*sin(beta[2])*cos(beta[2])*cos(theta[2])*Derivative(alpha(t), t)/d - 2*m2*nu2(t)*sin(theta[0])**3*Derivative(alpha(t), t)/d + 2*m2*nu2(t)*sin(theta[0])*Derivative(alpha(t), t)/d - 2*m2*nu2(t)*sin(theta[1])**3*Derivative(alpha(t), t)/d + 2*m2*nu2(t)*sin(theta[1])*Derivative(alpha(t), t)/d - 2*m2*nu2(t)*sin(theta[2])**3*Derivative(alpha(t), t)/d + 2*m2*nu2(t)*sin(theta[2])*Derivative(alpha(t), t)/d - 2*m2*sin(beta[0] - theta[0])*sin(beta[0])**2*Derivative(alpha(t), t)**2/d + 4*m2*sin(beta[0] - theta[0])*sin(beta[0])*sin(theta[0])*cos(beta[0] - theta[0])*Derivative(alpha(t), t)**2/d - 2*m2*sin(beta[0] - theta[0])*sin(theta[0])**2*Derivative(alpha(t), t)**2/d + 2*m2*sin(beta[0] - theta[0])*Derivative(alpha(t), t)**2/d - 2*m2*sin(beta[1] - theta[1])*sin(beta[1])**2*Derivative(alpha(t), t)**2/d + 4*m2*sin(beta[1] - theta[1])*sin(beta[1])*sin(theta[1])*cos(beta[1] - theta[1])*Derivative(alpha(t), t)**2/d - 2*m2*sin(beta[1] - theta[1])*sin(theta[1])**2*Derivative(alpha(t), t)**2/d + 2*m2*sin(beta[1] - theta[1])*Derivative(alpha(t), t)**2/d - 2*m2*sin(beta[2] - theta[2])*sin(beta[2])**2*Derivative(alpha(t), t)**2/d + 4*m2*sin(beta[2] - theta[2])*sin(beta[2])*sin(theta[2])*cos(beta[2] - theta[2])*Derivative(alpha(t), t)**2/d - 2*m2*sin(beta[2] - theta[2])*sin(theta[2])**2*Derivative(alpha(t), t)**2/d + 2*m2*sin(beta[2] - theta[2])*Derivative(alpha(t), t)**2/d, Derivative(nu1(t), t), Derivative(nu2(t), t), Derivative(alpha(t), (t, 2)), domain='EX')"
      ]
     },
     "execution_count": 58,
     "metadata": {},
     "output_type": "execute_result"
    }
   ],
   "source": [
    "res_poly_dalpha"
   ]
  },
  {
   "cell_type": "code",
   "execution_count": 77,
   "metadata": {
    "scrolled": false
   },
   "outputs": [],
   "source": [
    "# система уравнений left*[nu1', nu2', alpha''] = right\n",
    "\n",
    "left = Matrix([res_poly_dx.coeffs()[:3],\n",
    "               res_poly_dy.coeffs()[:3],\n",
    "               res_poly_dalpha.coeffs()[:3]])\n",
    "right = Matrix([res_poly_dx.coeffs()[-1],\n",
    "                res_poly_dy.coeffs()[-1],\n",
    "                res_poly_dalpha.coeffs()[-1]])"
   ]
  },
  {
   "cell_type": "code",
   "execution_count": 80,
   "metadata": {},
   "outputs": [
    {
     "ename": "KeyboardInterrupt",
     "evalue": "",
     "output_type": "error",
     "traceback": [
      "\u001b[1;31m---------------------------------------------------------------------------\u001b[0m",
      "\u001b[1;31mKeyboardInterrupt\u001b[0m                         Traceback (most recent call last)",
      "\u001b[1;32m<ipython-input-80-b102f2893ffd>\u001b[0m in \u001b[0;36m<module>\u001b[1;34m\u001b[0m\n\u001b[1;32m----> 1\u001b[1;33m \u001b[0mleft_inv\u001b[0m \u001b[1;33m=\u001b[0m \u001b[0mleft\u001b[0m\u001b[1;33m.\u001b[0m\u001b[0minv\u001b[0m\u001b[1;33m(\u001b[0m\u001b[1;33m)\u001b[0m\u001b[1;33m\u001b[0m\u001b[1;33m\u001b[0m\u001b[0m\n\u001b[0m",
      "\u001b[1;32mc:\\users\\alice\\appdata\\local\\programs\\python\\python36\\lib\\site-packages\\sympy\\matrices\\matrices.py\u001b[0m in \u001b[0;36minv\u001b[1;34m(self, method, **kwargs)\u001b[0m\n\u001b[0;32m   2916\u001b[0m         \u001b[1;32mif\u001b[0m \u001b[0mmethod\u001b[0m \u001b[1;32mis\u001b[0m \u001b[1;32mnot\u001b[0m \u001b[1;32mNone\u001b[0m\u001b[1;33m:\u001b[0m\u001b[1;33m\u001b[0m\u001b[1;33m\u001b[0m\u001b[0m\n\u001b[0;32m   2917\u001b[0m             \u001b[0mkwargs\u001b[0m\u001b[1;33m[\u001b[0m\u001b[1;34m'method'\u001b[0m\u001b[1;33m]\u001b[0m \u001b[1;33m=\u001b[0m \u001b[0mmethod\u001b[0m\u001b[1;33m\u001b[0m\u001b[1;33m\u001b[0m\u001b[0m\n\u001b[1;32m-> 2918\u001b[1;33m         \u001b[1;32mreturn\u001b[0m \u001b[0mself\u001b[0m\u001b[1;33m.\u001b[0m\u001b[0m_eval_inverse\u001b[0m\u001b[1;33m(\u001b[0m\u001b[1;33m**\u001b[0m\u001b[0mkwargs\u001b[0m\u001b[1;33m)\u001b[0m\u001b[1;33m\u001b[0m\u001b[1;33m\u001b[0m\u001b[0m\n\u001b[0m\u001b[0;32m   2919\u001b[0m \u001b[1;33m\u001b[0m\u001b[0m\n\u001b[0;32m   2920\u001b[0m     \u001b[1;32mdef\u001b[0m \u001b[0mis_nilpotent\u001b[0m\u001b[1;33m(\u001b[0m\u001b[0mself\u001b[0m\u001b[1;33m)\u001b[0m\u001b[1;33m:\u001b[0m\u001b[1;33m\u001b[0m\u001b[1;33m\u001b[0m\u001b[0m\n",
      "\u001b[1;32mc:\\users\\alice\\appdata\\local\\programs\\python\\python36\\lib\\site-packages\\sympy\\matrices\\dense.py\u001b[0m in \u001b[0;36m_eval_inverse\u001b[1;34m(self, **kwargs)\u001b[0m\n\u001b[0;32m    264\u001b[0m         \u001b[0mM\u001b[0m \u001b[1;33m=\u001b[0m \u001b[0mself\u001b[0m\u001b[1;33m.\u001b[0m\u001b[0mas_mutable\u001b[0m\u001b[1;33m(\u001b[0m\u001b[1;33m)\u001b[0m\u001b[1;33m\u001b[0m\u001b[1;33m\u001b[0m\u001b[0m\n\u001b[0;32m    265\u001b[0m         \u001b[1;32mif\u001b[0m \u001b[0mmethod\u001b[0m \u001b[1;33m==\u001b[0m \u001b[1;34m\"GE\"\u001b[0m\u001b[1;33m:\u001b[0m\u001b[1;33m\u001b[0m\u001b[1;33m\u001b[0m\u001b[0m\n\u001b[1;32m--> 266\u001b[1;33m             \u001b[0mrv\u001b[0m \u001b[1;33m=\u001b[0m \u001b[0mM\u001b[0m\u001b[1;33m.\u001b[0m\u001b[0minverse_GE\u001b[0m\u001b[1;33m(\u001b[0m\u001b[0miszerofunc\u001b[0m\u001b[1;33m=\u001b[0m\u001b[0miszerofunc\u001b[0m\u001b[1;33m)\u001b[0m\u001b[1;33m\u001b[0m\u001b[1;33m\u001b[0m\u001b[0m\n\u001b[0m\u001b[0;32m    267\u001b[0m         \u001b[1;32melif\u001b[0m \u001b[0mmethod\u001b[0m \u001b[1;33m==\u001b[0m \u001b[1;34m\"LU\"\u001b[0m\u001b[1;33m:\u001b[0m\u001b[1;33m\u001b[0m\u001b[1;33m\u001b[0m\u001b[0m\n\u001b[0;32m    268\u001b[0m             \u001b[0mrv\u001b[0m \u001b[1;33m=\u001b[0m \u001b[0mM\u001b[0m\u001b[1;33m.\u001b[0m\u001b[0minverse_LU\u001b[0m\u001b[1;33m(\u001b[0m\u001b[0miszerofunc\u001b[0m\u001b[1;33m=\u001b[0m\u001b[0miszerofunc\u001b[0m\u001b[1;33m)\u001b[0m\u001b[1;33m\u001b[0m\u001b[1;33m\u001b[0m\u001b[0m\n",
      "\u001b[1;32mc:\\users\\alice\\appdata\\local\\programs\\python\\python36\\lib\\site-packages\\sympy\\matrices\\matrices.py\u001b[0m in \u001b[0;36minverse_GE\u001b[1;34m(self, iszerofunc)\u001b[0m\n\u001b[0;32m   2829\u001b[0m \u001b[1;33m\u001b[0m\u001b[0m\n\u001b[0;32m   2830\u001b[0m         \u001b[0mbig\u001b[0m \u001b[1;33m=\u001b[0m \u001b[0mMatrix\u001b[0m\u001b[1;33m.\u001b[0m\u001b[0mhstack\u001b[0m\u001b[1;33m(\u001b[0m\u001b[0mself\u001b[0m\u001b[1;33m.\u001b[0m\u001b[0mas_mutable\u001b[0m\u001b[1;33m(\u001b[0m\u001b[1;33m)\u001b[0m\u001b[1;33m,\u001b[0m \u001b[0mMatrix\u001b[0m\u001b[1;33m.\u001b[0m\u001b[0meye\u001b[0m\u001b[1;33m(\u001b[0m\u001b[0mself\u001b[0m\u001b[1;33m.\u001b[0m\u001b[0mrows\u001b[0m\u001b[1;33m)\u001b[0m\u001b[1;33m)\u001b[0m\u001b[1;33m\u001b[0m\u001b[1;33m\u001b[0m\u001b[0m\n\u001b[1;32m-> 2831\u001b[1;33m         \u001b[0mred\u001b[0m \u001b[1;33m=\u001b[0m \u001b[0mbig\u001b[0m\u001b[1;33m.\u001b[0m\u001b[0mrref\u001b[0m\u001b[1;33m(\u001b[0m\u001b[0miszerofunc\u001b[0m\u001b[1;33m=\u001b[0m\u001b[0miszerofunc\u001b[0m\u001b[1;33m,\u001b[0m \u001b[0msimplify\u001b[0m\u001b[1;33m=\u001b[0m\u001b[1;32mTrue\u001b[0m\u001b[1;33m)\u001b[0m\u001b[1;33m[\u001b[0m\u001b[1;36m0\u001b[0m\u001b[1;33m]\u001b[0m\u001b[1;33m\u001b[0m\u001b[1;33m\u001b[0m\u001b[0m\n\u001b[0m\u001b[0;32m   2832\u001b[0m         \u001b[1;32mif\u001b[0m \u001b[0many\u001b[0m\u001b[1;33m(\u001b[0m\u001b[0miszerofunc\u001b[0m\u001b[1;33m(\u001b[0m\u001b[0mred\u001b[0m\u001b[1;33m[\u001b[0m\u001b[0mj\u001b[0m\u001b[1;33m,\u001b[0m \u001b[0mj\u001b[0m\u001b[1;33m]\u001b[0m\u001b[1;33m)\u001b[0m \u001b[1;32mfor\u001b[0m \u001b[0mj\u001b[0m \u001b[1;32min\u001b[0m \u001b[0mrange\u001b[0m\u001b[1;33m(\u001b[0m\u001b[0mred\u001b[0m\u001b[1;33m.\u001b[0m\u001b[0mrows\u001b[0m\u001b[1;33m)\u001b[0m\u001b[1;33m)\u001b[0m\u001b[1;33m:\u001b[0m\u001b[1;33m\u001b[0m\u001b[1;33m\u001b[0m\u001b[0m\n\u001b[0;32m   2833\u001b[0m             \u001b[1;32mraise\u001b[0m \u001b[0mValueError\u001b[0m\u001b[1;33m(\u001b[0m\u001b[1;34m\"Matrix det == 0; not invertible.\"\u001b[0m\u001b[1;33m)\u001b[0m\u001b[1;33m\u001b[0m\u001b[1;33m\u001b[0m\u001b[0m\n",
      "\u001b[1;32mc:\\users\\alice\\appdata\\local\\programs\\python\\python36\\lib\\site-packages\\sympy\\matrices\\matrices.py\u001b[0m in \u001b[0;36mrref\u001b[1;34m(self, iszerofunc, simplify, pivots, normalize_last)\u001b[0m\n\u001b[0;32m    891\u001b[0m         ret, pivot_cols = self._eval_rref(iszerofunc=iszerofunc,\n\u001b[0;32m    892\u001b[0m                                           \u001b[0msimpfunc\u001b[0m\u001b[1;33m=\u001b[0m\u001b[0msimpfunc\u001b[0m\u001b[1;33m,\u001b[0m\u001b[1;33m\u001b[0m\u001b[1;33m\u001b[0m\u001b[0m\n\u001b[1;32m--> 893\u001b[1;33m                                           normalize_last=normalize_last)\n\u001b[0m\u001b[0;32m    894\u001b[0m         \u001b[1;32mif\u001b[0m \u001b[0mpivots\u001b[0m\u001b[1;33m:\u001b[0m\u001b[1;33m\u001b[0m\u001b[1;33m\u001b[0m\u001b[0m\n\u001b[0;32m    895\u001b[0m             \u001b[0mret\u001b[0m \u001b[1;33m=\u001b[0m \u001b[1;33m(\u001b[0m\u001b[0mret\u001b[0m\u001b[1;33m,\u001b[0m \u001b[0mpivot_cols\u001b[0m\u001b[1;33m)\u001b[0m\u001b[1;33m\u001b[0m\u001b[1;33m\u001b[0m\u001b[0m\n",
      "\u001b[1;32mc:\\users\\alice\\appdata\\local\\programs\\python\\python36\\lib\\site-packages\\sympy\\matrices\\matrices.py\u001b[0m in \u001b[0;36m_eval_rref\u001b[1;34m(self, iszerofunc, simpfunc, normalize_last)\u001b[0m\n\u001b[0;32m    546\u001b[0m         reduced, pivot_cols, swaps = self._row_reduce(iszerofunc, simpfunc,\n\u001b[0;32m    547\u001b[0m                                                       \u001b[0mnormalize_last\u001b[0m\u001b[1;33m,\u001b[0m \u001b[0mnormalize\u001b[0m\u001b[1;33m=\u001b[0m\u001b[1;32mTrue\u001b[0m\u001b[1;33m,\u001b[0m\u001b[1;33m\u001b[0m\u001b[1;33m\u001b[0m\u001b[0m\n\u001b[1;32m--> 548\u001b[1;33m                                                       zero_above=True)\n\u001b[0m\u001b[0;32m    549\u001b[0m         \u001b[1;32mreturn\u001b[0m \u001b[0mreduced\u001b[0m\u001b[1;33m,\u001b[0m \u001b[0mpivot_cols\u001b[0m\u001b[1;33m\u001b[0m\u001b[1;33m\u001b[0m\u001b[0m\n\u001b[0;32m    550\u001b[0m \u001b[1;33m\u001b[0m\u001b[0m\n",
      "\u001b[1;32mc:\\users\\alice\\appdata\\local\\programs\\python\\python36\\lib\\site-packages\\sympy\\matrices\\matrices.py\u001b[0m in \u001b[0;36m_row_reduce\u001b[1;34m(self, iszerofunc, simpfunc, normalize_last, normalize, zero_above)\u001b[0m\n\u001b[0;32m    662\u001b[0m             \u001b[0mpivot_offset\u001b[0m\u001b[1;33m,\u001b[0m \u001b[0mpivot_val\u001b[0m\u001b[1;33m,\u001b[0m\u001b[0;31m \u001b[0m\u001b[0;31m\\\u001b[0m\u001b[1;33m\u001b[0m\u001b[1;33m\u001b[0m\u001b[0m\n\u001b[0;32m    663\u001b[0m             assumed_nonzero, newly_determined = _find_reasonable_pivot(\n\u001b[1;32m--> 664\u001b[1;33m                 get_col(piv_col)[piv_row:], iszerofunc, simpfunc)\n\u001b[0m\u001b[0;32m    665\u001b[0m \u001b[1;33m\u001b[0m\u001b[0m\n\u001b[0;32m    666\u001b[0m             \u001b[1;31m# _find_reasonable_pivot may have simplified some things\u001b[0m\u001b[1;33m\u001b[0m\u001b[1;33m\u001b[0m\u001b[1;33m\u001b[0m\u001b[0m\n",
      "\u001b[1;32mc:\\users\\alice\\appdata\\local\\programs\\python\\python36\\lib\\site-packages\\sympy\\matrices\\matrices.py\u001b[0m in \u001b[0;36m_find_reasonable_pivot\u001b[1;34m(col, iszerofunc, simpfunc)\u001b[0m\n\u001b[0;32m   4218\u001b[0m         \u001b[1;32mif\u001b[0m \u001b[0mpossible_zeros\u001b[0m\u001b[1;33m[\u001b[0m\u001b[0mi\u001b[0m\u001b[1;33m]\u001b[0m \u001b[1;32mis\u001b[0m \u001b[1;32mnot\u001b[0m \u001b[1;32mNone\u001b[0m\u001b[1;33m:\u001b[0m\u001b[1;33m\u001b[0m\u001b[1;33m\u001b[0m\u001b[0m\n\u001b[0;32m   4219\u001b[0m             \u001b[1;32mcontinue\u001b[0m\u001b[1;33m\u001b[0m\u001b[1;33m\u001b[0m\u001b[0m\n\u001b[1;32m-> 4220\u001b[1;33m         \u001b[0msimped\u001b[0m \u001b[1;33m=\u001b[0m \u001b[0msimpfunc\u001b[0m\u001b[1;33m(\u001b[0m\u001b[0mx\u001b[0m\u001b[1;33m)\u001b[0m\u001b[1;33m\u001b[0m\u001b[1;33m\u001b[0m\u001b[0m\n\u001b[0m\u001b[0;32m   4221\u001b[0m         \u001b[0mis_zero\u001b[0m \u001b[1;33m=\u001b[0m \u001b[0miszerofunc\u001b[0m\u001b[1;33m(\u001b[0m\u001b[0msimped\u001b[0m\u001b[1;33m)\u001b[0m\u001b[1;33m\u001b[0m\u001b[1;33m\u001b[0m\u001b[0m\n\u001b[0;32m   4222\u001b[0m         \u001b[1;32mif\u001b[0m \u001b[0mis_zero\u001b[0m \u001b[1;33m==\u001b[0m \u001b[1;32mTrue\u001b[0m \u001b[1;32mor\u001b[0m \u001b[0mis_zero\u001b[0m \u001b[1;33m==\u001b[0m \u001b[1;32mFalse\u001b[0m\u001b[1;33m:\u001b[0m\u001b[1;33m\u001b[0m\u001b[1;33m\u001b[0m\u001b[0m\n",
      "\u001b[1;32mc:\\users\\alice\\appdata\\local\\programs\\python\\python36\\lib\\site-packages\\sympy\\simplify\\simplify.py\u001b[0m in \u001b[0;36msimplify\u001b[1;34m(expr, ratio, measure, rational, inverse)\u001b[0m\n\u001b[0;32m    585\u001b[0m \u001b[1;33m\u001b[0m\u001b[0m\n\u001b[0;32m    586\u001b[0m     \u001b[1;32mif\u001b[0m \u001b[0mexpr\u001b[0m\u001b[1;33m.\u001b[0m\u001b[0mhas\u001b[0m\u001b[1;33m(\u001b[0m\u001b[0mTrigonometricFunction\u001b[0m\u001b[1;33m,\u001b[0m \u001b[0mHyperbolicFunction\u001b[0m\u001b[1;33m)\u001b[0m\u001b[1;33m:\u001b[0m\u001b[1;33m\u001b[0m\u001b[1;33m\u001b[0m\u001b[0m\n\u001b[1;32m--> 587\u001b[1;33m         \u001b[0mexpr\u001b[0m \u001b[1;33m=\u001b[0m \u001b[0mtrigsimp\u001b[0m\u001b[1;33m(\u001b[0m\u001b[0mexpr\u001b[0m\u001b[1;33m,\u001b[0m \u001b[0mdeep\u001b[0m\u001b[1;33m=\u001b[0m\u001b[1;32mTrue\u001b[0m\u001b[1;33m)\u001b[0m\u001b[1;33m\u001b[0m\u001b[1;33m\u001b[0m\u001b[0m\n\u001b[0m\u001b[0;32m    588\u001b[0m \u001b[1;33m\u001b[0m\u001b[0m\n\u001b[0;32m    589\u001b[0m     \u001b[1;32mif\u001b[0m \u001b[0mexpr\u001b[0m\u001b[1;33m.\u001b[0m\u001b[0mhas\u001b[0m\u001b[1;33m(\u001b[0m\u001b[0mlog\u001b[0m\u001b[1;33m)\u001b[0m\u001b[1;33m:\u001b[0m\u001b[1;33m\u001b[0m\u001b[1;33m\u001b[0m\u001b[0m\n",
      "\u001b[1;32mc:\\users\\alice\\appdata\\local\\programs\\python\\python36\\lib\\site-packages\\sympy\\simplify\\trigsimp.py\u001b[0m in \u001b[0;36mtrigsimp\u001b[1;34m(expr, **opts)\u001b[0m\n\u001b[0;32m    511\u001b[0m                    }[method]\n\u001b[0;32m    512\u001b[0m \u001b[1;33m\u001b[0m\u001b[0m\n\u001b[1;32m--> 513\u001b[1;33m     \u001b[1;32mreturn\u001b[0m \u001b[0mtrigsimpfunc\u001b[0m\u001b[1;33m(\u001b[0m\u001b[0mexpr\u001b[0m\u001b[1;33m)\u001b[0m\u001b[1;33m\u001b[0m\u001b[1;33m\u001b[0m\u001b[0m\n\u001b[0m\u001b[0;32m    514\u001b[0m \u001b[1;33m\u001b[0m\u001b[0m\n\u001b[0;32m    515\u001b[0m \u001b[1;33m\u001b[0m\u001b[0m\n",
      "\u001b[1;32mc:\\users\\alice\\appdata\\local\\programs\\python\\python36\\lib\\site-packages\\sympy\\simplify\\trigsimp.py\u001b[0m in \u001b[0;36m<lambda>\u001b[1;34m(x)\u001b[0m\n\u001b[0;32m    504\u001b[0m     trigsimpfunc = {\n\u001b[0;32m    505\u001b[0m         \u001b[1;34m'fu'\u001b[0m\u001b[1;33m:\u001b[0m \u001b[1;33m(\u001b[0m\u001b[1;32mlambda\u001b[0m \u001b[0mx\u001b[0m\u001b[1;33m:\u001b[0m \u001b[0mfu\u001b[0m\u001b[1;33m(\u001b[0m\u001b[0mx\u001b[0m\u001b[1;33m,\u001b[0m \u001b[1;33m**\u001b[0m\u001b[0mopts\u001b[0m\u001b[1;33m)\u001b[0m\u001b[1;33m)\u001b[0m\u001b[1;33m,\u001b[0m\u001b[1;33m\u001b[0m\u001b[1;33m\u001b[0m\u001b[0m\n\u001b[1;32m--> 506\u001b[1;33m         \u001b[1;34m'matching'\u001b[0m\u001b[1;33m:\u001b[0m \u001b[1;33m(\u001b[0m\u001b[1;32mlambda\u001b[0m \u001b[0mx\u001b[0m\u001b[1;33m:\u001b[0m \u001b[0mfutrig\u001b[0m\u001b[1;33m(\u001b[0m\u001b[0mx\u001b[0m\u001b[1;33m)\u001b[0m\u001b[1;33m)\u001b[0m\u001b[1;33m,\u001b[0m\u001b[1;33m\u001b[0m\u001b[1;33m\u001b[0m\u001b[0m\n\u001b[0m\u001b[0;32m    507\u001b[0m         \u001b[1;34m'groebner'\u001b[0m\u001b[1;33m:\u001b[0m \u001b[1;33m(\u001b[0m\u001b[1;32mlambda\u001b[0m \u001b[0mx\u001b[0m\u001b[1;33m:\u001b[0m \u001b[0mgroebnersimp\u001b[0m\u001b[1;33m(\u001b[0m\u001b[0mx\u001b[0m\u001b[1;33m,\u001b[0m \u001b[1;33m**\u001b[0m\u001b[0mopts\u001b[0m\u001b[1;33m)\u001b[0m\u001b[1;33m)\u001b[0m\u001b[1;33m,\u001b[0m\u001b[1;33m\u001b[0m\u001b[1;33m\u001b[0m\u001b[0m\n\u001b[0;32m    508\u001b[0m         'combined': (lambda x: futrig(groebnersimp(x,\n",
      "\u001b[1;32mc:\\users\\alice\\appdata\\local\\programs\\python\\python36\\lib\\site-packages\\sympy\\simplify\\trigsimp.py\u001b[0m in \u001b[0;36mfutrig\u001b[1;34m(e, **kwargs)\u001b[0m\n\u001b[0;32m   1096\u001b[0m \u001b[1;33m\u001b[0m\u001b[0m\n\u001b[0;32m   1097\u001b[0m     \u001b[0mold\u001b[0m \u001b[1;33m=\u001b[0m \u001b[0me\u001b[0m\u001b[1;33m\u001b[0m\u001b[1;33m\u001b[0m\u001b[0m\n\u001b[1;32m-> 1098\u001b[1;33m     \u001b[0me\u001b[0m \u001b[1;33m=\u001b[0m \u001b[0mbottom_up\u001b[0m\u001b[1;33m(\u001b[0m\u001b[0me\u001b[0m\u001b[1;33m,\u001b[0m \u001b[1;32mlambda\u001b[0m \u001b[0mx\u001b[0m\u001b[1;33m:\u001b[0m \u001b[0m_futrig\u001b[0m\u001b[1;33m(\u001b[0m\u001b[0mx\u001b[0m\u001b[1;33m,\u001b[0m \u001b[1;33m**\u001b[0m\u001b[0mkwargs\u001b[0m\u001b[1;33m)\u001b[0m\u001b[1;33m)\u001b[0m\u001b[1;33m\u001b[0m\u001b[1;33m\u001b[0m\u001b[0m\n\u001b[0m\u001b[0;32m   1099\u001b[0m \u001b[1;33m\u001b[0m\u001b[0m\n\u001b[0;32m   1100\u001b[0m     \u001b[1;32mif\u001b[0m \u001b[0mkwargs\u001b[0m\u001b[1;33m.\u001b[0m\u001b[0mpop\u001b[0m\u001b[1;33m(\u001b[0m\u001b[1;34m'hyper'\u001b[0m\u001b[1;33m,\u001b[0m \u001b[1;32mTrue\u001b[0m\u001b[1;33m)\u001b[0m \u001b[1;32mand\u001b[0m \u001b[0me\u001b[0m\u001b[1;33m.\u001b[0m\u001b[0mhas\u001b[0m\u001b[1;33m(\u001b[0m\u001b[0mHyperbolicFunction\u001b[0m\u001b[1;33m)\u001b[0m\u001b[1;33m:\u001b[0m\u001b[1;33m\u001b[0m\u001b[1;33m\u001b[0m\u001b[0m\n",
      "\u001b[1;32mc:\\users\\alice\\appdata\\local\\programs\\python\\python36\\lib\\site-packages\\sympy\\simplify\\simplify.py\u001b[0m in \u001b[0;36mbottom_up\u001b[1;34m(rv, F, atoms, nonbasic)\u001b[0m\n\u001b[0;32m   1085\u001b[0m         \u001b[1;32mif\u001b[0m \u001b[0mrv\u001b[0m\u001b[1;33m.\u001b[0m\u001b[0margs\u001b[0m\u001b[1;33m:\u001b[0m\u001b[1;33m\u001b[0m\u001b[1;33m\u001b[0m\u001b[0m\n\u001b[0;32m   1086\u001b[0m             args = tuple([bottom_up(a, F, atoms, nonbasic)\n\u001b[1;32m-> 1087\u001b[1;33m                 for a in rv.args])\n\u001b[0m\u001b[0;32m   1088\u001b[0m             \u001b[1;32mif\u001b[0m \u001b[0margs\u001b[0m \u001b[1;33m!=\u001b[0m \u001b[0mrv\u001b[0m\u001b[1;33m.\u001b[0m\u001b[0margs\u001b[0m\u001b[1;33m:\u001b[0m\u001b[1;33m\u001b[0m\u001b[1;33m\u001b[0m\u001b[0m\n\u001b[0;32m   1089\u001b[0m                 \u001b[0mrv\u001b[0m \u001b[1;33m=\u001b[0m \u001b[0mrv\u001b[0m\u001b[1;33m.\u001b[0m\u001b[0mfunc\u001b[0m\u001b[1;33m(\u001b[0m\u001b[1;33m*\u001b[0m\u001b[0margs\u001b[0m\u001b[1;33m)\u001b[0m\u001b[1;33m\u001b[0m\u001b[1;33m\u001b[0m\u001b[0m\n",
      "\u001b[1;32mc:\\users\\alice\\appdata\\local\\programs\\python\\python36\\lib\\site-packages\\sympy\\simplify\\simplify.py\u001b[0m in \u001b[0;36m<listcomp>\u001b[1;34m(.0)\u001b[0m\n\u001b[0;32m   1085\u001b[0m         \u001b[1;32mif\u001b[0m \u001b[0mrv\u001b[0m\u001b[1;33m.\u001b[0m\u001b[0margs\u001b[0m\u001b[1;33m:\u001b[0m\u001b[1;33m\u001b[0m\u001b[1;33m\u001b[0m\u001b[0m\n\u001b[0;32m   1086\u001b[0m             args = tuple([bottom_up(a, F, atoms, nonbasic)\n\u001b[1;32m-> 1087\u001b[1;33m                 for a in rv.args])\n\u001b[0m\u001b[0;32m   1088\u001b[0m             \u001b[1;32mif\u001b[0m \u001b[0margs\u001b[0m \u001b[1;33m!=\u001b[0m \u001b[0mrv\u001b[0m\u001b[1;33m.\u001b[0m\u001b[0margs\u001b[0m\u001b[1;33m:\u001b[0m\u001b[1;33m\u001b[0m\u001b[1;33m\u001b[0m\u001b[0m\n\u001b[0;32m   1089\u001b[0m                 \u001b[0mrv\u001b[0m \u001b[1;33m=\u001b[0m \u001b[0mrv\u001b[0m\u001b[1;33m.\u001b[0m\u001b[0mfunc\u001b[0m\u001b[1;33m(\u001b[0m\u001b[1;33m*\u001b[0m\u001b[0margs\u001b[0m\u001b[1;33m)\u001b[0m\u001b[1;33m\u001b[0m\u001b[1;33m\u001b[0m\u001b[0m\n",
      "\u001b[1;32mc:\\users\\alice\\appdata\\local\\programs\\python\\python36\\lib\\site-packages\\sympy\\simplify\\simplify.py\u001b[0m in \u001b[0;36mbottom_up\u001b[1;34m(rv, F, atoms, nonbasic)\u001b[0m\n\u001b[0;32m   1085\u001b[0m         \u001b[1;32mif\u001b[0m \u001b[0mrv\u001b[0m\u001b[1;33m.\u001b[0m\u001b[0margs\u001b[0m\u001b[1;33m:\u001b[0m\u001b[1;33m\u001b[0m\u001b[1;33m\u001b[0m\u001b[0m\n\u001b[0;32m   1086\u001b[0m             args = tuple([bottom_up(a, F, atoms, nonbasic)\n\u001b[1;32m-> 1087\u001b[1;33m                 for a in rv.args])\n\u001b[0m\u001b[0;32m   1088\u001b[0m             \u001b[1;32mif\u001b[0m \u001b[0margs\u001b[0m \u001b[1;33m!=\u001b[0m \u001b[0mrv\u001b[0m\u001b[1;33m.\u001b[0m\u001b[0margs\u001b[0m\u001b[1;33m:\u001b[0m\u001b[1;33m\u001b[0m\u001b[1;33m\u001b[0m\u001b[0m\n\u001b[0;32m   1089\u001b[0m                 \u001b[0mrv\u001b[0m \u001b[1;33m=\u001b[0m \u001b[0mrv\u001b[0m\u001b[1;33m.\u001b[0m\u001b[0mfunc\u001b[0m\u001b[1;33m(\u001b[0m\u001b[1;33m*\u001b[0m\u001b[0margs\u001b[0m\u001b[1;33m)\u001b[0m\u001b[1;33m\u001b[0m\u001b[1;33m\u001b[0m\u001b[0m\n",
      "\u001b[1;32mc:\\users\\alice\\appdata\\local\\programs\\python\\python36\\lib\\site-packages\\sympy\\simplify\\simplify.py\u001b[0m in \u001b[0;36m<listcomp>\u001b[1;34m(.0)\u001b[0m\n\u001b[0;32m   1085\u001b[0m         \u001b[1;32mif\u001b[0m \u001b[0mrv\u001b[0m\u001b[1;33m.\u001b[0m\u001b[0margs\u001b[0m\u001b[1;33m:\u001b[0m\u001b[1;33m\u001b[0m\u001b[1;33m\u001b[0m\u001b[0m\n\u001b[0;32m   1086\u001b[0m             args = tuple([bottom_up(a, F, atoms, nonbasic)\n\u001b[1;32m-> 1087\u001b[1;33m                 for a in rv.args])\n\u001b[0m\u001b[0;32m   1088\u001b[0m             \u001b[1;32mif\u001b[0m \u001b[0margs\u001b[0m \u001b[1;33m!=\u001b[0m \u001b[0mrv\u001b[0m\u001b[1;33m.\u001b[0m\u001b[0margs\u001b[0m\u001b[1;33m:\u001b[0m\u001b[1;33m\u001b[0m\u001b[1;33m\u001b[0m\u001b[0m\n\u001b[0;32m   1089\u001b[0m                 \u001b[0mrv\u001b[0m \u001b[1;33m=\u001b[0m \u001b[0mrv\u001b[0m\u001b[1;33m.\u001b[0m\u001b[0mfunc\u001b[0m\u001b[1;33m(\u001b[0m\u001b[1;33m*\u001b[0m\u001b[0margs\u001b[0m\u001b[1;33m)\u001b[0m\u001b[1;33m\u001b[0m\u001b[1;33m\u001b[0m\u001b[0m\n",
      "\u001b[1;32mc:\\users\\alice\\appdata\\local\\programs\\python\\python36\\lib\\site-packages\\sympy\\simplify\\simplify.py\u001b[0m in \u001b[0;36mbottom_up\u001b[1;34m(rv, F, atoms, nonbasic)\u001b[0m\n\u001b[0;32m   1088\u001b[0m             \u001b[1;32mif\u001b[0m \u001b[0margs\u001b[0m \u001b[1;33m!=\u001b[0m \u001b[0mrv\u001b[0m\u001b[1;33m.\u001b[0m\u001b[0margs\u001b[0m\u001b[1;33m:\u001b[0m\u001b[1;33m\u001b[0m\u001b[1;33m\u001b[0m\u001b[0m\n\u001b[0;32m   1089\u001b[0m                 \u001b[0mrv\u001b[0m \u001b[1;33m=\u001b[0m \u001b[0mrv\u001b[0m\u001b[1;33m.\u001b[0m\u001b[0mfunc\u001b[0m\u001b[1;33m(\u001b[0m\u001b[1;33m*\u001b[0m\u001b[0margs\u001b[0m\u001b[1;33m)\u001b[0m\u001b[1;33m\u001b[0m\u001b[1;33m\u001b[0m\u001b[0m\n\u001b[1;32m-> 1090\u001b[1;33m             \u001b[0mrv\u001b[0m \u001b[1;33m=\u001b[0m \u001b[0mF\u001b[0m\u001b[1;33m(\u001b[0m\u001b[0mrv\u001b[0m\u001b[1;33m)\u001b[0m\u001b[1;33m\u001b[0m\u001b[1;33m\u001b[0m\u001b[0m\n\u001b[0m\u001b[0;32m   1091\u001b[0m         \u001b[1;32melif\u001b[0m \u001b[0matoms\u001b[0m\u001b[1;33m:\u001b[0m\u001b[1;33m\u001b[0m\u001b[1;33m\u001b[0m\u001b[0m\n\u001b[0;32m   1092\u001b[0m             \u001b[0mrv\u001b[0m \u001b[1;33m=\u001b[0m \u001b[0mF\u001b[0m\u001b[1;33m(\u001b[0m\u001b[0mrv\u001b[0m\u001b[1;33m)\u001b[0m\u001b[1;33m\u001b[0m\u001b[1;33m\u001b[0m\u001b[0m\n",
      "\u001b[1;32mc:\\users\\alice\\appdata\\local\\programs\\python\\python36\\lib\\site-packages\\sympy\\simplify\\trigsimp.py\u001b[0m in \u001b[0;36m<lambda>\u001b[1;34m(x)\u001b[0m\n\u001b[0;32m   1096\u001b[0m \u001b[1;33m\u001b[0m\u001b[0m\n\u001b[0;32m   1097\u001b[0m     \u001b[0mold\u001b[0m \u001b[1;33m=\u001b[0m \u001b[0me\u001b[0m\u001b[1;33m\u001b[0m\u001b[1;33m\u001b[0m\u001b[0m\n\u001b[1;32m-> 1098\u001b[1;33m     \u001b[0me\u001b[0m \u001b[1;33m=\u001b[0m \u001b[0mbottom_up\u001b[0m\u001b[1;33m(\u001b[0m\u001b[0me\u001b[0m\u001b[1;33m,\u001b[0m \u001b[1;32mlambda\u001b[0m \u001b[0mx\u001b[0m\u001b[1;33m:\u001b[0m \u001b[0m_futrig\u001b[0m\u001b[1;33m(\u001b[0m\u001b[0mx\u001b[0m\u001b[1;33m,\u001b[0m \u001b[1;33m**\u001b[0m\u001b[0mkwargs\u001b[0m\u001b[1;33m)\u001b[0m\u001b[1;33m)\u001b[0m\u001b[1;33m\u001b[0m\u001b[1;33m\u001b[0m\u001b[0m\n\u001b[0m\u001b[0;32m   1099\u001b[0m \u001b[1;33m\u001b[0m\u001b[0m\n\u001b[0;32m   1100\u001b[0m     \u001b[1;32mif\u001b[0m \u001b[0mkwargs\u001b[0m\u001b[1;33m.\u001b[0m\u001b[0mpop\u001b[0m\u001b[1;33m(\u001b[0m\u001b[1;34m'hyper'\u001b[0m\u001b[1;33m,\u001b[0m \u001b[1;32mTrue\u001b[0m\u001b[1;33m)\u001b[0m \u001b[1;32mand\u001b[0m \u001b[0me\u001b[0m\u001b[1;33m.\u001b[0m\u001b[0mhas\u001b[0m\u001b[1;33m(\u001b[0m\u001b[0mHyperbolicFunction\u001b[0m\u001b[1;33m)\u001b[0m\u001b[1;33m:\u001b[0m\u001b[1;33m\u001b[0m\u001b[1;33m\u001b[0m\u001b[0m\n",
      "\u001b[1;32mc:\\users\\alice\\appdata\\local\\programs\\python\\python36\\lib\\site-packages\\sympy\\simplify\\trigsimp.py\u001b[0m in \u001b[0;36m_futrig\u001b[1;34m(e, **kwargs)\u001b[0m\n\u001b[0;32m   1164\u001b[0m             factor_terms, TR12(x), trigs)],  # expand tan of sum\n\u001b[0;32m   1165\u001b[0m         )]\n\u001b[1;32m-> 1166\u001b[1;33m     \u001b[0me\u001b[0m \u001b[1;33m=\u001b[0m \u001b[0mgreedy\u001b[0m\u001b[1;33m(\u001b[0m\u001b[0mtree\u001b[0m\u001b[1;33m,\u001b[0m \u001b[0mobjective\u001b[0m\u001b[1;33m=\u001b[0m\u001b[0mLops\u001b[0m\u001b[1;33m)\u001b[0m\u001b[1;33m(\u001b[0m\u001b[0me\u001b[0m\u001b[1;33m)\u001b[0m\u001b[1;33m\u001b[0m\u001b[1;33m\u001b[0m\u001b[0m\n\u001b[0m\u001b[0;32m   1167\u001b[0m     \u001b[1;32mreturn\u001b[0m \u001b[0mcoeff\u001b[0m\u001b[1;33m*\u001b[0m\u001b[0me\u001b[0m\u001b[1;33m\u001b[0m\u001b[1;33m\u001b[0m\u001b[0m\n\u001b[0;32m   1168\u001b[0m \u001b[1;33m\u001b[0m\u001b[0m\n",
      "\u001b[1;32mc:\\users\\alice\\appdata\\local\\programs\\python\\python36\\lib\\site-packages\\sympy\\strategies\\core.py\u001b[0m in \u001b[0;36mminrule\u001b[1;34m(expr)\u001b[0m\n\u001b[0;32m    115\u001b[0m     \u001b[0mobjective\u001b[0m \u001b[1;33m=\u001b[0m \u001b[0mkwargs\u001b[0m\u001b[1;33m.\u001b[0m\u001b[0mget\u001b[0m\u001b[1;33m(\u001b[0m\u001b[1;34m'objective'\u001b[0m\u001b[1;33m,\u001b[0m \u001b[0midentity\u001b[0m\u001b[1;33m)\u001b[0m\u001b[1;33m\u001b[0m\u001b[1;33m\u001b[0m\u001b[0m\n\u001b[0;32m    116\u001b[0m     \u001b[1;32mdef\u001b[0m \u001b[0mminrule\u001b[0m\u001b[1;33m(\u001b[0m\u001b[0mexpr\u001b[0m\u001b[1;33m)\u001b[0m\u001b[1;33m:\u001b[0m\u001b[1;33m\u001b[0m\u001b[1;33m\u001b[0m\u001b[0m\n\u001b[1;32m--> 117\u001b[1;33m         \u001b[1;32mreturn\u001b[0m \u001b[0mmin\u001b[0m\u001b[1;33m(\u001b[0m\u001b[1;33m[\u001b[0m\u001b[0mrule\u001b[0m\u001b[1;33m(\u001b[0m\u001b[0mexpr\u001b[0m\u001b[1;33m)\u001b[0m \u001b[1;32mfor\u001b[0m \u001b[0mrule\u001b[0m \u001b[1;32min\u001b[0m \u001b[0mrules\u001b[0m\u001b[1;33m]\u001b[0m\u001b[1;33m,\u001b[0m \u001b[0mkey\u001b[0m\u001b[1;33m=\u001b[0m\u001b[0mobjective\u001b[0m\u001b[1;33m)\u001b[0m\u001b[1;33m\u001b[0m\u001b[1;33m\u001b[0m\u001b[0m\n\u001b[0m\u001b[0;32m    118\u001b[0m     \u001b[1;32mreturn\u001b[0m \u001b[0mminrule\u001b[0m\u001b[1;33m\u001b[0m\u001b[1;33m\u001b[0m\u001b[0m\n",
      "\u001b[1;32mc:\\users\\alice\\appdata\\local\\programs\\python\\python36\\lib\\site-packages\\sympy\\strategies\\core.py\u001b[0m in \u001b[0;36m<listcomp>\u001b[1;34m(.0)\u001b[0m\n\u001b[0;32m    115\u001b[0m     \u001b[0mobjective\u001b[0m \u001b[1;33m=\u001b[0m \u001b[0mkwargs\u001b[0m\u001b[1;33m.\u001b[0m\u001b[0mget\u001b[0m\u001b[1;33m(\u001b[0m\u001b[1;34m'objective'\u001b[0m\u001b[1;33m,\u001b[0m \u001b[0midentity\u001b[0m\u001b[1;33m)\u001b[0m\u001b[1;33m\u001b[0m\u001b[1;33m\u001b[0m\u001b[0m\n\u001b[0;32m    116\u001b[0m     \u001b[1;32mdef\u001b[0m \u001b[0mminrule\u001b[0m\u001b[1;33m(\u001b[0m\u001b[0mexpr\u001b[0m\u001b[1;33m)\u001b[0m\u001b[1;33m:\u001b[0m\u001b[1;33m\u001b[0m\u001b[1;33m\u001b[0m\u001b[0m\n\u001b[1;32m--> 117\u001b[1;33m         \u001b[1;32mreturn\u001b[0m \u001b[0mmin\u001b[0m\u001b[1;33m(\u001b[0m\u001b[1;33m[\u001b[0m\u001b[0mrule\u001b[0m\u001b[1;33m(\u001b[0m\u001b[0mexpr\u001b[0m\u001b[1;33m)\u001b[0m \u001b[1;32mfor\u001b[0m \u001b[0mrule\u001b[0m \u001b[1;32min\u001b[0m \u001b[0mrules\u001b[0m\u001b[1;33m]\u001b[0m\u001b[1;33m,\u001b[0m \u001b[0mkey\u001b[0m\u001b[1;33m=\u001b[0m\u001b[0mobjective\u001b[0m\u001b[1;33m)\u001b[0m\u001b[1;33m\u001b[0m\u001b[1;33m\u001b[0m\u001b[0m\n\u001b[0m\u001b[0;32m    118\u001b[0m     \u001b[1;32mreturn\u001b[0m \u001b[0mminrule\u001b[0m\u001b[1;33m\u001b[0m\u001b[1;33m\u001b[0m\u001b[0m\n",
      "\u001b[1;32mc:\\users\\alice\\appdata\\local\\programs\\python\\python36\\lib\\site-packages\\sympy\\strategies\\core.py\u001b[0m in \u001b[0;36mchain_rl\u001b[1;34m(expr)\u001b[0m\n\u001b[0;32m     42\u001b[0m     \u001b[1;32mdef\u001b[0m \u001b[0mchain_rl\u001b[0m\u001b[1;33m(\u001b[0m\u001b[0mexpr\u001b[0m\u001b[1;33m)\u001b[0m\u001b[1;33m:\u001b[0m\u001b[1;33m\u001b[0m\u001b[1;33m\u001b[0m\u001b[0m\n\u001b[0;32m     43\u001b[0m         \u001b[1;32mfor\u001b[0m \u001b[0mrule\u001b[0m \u001b[1;32min\u001b[0m \u001b[0mrules\u001b[0m\u001b[1;33m:\u001b[0m\u001b[1;33m\u001b[0m\u001b[1;33m\u001b[0m\u001b[0m\n\u001b[1;32m---> 44\u001b[1;33m             \u001b[0mexpr\u001b[0m \u001b[1;33m=\u001b[0m \u001b[0mrule\u001b[0m\u001b[1;33m(\u001b[0m\u001b[0mexpr\u001b[0m\u001b[1;33m)\u001b[0m\u001b[1;33m\u001b[0m\u001b[1;33m\u001b[0m\u001b[0m\n\u001b[0m\u001b[0;32m     45\u001b[0m         \u001b[1;32mreturn\u001b[0m \u001b[0mexpr\u001b[0m\u001b[1;33m\u001b[0m\u001b[1;33m\u001b[0m\u001b[0m\n\u001b[0;32m     46\u001b[0m     \u001b[1;32mreturn\u001b[0m \u001b[0mchain_rl\u001b[0m\u001b[1;33m\u001b[0m\u001b[1;33m\u001b[0m\u001b[0m\n",
      "\u001b[1;32mc:\\users\\alice\\appdata\\local\\programs\\python\\python36\\lib\\site-packages\\sympy\\strategies\\core.py\u001b[0m in \u001b[0;36mminrule\u001b[1;34m(expr)\u001b[0m\n\u001b[0;32m    115\u001b[0m     \u001b[0mobjective\u001b[0m \u001b[1;33m=\u001b[0m \u001b[0mkwargs\u001b[0m\u001b[1;33m.\u001b[0m\u001b[0mget\u001b[0m\u001b[1;33m(\u001b[0m\u001b[1;34m'objective'\u001b[0m\u001b[1;33m,\u001b[0m \u001b[0midentity\u001b[0m\u001b[1;33m)\u001b[0m\u001b[1;33m\u001b[0m\u001b[1;33m\u001b[0m\u001b[0m\n\u001b[0;32m    116\u001b[0m     \u001b[1;32mdef\u001b[0m \u001b[0mminrule\u001b[0m\u001b[1;33m(\u001b[0m\u001b[0mexpr\u001b[0m\u001b[1;33m)\u001b[0m\u001b[1;33m:\u001b[0m\u001b[1;33m\u001b[0m\u001b[1;33m\u001b[0m\u001b[0m\n\u001b[1;32m--> 117\u001b[1;33m         \u001b[1;32mreturn\u001b[0m \u001b[0mmin\u001b[0m\u001b[1;33m(\u001b[0m\u001b[1;33m[\u001b[0m\u001b[0mrule\u001b[0m\u001b[1;33m(\u001b[0m\u001b[0mexpr\u001b[0m\u001b[1;33m)\u001b[0m \u001b[1;32mfor\u001b[0m \u001b[0mrule\u001b[0m \u001b[1;32min\u001b[0m \u001b[0mrules\u001b[0m\u001b[1;33m]\u001b[0m\u001b[1;33m,\u001b[0m \u001b[0mkey\u001b[0m\u001b[1;33m=\u001b[0m\u001b[0mobjective\u001b[0m\u001b[1;33m)\u001b[0m\u001b[1;33m\u001b[0m\u001b[1;33m\u001b[0m\u001b[0m\n\u001b[0m\u001b[0;32m    118\u001b[0m     \u001b[1;32mreturn\u001b[0m \u001b[0mminrule\u001b[0m\u001b[1;33m\u001b[0m\u001b[1;33m\u001b[0m\u001b[0m\n",
      "\u001b[1;32mc:\\users\\alice\\appdata\\local\\programs\\python\\python36\\lib\\site-packages\\sympy\\strategies\\core.py\u001b[0m in \u001b[0;36m<listcomp>\u001b[1;34m(.0)\u001b[0m\n\u001b[0;32m    115\u001b[0m     \u001b[0mobjective\u001b[0m \u001b[1;33m=\u001b[0m \u001b[0mkwargs\u001b[0m\u001b[1;33m.\u001b[0m\u001b[0mget\u001b[0m\u001b[1;33m(\u001b[0m\u001b[1;34m'objective'\u001b[0m\u001b[1;33m,\u001b[0m \u001b[0midentity\u001b[0m\u001b[1;33m)\u001b[0m\u001b[1;33m\u001b[0m\u001b[1;33m\u001b[0m\u001b[0m\n\u001b[0;32m    116\u001b[0m     \u001b[1;32mdef\u001b[0m \u001b[0mminrule\u001b[0m\u001b[1;33m(\u001b[0m\u001b[0mexpr\u001b[0m\u001b[1;33m)\u001b[0m\u001b[1;33m:\u001b[0m\u001b[1;33m\u001b[0m\u001b[1;33m\u001b[0m\u001b[0m\n\u001b[1;32m--> 117\u001b[1;33m         \u001b[1;32mreturn\u001b[0m \u001b[0mmin\u001b[0m\u001b[1;33m(\u001b[0m\u001b[1;33m[\u001b[0m\u001b[0mrule\u001b[0m\u001b[1;33m(\u001b[0m\u001b[0mexpr\u001b[0m\u001b[1;33m)\u001b[0m \u001b[1;32mfor\u001b[0m \u001b[0mrule\u001b[0m \u001b[1;32min\u001b[0m \u001b[0mrules\u001b[0m\u001b[1;33m]\u001b[0m\u001b[1;33m,\u001b[0m \u001b[0mkey\u001b[0m\u001b[1;33m=\u001b[0m\u001b[0mobjective\u001b[0m\u001b[1;33m)\u001b[0m\u001b[1;33m\u001b[0m\u001b[1;33m\u001b[0m\u001b[0m\n\u001b[0m\u001b[0;32m    118\u001b[0m     \u001b[1;32mreturn\u001b[0m \u001b[0mminrule\u001b[0m\u001b[1;33m\u001b[0m\u001b[1;33m\u001b[0m\u001b[0m\n",
      "\u001b[1;32mc:\\users\\alice\\appdata\\local\\programs\\python\\python36\\lib\\site-packages\\sympy\\simplify\\fu.py\u001b[0m in \u001b[0;36mTR8\u001b[1;34m(rv, first)\u001b[0m\n\u001b[0;32m    663\u001b[0m         \u001b[1;32mreturn\u001b[0m \u001b[0mTR8\u001b[0m\u001b[1;33m(\u001b[0m\u001b[0mexpand_mul\u001b[0m\u001b[1;33m(\u001b[0m\u001b[0mMul\u001b[0m\u001b[1;33m(\u001b[0m\u001b[1;33m*\u001b[0m\u001b[0margs\u001b[0m\u001b[1;33m)\u001b[0m\u001b[1;33m)\u001b[0m\u001b[1;33m)\u001b[0m\u001b[1;33m\u001b[0m\u001b[1;33m\u001b[0m\u001b[0m\n\u001b[0;32m    664\u001b[0m \u001b[1;33m\u001b[0m\u001b[0m\n\u001b[1;32m--> 665\u001b[1;33m     \u001b[1;32mreturn\u001b[0m \u001b[0mbottom_up\u001b[0m\u001b[1;33m(\u001b[0m\u001b[0mrv\u001b[0m\u001b[1;33m,\u001b[0m \u001b[0mf\u001b[0m\u001b[1;33m)\u001b[0m\u001b[1;33m\u001b[0m\u001b[1;33m\u001b[0m\u001b[0m\n\u001b[0m\u001b[0;32m    666\u001b[0m \u001b[1;33m\u001b[0m\u001b[0m\n\u001b[0;32m    667\u001b[0m \u001b[1;33m\u001b[0m\u001b[0m\n",
      "\u001b[1;32mc:\\users\\alice\\appdata\\local\\programs\\python\\python36\\lib\\site-packages\\sympy\\simplify\\simplify.py\u001b[0m in \u001b[0;36mbottom_up\u001b[1;34m(rv, F, atoms, nonbasic)\u001b[0m\n\u001b[0;32m   1088\u001b[0m             \u001b[1;32mif\u001b[0m \u001b[0margs\u001b[0m \u001b[1;33m!=\u001b[0m \u001b[0mrv\u001b[0m\u001b[1;33m.\u001b[0m\u001b[0margs\u001b[0m\u001b[1;33m:\u001b[0m\u001b[1;33m\u001b[0m\u001b[1;33m\u001b[0m\u001b[0m\n\u001b[0;32m   1089\u001b[0m                 \u001b[0mrv\u001b[0m \u001b[1;33m=\u001b[0m \u001b[0mrv\u001b[0m\u001b[1;33m.\u001b[0m\u001b[0mfunc\u001b[0m\u001b[1;33m(\u001b[0m\u001b[1;33m*\u001b[0m\u001b[0margs\u001b[0m\u001b[1;33m)\u001b[0m\u001b[1;33m\u001b[0m\u001b[1;33m\u001b[0m\u001b[0m\n\u001b[1;32m-> 1090\u001b[1;33m             \u001b[0mrv\u001b[0m \u001b[1;33m=\u001b[0m \u001b[0mF\u001b[0m\u001b[1;33m(\u001b[0m\u001b[0mrv\u001b[0m\u001b[1;33m)\u001b[0m\u001b[1;33m\u001b[0m\u001b[1;33m\u001b[0m\u001b[0m\n\u001b[0m\u001b[0;32m   1091\u001b[0m         \u001b[1;32melif\u001b[0m \u001b[0matoms\u001b[0m\u001b[1;33m:\u001b[0m\u001b[1;33m\u001b[0m\u001b[1;33m\u001b[0m\u001b[0m\n\u001b[0;32m   1092\u001b[0m             \u001b[0mrv\u001b[0m \u001b[1;33m=\u001b[0m \u001b[0mF\u001b[0m\u001b[1;33m(\u001b[0m\u001b[0mrv\u001b[0m\u001b[1;33m)\u001b[0m\u001b[1;33m\u001b[0m\u001b[1;33m\u001b[0m\u001b[0m\n",
      "\u001b[1;32mc:\\users\\alice\\appdata\\local\\programs\\python\\python36\\lib\\site-packages\\sympy\\simplify\\fu.py\u001b[0m in \u001b[0;36mf\u001b[1;34m(rv)\u001b[0m\n\u001b[0;32m    618\u001b[0m         \u001b[1;32mif\u001b[0m \u001b[0mfirst\u001b[0m\u001b[1;33m:\u001b[0m\u001b[1;33m\u001b[0m\u001b[1;33m\u001b[0m\u001b[0m\n\u001b[0;32m    619\u001b[0m             \u001b[0mn\u001b[0m\u001b[1;33m,\u001b[0m \u001b[0md\u001b[0m \u001b[1;33m=\u001b[0m \u001b[1;33m[\u001b[0m\u001b[0mexpand_mul\u001b[0m\u001b[1;33m(\u001b[0m\u001b[0mi\u001b[0m\u001b[1;33m)\u001b[0m \u001b[1;32mfor\u001b[0m \u001b[0mi\u001b[0m \u001b[1;32min\u001b[0m \u001b[0mrv\u001b[0m\u001b[1;33m.\u001b[0m\u001b[0mas_numer_denom\u001b[0m\u001b[1;33m(\u001b[0m\u001b[1;33m)\u001b[0m\u001b[1;33m]\u001b[0m\u001b[1;33m\u001b[0m\u001b[1;33m\u001b[0m\u001b[0m\n\u001b[1;32m--> 620\u001b[1;33m             \u001b[0mnewn\u001b[0m \u001b[1;33m=\u001b[0m \u001b[0mTR8\u001b[0m\u001b[1;33m(\u001b[0m\u001b[0mn\u001b[0m\u001b[1;33m,\u001b[0m \u001b[0mfirst\u001b[0m\u001b[1;33m=\u001b[0m\u001b[1;32mFalse\u001b[0m\u001b[1;33m)\u001b[0m\u001b[1;33m\u001b[0m\u001b[1;33m\u001b[0m\u001b[0m\n\u001b[0m\u001b[0;32m    621\u001b[0m             \u001b[0mnewd\u001b[0m \u001b[1;33m=\u001b[0m \u001b[0mTR8\u001b[0m\u001b[1;33m(\u001b[0m\u001b[0md\u001b[0m\u001b[1;33m,\u001b[0m \u001b[0mfirst\u001b[0m\u001b[1;33m=\u001b[0m\u001b[1;32mFalse\u001b[0m\u001b[1;33m)\u001b[0m\u001b[1;33m\u001b[0m\u001b[1;33m\u001b[0m\u001b[0m\n\u001b[0;32m    622\u001b[0m             \u001b[1;32mif\u001b[0m \u001b[0mnewn\u001b[0m \u001b[1;33m!=\u001b[0m \u001b[0mn\u001b[0m \u001b[1;32mor\u001b[0m \u001b[0mnewd\u001b[0m \u001b[1;33m!=\u001b[0m \u001b[0md\u001b[0m\u001b[1;33m:\u001b[0m\u001b[1;33m\u001b[0m\u001b[1;33m\u001b[0m\u001b[0m\n",
      "\u001b[1;32mc:\\users\\alice\\appdata\\local\\programs\\python\\python36\\lib\\site-packages\\sympy\\simplify\\fu.py\u001b[0m in \u001b[0;36mTR8\u001b[1;34m(rv, first)\u001b[0m\n\u001b[0;32m    663\u001b[0m         \u001b[1;32mreturn\u001b[0m \u001b[0mTR8\u001b[0m\u001b[1;33m(\u001b[0m\u001b[0mexpand_mul\u001b[0m\u001b[1;33m(\u001b[0m\u001b[0mMul\u001b[0m\u001b[1;33m(\u001b[0m\u001b[1;33m*\u001b[0m\u001b[0margs\u001b[0m\u001b[1;33m)\u001b[0m\u001b[1;33m)\u001b[0m\u001b[1;33m)\u001b[0m\u001b[1;33m\u001b[0m\u001b[1;33m\u001b[0m\u001b[0m\n\u001b[0;32m    664\u001b[0m \u001b[1;33m\u001b[0m\u001b[0m\n\u001b[1;32m--> 665\u001b[1;33m     \u001b[1;32mreturn\u001b[0m \u001b[0mbottom_up\u001b[0m\u001b[1;33m(\u001b[0m\u001b[0mrv\u001b[0m\u001b[1;33m,\u001b[0m \u001b[0mf\u001b[0m\u001b[1;33m)\u001b[0m\u001b[1;33m\u001b[0m\u001b[1;33m\u001b[0m\u001b[0m\n\u001b[0m\u001b[0;32m    666\u001b[0m \u001b[1;33m\u001b[0m\u001b[0m\n\u001b[0;32m    667\u001b[0m \u001b[1;33m\u001b[0m\u001b[0m\n",
      "\u001b[1;32mc:\\users\\alice\\appdata\\local\\programs\\python\\python36\\lib\\site-packages\\sympy\\simplify\\simplify.py\u001b[0m in \u001b[0;36mbottom_up\u001b[1;34m(rv, F, atoms, nonbasic)\u001b[0m\n\u001b[0;32m   1087\u001b[0m                 for a in rv.args])\n\u001b[0;32m   1088\u001b[0m             \u001b[1;32mif\u001b[0m \u001b[0margs\u001b[0m \u001b[1;33m!=\u001b[0m \u001b[0mrv\u001b[0m\u001b[1;33m.\u001b[0m\u001b[0margs\u001b[0m\u001b[1;33m:\u001b[0m\u001b[1;33m\u001b[0m\u001b[1;33m\u001b[0m\u001b[0m\n\u001b[1;32m-> 1089\u001b[1;33m                 \u001b[0mrv\u001b[0m \u001b[1;33m=\u001b[0m \u001b[0mrv\u001b[0m\u001b[1;33m.\u001b[0m\u001b[0mfunc\u001b[0m\u001b[1;33m(\u001b[0m\u001b[1;33m*\u001b[0m\u001b[0margs\u001b[0m\u001b[1;33m)\u001b[0m\u001b[1;33m\u001b[0m\u001b[1;33m\u001b[0m\u001b[0m\n\u001b[0m\u001b[0;32m   1090\u001b[0m             \u001b[0mrv\u001b[0m \u001b[1;33m=\u001b[0m \u001b[0mF\u001b[0m\u001b[1;33m(\u001b[0m\u001b[0mrv\u001b[0m\u001b[1;33m)\u001b[0m\u001b[1;33m\u001b[0m\u001b[1;33m\u001b[0m\u001b[0m\n\u001b[0;32m   1091\u001b[0m         \u001b[1;32melif\u001b[0m \u001b[0matoms\u001b[0m\u001b[1;33m:\u001b[0m\u001b[1;33m\u001b[0m\u001b[1;33m\u001b[0m\u001b[0m\n",
      "\u001b[1;32mc:\\users\\alice\\appdata\\local\\programs\\python\\python36\\lib\\site-packages\\sympy\\core\\cache.py\u001b[0m in \u001b[0;36mwrapper\u001b[1;34m(*args, **kwargs)\u001b[0m\n\u001b[0;32m     91\u001b[0m             \u001b[1;32mdef\u001b[0m \u001b[0mwrapper\u001b[0m\u001b[1;33m(\u001b[0m\u001b[1;33m*\u001b[0m\u001b[0margs\u001b[0m\u001b[1;33m,\u001b[0m \u001b[1;33m**\u001b[0m\u001b[0mkwargs\u001b[0m\u001b[1;33m)\u001b[0m\u001b[1;33m:\u001b[0m\u001b[1;33m\u001b[0m\u001b[1;33m\u001b[0m\u001b[0m\n\u001b[0;32m     92\u001b[0m                 \u001b[1;32mtry\u001b[0m\u001b[1;33m:\u001b[0m\u001b[1;33m\u001b[0m\u001b[1;33m\u001b[0m\u001b[0m\n\u001b[1;32m---> 93\u001b[1;33m                     \u001b[0mretval\u001b[0m \u001b[1;33m=\u001b[0m \u001b[0mcfunc\u001b[0m\u001b[1;33m(\u001b[0m\u001b[1;33m*\u001b[0m\u001b[0margs\u001b[0m\u001b[1;33m,\u001b[0m \u001b[1;33m**\u001b[0m\u001b[0mkwargs\u001b[0m\u001b[1;33m)\u001b[0m\u001b[1;33m\u001b[0m\u001b[1;33m\u001b[0m\u001b[0m\n\u001b[0m\u001b[0;32m     94\u001b[0m                 \u001b[1;32mexcept\u001b[0m \u001b[0mTypeError\u001b[0m\u001b[1;33m:\u001b[0m\u001b[1;33m\u001b[0m\u001b[1;33m\u001b[0m\u001b[0m\n\u001b[0;32m     95\u001b[0m                     \u001b[0mretval\u001b[0m \u001b[1;33m=\u001b[0m \u001b[0mfunc\u001b[0m\u001b[1;33m(\u001b[0m\u001b[1;33m*\u001b[0m\u001b[0margs\u001b[0m\u001b[1;33m,\u001b[0m \u001b[1;33m**\u001b[0m\u001b[0mkwargs\u001b[0m\u001b[1;33m)\u001b[0m\u001b[1;33m\u001b[0m\u001b[1;33m\u001b[0m\u001b[0m\n",
      "\u001b[1;32mc:\\users\\alice\\appdata\\local\\programs\\python\\python36\\lib\\site-packages\\sympy\\core\\operations.py\u001b[0m in \u001b[0;36m__new__\u001b[1;34m(cls, *args, **options)\u001b[0m\n\u001b[0;32m     43\u001b[0m             \u001b[1;32mreturn\u001b[0m \u001b[0margs\u001b[0m\u001b[1;33m[\u001b[0m\u001b[1;36m0\u001b[0m\u001b[1;33m]\u001b[0m\u001b[1;33m\u001b[0m\u001b[1;33m\u001b[0m\u001b[0m\n\u001b[0;32m     44\u001b[0m \u001b[1;33m\u001b[0m\u001b[0m\n\u001b[1;32m---> 45\u001b[1;33m         \u001b[0mc_part\u001b[0m\u001b[1;33m,\u001b[0m \u001b[0mnc_part\u001b[0m\u001b[1;33m,\u001b[0m \u001b[0morder_symbols\u001b[0m \u001b[1;33m=\u001b[0m \u001b[0mcls\u001b[0m\u001b[1;33m.\u001b[0m\u001b[0mflatten\u001b[0m\u001b[1;33m(\u001b[0m\u001b[0margs\u001b[0m\u001b[1;33m)\u001b[0m\u001b[1;33m\u001b[0m\u001b[1;33m\u001b[0m\u001b[0m\n\u001b[0m\u001b[0;32m     46\u001b[0m         \u001b[0mis_commutative\u001b[0m \u001b[1;33m=\u001b[0m \u001b[1;32mnot\u001b[0m \u001b[0mnc_part\u001b[0m\u001b[1;33m\u001b[0m\u001b[1;33m\u001b[0m\u001b[0m\n\u001b[0;32m     47\u001b[0m         \u001b[0mobj\u001b[0m \u001b[1;33m=\u001b[0m \u001b[0mcls\u001b[0m\u001b[1;33m.\u001b[0m\u001b[0m_from_args\u001b[0m\u001b[1;33m(\u001b[0m\u001b[0mc_part\u001b[0m \u001b[1;33m+\u001b[0m \u001b[0mnc_part\u001b[0m\u001b[1;33m,\u001b[0m \u001b[0mis_commutative\u001b[0m\u001b[1;33m)\u001b[0m\u001b[1;33m\u001b[0m\u001b[1;33m\u001b[0m\u001b[0m\n",
      "\u001b[1;32mc:\\users\\alice\\appdata\\local\\programs\\python\\python36\\lib\\site-packages\\sympy\\core\\add.py\u001b[0m in \u001b[0;36mflatten\u001b[1;34m(cls, seq)\u001b[0m\n\u001b[0;32m    266\u001b[0m \u001b[1;33m\u001b[0m\u001b[0m\n\u001b[0;32m    267\u001b[0m         \u001b[1;31m# order args canonically\u001b[0m\u001b[1;33m\u001b[0m\u001b[1;33m\u001b[0m\u001b[1;33m\u001b[0m\u001b[0m\n\u001b[1;32m--> 268\u001b[1;33m         \u001b[0m_addsort\u001b[0m\u001b[1;33m(\u001b[0m\u001b[0mnewseq\u001b[0m\u001b[1;33m)\u001b[0m\u001b[1;33m\u001b[0m\u001b[1;33m\u001b[0m\u001b[0m\n\u001b[0m\u001b[0;32m    269\u001b[0m \u001b[1;33m\u001b[0m\u001b[0m\n\u001b[0;32m    270\u001b[0m         \u001b[1;31m# current code expects coeff to be first\u001b[0m\u001b[1;33m\u001b[0m\u001b[1;33m\u001b[0m\u001b[1;33m\u001b[0m\u001b[0m\n",
      "\u001b[1;32mc:\\users\\alice\\appdata\\local\\programs\\python\\python36\\lib\\site-packages\\sympy\\core\\add.py\u001b[0m in \u001b[0;36m_addsort\u001b[1;34m(args)\u001b[0m\n\u001b[0;32m     19\u001b[0m \u001b[1;32mdef\u001b[0m \u001b[0m_addsort\u001b[0m\u001b[1;33m(\u001b[0m\u001b[0margs\u001b[0m\u001b[1;33m)\u001b[0m\u001b[1;33m:\u001b[0m\u001b[1;33m\u001b[0m\u001b[1;33m\u001b[0m\u001b[0m\n\u001b[0;32m     20\u001b[0m     \u001b[1;31m# in-place sorting of args\u001b[0m\u001b[1;33m\u001b[0m\u001b[1;33m\u001b[0m\u001b[1;33m\u001b[0m\u001b[0m\n\u001b[1;32m---> 21\u001b[1;33m     \u001b[0margs\u001b[0m\u001b[1;33m.\u001b[0m\u001b[0msort\u001b[0m\u001b[1;33m(\u001b[0m\u001b[0mkey\u001b[0m\u001b[1;33m=\u001b[0m\u001b[0m_args_sortkey\u001b[0m\u001b[1;33m)\u001b[0m\u001b[1;33m\u001b[0m\u001b[1;33m\u001b[0m\u001b[0m\n\u001b[0m\u001b[0;32m     22\u001b[0m \u001b[1;33m\u001b[0m\u001b[0m\n\u001b[0;32m     23\u001b[0m \u001b[1;33m\u001b[0m\u001b[0m\n",
      "\u001b[1;32mc:\\users\\alice\\appdata\\local\\programs\\python\\python36\\lib\\site-packages\\sympy\\core\\basic.py\u001b[0m in \u001b[0;36mcompare\u001b[1;34m(self, other)\u001b[0m\n\u001b[0;32m    207\u001b[0m             \u001b[0mr\u001b[0m \u001b[1;33m=\u001b[0m \u001b[0mBasic\u001b[0m\u001b[1;33m(\u001b[0m\u001b[1;33m*\u001b[0m\u001b[0mr\u001b[0m\u001b[1;33m)\u001b[0m \u001b[1;32mif\u001b[0m \u001b[0misinstance\u001b[0m\u001b[1;33m(\u001b[0m\u001b[0mr\u001b[0m\u001b[1;33m,\u001b[0m \u001b[0mfrozenset\u001b[0m\u001b[1;33m)\u001b[0m \u001b[1;32melse\u001b[0m \u001b[0mr\u001b[0m\u001b[1;33m\u001b[0m\u001b[1;33m\u001b[0m\u001b[0m\n\u001b[0;32m    208\u001b[0m             \u001b[1;32mif\u001b[0m \u001b[0misinstance\u001b[0m\u001b[1;33m(\u001b[0m\u001b[0ml\u001b[0m\u001b[1;33m,\u001b[0m \u001b[0mBasic\u001b[0m\u001b[1;33m)\u001b[0m\u001b[1;33m:\u001b[0m\u001b[1;33m\u001b[0m\u001b[1;33m\u001b[0m\u001b[0m\n\u001b[1;32m--> 209\u001b[1;33m                 \u001b[0mc\u001b[0m \u001b[1;33m=\u001b[0m \u001b[0ml\u001b[0m\u001b[1;33m.\u001b[0m\u001b[0mcompare\u001b[0m\u001b[1;33m(\u001b[0m\u001b[0mr\u001b[0m\u001b[1;33m)\u001b[0m\u001b[1;33m\u001b[0m\u001b[1;33m\u001b[0m\u001b[0m\n\u001b[0m\u001b[0;32m    210\u001b[0m             \u001b[1;32melse\u001b[0m\u001b[1;33m:\u001b[0m\u001b[1;33m\u001b[0m\u001b[1;33m\u001b[0m\u001b[0m\n\u001b[0;32m    211\u001b[0m                 \u001b[0mc\u001b[0m \u001b[1;33m=\u001b[0m \u001b[1;33m(\u001b[0m\u001b[0ml\u001b[0m \u001b[1;33m>\u001b[0m \u001b[0mr\u001b[0m\u001b[1;33m)\u001b[0m \u001b[1;33m-\u001b[0m \u001b[1;33m(\u001b[0m\u001b[0ml\u001b[0m \u001b[1;33m<\u001b[0m \u001b[0mr\u001b[0m\u001b[1;33m)\u001b[0m\u001b[1;33m\u001b[0m\u001b[1;33m\u001b[0m\u001b[0m\n",
      "\u001b[1;32mc:\\users\\alice\\appdata\\local\\programs\\python\\python36\\lib\\site-packages\\sympy\\core\\basic.py\u001b[0m in \u001b[0;36mcompare\u001b[1;34m(self, other)\u001b[0m\n\u001b[0;32m    207\u001b[0m             \u001b[0mr\u001b[0m \u001b[1;33m=\u001b[0m \u001b[0mBasic\u001b[0m\u001b[1;33m(\u001b[0m\u001b[1;33m*\u001b[0m\u001b[0mr\u001b[0m\u001b[1;33m)\u001b[0m \u001b[1;32mif\u001b[0m \u001b[0misinstance\u001b[0m\u001b[1;33m(\u001b[0m\u001b[0mr\u001b[0m\u001b[1;33m,\u001b[0m \u001b[0mfrozenset\u001b[0m\u001b[1;33m)\u001b[0m \u001b[1;32melse\u001b[0m \u001b[0mr\u001b[0m\u001b[1;33m\u001b[0m\u001b[1;33m\u001b[0m\u001b[0m\n\u001b[0;32m    208\u001b[0m             \u001b[1;32mif\u001b[0m \u001b[0misinstance\u001b[0m\u001b[1;33m(\u001b[0m\u001b[0ml\u001b[0m\u001b[1;33m,\u001b[0m \u001b[0mBasic\u001b[0m\u001b[1;33m)\u001b[0m\u001b[1;33m:\u001b[0m\u001b[1;33m\u001b[0m\u001b[1;33m\u001b[0m\u001b[0m\n\u001b[1;32m--> 209\u001b[1;33m                 \u001b[0mc\u001b[0m \u001b[1;33m=\u001b[0m \u001b[0ml\u001b[0m\u001b[1;33m.\u001b[0m\u001b[0mcompare\u001b[0m\u001b[1;33m(\u001b[0m\u001b[0mr\u001b[0m\u001b[1;33m)\u001b[0m\u001b[1;33m\u001b[0m\u001b[1;33m\u001b[0m\u001b[0m\n\u001b[0m\u001b[0;32m    210\u001b[0m             \u001b[1;32melse\u001b[0m\u001b[1;33m:\u001b[0m\u001b[1;33m\u001b[0m\u001b[1;33m\u001b[0m\u001b[0m\n\u001b[0;32m    211\u001b[0m                 \u001b[0mc\u001b[0m \u001b[1;33m=\u001b[0m \u001b[1;33m(\u001b[0m\u001b[0ml\u001b[0m \u001b[1;33m>\u001b[0m \u001b[0mr\u001b[0m\u001b[1;33m)\u001b[0m \u001b[1;33m-\u001b[0m \u001b[1;33m(\u001b[0m\u001b[0ml\u001b[0m \u001b[1;33m<\u001b[0m \u001b[0mr\u001b[0m\u001b[1;33m)\u001b[0m\u001b[1;33m\u001b[0m\u001b[1;33m\u001b[0m\u001b[0m\n",
      "\u001b[1;32mc:\\users\\alice\\appdata\\local\\programs\\python\\python36\\lib\\site-packages\\sympy\\core\\basic.py\u001b[0m in \u001b[0;36mcompare\u001b[1;34m(self, other)\u001b[0m\n\u001b[0;32m    203\u001b[0m         \u001b[1;32mif\u001b[0m \u001b[0mc\u001b[0m\u001b[1;33m:\u001b[0m\u001b[1;33m\u001b[0m\u001b[1;33m\u001b[0m\u001b[0m\n\u001b[0;32m    204\u001b[0m             \u001b[1;32mreturn\u001b[0m \u001b[0mc\u001b[0m\u001b[1;33m\u001b[0m\u001b[1;33m\u001b[0m\u001b[0m\n\u001b[1;32m--> 205\u001b[1;33m         \u001b[1;32mfor\u001b[0m \u001b[0ml\u001b[0m\u001b[1;33m,\u001b[0m \u001b[0mr\u001b[0m \u001b[1;32min\u001b[0m \u001b[0mzip\u001b[0m\u001b[1;33m(\u001b[0m\u001b[0mst\u001b[0m\u001b[1;33m,\u001b[0m \u001b[0mot\u001b[0m\u001b[1;33m)\u001b[0m\u001b[1;33m:\u001b[0m\u001b[1;33m\u001b[0m\u001b[1;33m\u001b[0m\u001b[0m\n\u001b[0m\u001b[0;32m    206\u001b[0m             \u001b[0ml\u001b[0m \u001b[1;33m=\u001b[0m \u001b[0mBasic\u001b[0m\u001b[1;33m(\u001b[0m\u001b[1;33m*\u001b[0m\u001b[0ml\u001b[0m\u001b[1;33m)\u001b[0m \u001b[1;32mif\u001b[0m \u001b[0misinstance\u001b[0m\u001b[1;33m(\u001b[0m\u001b[0ml\u001b[0m\u001b[1;33m,\u001b[0m \u001b[0mfrozenset\u001b[0m\u001b[1;33m)\u001b[0m \u001b[1;32melse\u001b[0m \u001b[0ml\u001b[0m\u001b[1;33m\u001b[0m\u001b[1;33m\u001b[0m\u001b[0m\n\u001b[0;32m    207\u001b[0m             \u001b[0mr\u001b[0m \u001b[1;33m=\u001b[0m \u001b[0mBasic\u001b[0m\u001b[1;33m(\u001b[0m\u001b[1;33m*\u001b[0m\u001b[0mr\u001b[0m\u001b[1;33m)\u001b[0m \u001b[1;32mif\u001b[0m \u001b[0misinstance\u001b[0m\u001b[1;33m(\u001b[0m\u001b[0mr\u001b[0m\u001b[1;33m,\u001b[0m \u001b[0mfrozenset\u001b[0m\u001b[1;33m)\u001b[0m \u001b[1;32melse\u001b[0m \u001b[0mr\u001b[0m\u001b[1;33m\u001b[0m\u001b[1;33m\u001b[0m\u001b[0m\n",
      "\u001b[1;31mKeyboardInterrupt\u001b[0m: "
     ]
    }
   ],
   "source": [
    "left_inv = left.inv()"
   ]
  },
  {
   "cell_type": "code",
   "execution_count": null,
   "metadata": {},
   "outputs": [],
   "source": [
    "# %%time\n",
    "\n",
    "res = left_inv * right"
   ]
  },
  {
   "cell_type": "code",
   "execution_count": null,
   "metadata": {},
   "outputs": [],
   "source": [
    "write_obj(res, 'vector_res_diff_eq_for', 'Вектор правых частей дифф уравнений на diff(nu1), diff(nu2), diff2(alpha)')"
   ]
  },
  {
   "cell_type": "code",
   "execution_count": 68,
   "metadata": {},
   "outputs": [
    {
     "name": "stdout",
     "output_type": "stream",
     "text": [
      "{beta[1], W, beta[0], beta, b, theta[1], d, m2, beta[2], theta[0], theta, m1, theta[2], a, W[2], t, W[1], alpha(t), Derivative(alpha(t), t), W[0]}\n"
     ]
    }
   ],
   "source": [
    "pa(res[0]) # nu1'"
   ]
  },
  {
   "cell_type": "code",
   "execution_count": 69,
   "metadata": {},
   "outputs": [
    {
     "name": "stdout",
     "output_type": "stream",
     "text": [
      "{beta[1], beta[0], beta, b, theta[1], d, m2, beta[2], theta[0], theta, m1, theta[2], a, W[1], W[2], t, W, alpha(t), Derivative(alpha(t), t), W[0]}\n"
     ]
    }
   ],
   "source": [
    "pa(res[1]) # nu2'"
   ]
  },
  {
   "cell_type": "code",
   "execution_count": 70,
   "metadata": {},
   "outputs": [
    {
     "name": "stdout",
     "output_type": "stream",
     "text": [
      "{beta[1], W, beta[0], beta, b, theta[1], d, m2, beta[2], theta[0], theta, m1, theta[2], a, W[2], t, W[1], alpha(t), Derivative(alpha(t), t), W[0]}\n"
     ]
    }
   ],
   "source": [
    "pa(res[2]) # alpha''"
   ]
  },
  {
   "cell_type": "code",
   "execution_count": null,
   "metadata": {},
   "outputs": [],
   "source": []
  },
  {
   "cell_type": "code",
   "execution_count": null,
   "metadata": {},
   "outputs": [],
   "source": [
    "%%time\n",
    "\n",
    "simple_res = simplify(res[0])"
   ]
  },
  {
   "cell_type": "code",
   "execution_count": null,
   "metadata": {},
   "outputs": [],
   "source": [
    "simplify(utils.subs_init(res))"
   ]
  },
  {
   "cell_type": "code",
   "execution_count": null,
   "metadata": {},
   "outputs": [],
   "source": []
  },
  {
   "cell_type": "code",
   "execution_count": null,
   "metadata": {},
   "outputs": [],
   "source": []
  },
  {
   "cell_type": "code",
   "execution_count": null,
   "metadata": {},
   "outputs": [],
   "source": []
  },
  {
   "cell_type": "code",
   "execution_count": null,
   "metadata": {},
   "outputs": [],
   "source": []
  },
  {
   "cell_type": "code",
   "execution_count": null,
   "metadata": {},
   "outputs": [],
   "source": []
  },
  {
   "cell_type": "code",
   "execution_count": null,
   "metadata": {},
   "outputs": [],
   "source": [
    "# ____________________________________________END___________________________________________"
   ]
  },
  {
   "cell_type": "code",
   "execution_count": null,
   "metadata": {},
   "outputs": [],
   "source": [
    "# Полный Д'Аламбер Лагранжа\n",
    "\n",
    "# A_full = 0\n",
    "# A_full  = lambda i: A['platform'](i) + A['fork'](i) + A['wheel'](i)\n",
    "# A_full_poly = lambda i: Poly(A_full(i).subs(delta['psi'][i], eq['diff(psi)'](i)).subs(delta['theta'][i], eq['diff(theta)'](i)), \n",
    "#     [delta['x'], delta['y'], delta['alpha']])"
   ]
  },
  {
   "cell_type": "code",
   "execution_count": null,
   "metadata": {},
   "outputs": [],
   "source": [
    "# Полный Д'Аламбер для всего тела, просуммированный \n",
    "\n",
    "A_full_poly_sum = 0\n",
    "for k in range(3):\n",
    "    A_full_poly_sum += A_full_poly(k)\n",
    "\n",
    "print_all_variables(A_full_poly_sum)"
   ]
  },
  {
   "cell_type": "code",
   "execution_count": null,
   "metadata": {},
   "outputs": [],
   "source": [
    "print_all_variables(A_full_poly_sum)"
   ]
  },
  {
   "cell_type": "code",
   "execution_count": null,
   "metadata": {},
   "outputs": [],
   "source": [
    "# Коэффиценты\n",
    "# A_coeffs = lambda i: A_full_poly(i).coeffs()"
   ]
  },
  {
   "cell_type": "code",
   "execution_count": null,
   "metadata": {},
   "outputs": [],
   "source": [
    "# Здесь будут лежать коэффиценты при dx dy dalpha  для всех 3 колёс\n",
    "# ПОКА ДЛЯ ОДНОГО КОЛЕСА\n",
    "#var = A_coeffs(0)\n",
    "\n",
    "# coeff_wheel.append(A_coeffs(1))\n",
    "# coeff_wheel.append(A_coeffs(2))"
   ]
  },
  {
   "cell_type": "code",
   "execution_count": null,
   "metadata": {},
   "outputs": [],
   "source": [
    "#l = 0\n",
    "#var[0] = var[0].subs({alpha: 0, beta[l]: 0, theta[l]: 0, nu[1]: 0, nu[2]: 0})\n",
    "#var[1] = var[1].subs({alpha: 0, beta[l]: 0, theta[l]: 0, nu[1]: 0, nu[2]: 0})\n",
    "#var[2] = var[2].subs({alpha: 0, beta[l]: 0, theta[l]: 0, nu[1]: 0, nu[2]: 0}) "
   ]
  },
  {
   "cell_type": "code",
   "execution_count": null,
   "metadata": {},
   "outputs": [],
   "source": [
    "coeff[delta['x']]     = lambda i: simplify(A_coeffs(i)[0])#.subs({alpha: 0, beta[i]: 0, theta[i]: 0, nu[1]: 0, nu[2]: 0})\n",
    "coeff[delta['y']]     = lambda i: simplify(A_coeffs(i)[1])#.subs({alpha: 0, beta[i]: 0, theta[i]: 0, nu[1]: 0, nu[2]: 0})\n",
    "coeff[delta['alpha']] = lambda i: simplify(A_coeffs(i)[2])#.subs({alpha: 0, beta[i]: 0, theta[i]: 0, nu[1]: 0, nu[2]: 0})"
   ]
  },
  {
   "cell_type": "code",
   "execution_count": null,
   "metadata": {},
   "outputs": [],
   "source": [
    "coeff_dx ={}\n",
    "coeff_dy ={}\n",
    "coeff_dalpha ={}"
   ]
  },
  {
   "cell_type": "code",
   "execution_count": null,
   "metadata": {},
   "outputs": [],
   "source": [
    "%%time\n",
    "#коэффиценты для колеса при dx dy dalpha, просто в отдельные переменные\n",
    "coeff_dx[0] = coeff[delta['x']](0)\n",
    "coeff_dy[0] = coeff[delta['y']](0)\n",
    "coeff_dalpha[0] = coeff[delta['alpha']](0)"
   ]
  },
  {
   "cell_type": "code",
   "execution_count": null,
   "metadata": {},
   "outputs": [],
   "source": [
    "coeff_dalpha[0]"
   ]
  },
  {
   "cell_type": "code",
   "execution_count": null,
   "metadata": {},
   "outputs": [],
   "source": [
    "%%time\n",
    "#коэффиценты для колеса при dx dy dalpha, просто в отдельные переменные\n",
    "coeff_dx[1] = coeff[delta['x']](1)\n",
    "coeff_dy[1] = coeff[delta['y']](1)\n",
    "coeff_dalpha[1] = coeff[delta['alpha']](1)"
   ]
  },
  {
   "cell_type": "code",
   "execution_count": null,
   "metadata": {},
   "outputs": [],
   "source": [
    "%%time\n",
    "#коэффиценты для колеса при dx dy dalpha, просто в отдельные переменные\n",
    "coeff_dx[2] = coeff[delta['x']](2)\n",
    "coeff_dy[2] = coeff[delta['y']](2)\n",
    "coeff_dalpha[2] = coeff[delta['alpha']](2)"
   ]
  },
  {
   "cell_type": "code",
   "execution_count": null,
   "metadata": {},
   "outputs": [],
   "source": [
    "# надеюсь нормально их суммировать сейчас\n",
    "coeff_dx['sum'] = 0\n",
    "coeff_dy['sum'] = 0\n",
    "coeff_dalpha['sum'] = 0\n",
    "\n",
    "for k in range(3):\n",
    "    coeff_dx['sum'] += coeff_dx[k]\n",
    "    coeff_dy['sum'] += coeff_dy[k]\n",
    "    coeff_dalpha['sum'] += coeff_dalpha[k]"
   ]
  },
  {
   "cell_type": "code",
   "execution_count": null,
   "metadata": {},
   "outputs": [],
   "source": [
    "# говорим что получившиеся выражения это полином, зависящий от nu1, nu2, (alpha)'' \n",
    "eq_by_dx     = Poly(coeff_dx[0],     [Derivative(nu[1],t), Derivative(nu[2],t), Derivative(alpha,t,2)])\n",
    "eq_by_dy     = Poly(coeff_dy[0],     [Derivative(nu[1],t), Derivative(nu[2],t), Derivative(alpha,t,2)])\n",
    "eq_by_dalpha = Poly(coeff_dalpha[0], [Derivative(nu[1],t), Derivative(nu[2],t), Derivative(alpha,t,2)])"
   ]
  },
  {
   "cell_type": "code",
   "execution_count": null,
   "metadata": {},
   "outputs": [],
   "source": [
    "len(eq_by_dx.coeffs())"
   ]
  },
  {
   "cell_type": "code",
   "execution_count": null,
   "metadata": {},
   "outputs": [],
   "source": [
    "len(eq_by_dy.coeffs())"
   ]
  },
  {
   "cell_type": "code",
   "execution_count": null,
   "metadata": {},
   "outputs": [],
   "source": [
    "# посмотреть что получилось\n",
    "len(eq_by_dx.coeffs())"
   ]
  },
  {
   "cell_type": "code",
   "execution_count": null,
   "metadata": {},
   "outputs": [],
   "source": [
    "# Пример группировки\n",
    "print(collect(eq_by_dx,\n",
    "        [Derivative(nu[1], t), Derivative(nu[2], t), Derivative(alpha, t,2)]))"
   ]
  },
  {
   "cell_type": "code",
   "execution_count": null,
   "metadata": {},
   "outputs": [],
   "source": [
    "# система уравнений left*[nu1', nu2', alpha''] = right\n",
    "\n",
    "left = Matrix([eq_by_dx.coeffs()[:3],\n",
    "               eq_by_dy.coeffs()[:3],\n",
    "               eq_by_dalpha.coeffs()[:3]])\n",
    "right = Matrix([eq_by_dx.coeffs()[-1],\n",
    "                eq_by_dy.coeffs()[-1],\n",
    "                eq_by_dalpha.coeffs()[-1]])"
   ]
  },
  {
   "cell_type": "code",
   "execution_count": null,
   "metadata": {},
   "outputs": [],
   "source": [
    "alpha_t, nu1_t, nu2_t = symbols('alpha_t, nu1_t, nu2_t')\n",
    "theta0, theta1, theta2 = symbols('theta0, theta1, theta2')\n",
    "alpha1, alpha2 = symbols('alpha1, alpha2')"
   ]
  },
  {
   "cell_type": "code",
   "execution_count": null,
   "metadata": {},
   "outputs": [],
   "source": [
    "def subs_for_ode(eq):\n",
    "    eq = eq.subs({\n",
    "            nu[1]: nu1_t, nu[2]: nu2_t,\n",
    "            theta[0]: theta0, theta[1]: theta1, theta[2]: theta2,\n",
    "            alpha: alpha1, Derivative(alpha, t): alpha2\n",
    "    })\n",
    "    return eq"
   ]
  },
  {
   "cell_type": "code",
   "execution_count": null,
   "metadata": {},
   "outputs": [],
   "source": [
    "a = []\n",
    "a += A_full_poly_sum.find(alpha)\n",
    "a\n"
   ]
  },
  {
   "cell_type": "code",
   "execution_count": null,
   "metadata": {},
   "outputs": [],
   "source": [
    "left = subs_init(left)\n",
    "right = subs_init(right)"
   ]
  },
  {
   "cell_type": "code",
   "execution_count": null,
   "metadata": {},
   "outputs": [],
   "source": [
    "print(left)"
   ]
  },
  {
   "cell_type": "code",
   "execution_count": null,
   "metadata": {},
   "outputs": [],
   "source": [
    "%%time\n",
    "\n",
    "left_inv = left.inv() # left^(-1)"
   ]
  },
  {
   "cell_type": "code",
   "execution_count": null,
   "metadata": {},
   "outputs": [],
   "source": [
    "# Какие то варианты, которые наверно делают тоже самое\n",
    "# from sympy.solvers.solveset import linsolve\n",
    "# from sympy.solvers.solvers import solve_linear_system_LU"
   ]
  },
  {
   "cell_type": "code",
   "execution_count": null,
   "metadata": {},
   "outputs": [],
   "source": [
    "eq['diff_eq'] = left_inv*right"
   ]
  },
  {
   "cell_type": "code",
   "execution_count": null,
   "metadata": {},
   "outputs": [],
   "source": [
    "len(eq['diff_eq']) # nu1', nu2', alpha''"
   ]
  },
  {
   "cell_type": "code",
   "execution_count": null,
   "metadata": {},
   "outputs": [],
   "source": [
    "eq['diff_eq']"
   ]
  },
  {
   "cell_type": "code",
   "execution_count": null,
   "metadata": {},
   "outputs": [],
   "source": [
    "len(eq['diff_eq'])"
   ]
  },
  {
   "cell_type": "code",
   "execution_count": null,
   "metadata": {},
   "outputs": [],
   "source": [
    "eq['psi']   = []\n",
    "eq['theta'] = []\n",
    "\n",
    "for k in range(3):\n",
    "    eq['theta'].append(subs_init(eq['diff(theta)_nu'](k)))\n",
    "    eq['psi'].append(subs_init(eq['diff(psi)_nu'](k)))"
   ]
  },
  {
   "cell_type": "code",
   "execution_count": null,
   "metadata": {},
   "outputs": [],
   "source": [
    "# уравнения с 6 по 10\n",
    "\n",
    "for k in range(3):\n",
    "    eq['theta'][k] = subs_for_ode(eq['theta'][k])\n",
    "    eq['psi'][k] = subs_for_ode(eq['psi'][k])\n",
    "    \n",
    "#####################\n",
    "# константы  подставлены\n",
    "#####################"
   ]
  },
  {
   "cell_type": "code",
   "execution_count": null,
   "metadata": {},
   "outputs": [],
   "source": [
    "eq['psi'][0]"
   ]
  },
  {
   "cell_type": "code",
   "execution_count": null,
   "metadata": {},
   "outputs": [],
   "source": [
    "for k in range(3):\n",
    "    eq['diff_eq'] = eq['diff_eq'].subs({\n",
    "        Derivative(theta[k], t): eq['theta'][k]\n",
    "    })"
   ]
  },
  {
   "cell_type": "code",
   "execution_count": null,
   "metadata": {},
   "outputs": [],
   "source": [
    "# уравнения с 1 по 3, с подставленными theta[i]'\n",
    "T0, W0 = symbols('T0, W0')\n",
    "eq['diff_eq'] = subs_for_ode(eq['diff_eq']).subs({\n",
    "    W[0]: W0,\n",
    "    T[0]: T0\n",
    "})[2]"
   ]
  },
  {
   "cell_type": "code",
   "execution_count": null,
   "metadata": {},
   "outputs": [],
   "source": [
    "dict_eq = {}\n",
    "list_eq = [0,0,0,0,0,0,0,0,0,0]\n",
    "\n",
    "list_eq[0] = dict_eq['nu1'] = eq['diff_eq'][0]\n",
    "list_eq[1] = dict_eq['nu2'] = eq['diff_eq'][1]\n",
    "list_eq[2] = dict_eq['alpha2'] = eq['diff_eq'][2]\n",
    "list_eq[3] = dict_eq['alpha1'] = alpha2\n",
    "list_eq[4] = dict_eq['theta0'] = eq['theta'][0]\n",
    "list_eq[5] = dict_eq['theta1'] = eq['theta'][1]\n",
    "list_eq[6] = dict_eq['theta2'] = eq['theta'][2]\n",
    "list_eq[7] = dict_eq['psi0'] = eq['psi'][0]\n",
    "list_eq[8] = dict_eq['psi1'] = eq['psi'][1]\n",
    "list_eq[9] = dict_eq['psi2'] = eq['psi'][2]"
   ]
  },
  {
   "cell_type": "code",
   "execution_count": null,
   "metadata": {},
   "outputs": [],
   "source": [
    "from mpmath import *\n",
    "\n",
    "mp.dps = 15;  # точность\n",
    "mp.pretty = True"
   ]
  },
  {
   "cell_type": "code",
   "execution_count": null,
   "metadata": {},
   "outputs": [],
   "source": [
    "list_eq[0]"
   ]
  },
  {
   "cell_type": "code",
   "execution_count": null,
   "metadata": {},
   "outputs": [],
   "source": [
    "temp = lambdify([nu[1], nu[2], alpha1, alpha2, theta0, theta1, theta2, psi[0], psi[1], psi[2]], list_eq[0])"
   ]
  },
  {
   "cell_type": "code",
   "execution_count": null,
   "metadata": {},
   "outputs": [],
   "source": [
    "#############################################\n",
    "# Далее решение этой системы дифф уравнений \n",
    "#############################################"
   ]
  },
  {
   "cell_type": "code",
   "execution_count": null,
   "metadata": {},
   "outputs": [],
   "source": [
    "import numpy as np\n",
    "from scipy.integrate import odeint\n",
    "import matplotlib.pyplot as plt\n",
    "from math import *"
   ]
  },
  {
   "cell_type": "code",
   "execution_count": null,
   "metadata": {},
   "outputs": [],
   "source": [
    "type(list_eq[0])"
   ]
  },
  {
   "cell_type": "code",
   "execution_count": null,
   "metadata": {},
   "outputs": [],
   "source": [
    "def f(y, t, T0, W0, d):\n",
    "    '''Определение правой части системы лин уравнений'''\n",
    "    nu1_t, nu2_t, alpha1, alpha2, theta0, theta1, theta2, psi0, psi1, psi2 = y\n",
    "    return list_eq"
   ]
  },
  {
   "cell_type": "code",
   "execution_count": null,
   "metadata": {},
   "outputs": [],
   "source": [
    "begin_v = [0,0,0,0,0,0,0,0,0,0]\n",
    "t = np.linspace(0, 1, 51) # ну вот такое себе конечно\n",
    "T0 = 1.0\n",
    "W0 = 1.0\n",
    "d = 0.5"
   ]
  },
  {
   "cell_type": "code",
   "execution_count": null,
   "metadata": {},
   "outputs": [],
   "source": [
    "res = odeint(f, begin_v, t, args=(T0, W0, d,))"
   ]
  },
  {
   "cell_type": "code",
   "execution_count": null,
   "metadata": {},
   "outputs": [],
   "source": [
    "list_res = []\n",
    "\n",
    "for x in range(10):\n",
    "    list_res.append(res[:,x])"
   ]
  },
  {
   "cell_type": "code",
   "execution_count": null,
   "metadata": {},
   "outputs": [],
   "source": []
  },
  {
   "cell_type": "code",
   "execution_count": null,
   "metadata": {},
   "outputs": [],
   "source": []
  }
 ],
 "metadata": {
  "kernelspec": {
   "display_name": "Python 3",
   "language": "python",
   "name": "python3"
  },
  "toc": {
   "base_numbering": 1,
   "nav_menu": {},
   "number_sections": true,
   "sideBar": true,
   "skip_h1_title": false,
   "title_cell": "Table of Contents",
   "title_sidebar": "Contents",
   "toc_cell": false,
   "toc_position": {
    "height": "calc(100% - 180px)",
    "left": "10px",
    "top": "150px",
    "width": "165px"
   },
   "toc_section_display": true,
   "toc_window_display": false
  },
  "varInspector": {
   "cols": {
    "lenName": 16,
    "lenType": 16,
    "lenVar": 40
   },
   "kernels_config": {
    "python": {
     "delete_cmd_postfix": "",
     "delete_cmd_prefix": "del ",
     "library": "var_list.py",
     "varRefreshCmd": "print(var_dic_list())"
    },
    "r": {
     "delete_cmd_postfix": ") ",
     "delete_cmd_prefix": "rm(",
     "library": "var_list.r",
     "varRefreshCmd": "cat(var_dic_list()) "
    }
   },
   "position": {
    "height": "596px",
    "left": "-3px",
    "right": "20px",
    "top": "158px",
    "width": "323px"
   },
   "types_to_exclude": [
    "module",
    "function",
    "builtin_function_or_method",
    "instance",
    "_Feature"
   ],
   "window_display": false
  }
 },
 "nbformat": 4,
 "nbformat_minor": 2
}
