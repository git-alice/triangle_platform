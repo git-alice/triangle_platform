{
 "cells": [
  {
   "cell_type": "code",
   "execution_count": 65,
   "metadata": {},
   "outputs": [
    {
     "name": "stdout",
     "output_type": "stream",
     "text": [
      "The autoreload extension is already loaded. To reload it, use:\n",
      "  %reload_ext autoreload\n"
     ]
    }
   ],
   "source": [
    "%load_ext autoreload\n",
    "%autoreload 2\n",
    "\n",
    "from draw import *\n",
    "from utils import read_obj, write_obj\n",
    "import numpy as np\n",
    "import pandas as pd"
   ]
  },
  {
   "cell_type": "code",
   "execution_count": 29,
   "metadata": {},
   "outputs": [],
   "source": [
    "det_matrix = read_obj('matrix_det_T1_W1_alpha')\n",
    "raw_matrix = read_obj('matrix_raw_T1_W1_alpha')\n",
    "subs_matrix = read_obj('matrix_T1_W1_alpha')"
   ]
  },
  {
   "cell_type": "code",
   "execution_count": 73,
   "metadata": {},
   "outputs": [],
   "source": [
    "matrix_subs = raw_matrix.subs({\n",
    "#              r: 0.15,\n",
    "             beta[0]: 0,\n",
    "             alpha: 0,\n",
    "#              m['wheel']: 0.2*((0.2)**2)/4,\n",
    "             m['wheel']: mm,\n",
    "#              a: 1/2,\n",
    "             c: mm*(r**2)/2,\n",
    "             b: mm*(r**2)/4\n",
    "             })"
   ]
  },
  {
   "cell_type": "code",
   "execution_count": 74,
   "metadata": {},
   "outputs": [],
   "source": [
    "mm = symbols('mm')"
   ]
  },
  {
   "cell_type": "code",
   "execution_count": 76,
   "metadata": {},
   "outputs": [
    {
     "data": {
      "text/latex": [
       "$$\\frac{a d - 2 d mm \\sin^{2}{\\left (\\theta_{0}{\\left (t \\right )} \\right )} - \\frac{mm r^{2} \\sin^{4}{\\left (\\theta_{0}{\\left (t \\right )} \\right )} \\cos{\\left (\\theta_{0}{\\left (t \\right )} \\right )}}{4} + \\frac{mm r^{2} \\cos^{5}{\\left (\\theta_{0}{\\left (t \\right )} \\right )}}{4} - \\frac{mm r^{2} \\cos^{3}{\\left (\\theta_{0}{\\left (t \\right )} \\right )}}{2}}{d^{2} r}$$"
      ],
      "text/plain": [
       "                               2    4                         2    5          \n",
       "                2          mm⋅r ⋅sin (θ₀(t))⋅cos(θ₀(t))   mm⋅r ⋅cos (θ₀(t))   \n",
       "a⋅d - 2⋅d⋅mm⋅sin (θ₀(t)) - ──────────────────────────── + ───────────────── - \n",
       "                                        4                         4           \n",
       "──────────────────────────────────────────────────────────────────────────────\n",
       "                                               2                              \n",
       "                                              d ⋅r                            \n",
       "\n",
       "    2    3       \n",
       "mm⋅r ⋅cos (θ₀(t))\n",
       "─────────────────\n",
       "        2        \n",
       "─────────────────\n",
       "                 \n",
       "                 "
      ]
     },
     "execution_count": 76,
     "metadata": {},
     "output_type": "execute_result"
    }
   ],
   "source": [
    "init_printing(use_latex='mathjax')\n",
    "simplify(matrix_subs.det())\n",
    "# посмтроить график относительно d | ползунок"
   ]
  },
  {
   "cell_type": "code",
   "execution_count": 50,
   "metadata": {},
   "outputs": [
    {
     "data": {
      "text/plain": [
       "-6.66666666666667*cos(theta0(t))"
      ]
     },
     "execution_count": 50,
     "metadata": {},
     "output_type": "execute_result"
    }
   ],
   "source": [
    "simplify(subs_matrix)[5]"
   ]
  },
  {
   "cell_type": "code",
   "execution_count": 38,
   "metadata": {},
   "outputs": [],
   "source": [
    "det_arr = []\n",
    "theta_arr = np.linspace(0., 6.28, num=100)\n",
    "for x in theta_arr:\n",
    "    det_arr.append(float(det_matrix.subs({theta[0]: x})))\n",
    "det_arr = np.array(det_arr)"
   ]
  },
  {
   "cell_type": "code",
   "execution_count": null,
   "metadata": {},
   "outputs": [],
   "source": []
  },
  {
   "cell_type": "code",
   "execution_count": 39,
   "metadata": {},
   "outputs": [],
   "source": [
    "df_det = pd.DataFrame([])\n",
    "\n",
    "df_det['det'] = det_arr\n",
    "df_det['theta'] = theta_arr\n",
    "# df_det"
   ]
  },
  {
   "cell_type": "code",
   "execution_count": 40,
   "metadata": {},
   "outputs": [],
   "source": [
    "data = data_for_plotly(\n",
    "    {\n",
    "        'x': df_det.theta.values,\n",
    "        'y': df_det.det.values,\n",
    "        'name': 'x y'\n",
    "    }\n",
    ")\n"
   ]
  },
  {
   "cell_type": "code",
   "execution_count": 41,
   "metadata": {},
   "outputs": [
    {
     "name": "stdout",
     "output_type": "stream",
     "text": [
      "High five! You successfully sent some data to your account on plotly. View your plot in your browser at https://plot.ly/~plotly-alice/0 or inside your plot.ly account where it is named 'line-mode'\n"
     ]
    },
    {
     "data": {
      "text/html": [
       "<iframe id=\"igraph\" scrolling=\"no\" style=\"border:none;\" seamless=\"seamless\" src=\"https://plot.ly/~plotly-alice/0.embed\" height=\"525px\" width=\"100%\"></iframe>"
      ],
      "text/plain": [
       "<plotly.tools.PlotlyDisplay object>"
      ]
     },
     "execution_count": 41,
     "metadata": {},
     "output_type": "execute_result"
    }
   ],
   "source": [
    "\n",
    "py.iplot(data, filename='line-mode')"
   ]
  },
  {
   "cell_type": "code",
   "execution_count": null,
   "metadata": {},
   "outputs": [],
   "source": []
  },
  {
   "cell_type": "code",
   "execution_count": null,
   "metadata": {},
   "outputs": [],
   "source": []
  }
 ],
 "metadata": {
  "kernelspec": {
   "display_name": "Python 3",
   "language": "python",
   "name": "python3"
  },
  "language_info": {
   "codemirror_mode": {
    "name": "ipython",
    "version": 3
   },
   "file_extension": ".py",
   "mimetype": "text/x-python",
   "name": "python",
   "nbconvert_exporter": "python",
   "pygments_lexer": "ipython3",
   "version": "3.6.7"
  }
 },
 "nbformat": 4,
 "nbformat_minor": 2
}
