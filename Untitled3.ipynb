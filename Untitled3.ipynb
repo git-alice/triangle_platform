{
 "cells": [
  {
   "cell_type": "code",
   "execution_count": 2,
   "metadata": {},
   "outputs": [
    {
     "name": "stdout",
     "output_type": "stream",
     "text": [
      "The autoreload extension is already loaded. To reload it, use:\n",
      "  %reload_ext autoreload\n"
     ]
    }
   ],
   "source": [
    "%load_ext autoreload\n",
    "%autoreload 2\n",
    "\n",
    "from draw import *\n",
    "from utils import read_obj, write_obj\n",
    "import numpy as np\n",
    "import pandas as pd"
   ]
  },
  {
   "cell_type": "markdown",
   "metadata": {},
   "source": [
    "### Определитель"
   ]
  },
  {
   "cell_type": "code",
   "execution_count": 58,
   "metadata": {},
   "outputs": [],
   "source": [
    "det_matrix = read_obj('matrix_det_T1_W1_alpha')\n",
    "raw_matrix = read_obj('matrix_raw_T1_W1_alpha')\n",
    "subs_matrix = read_obj('matrix_T1_W1_alpha')"
   ]
  },
  {
   "cell_type": "code",
   "execution_count": 83,
   "metadata": {},
   "outputs": [
    {
     "data": {
      "text/latex": [
       "$$\\frac{a \\sin^{2}{\\left (\\alpha{\\left (t \\right )} + \\theta_{0}{\\left (t \\right )} \\right )}}{d r} + \\frac{a \\cos^{2}{\\left (\\alpha{\\left (t \\right )} + \\theta_{0}{\\left (t \\right )} \\right )}}{d r} - \\frac{b \\sin^{2}{\\left (\\alpha{\\left (t \\right )} + \\theta_{0}{\\left (t \\right )} \\right )} \\cos{\\left (\\beta_{0}{\\left (t \\right )} - \\theta_{0}{\\left (t \\right )} \\right )}}{d^{2} r} - \\frac{b \\cos^{2}{\\left (\\alpha{\\left (t \\right )} + \\theta_{0}{\\left (t \\right )} \\right )} \\cos{\\left (\\beta_{0}{\\left (t \\right )} - \\theta_{0}{\\left (t \\right )} \\right )}}{d^{2} r} - \\frac{c \\sin{\\left (\\alpha{\\left (t \\right )} + \\theta_{0}{\\left (t \\right )} \\right )} \\sin{\\left (\\beta_{0}{\\left (t \\right )} - \\theta_{0}{\\left (t \\right )} \\right )} \\cos^{2}{\\left (\\alpha{\\left (t \\right )} + \\theta_{0}{\\left (t \\right )} \\right )}}{r^{3}} + \\frac{c \\cos{\\left (\\alpha{\\left (t \\right )} + \\theta_{0}{\\left (t \\right )} \\right )} \\cos{\\left (2 \\alpha{\\left (t \\right )} - \\beta_{0}{\\left (t \\right )} + 3 \\theta_{0}{\\left (t \\right )} \\right )}}{4 r^{3}} - \\frac{c \\cos{\\left (\\alpha{\\left (t \\right )} + \\theta_{0}{\\left (t \\right )} \\right )} \\cos{\\left (2 \\alpha{\\left (t \\right )} + \\beta_{0}{\\left (t \\right )} + \\theta_{0}{\\left (t \\right )} \\right )}}{4 r^{3}} + \\frac{c \\sin^{2}{\\left (\\alpha{\\left (t \\right )} + \\theta_{0}{\\left (t \\right )} \\right )} \\sin^{2}{\\left (\\beta_{0}{\\left (t \\right )} - \\theta_{0}{\\left (t \\right )} \\right )} \\cos{\\left (\\alpha{\\left (t \\right )} + \\theta_{0}{\\left (t \\right )} \\right )}}{d r^{3}} - \\frac{c \\sin{\\left (\\alpha{\\left (t \\right )} + \\theta_{0}{\\left (t \\right )} \\right )} \\sin{\\left (\\beta_{0}{\\left (t \\right )} - \\theta_{0}{\\left (t \\right )} \\right )} \\cos^{2}{\\left (\\alpha{\\left (t \\right )} + \\theta_{0}{\\left (t \\right )} \\right )} \\cos{\\left (\\beta_{0}{\\left (t \\right )} - \\theta_{0}{\\left (t \\right )} \\right )}}{d r^{3}} - \\frac{c \\sin{\\left (\\alpha{\\left (t \\right )} + \\theta_{0}{\\left (t \\right )} \\right )} \\sin{\\left (\\beta_{0}{\\left (t \\right )} - \\theta_{0}{\\left (t \\right )} \\right )} \\cos{\\left (2 \\alpha{\\left (t \\right )} - \\beta_{0}{\\left (t \\right )} + 3 \\theta_{0}{\\left (t \\right )} \\right )}}{4 d r^{3}} + \\frac{c \\sin{\\left (\\alpha{\\left (t \\right )} + \\theta_{0}{\\left (t \\right )} \\right )} \\sin{\\left (\\beta_{0}{\\left (t \\right )} - \\theta_{0}{\\left (t \\right )} \\right )} \\cos{\\left (2 \\alpha{\\left (t \\right )} + \\beta_{0}{\\left (t \\right )} + \\theta_{0}{\\left (t \\right )} \\right )}}{4 d r^{3}} + \\frac{c \\cos{\\left (\\alpha{\\left (t \\right )} + \\theta_{0}{\\left (t \\right )} \\right )} \\cos{\\left (\\beta_{0}{\\left (t \\right )} - \\theta_{0}{\\left (t \\right )} \\right )} \\cos{\\left (2 \\alpha{\\left (t \\right )} - \\beta_{0}{\\left (t \\right )} + 3 \\theta_{0}{\\left (t \\right )} \\right )}}{4 d r^{3}} - \\frac{c \\cos{\\left (\\alpha{\\left (t \\right )} + \\theta_{0}{\\left (t \\right )} \\right )} \\cos{\\left (\\beta_{0}{\\left (t \\right )} - \\theta_{0}{\\left (t \\right )} \\right )} \\cos{\\left (2 \\alpha{\\left (t \\right )} + \\beta_{0}{\\left (t \\right )} + \\theta_{0}{\\left (t \\right )} \\right )}}{4 d r^{3}} - \\frac{m_{2} \\sin^{2}{\\left (\\alpha{\\left (t \\right )} + \\theta_{0}{\\left (t \\right )} \\right )} \\sin^{2}{\\left (\\beta_{0}{\\left (t \\right )} - \\theta_{0}{\\left (t \\right )} \\right )}}{d r} - \\frac{m_{2} \\sin^{2}{\\left (\\alpha{\\left (t \\right )} + \\theta_{0}{\\left (t \\right )} \\right )} \\sin^{2}{\\left (\\beta_{0}{\\left (t \\right )} \\right )}}{d r} + \\frac{2 m_{2} \\sin^{2}{\\left (\\alpha{\\left (t \\right )} + \\theta_{0}{\\left (t \\right )} \\right )} \\sin{\\left (\\beta_{0}{\\left (t \\right )} \\right )} \\sin{\\left (\\theta_{0}{\\left (t \\right )} \\right )} \\cos{\\left (\\beta_{0}{\\left (t \\right )} - \\theta_{0}{\\left (t \\right )} \\right )}}{d r} - \\frac{m_{2} \\sin^{2}{\\left (\\alpha{\\left (t \\right )} + \\theta_{0}{\\left (t \\right )} \\right )} \\sin^{2}{\\left (\\theta_{0}{\\left (t \\right )} \\right )}}{d r} - \\frac{m_{2} \\sin^{2}{\\left (\\beta_{0}{\\left (t \\right )} - \\theta_{0}{\\left (t \\right )} \\right )} \\cos^{2}{\\left (\\alpha{\\left (t \\right )} + \\theta_{0}{\\left (t \\right )} \\right )}}{d r} - \\frac{m_{2} \\sin^{2}{\\left (\\beta_{0}{\\left (t \\right )} \\right )} \\cos^{2}{\\left (\\alpha{\\left (t \\right )} + \\theta_{0}{\\left (t \\right )} \\right )}}{d r} + \\frac{2 m_{2} \\sin{\\left (\\beta_{0}{\\left (t \\right )} \\right )} \\sin{\\left (\\theta_{0}{\\left (t \\right )} \\right )} \\cos^{2}{\\left (\\alpha{\\left (t \\right )} + \\theta_{0}{\\left (t \\right )} \\right )} \\cos{\\left (\\beta_{0}{\\left (t \\right )} - \\theta_{0}{\\left (t \\right )} \\right )}}{d r} - \\frac{m_{2} \\sin^{2}{\\left (\\theta_{0}{\\left (t \\right )} \\right )} \\cos^{2}{\\left (\\alpha{\\left (t \\right )} + \\theta_{0}{\\left (t \\right )} \\right )}}{d r}$$"
      ],
      "text/plain": [
       "     2                      2                      2                          \n",
       "a⋅sin (α(t) + θ₀(t))   a⋅cos (α(t) + θ₀(t))   b⋅sin (α(t) + θ₀(t))⋅cos(β₀(t) -\n",
       "──────────────────── + ──────────────────── - ────────────────────────────────\n",
       "        d⋅r                    d⋅r                               2            \n",
       "                                                                d ⋅r          \n",
       "\n",
       "               2                                                              \n",
       " θ₀(t))   b⋅cos (α(t) + θ₀(t))⋅cos(β₀(t) - θ₀(t))   c⋅sin(α(t) + θ₀(t))⋅sin(β₀\n",
       "─────── - ─────────────────────────────────────── - ──────────────────────────\n",
       "                             2                                                \n",
       "                            d ⋅r                                              \n",
       "\n",
       "                2                                                             \n",
       "(t) - θ₀(t))⋅cos (α(t) + θ₀(t))   c⋅cos(α(t) + θ₀(t))⋅cos(2⋅α(t) - β₀(t) + 3⋅θ\n",
       "─────────────────────────────── + ────────────────────────────────────────────\n",
       "   3                                                        3                 \n",
       "  r                                                      4⋅r                  \n",
       "\n",
       "                                                               2              \n",
       "₀(t))   c⋅cos(α(t) + θ₀(t))⋅cos(2⋅α(t) + β₀(t) + θ₀(t))   c⋅sin (α(t) + θ₀(t))\n",
       "───── - ─────────────────────────────────────────────── + ────────────────────\n",
       "                                 3                                            \n",
       "                              4⋅r                                             \n",
       "\n",
       "    2                                                                         \n",
       "⋅sin (β₀(t) - θ₀(t))⋅cos(α(t) + θ₀(t))   c⋅sin(α(t) + θ₀(t))⋅sin(β₀(t) - θ₀(t)\n",
       "────────────────────────────────────── - ─────────────────────────────────────\n",
       "          3                                                                   \n",
       "       d⋅r                                                                   d\n",
       "\n",
       "     2                                                                        \n",
       ")⋅cos (α(t) + θ₀(t))⋅cos(β₀(t) - θ₀(t))   c⋅sin(α(t) + θ₀(t))⋅sin(β₀(t) - θ₀(t\n",
       "─────────────────────────────────────── - ────────────────────────────────────\n",
       "  3                                                                           \n",
       "⋅r                                                                       4⋅d⋅r\n",
       "\n",
       "                                                                              \n",
       "))⋅cos(2⋅α(t) - β₀(t) + 3⋅θ₀(t))   c⋅sin(α(t) + θ₀(t))⋅sin(β₀(t) - θ₀(t))⋅cos(\n",
       "──────────────────────────────── + ───────────────────────────────────────────\n",
       "3                                                                     3       \n",
       "                                                                 4⋅d⋅r        \n",
       "\n",
       "                                                                              \n",
       "2⋅α(t) + β₀(t) + θ₀(t))   c⋅cos(α(t) + θ₀(t))⋅cos(β₀(t) - θ₀(t))⋅cos(2⋅α(t) - \n",
       "─────────────────────── + ────────────────────────────────────────────────────\n",
       "                                                              3               \n",
       "                                                         4⋅d⋅r                \n",
       "\n",
       "                                                                              \n",
       "β₀(t) + 3⋅θ₀(t))   c⋅cos(α(t) + θ₀(t))⋅cos(β₀(t) - θ₀(t))⋅cos(2⋅α(t) + β₀(t) +\n",
       "──────────────── - ───────────────────────────────────────────────────────────\n",
       "                                                      3                       \n",
       "                                                 4⋅d⋅r                        \n",
       "\n",
       "                2                  2                        2                 \n",
       " θ₀(t))   m₂⋅sin (α(t) + θ₀(t))⋅sin (β₀(t) - θ₀(t))   m₂⋅sin (α(t) + θ₀(t))⋅si\n",
       "─────── - ───────────────────────────────────────── - ────────────────────────\n",
       "                             d⋅r                                     d⋅r      \n",
       "                                                                              \n",
       "\n",
       " 2                  2                                                         \n",
       "n (β₀(t))   2⋅m₂⋅sin (α(t) + θ₀(t))⋅sin(β₀(t))⋅sin(θ₀(t))⋅cos(β₀(t) - θ₀(t))  \n",
       "───────── + ──────────────────────────────────────────────────────────────── -\n",
       "                                          d⋅r                                 \n",
       "                                                                              \n",
       "\n",
       "       2                  2                2                   2              \n",
       " m₂⋅sin (α(t) + θ₀(t))⋅sin (θ₀(t))   m₂⋅sin (β₀(t) - θ₀(t))⋅cos (α(t) + θ₀(t))\n",
       " ───────────────────────────────── - ─────────────────────────────────────────\n",
       "                d⋅r                                     d⋅r                   \n",
       "                                                                              \n",
       "\n",
       "         2           2                                               2        \n",
       "   m₂⋅sin (β₀(t))⋅cos (α(t) + θ₀(t))   2⋅m₂⋅sin(β₀(t))⋅sin(θ₀(t))⋅cos (α(t) + \n",
       " - ───────────────────────────────── + ───────────────────────────────────────\n",
       "                  d⋅r                                                d⋅r      \n",
       "                                                                              \n",
       "\n",
       "                                  2           2              \n",
       "θ₀(t))⋅cos(β₀(t) - θ₀(t))   m₂⋅sin (θ₀(t))⋅cos (α(t) + θ₀(t))\n",
       "───────────────────────── - ─────────────────────────────────\n",
       "                                           d⋅r               \n",
       "                                                             "
      ]
     },
     "execution_count": 83,
     "metadata": {},
     "output_type": "execute_result"
    }
   ],
   "source": [
    "simplify(raw_matrix.det())"
   ]
  },
  {
   "cell_type": "code",
   "execution_count": 5,
   "metadata": {},
   "outputs": [],
   "source": [
    "matrix_subs = raw_matrix.subs({\n",
    "#              r: 0.15,\n",
    "             beta[0]: 0,\n",
    "             alpha: 0,\n",
    "#              m['wheel']: 0.2*((0.2)**2)/4,\n",
    "#              m['wheel']: m_1,\n",
    "#              a: 1/2,\n",
    "             c: m['wheel']*(r**2)/2,\n",
    "             b: m['wheel']*(r**2)/4\n",
    "             })"
   ]
  },
  {
   "cell_type": "code",
   "execution_count": 7,
   "metadata": {},
   "outputs": [
    {
     "data": {
      "text/latex": [
       "$$\\frac{a d - 2 d m_{1} \\sin^{2}{\\left (\\theta_{0}{\\left (t \\right )} \\right )} - \\frac{m_{1} r^{2} \\sin^{4}{\\left (\\theta_{0}{\\left (t \\right )} \\right )} \\cos{\\left (\\theta_{0}{\\left (t \\right )} \\right )}}{4} + \\frac{m_{1} r^{2} \\cos^{5}{\\left (\\theta_{0}{\\left (t \\right )} \\right )}}{4} - \\frac{m_{1} r^{2} \\cos^{3}{\\left (\\theta_{0}{\\left (t \\right )} \\right )}}{2}}{d^{2} r}$$"
      ],
      "text/plain": [
       "                               2    4                         2    5          \n",
       "                2          m₁⋅r ⋅sin (θ₀(t))⋅cos(θ₀(t))   m₁⋅r ⋅cos (θ₀(t))   \n",
       "a⋅d - 2⋅d⋅m₁⋅sin (θ₀(t)) - ──────────────────────────── + ───────────────── - \n",
       "                                        4                         4           \n",
       "──────────────────────────────────────────────────────────────────────────────\n",
       "                                               2                              \n",
       "                                              d ⋅r                            \n",
       "\n",
       "    2    3       \n",
       "m₁⋅r ⋅cos (θ₀(t))\n",
       "─────────────────\n",
       "        2        \n",
       "─────────────────\n",
       "                 \n",
       "                 "
      ]
     },
     "execution_count": 7,
     "metadata": {},
     "output_type": "execute_result"
    }
   ],
   "source": [
    "init_printing(use_latex='mathjax')\n",
    "simplify(matrix_subs.det())\n"
   ]
  },
  {
   "cell_type": "code",
   "execution_count": null,
   "metadata": {},
   "outputs": [],
   "source": []
  },
  {
   "cell_type": "code",
   "execution_count": 85,
   "metadata": {},
   "outputs": [],
   "source": [
    "            "
   ]
  },
  {
   "cell_type": "code",
   "execution_count": 92,
   "metadata": {},
   "outputs": [],
   "source": []
  },
  {
   "cell_type": "code",
   "execution_count": null,
   "metadata": {},
   "outputs": [],
   "source": []
  },
  {
   "cell_type": "code",
   "execution_count": 89,
   "metadata": {},
   "outputs": [
    {
     "data": {
      "text/latex": [
       "$$0.125$$"
      ],
      "text/plain": [
       "0.125"
      ]
     },
     "execution_count": 89,
     "metadata": {},
     "output_type": "execute_result"
    }
   ],
   "source": []
  },
  {
   "cell_type": "markdown",
   "metadata": {},
   "source": [
    "### посмтроить график относительно d | ползунок"
   ]
  },
  {
   "cell_type": "code",
   "execution_count": 63,
   "metadata": {},
   "outputs": [
    {
     "data": {
      "text/latex": [
       "$$\\frac{a \\sin^{2}{\\left (\\alpha{\\left (t \\right )} + \\theta_{0}{\\left (t \\right )} \\right )}}{d r} + \\frac{a \\cos^{2}{\\left (\\alpha{\\left (t \\right )} + \\theta_{0}{\\left (t \\right )} \\right )}}{d r} - \\frac{b \\sin^{2}{\\left (\\alpha{\\left (t \\right )} + \\theta_{0}{\\left (t \\right )} \\right )} \\cos{\\left (\\beta_{0}{\\left (t \\right )} - \\theta_{0}{\\left (t \\right )} \\right )}}{d^{2} r} - \\frac{b \\cos^{2}{\\left (\\alpha{\\left (t \\right )} + \\theta_{0}{\\left (t \\right )} \\right )} \\cos{\\left (\\beta_{0}{\\left (t \\right )} - \\theta_{0}{\\left (t \\right )} \\right )}}{d^{2} r} - \\frac{c \\sin{\\left (\\alpha{\\left (t \\right )} + \\theta_{0}{\\left (t \\right )} \\right )} \\sin{\\left (\\beta_{0}{\\left (t \\right )} - \\theta_{0}{\\left (t \\right )} \\right )} \\cos^{2}{\\left (\\alpha{\\left (t \\right )} + \\theta_{0}{\\left (t \\right )} \\right )}}{r^{3}} + \\frac{c \\cos{\\left (\\alpha{\\left (t \\right )} + \\theta_{0}{\\left (t \\right )} \\right )} \\cos{\\left (2 \\alpha{\\left (t \\right )} - \\beta_{0}{\\left (t \\right )} + 3 \\theta_{0}{\\left (t \\right )} \\right )}}{4 r^{3}} - \\frac{c \\cos{\\left (\\alpha{\\left (t \\right )} + \\theta_{0}{\\left (t \\right )} \\right )} \\cos{\\left (2 \\alpha{\\left (t \\right )} + \\beta_{0}{\\left (t \\right )} + \\theta_{0}{\\left (t \\right )} \\right )}}{4 r^{3}} + \\frac{c \\sin^{2}{\\left (\\alpha{\\left (t \\right )} + \\theta_{0}{\\left (t \\right )} \\right )} \\sin^{2}{\\left (\\beta_{0}{\\left (t \\right )} - \\theta_{0}{\\left (t \\right )} \\right )} \\cos{\\left (\\alpha{\\left (t \\right )} + \\theta_{0}{\\left (t \\right )} \\right )}}{d r^{3}} - \\frac{c \\sin{\\left (\\alpha{\\left (t \\right )} + \\theta_{0}{\\left (t \\right )} \\right )} \\sin{\\left (\\beta_{0}{\\left (t \\right )} - \\theta_{0}{\\left (t \\right )} \\right )} \\cos^{2}{\\left (\\alpha{\\left (t \\right )} + \\theta_{0}{\\left (t \\right )} \\right )} \\cos{\\left (\\beta_{0}{\\left (t \\right )} - \\theta_{0}{\\left (t \\right )} \\right )}}{d r^{3}} - \\frac{c \\sin{\\left (\\alpha{\\left (t \\right )} + \\theta_{0}{\\left (t \\right )} \\right )} \\sin{\\left (\\beta_{0}{\\left (t \\right )} - \\theta_{0}{\\left (t \\right )} \\right )} \\cos{\\left (2 \\alpha{\\left (t \\right )} - \\beta_{0}{\\left (t \\right )} + 3 \\theta_{0}{\\left (t \\right )} \\right )}}{4 d r^{3}} + \\frac{c \\sin{\\left (\\alpha{\\left (t \\right )} + \\theta_{0}{\\left (t \\right )} \\right )} \\sin{\\left (\\beta_{0}{\\left (t \\right )} - \\theta_{0}{\\left (t \\right )} \\right )} \\cos{\\left (2 \\alpha{\\left (t \\right )} + \\beta_{0}{\\left (t \\right )} + \\theta_{0}{\\left (t \\right )} \\right )}}{4 d r^{3}} + \\frac{c \\cos{\\left (\\alpha{\\left (t \\right )} + \\theta_{0}{\\left (t \\right )} \\right )} \\cos{\\left (\\beta_{0}{\\left (t \\right )} - \\theta_{0}{\\left (t \\right )} \\right )} \\cos{\\left (2 \\alpha{\\left (t \\right )} - \\beta_{0}{\\left (t \\right )} + 3 \\theta_{0}{\\left (t \\right )} \\right )}}{4 d r^{3}} - \\frac{c \\cos{\\left (\\alpha{\\left (t \\right )} + \\theta_{0}{\\left (t \\right )} \\right )} \\cos{\\left (\\beta_{0}{\\left (t \\right )} - \\theta_{0}{\\left (t \\right )} \\right )} \\cos{\\left (2 \\alpha{\\left (t \\right )} + \\beta_{0}{\\left (t \\right )} + \\theta_{0}{\\left (t \\right )} \\right )}}{4 d r^{3}} - \\frac{m_{2} \\sin^{2}{\\left (\\alpha{\\left (t \\right )} + \\theta_{0}{\\left (t \\right )} \\right )} \\sin^{2}{\\left (\\beta_{0}{\\left (t \\right )} - \\theta_{0}{\\left (t \\right )} \\right )}}{d r} - \\frac{m_{2} \\sin^{2}{\\left (\\alpha{\\left (t \\right )} + \\theta_{0}{\\left (t \\right )} \\right )} \\sin^{2}{\\left (\\beta_{0}{\\left (t \\right )} \\right )}}{d r} + \\frac{2 m_{2} \\sin^{2}{\\left (\\alpha{\\left (t \\right )} + \\theta_{0}{\\left (t \\right )} \\right )} \\sin{\\left (\\beta_{0}{\\left (t \\right )} \\right )} \\sin{\\left (\\theta_{0}{\\left (t \\right )} \\right )} \\cos{\\left (\\beta_{0}{\\left (t \\right )} - \\theta_{0}{\\left (t \\right )} \\right )}}{d r} - \\frac{m_{2} \\sin^{2}{\\left (\\alpha{\\left (t \\right )} + \\theta_{0}{\\left (t \\right )} \\right )} \\sin^{2}{\\left (\\theta_{0}{\\left (t \\right )} \\right )}}{d r} - \\frac{m_{2} \\sin^{2}{\\left (\\beta_{0}{\\left (t \\right )} - \\theta_{0}{\\left (t \\right )} \\right )} \\cos^{2}{\\left (\\alpha{\\left (t \\right )} + \\theta_{0}{\\left (t \\right )} \\right )}}{d r} - \\frac{m_{2} \\sin^{2}{\\left (\\beta_{0}{\\left (t \\right )} \\right )} \\cos^{2}{\\left (\\alpha{\\left (t \\right )} + \\theta_{0}{\\left (t \\right )} \\right )}}{d r} + \\frac{2 m_{2} \\sin{\\left (\\beta_{0}{\\left (t \\right )} \\right )} \\sin{\\left (\\theta_{0}{\\left (t \\right )} \\right )} \\cos^{2}{\\left (\\alpha{\\left (t \\right )} + \\theta_{0}{\\left (t \\right )} \\right )} \\cos{\\left (\\beta_{0}{\\left (t \\right )} - \\theta_{0}{\\left (t \\right )} \\right )}}{d r} - \\frac{m_{2} \\sin^{2}{\\left (\\theta_{0}{\\left (t \\right )} \\right )} \\cos^{2}{\\left (\\alpha{\\left (t \\right )} + \\theta_{0}{\\left (t \\right )} \\right )}}{d r}$$"
      ],
      "text/plain": [
       "     2                      2                      2                          \n",
       "a⋅sin (α(t) + θ₀(t))   a⋅cos (α(t) + θ₀(t))   b⋅sin (α(t) + θ₀(t))⋅cos(β₀(t) -\n",
       "──────────────────── + ──────────────────── - ────────────────────────────────\n",
       "        d⋅r                    d⋅r                               2            \n",
       "                                                                d ⋅r          \n",
       "\n",
       "               2                                                              \n",
       " θ₀(t))   b⋅cos (α(t) + θ₀(t))⋅cos(β₀(t) - θ₀(t))   c⋅sin(α(t) + θ₀(t))⋅sin(β₀\n",
       "─────── - ─────────────────────────────────────── - ──────────────────────────\n",
       "                             2                                                \n",
       "                            d ⋅r                                              \n",
       "\n",
       "                2                                                             \n",
       "(t) - θ₀(t))⋅cos (α(t) + θ₀(t))   c⋅cos(α(t) + θ₀(t))⋅cos(2⋅α(t) - β₀(t) + 3⋅θ\n",
       "─────────────────────────────── + ────────────────────────────────────────────\n",
       "   3                                                        3                 \n",
       "  r                                                      4⋅r                  \n",
       "\n",
       "                                                               2              \n",
       "₀(t))   c⋅cos(α(t) + θ₀(t))⋅cos(2⋅α(t) + β₀(t) + θ₀(t))   c⋅sin (α(t) + θ₀(t))\n",
       "───── - ─────────────────────────────────────────────── + ────────────────────\n",
       "                                 3                                            \n",
       "                              4⋅r                                             \n",
       "\n",
       "    2                                                                         \n",
       "⋅sin (β₀(t) - θ₀(t))⋅cos(α(t) + θ₀(t))   c⋅sin(α(t) + θ₀(t))⋅sin(β₀(t) - θ₀(t)\n",
       "────────────────────────────────────── - ─────────────────────────────────────\n",
       "          3                                                                   \n",
       "       d⋅r                                                                   d\n",
       "\n",
       "     2                                                                        \n",
       ")⋅cos (α(t) + θ₀(t))⋅cos(β₀(t) - θ₀(t))   c⋅sin(α(t) + θ₀(t))⋅sin(β₀(t) - θ₀(t\n",
       "─────────────────────────────────────── - ────────────────────────────────────\n",
       "  3                                                                           \n",
       "⋅r                                                                       4⋅d⋅r\n",
       "\n",
       "                                                                              \n",
       "))⋅cos(2⋅α(t) - β₀(t) + 3⋅θ₀(t))   c⋅sin(α(t) + θ₀(t))⋅sin(β₀(t) - θ₀(t))⋅cos(\n",
       "──────────────────────────────── + ───────────────────────────────────────────\n",
       "3                                                                     3       \n",
       "                                                                 4⋅d⋅r        \n",
       "\n",
       "                                                                              \n",
       "2⋅α(t) + β₀(t) + θ₀(t))   c⋅cos(α(t) + θ₀(t))⋅cos(β₀(t) - θ₀(t))⋅cos(2⋅α(t) - \n",
       "─────────────────────── + ────────────────────────────────────────────────────\n",
       "                                                              3               \n",
       "                                                         4⋅d⋅r                \n",
       "\n",
       "                                                                              \n",
       "β₀(t) + 3⋅θ₀(t))   c⋅cos(α(t) + θ₀(t))⋅cos(β₀(t) - θ₀(t))⋅cos(2⋅α(t) + β₀(t) +\n",
       "──────────────── - ───────────────────────────────────────────────────────────\n",
       "                                                      3                       \n",
       "                                                 4⋅d⋅r                        \n",
       "\n",
       "                2                  2                        2                 \n",
       " θ₀(t))   m₂⋅sin (α(t) + θ₀(t))⋅sin (β₀(t) - θ₀(t))   m₂⋅sin (α(t) + θ₀(t))⋅si\n",
       "─────── - ───────────────────────────────────────── - ────────────────────────\n",
       "                             d⋅r                                     d⋅r      \n",
       "                                                                              \n",
       "\n",
       " 2                  2                                                         \n",
       "n (β₀(t))   2⋅m₂⋅sin (α(t) + θ₀(t))⋅sin(β₀(t))⋅sin(θ₀(t))⋅cos(β₀(t) - θ₀(t))  \n",
       "───────── + ──────────────────────────────────────────────────────────────── -\n",
       "                                          d⋅r                                 \n",
       "                                                                              \n",
       "\n",
       "       2                  2                2                   2              \n",
       " m₂⋅sin (α(t) + θ₀(t))⋅sin (θ₀(t))   m₂⋅sin (β₀(t) - θ₀(t))⋅cos (α(t) + θ₀(t))\n",
       " ───────────────────────────────── - ─────────────────────────────────────────\n",
       "                d⋅r                                     d⋅r                   \n",
       "                                                                              \n",
       "\n",
       "         2           2                                               2        \n",
       "   m₂⋅sin (β₀(t))⋅cos (α(t) + θ₀(t))   2⋅m₂⋅sin(β₀(t))⋅sin(θ₀(t))⋅cos (α(t) + \n",
       " - ───────────────────────────────── + ───────────────────────────────────────\n",
       "                  d⋅r                                                d⋅r      \n",
       "                                                                              \n",
       "\n",
       "                                  2           2              \n",
       "θ₀(t))⋅cos(β₀(t) - θ₀(t))   m₂⋅sin (θ₀(t))⋅cos (α(t) + θ₀(t))\n",
       "───────────────────────── - ─────────────────────────────────\n",
       "                                           d⋅r               \n",
       "                                                             "
      ]
     },
     "execution_count": 63,
     "metadata": {},
     "output_type": "execute_result"
    }
   ],
   "source": [
    "simplify(raw_matrix.det())"
   ]
  },
  {
   "cell_type": "code",
   "execution_count": 64,
   "metadata": {},
   "outputs": [],
   "source": [
    "matrix_subs = raw_matrix.subs({\n",
    "             r: 0.15,\n",
    "             beta[0]: 0,\n",
    "             alpha: 0,\n",
    "             m['wheel']: 0.2,\n",
    "             m['platform']: 1,\n",
    "             a: 1/2,\n",
    "             c: m['wheel']*(r**2)/2,\n",
    "             b: m['wheel']*(r**2)/4\n",
    "             })"
   ]
  },
  {
   "cell_type": "code",
   "execution_count": 65,
   "metadata": {},
   "outputs": [
    {
     "data": {
      "text/latex": [
       "$$\\frac{- 2.66666666666667 d \\sin^{2}{\\left (\\theta_{0}{\\left (t \\right )} \\right )} + 3.33333333333333 d - 0.0075 \\sin^{4}{\\left (\\theta_{0}{\\left (t \\right )} \\right )} \\cos{\\left (\\theta_{0}{\\left (t \\right )} \\right )} + 0.0075 \\cos^{5}{\\left (\\theta_{0}{\\left (t \\right )} \\right )} - 0.015 \\cos^{3}{\\left (\\theta_{0}{\\left (t \\right )} \\right )}}{d^{2}}$$"
      ],
      "text/plain": [
       "                        2                                         4           \n",
       "- 2.66666666666667⋅d⋅sin (θ₀(t)) + 3.33333333333333⋅d - 0.0075⋅sin (θ₀(t))⋅cos\n",
       "──────────────────────────────────────────────────────────────────────────────\n",
       "                                                               2              \n",
       "                                                              d               \n",
       "\n",
       "                    5                   3       \n",
       "(θ₀(t)) + 0.0075⋅cos (θ₀(t)) - 0.015⋅cos (θ₀(t))\n",
       "────────────────────────────────────────────────\n",
       "                                                \n",
       "                                                "
      ]
     },
     "execution_count": 65,
     "metadata": {},
     "output_type": "execute_result"
    }
   ],
   "source": [
    "det = simplify(matrix_subs.det())\n",
    "det"
   ]
  },
  {
   "cell_type": "code",
   "execution_count": 66,
   "metadata": {},
   "outputs": [],
   "source": [
    "def get_theta_rage(det, d_value):\n",
    "    det_arr = []\n",
    "    theta_arr = np.linspace(0., 6.28, num=100)\n",
    "    for x in theta_arr:\n",
    "        det_arr.append(float(det.subs({theta[0]: x, d: d_value})))\n",
    "    return det_arr"
   ]
  },
  {
   "cell_type": "code",
   "execution_count": 79,
   "metadata": {},
   "outputs": [],
   "source": [
    "# d=0 - не решается (!) | */0"
   ]
  },
  {
   "cell_type": "code",
   "execution_count": 73,
   "metadata": {},
   "outputs": [],
   "source": [
    "data = [ dict( \n",
    "        visible = False,\n",
    "        name = 'd = '+str(step),\n",
    "        x = np.linspace(0., 6.28, num=100), \n",
    "        y = get_theta_rage(det, step) ) for step in np.arange(0.1,2,0.1) ]\n",
    "\n",
    "data[10]['visible'] = True"
   ]
  },
  {
   "cell_type": "code",
   "execution_count": 74,
   "metadata": {},
   "outputs": [
    {
     "data": {
      "text/latex": [
       "$$19$$"
      ],
      "text/plain": [
       "19"
      ]
     },
     "execution_count": 74,
     "metadata": {},
     "output_type": "execute_result"
    }
   ],
   "source": [
    "len(data)"
   ]
  },
  {
   "cell_type": "code",
   "execution_count": 75,
   "metadata": {},
   "outputs": [],
   "source": [
    "import plotly.plotly as py\n",
    "import numpy as np"
   ]
  },
  {
   "cell_type": "code",
   "execution_count": 76,
   "metadata": {},
   "outputs": [],
   "source": [
    "steps = []\n",
    "for i in range(len(data)):\n",
    "    step = dict(\n",
    "        method = 'restyle',  \n",
    "        args = ['visible', [False] * len(data) ],\n",
    "    )\n",
    "    step['args'][1][i] = True # Toggle i'th trace to \"visible\"\n",
    "    steps.append(step)\n",
    "\n",
    "sliders = [ dict(\n",
    "    active = 10,\n",
    "    currentvalue = {\"prefix\": \"d: \"},\n",
    "    pad = {\"t\": 50},\n",
    "    steps = steps\n",
    ") ]"
   ]
  },
  {
   "cell_type": "code",
   "execution_count": 77,
   "metadata": {},
   "outputs": [
    {
     "data": {
      "text/html": [
       "<iframe id=\"igraph\" scrolling=\"no\" style=\"border:none;\" seamless=\"seamless\" src=\"https://plot.ly/~plotly-alice/6.embed\" height=\"525px\" width=\"100%\"></iframe>"
      ],
      "text/plain": [
       "<plotly.tools.PlotlyDisplay object>"
      ]
     },
     "execution_count": 77,
     "metadata": {},
     "output_type": "execute_result"
    }
   ],
   "source": [
    "layout = dict( sliders = sliders )\n",
    "\n",
    "fig = dict( data = data, layout = layout )\n",
    "\n",
    "py.iplot( fig, filename = 'Det for diff [d]') # , config={'showLink': False}"
   ]
  },
  {
   "cell_type": "code",
   "execution_count": null,
   "metadata": {},
   "outputs": [],
   "source": []
  },
  {
   "cell_type": "code",
   "execution_count": null,
   "metadata": {},
   "outputs": [],
   "source": []
  },
  {
   "cell_type": "code",
   "execution_count": null,
   "metadata": {},
   "outputs": [],
   "source": []
  },
  {
   "cell_type": "markdown",
   "metadata": {},
   "source": [
    "## Какой то мусор"
   ]
  },
  {
   "cell_type": "code",
   "execution_count": 50,
   "metadata": {},
   "outputs": [
    {
     "data": {
      "text/plain": [
       "-6.66666666666667*cos(theta0(t))"
      ]
     },
     "execution_count": 50,
     "metadata": {},
     "output_type": "execute_result"
    }
   ],
   "source": [
    "simplify(subs_matrix)[5]"
   ]
  },
  {
   "cell_type": "code",
   "execution_count": 38,
   "metadata": {},
   "outputs": [],
   "source": [
    "det_arr = []\n",
    "theta_arr = np.linspace(0., 6.28, num=100)\n",
    "for x in theta_arr:\n",
    "    det_arr.append(float(det_matrix.subs({theta[0]: x})))\n",
    "det_arr = np.array(det_arr)"
   ]
  },
  {
   "cell_type": "code",
   "execution_count": null,
   "metadata": {},
   "outputs": [],
   "source": []
  },
  {
   "cell_type": "code",
   "execution_count": 39,
   "metadata": {},
   "outputs": [],
   "source": [
    "df_det = pd.DataFrame([])\n",
    "\n",
    "df_det['det'] = det_arr\n",
    "df_det['theta'] = theta_arr\n",
    "# df_det"
   ]
  },
  {
   "cell_type": "code",
   "execution_count": 40,
   "metadata": {},
   "outputs": [],
   "source": [
    "data = data_for_plotly(\n",
    "    {\n",
    "        'x': df_det.theta.values,\n",
    "        'y': df_det.det.values,\n",
    "        'name': 'x y'\n",
    "    }\n",
    ")\n"
   ]
  },
  {
   "cell_type": "code",
   "execution_count": 41,
   "metadata": {},
   "outputs": [
    {
     "name": "stdout",
     "output_type": "stream",
     "text": [
      "High five! You successfully sent some data to your account on plotly. View your plot in your browser at https://plot.ly/~plotly-alice/0 or inside your plot.ly account where it is named 'line-mode'\n"
     ]
    },
    {
     "data": {
      "text/html": [
       "<iframe id=\"igraph\" scrolling=\"no\" style=\"border:none;\" seamless=\"seamless\" src=\"https://plot.ly/~plotly-alice/0.embed\" height=\"525px\" width=\"100%\"></iframe>"
      ],
      "text/plain": [
       "<plotly.tools.PlotlyDisplay object>"
      ]
     },
     "execution_count": 41,
     "metadata": {},
     "output_type": "execute_result"
    }
   ],
   "source": [
    "\n",
    "py.iplot(data, filename='line-mode')"
   ]
  },
  {
   "cell_type": "code",
   "execution_count": null,
   "metadata": {},
   "outputs": [],
   "source": []
  },
  {
   "cell_type": "code",
   "execution_count": null,
   "metadata": {},
   "outputs": [],
   "source": []
  }
 ],
 "metadata": {
  "kernelspec": {
   "display_name": "Python 3",
   "language": "python",
   "name": "python3"
  },
  "language_info": {
   "codemirror_mode": {
    "name": "ipython",
    "version": 3
   },
   "file_extension": ".py",
   "mimetype": "text/x-python",
   "name": "python",
   "nbconvert_exporter": "python",
   "pygments_lexer": "ipython3",
   "version": "3.6.7"
  }
 },
 "nbformat": 4,
 "nbformat_minor": 2
}
