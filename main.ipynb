{
 "cells": [
  {
   "cell_type": "code",
   "execution_count": 10,
   "metadata": {},
   "outputs": [
    {
     "name": "stdout",
     "output_type": "stream",
     "text": [
      "The autoreload extension is already loaded. To reload it, use:\n",
      "  %reload_ext autoreload\n"
     ]
    }
   ],
   "source": [
    "%load_ext autoreload\n",
    "%autoreload 2\n",
    "\n",
    "from sympy import *\n",
    "from sympy.tensor import *\n",
    "import sympy.printing as printing\n",
    "\n",
    "from variables import *\n",
    "from structure import *\n",
    "from functions import *\n",
    "from latex import *\n",
    "\n",
    "import utils\n",
    "from utils import write_obj\n",
    "from utils import print_all_variables as pa"
   ]
  },
  {
   "cell_type": "code",
   "execution_count": 11,
   "metadata": {},
   "outputs": [],
   "source": [
    "# угловые скорости (платформы, вилки, колеса) относительно пола\n",
    "omega['platform']= lambda i: Derivative(alpha,t)*e['z']\n",
    "omega['fork']    = lambda i: omega['platform'](i) + Derivative(theta[i],t)*e['z']\n",
    "omega['wheel']   = lambda i: omega['fork'](i) + Derivative(psi[i],t)*n_wheel(i)"
   ]
  },
  {
   "cell_type": "code",
   "execution_count": 49,
   "metadata": {},
   "outputs": [],
   "source": [
    "write_obj(omega['platform'], 'angular_velocity_platform', 'угловая скорость платформы')\n",
    "write_obj(omega['fork'], 'angular_velocity_fork', 'угловая скорость вилки')\n",
    "write_obj(omega['wheel'], 'angular_velocity_wheel', 'угловая скорость колеса')"
   ]
  },
  {
   "cell_type": "code",
   "execution_count": 14,
   "metadata": {},
   "outputs": [],
   "source": [
    "# УРАНЕНИЯ ЭЁЛЕРА И ОТСУТСТВИЕ ПРОСКАЛЬЗЫВАНИЯ \n",
    "v[fkey(S)] = euler(S, P)\n",
    "v[fkey(P)] = euler(P, C)\n",
    "v[fkey(C)] = euler(C, D)\n",
    "v[fkey(D)] = lambda i: Matrix([0,0,0]) # проскальзывания нет"
   ]
  },
  {
   "cell_type": "code",
   "execution_count": 48,
   "metadata": {},
   "outputs": [],
   "source": [
    "write_obj(v[fkey(S)], 'point_S_velocity', 'скорость точки S')\n",
    "write_obj(v[fkey(P)], 'point_P_velocity', 'скорость точки P')\n",
    "write_obj(v[fkey(C)], 'point_C_velocity', 'скорость точки C')\n",
    "write_obj(v[fkey(D)], 'point_D_velocity', 'скорость точки D')"
   ]
  },
  {
   "cell_type": "code",
   "execution_count": 16,
   "metadata": {},
   "outputs": [],
   "source": [
    "#Полученные выражения из связей для nu1 nu2 delta_x delta_y\n",
    "\n",
    "eq[fkey(delta['x'])] = lambda i: scalar(v[fkey(S)](i), e['x'])\n",
    "eq[fkey(delta['y'])] = lambda i: scalar(v[fkey(S)](i), e['y'])\n",
    "eq[fkey(nu[1])]      = lambda i: scalar(v[fkey(S)](i), e['xi'])\n",
    "eq[fkey(nu[2])]      = lambda i: scalar(v[fkey(S)](i), e['eta'])"
   ]
  },
  {
   "cell_type": "code",
   "execution_count": 17,
   "metadata": {},
   "outputs": [],
   "source": [
    "# print(eq[fkey(nu[1])](0))\n",
    "# print(eq[fkey(nu[2])](0))"
   ]
  },
  {
   "cell_type": "code",
   "execution_count": 18,
   "metadata": {},
   "outputs": [],
   "source": [
    "# Связи через delta_alpha, delta_x, delta_y\n",
    "\n",
    "eq['f(delta_x,delta_y)'] = lambda i: solve(\n",
    "                      [Eq(eq[fkey(delta['x'])](i), delta['x']), Eq(eq[fkey(delta['y'])](i), delta['y'])],\n",
    "                      [Derivative(psi[i],t), Derivative(theta[i],t)],\n",
    "                      dict=True)[0]; # возвращает словарь с выражениями для diff(psi) и diff(theta)\n",
    "\n",
    "eq['diff(psi)']   = lambda i: eq['f(delta_x,delta_y)'](i)[Derivative(psi[i],t)].subs(Derivative(alpha,t), delta['alpha'])\n",
    "eq['diff(theta)'] = lambda i: eq['f(delta_x,delta_y)'](i)[Derivative(theta[i],t)].subs(Derivative(alpha,t), delta['alpha'])"
   ]
  },
  {
   "cell_type": "code",
   "execution_count": 47,
   "metadata": {},
   "outputs": [],
   "source": [
    "# 6 уравнений связей\n",
    "\n",
    "# eq['diff(psi)']      x3\n",
    "# eq['diff(theta)']    x3\n",
    "\n",
    "write_obj(eq['diff(psi)'], 'diff(psi)', '3 уравнения связей на diff(psi) = ...')\n",
    "write_obj(eq['diff(theta)'], 'diff(theta)', '3 уравнения связей на diff(theta) = ...')"
   ]
  },
  {
   "cell_type": "code",
   "execution_count": 20,
   "metadata": {},
   "outputs": [],
   "source": [
    "# Связи через nu_1, nu_2\n",
    "eq['f(nu1,nu2)'] = lambda i: solve(\n",
    "                      [Eq(eq[fkey(nu[1])](i), nu[1]), Eq(eq[fkey(nu[2])](i), nu[2])],\n",
    "                      [Derivative(psi[i],t), Derivative(theta[i],t)],\n",
    "                      dict=True)[0]; # возвращает словарь с выражениями для diff(psi) и diff(theta)\n",
    "\n",
    "eq['diff(psi)_nu']   = lambda i: eq['f(nu1,nu2)'](i)[Derivative(psi[i],t)]\n",
    "eq['diff(theta)_nu'] = lambda i: eq['f(nu1,nu2)'](i)[Derivative(theta[i],t)]"
   ]
  },
  {
   "cell_type": "code",
   "execution_count": 46,
   "metadata": {},
   "outputs": [],
   "source": [
    "write_obj(eq['diff(psi)_nu'], 'diff(psi)_nu', '3 уравнения связей на diff(psi) = ..., только уже от nu1 и nu2')\n",
    "write_obj(eq['diff(theta)_nu'], 'diff(theta)_nu', '3 уравнения связей на diff(theta) = ..., только уже от nu1 и nu2')"
   ]
  },
  {
   "cell_type": "code",
   "execution_count": 23,
   "metadata": {},
   "outputs": [],
   "source": [
    "def dalamber_subs(obj):\n",
    "    return lambda i: obj(i).subs(delta['psi'][i], eq['diff(psi)_nu'](i)).subs(delta['theta'][i], eq['diff(theta)_nu'](i)).subs(Derivative(psi[i], t), eq['diff(psi)'](i)).subs(Derivative(theta[i], t), eq['diff(theta)'](i))"
   ]
  },
  {
   "cell_type": "code",
   "execution_count": 24,
   "metadata": {},
   "outputs": [],
   "source": [
    "#ТЕЛО 1 (платформа)\n",
    "velocity[fkey(S)]        = lambda i: nu[1]*e['xi'] + nu[2]*e['eta']\n",
    "F['platform']            = lambda i: zeros(3,1) # сил не действует\n",
    "delta_r[fkey(S)]         = subs_delta(lambda i: delta['x']*e['x'] + delta['y']*e['y'])\n",
    "J['platform']            = eye(3,3)*a  #  (симметричная) \n",
    "K['platform']            = lambda i: J['platform']*omega['platform'](i)\n",
    "omega_delta['platform']  = subs_delta(lambda i: omega['platform'](i).subs(Derivative(alpha,t),delta['alpha']))\n",
    "M['platform']            = lambda i: -W[i]*e['z']\n",
    "\n",
    "A['platform'] = dalamber(mass = m['platform'],\n",
    "                         velocity = velocity[fkey(S)],\n",
    "                         F = F['platform'],\n",
    "                         delta_r = delta_r[fkey(S)],\n",
    "                         K = K['platform'],\n",
    "                         M = M['platform'],\n",
    "                         omega_delta = omega_delta['platform'])\n"
   ]
  },
  {
   "cell_type": "code",
   "execution_count": 25,
   "metadata": {},
   "outputs": [],
   "source": [
    "#ТЕЛО 2 (вилки)\n",
    "velocity[fkey(P)]    = lambda i: velocity[fkey(S)](i) + cross(omega['platform'](i), vec_by_2dots(S,P)(i))   # !!!!\n",
    "# velocity['fork']   = v[fkey(P)]\n",
    "F['fork']            = lambda i: zeros(3,1) # сил не действует\n",
    "delta_r[fkey(P)]     = subs_delta(lambda i: delta_r[fkey(S)](i) + cross(omega['platform'](i), vec_by_2dots(S,P)(i)))\n",
    "J['fork']            = zeros(3,3) # невесома\n",
    "K['fork']            = lambda i: J['fork']*omega['fork'](i)\n",
    "omega_delta['fork']  = subs_delta(lambda i: omega['fork'](i))\n",
    "M['fork']            = lambda i: -(-W[i]*e['z']) -(-T[i]*n_wheel(i)) # magic\n",
    "\n",
    "A['fork'] = dalamber(mass = 0,\n",
    "                     velocity = velocity[fkey(P)],\n",
    "                     F = F['fork'],\n",
    "                     delta_r = delta_r[fkey(P)],\n",
    "                     K = K['fork'],\n",
    "                     M = M['fork'],\n",
    "                     omega_delta = omega_delta['fork'])"
   ]
  },
  {
   "cell_type": "code",
   "execution_count": 26,
   "metadata": {},
   "outputs": [],
   "source": [
    "#ТЕЛО 3 (колёса)\n",
    "velocity[fkey(C)]     = lambda i: velocity[fkey(P)](i) + cross(omega['fork'](i), vec_by_2dots(P,C)(i))   # !!!!\n",
    "F['wheel']            = lambda i: zeros(3,1) # сил не действует\n",
    "delta_r[fkey(C)]      = subs_delta(lambda i: delta_r[fkey(P)](i) + cross(omega['fork'](i), vec_by_2dots(S,P)(i)))\n",
    "J['wheel']            = Matrix([[b,0,0],[0,c,0],[0,0,b]])\n",
    "K['wheel']            = lambda i: J['wheel'] * Matrix([scalar(omega['wheel'](i), e_wheel(i)), \n",
    "                                                       scalar(omega['wheel'](i), n_wheel(i)),\n",
    "                                                       scalar(omega['wheel'](i), e['z'])])\n",
    "omega_delta['wheel']  = subs_delta(lambda i: omega['wheel'](i))\n",
    "M['wheel']            = lambda i: -(-W[i]*e['z']) -(-T[i]*n_wheel(i)) # magic\n",
    "\n",
    "A['wheel'] = dalamber(mass= m['wheel'],\n",
    "                     velocity = velocity[fkey(C)],\n",
    "                     F = F['wheel'],\n",
    "                     delta_r = delta_r[fkey(C)],\n",
    "                     K = K['wheel'],\n",
    "                     M = M['wheel'],\n",
    "                     omega_delta = omega_delta['wheel'])\n"
   ]
  },
  {
   "cell_type": "code",
   "execution_count": 27,
   "metadata": {},
   "outputs": [],
   "source": [
    "A['wheel'] = dalamber_subs(A['wheel'])\n",
    "A['fork'] = dalamber_subs(A['wheel'])\n",
    "A['platfrom'] = dalamber_subs(A['wheel'])"
   ]
  },
  {
   "cell_type": "code",
   "execution_count": 45,
   "metadata": {},
   "outputs": [],
   "source": [
    "write_obj(A['wheel'],' A[wheel]', 'Даламбер для колеса')\n",
    "write_obj(A['fork'],' A[fork]', 'Даламбер для вилки')\n",
    "write_obj(A['platform'],' A[platform]', 'Даламбер для платформы')"
   ]
  },
  {
   "cell_type": "code",
   "execution_count": 34,
   "metadata": {},
   "outputs": [],
   "source": [
    "# I have not the foggiest idea\n",
    "# time ~1.5min\n",
    "\n",
    "all_dalamber = 0\n",
    "for i in range(3):\n",
    "    all_dalamber += A['wheel'](i) + A['fork'](i) + A['platform'](i)\n"
   ]
  },
  {
   "cell_type": "code",
   "execution_count": 36,
   "metadata": {},
   "outputs": [],
   "source": [
    "poly_dalamber = Poly(all_dalamber, [delta['x'], delta['y'], delta['alpha']])"
   ]
  },
  {
   "cell_type": "code",
   "execution_count": 43,
   "metadata": {},
   "outputs": [
    {
     "name": "stdout",
     "output_type": "stream",
     "text": [
      "Wall time: 9min 16s\n"
     ]
    }
   ],
   "source": [
    "# %%time\n",
    "\n",
    "# s_dx = simplify(poly_dalamber.coeff_monomial(delta['x']))\n",
    "# s_dy = simplify(poly_dalamber.coeff_monomial(delta['y']))\n",
    "# s_dalpha = simplify(poly_dalamber.coeff_monomial(delta['alpha']))"
   ]
  },
  {
   "cell_type": "code",
   "execution_count": 37,
   "metadata": {},
   "outputs": [],
   "source": [
    "# time ~10min\n",
    "\n",
    "s_dx = simplify(poly_dalamber.coeff_monomial(delta['x']))\n",
    "s_dy = simplify(poly_dalamber.coeff_monomial(delta['y']))\n",
    "s_dalpha = simplify(poly_dalamber.coeff_monomial(delta['alpha']))"
   ]
  },
  {
   "cell_type": "code",
   "execution_count": 50,
   "metadata": {},
   "outputs": [],
   "source": [
    "utils.write_obj(s_dx, 'dalamber_dx_coeff', 'коэффициент в уравнении Даламбера-Лагранжа при dx')\n",
    "utils.write_obj(s_dy, 'dalamber_dy_coeff', 'коэффициент в уравнении Даламбера-Лагранжа при dy')\n",
    "utils.write_obj(s_dalpha, 'dalamber_dalpha_coeff', 'коэффициент в уравнении Даламбера-Лагранжа при dAlpha')"
   ]
  },
  {
   "cell_type": "code",
   "execution_count": 51,
   "metadata": {},
   "outputs": [],
   "source": [
    "coeff[delta['x']] = s_dx\n",
    "coeff[delta['y']] = s_dy\n",
    "coeff[delta['alpha']] = s_dalpha"
   ]
  },
  {
   "cell_type": "code",
   "execution_count": 52,
   "metadata": {},
   "outputs": [],
   "source": [
    "# %%time\n",
    "\n",
    "res_poly_dx = Poly(coeff[delta['x']], [Derivative(nu[1],t), Derivative(nu[2],t), Derivative(alpha,t,2)])\n",
    "res_poly_dy = Poly(coeff[delta['y']], [Derivative(nu[1],t), Derivative(nu[2],t), Derivative(alpha,t,2)])\n",
    "res_poly_dalpha = Poly(coeff[delta['alpha']], [Derivative(nu[1],t), Derivative(nu[2],t), Derivative(alpha,t,2)])\n"
   ]
  },
  {
   "cell_type": "code",
   "execution_count": null,
   "metadata": {},
   "outputs": [],
   "source": [
    "# %%time\n",
    "# res_poly_dx = Poly(coeff[delta['x']], [Derivative(nu[1],t), Derivative(nu[2],t), Derivative(alpha,t,2)])"
   ]
  },
  {
   "cell_type": "code",
   "execution_count": 54,
   "metadata": {},
   "outputs": [
    {
     "name": "stdout",
     "output_type": "stream",
     "text": [
      "{beta[1], m1, theta[2], beta[0], beta, Derivative(alpha(t), (t, 2)), theta[1], d, t, m2, theta[0], beta[2], alpha(t), Derivative(alpha(t), t), theta}\n",
      "None\n",
      "{beta[1], m1, theta[2], beta[0], beta, Derivative(alpha(t), (t, 2)), theta[1], d, t, m2, theta[0], beta[2], alpha(t), Derivative(alpha(t), t), theta}\n",
      "None\n",
      "{beta[1], beta[0], beta, b, theta[1], d, beta[2], m2, theta[0], theta, theta[2], a, W[1], Derivative(alpha(t), (t, 2)), W[2], t, W, alpha(t), Derivative(alpha(t), t), W[0]}\n",
      "None\n"
     ]
    }
   ],
   "source": [
    "# CHECK YOURSELF\n",
    "\n",
    "print(pa(res_poly_dx))\n",
    "print(pa(res_poly_dy))\n",
    "print(pa(res_poly_dalpha))"
   ]
  },
  {
   "cell_type": "code",
   "execution_count": 55,
   "metadata": {},
   "outputs": [
    {
     "name": "stdout",
     "output_type": "stream",
     "text": [
      "4\n",
      "4\n",
      "4\n"
     ]
    }
   ],
   "source": [
    "# CHECK YOURSELF\n",
    "\n",
    "print(len(res_poly_dx.coeffs()))\n",
    "print(len(res_poly_dy.coeffs()))\n",
    "print(len(res_poly_dalpha.coeffs()))"
   ]
  },
  {
   "cell_type": "code",
   "execution_count": 56,
   "metadata": {
    "collapsed": true
   },
   "outputs": [
    {
     "data": {
      "text/plain": [
       "Poly((3*m1*cos(alpha(t)) + 6*m2*cos(alpha(t)))*Derivative(nu1(t), t) + (-3*m1*sin(alpha(t)) - 6*m2*sin(alpha(t)))*Derivative(nu2(t), t) + (-2*d*m2*sin(alpha(t) + theta[0]) - 2*d*m2*sin(alpha(t) + theta[1]) - 2*d*m2*sin(alpha(t) + theta[2]) - 2*m2*sin(alpha(t) + beta[0]) - 2*m2*sin(alpha(t) + beta[1]) - 2*m2*sin(alpha(t) + beta[2]))*Derivative(alpha(t), (t, 2)) - 2*d*m2*cos(alpha(t) + theta[0])*Derivative(alpha(t), t)**2 - 2*d*m2*cos(alpha(t) + theta[1])*Derivative(alpha(t), t)**2 - 2*d*m2*cos(alpha(t) + theta[2])*Derivative(alpha(t), t)**2 - 3*m1*nu1(t)*sin(alpha(t))*Derivative(alpha(t), t) - 3*m1*nu2(t)*cos(alpha(t))*Derivative(alpha(t), t) - 6*m2*nu1(t)*sin(alpha(t))*Derivative(alpha(t), t) - 6*m2*nu2(t)*cos(alpha(t))*Derivative(alpha(t), t) + 2*m2*sin(alpha(t) + theta[0])*sin(beta[0] - theta[0])*Derivative(alpha(t), t)**2 + 2*m2*sin(alpha(t) + theta[1])*sin(beta[1] - theta[1])*Derivative(alpha(t), t)**2 + 2*m2*sin(alpha(t) + theta[2])*sin(beta[2] - theta[2])*Derivative(alpha(t), t)**2 - 2*m2*cos(alpha(t) + beta[0])*Derivative(alpha(t), t)**2 - 2*m2*cos(alpha(t) + beta[1])*Derivative(alpha(t), t)**2 - 2*m2*cos(alpha(t) + beta[2])*Derivative(alpha(t), t)**2 + 2*m2*nu1(t)*sin(alpha(t) + theta[0])*sin(beta[0] - theta[0])*sin(theta[0])*Derivative(alpha(t), t)/d + 2*m2*nu1(t)*sin(alpha(t) + theta[1])*sin(beta[1] - theta[1])*sin(theta[1])*Derivative(alpha(t), t)/d + 2*m2*nu1(t)*sin(alpha(t) + theta[2])*sin(beta[2] - theta[2])*sin(theta[2])*Derivative(alpha(t), t)/d - 2*m2*nu2(t)*sin(alpha(t) + theta[0])*sin(beta[0])*Derivative(alpha(t), t)/d + 2*m2*nu2(t)*sin(alpha(t) + theta[0])*sin(theta[0])*cos(beta[0] - theta[0])*Derivative(alpha(t), t)/d - 2*m2*nu2(t)*sin(alpha(t) + theta[1])*sin(beta[1])*Derivative(alpha(t), t)/d + 2*m2*nu2(t)*sin(alpha(t) + theta[1])*sin(theta[1])*cos(beta[1] - theta[1])*Derivative(alpha(t), t)/d - 2*m2*nu2(t)*sin(alpha(t) + theta[2])*sin(beta[2])*Derivative(alpha(t), t)/d + 2*m2*nu2(t)*sin(alpha(t) + theta[2])*sin(theta[2])*cos(beta[2] - theta[2])*Derivative(alpha(t), t)/d + 2*m2*sin(beta[0] - theta[0])*sin(beta[0])*sin(theta[0])**2*cos(alpha(t))*Derivative(alpha(t), t)**2/d + 2*m2*sin(beta[1] - theta[1])*sin(beta[1])*sin(theta[1])**2*cos(alpha(t))*Derivative(alpha(t), t)**2/d + 2*m2*sin(beta[2] - theta[2])*sin(beta[2])*sin(theta[2])**2*cos(alpha(t))*Derivative(alpha(t), t)**2/d - 2*m2*sin(alpha(t) - beta[0] + theta[0])*sin(theta[0])*cos(beta[0])*cos(theta[0])*Derivative(alpha(t), t)**2/d - 2*m2*sin(alpha(t) - beta[1] + theta[1])*sin(theta[1])*cos(beta[1])*cos(theta[1])*Derivative(alpha(t), t)**2/d - 2*m2*sin(alpha(t) - beta[2] + theta[2])*sin(theta[2])*cos(beta[2])*cos(theta[2])*Derivative(alpha(t), t)**2/d + 2*m2*sin(alpha(t))*sin(beta[0])*cos(beta[0] - theta[0])*cos(theta[0])**2*Derivative(alpha(t), t)**2/d + 2*m2*sin(alpha(t))*sin(beta[1])*cos(beta[1] - theta[1])*cos(theta[1])**2*Derivative(alpha(t), t)**2/d + 2*m2*sin(alpha(t))*sin(beta[2])*cos(beta[2] - theta[2])*cos(theta[2])**2*Derivative(alpha(t), t)**2/d, Derivative(nu1(t), t), Derivative(nu2(t), t), Derivative(alpha(t), (t, 2)), domain='EX')"
      ]
     },
     "execution_count": 56,
     "metadata": {},
     "output_type": "execute_result"
    }
   ],
   "source": [
    "res_poly_dx"
   ]
  },
  {
   "cell_type": "code",
   "execution_count": 57,
   "metadata": {
    "collapsed": true
   },
   "outputs": [
    {
     "data": {
      "text/plain": [
       "Poly((3*m1*sin(alpha(t)) + 6*m2*sin(alpha(t)))*Derivative(nu1(t), t) + (3*m1*cos(alpha(t)) + 6*m2*cos(alpha(t)))*Derivative(nu2(t), t) + (2*d*m2*cos(alpha(t) + theta[0]) + 2*d*m2*cos(alpha(t) + theta[1]) + 2*d*m2*cos(alpha(t) + theta[2]) + 2*m2*cos(alpha(t) + beta[0]) + 2*m2*cos(alpha(t) + beta[1]) + 2*m2*cos(alpha(t) + beta[2]))*Derivative(alpha(t), (t, 2)) - 2*d*m2*sin(alpha(t) + theta[0])*Derivative(alpha(t), t)**2 - 2*d*m2*sin(alpha(t) + theta[1])*Derivative(alpha(t), t)**2 - 2*d*m2*sin(alpha(t) + theta[2])*Derivative(alpha(t), t)**2 + 3*m1*nu1(t)*cos(alpha(t))*Derivative(alpha(t), t) - 3*m1*nu2(t)*sin(alpha(t))*Derivative(alpha(t), t) + 6*m2*nu1(t)*cos(alpha(t))*Derivative(alpha(t), t) - 6*m2*nu2(t)*sin(alpha(t))*Derivative(alpha(t), t) - 2*m2*sin(alpha(t) + beta[0])*Derivative(alpha(t), t)**2 - 2*m2*sin(alpha(t) + beta[1])*Derivative(alpha(t), t)**2 - 2*m2*sin(alpha(t) + beta[2])*Derivative(alpha(t), t)**2 - 2*m2*sin(beta[0] - theta[0])*cos(alpha(t) + theta[0])*Derivative(alpha(t), t)**2 - 2*m2*sin(beta[1] - theta[1])*cos(alpha(t) + theta[1])*Derivative(alpha(t), t)**2 - 2*m2*sin(beta[2] - theta[2])*cos(alpha(t) + theta[2])*Derivative(alpha(t), t)**2 - 2*m2*nu1(t)*sin(beta[0] - theta[0])*sin(theta[0])*cos(alpha(t) + theta[0])*Derivative(alpha(t), t)/d - 2*m2*nu1(t)*sin(beta[1] - theta[1])*sin(theta[1])*cos(alpha(t) + theta[1])*Derivative(alpha(t), t)/d - 2*m2*nu1(t)*sin(beta[2] - theta[2])*sin(theta[2])*cos(alpha(t) + theta[2])*Derivative(alpha(t), t)/d + 2*m2*nu2(t)*sin(beta[0])*cos(alpha(t) + theta[0])*Derivative(alpha(t), t)/d + 2*m2*nu2(t)*sin(beta[1])*cos(alpha(t) + theta[1])*Derivative(alpha(t), t)/d + 2*m2*nu2(t)*sin(beta[2])*cos(alpha(t) + theta[2])*Derivative(alpha(t), t)/d - 2*m2*nu2(t)*sin(theta[0])*cos(alpha(t) + theta[0])*cos(beta[0] - theta[0])*Derivative(alpha(t), t)/d - 2*m2*nu2(t)*sin(theta[1])*cos(alpha(t) + theta[1])*cos(beta[1] - theta[1])*Derivative(alpha(t), t)/d - 2*m2*nu2(t)*sin(theta[2])*cos(alpha(t) + theta[2])*cos(beta[2] - theta[2])*Derivative(alpha(t), t)/d - 2*m2*sin(beta[0] - theta[0])*cos(alpha(t) + theta[0])*cos(beta[0] - theta[0])*Derivative(alpha(t), t)**2/d - 2*m2*sin(beta[1] - theta[1])*cos(alpha(t) + theta[1])*cos(beta[1] - theta[1])*Derivative(alpha(t), t)**2/d - 2*m2*sin(beta[2] - theta[2])*cos(alpha(t) + theta[2])*cos(beta[2] - theta[2])*Derivative(alpha(t), t)**2/d, Derivative(nu1(t), t), Derivative(nu2(t), t), Derivative(alpha(t), (t, 2)), domain='EX')"
      ]
     },
     "execution_count": 57,
     "metadata": {},
     "output_type": "execute_result"
    }
   ],
   "source": [
    "res_poly_dy"
   ]
  },
  {
   "cell_type": "code",
   "execution_count": 58,
   "metadata": {
    "collapsed": true
   },
   "outputs": [
    {
     "data": {
      "text/plain": [
       "Poly((-4*m2*sin(beta[0]) - 4*m2*sin(beta[1]) - 4*m2*sin(beta[2]))*Derivative(nu1(t), t) + (4*m2*cos(beta[0]) + 4*m2*cos(beta[1]) + 4*m2*cos(beta[2]))*Derivative(nu2(t), t) + (3*a + 6*b + 4*d*m2*cos(beta[0] - theta[0]) + 4*d*m2*cos(beta[1] - theta[1]) + 4*d*m2*cos(beta[2] - theta[2]) + 12*m2)*Derivative(alpha(t), (t, 2)) + 6*d*m2*sin(beta[0] - theta[0])*Derivative(alpha(t), t)**2 + 6*d*m2*sin(beta[1] - theta[1])*Derivative(alpha(t), t)**2 + 6*d*m2*sin(beta[2] - theta[2])*Derivative(alpha(t), t)**2 + 2*m2*nu1(t)*sin(beta[0] - theta[0])*sin(theta[0])*Derivative(alpha(t), t) + 2*m2*nu1(t)*sin(beta[1] - theta[1])*sin(theta[1])*Derivative(alpha(t), t) + 2*m2*nu1(t)*sin(beta[2] - theta[2])*sin(theta[2])*Derivative(alpha(t), t) + 4*m2*nu1(t)*cos(beta[0])*Derivative(alpha(t), t) + 4*m2*nu1(t)*cos(beta[1])*Derivative(alpha(t), t) + 4*m2*nu1(t)*cos(beta[2])*Derivative(alpha(t), t) + 2*m2*nu2(t)*sin(beta[0])*Derivative(alpha(t), t) + 2*m2*nu2(t)*sin(beta[1])*Derivative(alpha(t), t) + 2*m2*nu2(t)*sin(beta[2])*Derivative(alpha(t), t) + 2*m2*nu2(t)*sin(theta[0])*cos(beta[0] - theta[0])*Derivative(alpha(t), t) + 2*m2*nu2(t)*sin(theta[1])*cos(beta[1] - theta[1])*Derivative(alpha(t), t) + 2*m2*nu2(t)*sin(theta[2])*cos(beta[2] - theta[2])*Derivative(alpha(t), t) + 8*m2*sin(beta[0] - theta[0])*sin(beta[0])*sin(theta[0])*Derivative(alpha(t), t)**2 + 8*m2*sin(beta[1] - theta[1])*sin(beta[1])*sin(theta[1])*Derivative(alpha(t), t)**2 + 8*m2*sin(beta[2] - theta[2])*sin(beta[2])*sin(theta[2])*Derivative(alpha(t), t)**2 + 4*m2*sin(beta[0])*cos(beta[0])*Derivative(alpha(t), t)**2 + 4*m2*sin(beta[1])*cos(beta[1])*Derivative(alpha(t), t)**2 + 4*m2*sin(beta[2])*cos(beta[2])*Derivative(alpha(t), t)**2 - 4*m2*sin(theta[0])*cos(theta[0])*Derivative(alpha(t), t)**2 - 4*m2*sin(theta[1])*cos(theta[1])*Derivative(alpha(t), t)**2 - 4*m2*sin(theta[2])*cos(theta[2])*Derivative(alpha(t), t)**2 + W[0] + W[1] + W[2] + 2*m2*nu1(t)*sin(beta[0] - theta[0])*sin(theta[0])*cos(beta[0] - theta[0])*Derivative(alpha(t), t)/d + 2*m2*nu1(t)*sin(beta[1] - theta[1])*sin(theta[1])*cos(beta[1] - theta[1])*Derivative(alpha(t), t)/d + 2*m2*nu1(t)*sin(beta[2] - theta[2])*sin(theta[2])*cos(beta[2] - theta[2])*Derivative(alpha(t), t)/d - 4*m2*nu2(t)*sin(beta[0])**2*sin(theta[0])*Derivative(alpha(t), t)/d + 4*m2*nu2(t)*sin(beta[0])*sin(theta[0])**2*cos(beta[0] - theta[0])*Derivative(alpha(t), t)/d - 2*m2*nu2(t)*sin(beta[0])*cos(beta[0])*cos(theta[0])*Derivative(alpha(t), t)/d - 4*m2*nu2(t)*sin(beta[1])**2*sin(theta[1])*Derivative(alpha(t), t)/d + 4*m2*nu2(t)*sin(beta[1])*sin(theta[1])**2*cos(beta[1] - theta[1])*Derivative(alpha(t), t)/d - 2*m2*nu2(t)*sin(beta[1])*cos(beta[1])*cos(theta[1])*Derivative(alpha(t), t)/d - 4*m2*nu2(t)*sin(beta[2])**2*sin(theta[2])*Derivative(alpha(t), t)/d + 4*m2*nu2(t)*sin(beta[2])*sin(theta[2])**2*cos(beta[2] - theta[2])*Derivative(alpha(t), t)/d - 2*m2*nu2(t)*sin(beta[2])*cos(beta[2])*cos(theta[2])*Derivative(alpha(t), t)/d - 2*m2*nu2(t)*sin(theta[0])**3*Derivative(alpha(t), t)/d + 2*m2*nu2(t)*sin(theta[0])*Derivative(alpha(t), t)/d - 2*m2*nu2(t)*sin(theta[1])**3*Derivative(alpha(t), t)/d + 2*m2*nu2(t)*sin(theta[1])*Derivative(alpha(t), t)/d - 2*m2*nu2(t)*sin(theta[2])**3*Derivative(alpha(t), t)/d + 2*m2*nu2(t)*sin(theta[2])*Derivative(alpha(t), t)/d - 2*m2*sin(beta[0] - theta[0])*sin(beta[0])**2*Derivative(alpha(t), t)**2/d + 4*m2*sin(beta[0] - theta[0])*sin(beta[0])*sin(theta[0])*cos(beta[0] - theta[0])*Derivative(alpha(t), t)**2/d - 2*m2*sin(beta[0] - theta[0])*sin(theta[0])**2*Derivative(alpha(t), t)**2/d + 2*m2*sin(beta[0] - theta[0])*Derivative(alpha(t), t)**2/d - 2*m2*sin(beta[1] - theta[1])*sin(beta[1])**2*Derivative(alpha(t), t)**2/d + 4*m2*sin(beta[1] - theta[1])*sin(beta[1])*sin(theta[1])*cos(beta[1] - theta[1])*Derivative(alpha(t), t)**2/d - 2*m2*sin(beta[1] - theta[1])*sin(theta[1])**2*Derivative(alpha(t), t)**2/d + 2*m2*sin(beta[1] - theta[1])*Derivative(alpha(t), t)**2/d - 2*m2*sin(beta[2] - theta[2])*sin(beta[2])**2*Derivative(alpha(t), t)**2/d + 4*m2*sin(beta[2] - theta[2])*sin(beta[2])*sin(theta[2])*cos(beta[2] - theta[2])*Derivative(alpha(t), t)**2/d - 2*m2*sin(beta[2] - theta[2])*sin(theta[2])**2*Derivative(alpha(t), t)**2/d + 2*m2*sin(beta[2] - theta[2])*Derivative(alpha(t), t)**2/d, Derivative(nu1(t), t), Derivative(nu2(t), t), Derivative(alpha(t), (t, 2)), domain='EX')"
      ]
     },
     "execution_count": 58,
     "metadata": {},
     "output_type": "execute_result"
    }
   ],
   "source": [
    "res_poly_dalpha"
   ]
  },
  {
   "cell_type": "code",
   "execution_count": 59,
   "metadata": {
    "scrolled": false
   },
   "outputs": [],
   "source": [
    "# система уравнений left*[nu1', nu2', alpha''] = right\n",
    "\n",
    "left = Matrix([res_poly_dx.coeffs()[:3],\n",
    "               res_poly_dy.coeffs()[:3],\n",
    "               res_poly_dalpha.coeffs()[:3]])\n",
    "right = Matrix([res_poly_dx.coeffs()[-1],\n",
    "                res_poly_dy.coeffs()[-1],\n",
    "                res_poly_dalpha.coeffs()[-1]])"
   ]
  },
  {
   "cell_type": "code",
   "execution_count": 60,
   "metadata": {},
   "outputs": [
    {
     "data": {
      "text/plain": [
       "Derivative(nu1(t), t)"
      ]
     },
     "execution_count": 60,
     "metadata": {},
     "output_type": "execute_result"
    }
   ],
   "source": [
    "Derivative(nu[1], t)"
   ]
  },
  {
   "cell_type": "code",
   "execution_count": 61,
   "metadata": {},
   "outputs": [
    {
     "data": {
      "text/plain": [
       "Derivative(nu2(t), t)"
      ]
     },
     "execution_count": 61,
     "metadata": {},
     "output_type": "execute_result"
    }
   ],
   "source": [
    "Derivative(nu[2], t)"
   ]
  },
  {
   "cell_type": "code",
   "execution_count": 62,
   "metadata": {},
   "outputs": [
    {
     "data": {
      "text/plain": [
       "Derivative(alpha(t), (t, 2))"
      ]
     },
     "execution_count": 62,
     "metadata": {},
     "output_type": "execute_result"
    }
   ],
   "source": [
    "Derivative(alpha, t, 2)"
   ]
  },
  {
   "cell_type": "code",
   "execution_count": null,
   "metadata": {},
   "outputs": [],
   "source": []
  },
  {
   "cell_type": "code",
   "execution_count": 63,
   "metadata": {},
   "outputs": [],
   "source": [
    "left_inv = left.inv() "
   ]
  },
  {
   "cell_type": "code",
   "execution_count": 64,
   "metadata": {},
   "outputs": [],
   "source": [
    "# %%time\n",
    "\n",
    "res = left_inv * right"
   ]
  },
  {
   "cell_type": "code",
   "execution_count": 67,
   "metadata": {},
   "outputs": [],
   "source": [
    "write_obj(res, 'vector_res_diff_eq_for', 'Вектор правых частей дифф уравнений на diff(nu1), diff(nu2), diff2(alpha)')"
   ]
  },
  {
   "cell_type": "code",
   "execution_count": 68,
   "metadata": {},
   "outputs": [
    {
     "name": "stdout",
     "output_type": "stream",
     "text": [
      "{beta[1], W, beta[0], beta, b, theta[1], d, m2, beta[2], theta[0], theta, m1, theta[2], a, W[2], t, W[1], alpha(t), Derivative(alpha(t), t), W[0]}\n"
     ]
    }
   ],
   "source": [
    "pa(res[0]) # nu1'"
   ]
  },
  {
   "cell_type": "code",
   "execution_count": 69,
   "metadata": {},
   "outputs": [
    {
     "name": "stdout",
     "output_type": "stream",
     "text": [
      "{beta[1], beta[0], beta, b, theta[1], d, m2, beta[2], theta[0], theta, m1, theta[2], a, W[1], W[2], t, W, alpha(t), Derivative(alpha(t), t), W[0]}\n"
     ]
    }
   ],
   "source": [
    "pa(res[1]) # nu2'"
   ]
  },
  {
   "cell_type": "code",
   "execution_count": 70,
   "metadata": {},
   "outputs": [
    {
     "name": "stdout",
     "output_type": "stream",
     "text": [
      "{beta[1], W, beta[0], beta, b, theta[1], d, m2, beta[2], theta[0], theta, m1, theta[2], a, W[2], t, W[1], alpha(t), Derivative(alpha(t), t), W[0]}\n"
     ]
    }
   ],
   "source": [
    "pa(res[2]) # alpha''"
   ]
  },
  {
   "cell_type": "code",
   "execution_count": null,
   "metadata": {},
   "outputs": [],
   "source": []
  },
  {
   "cell_type": "code",
   "execution_count": null,
   "metadata": {},
   "outputs": [],
   "source": [
    "%%time\n",
    "\n",
    "simple_res = simplify(res[0])"
   ]
  },
  {
   "cell_type": "code",
   "execution_count": null,
   "metadata": {},
   "outputs": [],
   "source": [
    "simplify(utils.subs_init(res))"
   ]
  },
  {
   "cell_type": "code",
   "execution_count": null,
   "metadata": {},
   "outputs": [],
   "source": []
  },
  {
   "cell_type": "code",
   "execution_count": null,
   "metadata": {},
   "outputs": [],
   "source": []
  },
  {
   "cell_type": "code",
   "execution_count": null,
   "metadata": {},
   "outputs": [],
   "source": []
  },
  {
   "cell_type": "code",
   "execution_count": null,
   "metadata": {},
   "outputs": [],
   "source": []
  },
  {
   "cell_type": "code",
   "execution_count": null,
   "metadata": {},
   "outputs": [],
   "source": []
  },
  {
   "cell_type": "code",
   "execution_count": null,
   "metadata": {},
   "outputs": [],
   "source": [
    "# ____________________________________________END___________________________________________"
   ]
  },
  {
   "cell_type": "code",
   "execution_count": null,
   "metadata": {},
   "outputs": [],
   "source": [
    "# Полный Д'Аламбер Лагранжа\n",
    "\n",
    "# A_full = 0\n",
    "# A_full  = lambda i: A['platform'](i) + A['fork'](i) + A['wheel'](i)\n",
    "# A_full_poly = lambda i: Poly(A_full(i).subs(delta['psi'][i], eq['diff(psi)'](i)).subs(delta['theta'][i], eq['diff(theta)'](i)), \n",
    "#     [delta['x'], delta['y'], delta['alpha']])"
   ]
  },
  {
   "cell_type": "code",
   "execution_count": null,
   "metadata": {},
   "outputs": [],
   "source": [
    "# Полный Д'Аламбер для всего тела, просуммированный \n",
    "\n",
    "A_full_poly_sum = 0\n",
    "for k in range(3):\n",
    "    A_full_poly_sum += A_full_poly(k)\n",
    "\n",
    "print_all_variables(A_full_poly_sum)"
   ]
  },
  {
   "cell_type": "code",
   "execution_count": null,
   "metadata": {},
   "outputs": [],
   "source": [
    "print_all_variables(A_full_poly_sum)"
   ]
  },
  {
   "cell_type": "code",
   "execution_count": null,
   "metadata": {},
   "outputs": [],
   "source": [
    "# Коэффиценты\n",
    "# A_coeffs = lambda i: A_full_poly(i).coeffs()"
   ]
  },
  {
   "cell_type": "code",
   "execution_count": null,
   "metadata": {},
   "outputs": [],
   "source": [
    "# Здесь будут лежать коэффиценты при dx dy dalpha  для всех 3 колёс\n",
    "# ПОКА ДЛЯ ОДНОГО КОЛЕСА\n",
    "#var = A_coeffs(0)\n",
    "\n",
    "# coeff_wheel.append(A_coeffs(1))\n",
    "# coeff_wheel.append(A_coeffs(2))"
   ]
  },
  {
   "cell_type": "code",
   "execution_count": null,
   "metadata": {},
   "outputs": [],
   "source": [
    "#l = 0\n",
    "#var[0] = var[0].subs({alpha: 0, beta[l]: 0, theta[l]: 0, nu[1]: 0, nu[2]: 0})\n",
    "#var[1] = var[1].subs({alpha: 0, beta[l]: 0, theta[l]: 0, nu[1]: 0, nu[2]: 0})\n",
    "#var[2] = var[2].subs({alpha: 0, beta[l]: 0, theta[l]: 0, nu[1]: 0, nu[2]: 0}) "
   ]
  },
  {
   "cell_type": "code",
   "execution_count": null,
   "metadata": {},
   "outputs": [],
   "source": [
    "coeff[delta['x']]     = lambda i: simplify(A_coeffs(i)[0])#.subs({alpha: 0, beta[i]: 0, theta[i]: 0, nu[1]: 0, nu[2]: 0})\n",
    "coeff[delta['y']]     = lambda i: simplify(A_coeffs(i)[1])#.subs({alpha: 0, beta[i]: 0, theta[i]: 0, nu[1]: 0, nu[2]: 0})\n",
    "coeff[delta['alpha']] = lambda i: simplify(A_coeffs(i)[2])#.subs({alpha: 0, beta[i]: 0, theta[i]: 0, nu[1]: 0, nu[2]: 0})"
   ]
  },
  {
   "cell_type": "code",
   "execution_count": null,
   "metadata": {},
   "outputs": [],
   "source": [
    "coeff_dx ={}\n",
    "coeff_dy ={}\n",
    "coeff_dalpha ={}"
   ]
  },
  {
   "cell_type": "code",
   "execution_count": null,
   "metadata": {},
   "outputs": [],
   "source": [
    "%%time\n",
    "#коэффиценты для колеса при dx dy dalpha, просто в отдельные переменные\n",
    "coeff_dx[0] = coeff[delta['x']](0)\n",
    "coeff_dy[0] = coeff[delta['y']](0)\n",
    "coeff_dalpha[0] = coeff[delta['alpha']](0)"
   ]
  },
  {
   "cell_type": "code",
   "execution_count": null,
   "metadata": {},
   "outputs": [],
   "source": [
    "coeff_dalpha[0]"
   ]
  },
  {
   "cell_type": "code",
   "execution_count": null,
   "metadata": {},
   "outputs": [],
   "source": [
    "%%time\n",
    "#коэффиценты для колеса при dx dy dalpha, просто в отдельные переменные\n",
    "coeff_dx[1] = coeff[delta['x']](1)\n",
    "coeff_dy[1] = coeff[delta['y']](1)\n",
    "coeff_dalpha[1] = coeff[delta['alpha']](1)"
   ]
  },
  {
   "cell_type": "code",
   "execution_count": null,
   "metadata": {},
   "outputs": [],
   "source": [
    "%%time\n",
    "#коэффиценты для колеса при dx dy dalpha, просто в отдельные переменные\n",
    "coeff_dx[2] = coeff[delta['x']](2)\n",
    "coeff_dy[2] = coeff[delta['y']](2)\n",
    "coeff_dalpha[2] = coeff[delta['alpha']](2)"
   ]
  },
  {
   "cell_type": "code",
   "execution_count": null,
   "metadata": {},
   "outputs": [],
   "source": [
    "# надеюсь нормально их суммировать сейчас\n",
    "coeff_dx['sum'] = 0\n",
    "coeff_dy['sum'] = 0\n",
    "coeff_dalpha['sum'] = 0\n",
    "\n",
    "for k in range(3):\n",
    "    coeff_dx['sum'] += coeff_dx[k]\n",
    "    coeff_dy['sum'] += coeff_dy[k]\n",
    "    coeff_dalpha['sum'] += coeff_dalpha[k]"
   ]
  },
  {
   "cell_type": "code",
   "execution_count": null,
   "metadata": {},
   "outputs": [],
   "source": [
    "# говорим что получившиеся выражения это полином, зависящий от nu1, nu2, (alpha)'' \n",
    "eq_by_dx     = Poly(coeff_dx[0],     [Derivative(nu[1],t), Derivative(nu[2],t), Derivative(alpha,t,2)])\n",
    "eq_by_dy     = Poly(coeff_dy[0],     [Derivative(nu[1],t), Derivative(nu[2],t), Derivative(alpha,t,2)])\n",
    "eq_by_dalpha = Poly(coeff_dalpha[0], [Derivative(nu[1],t), Derivative(nu[2],t), Derivative(alpha,t,2)])"
   ]
  },
  {
   "cell_type": "code",
   "execution_count": null,
   "metadata": {},
   "outputs": [],
   "source": [
    "len(eq_by_dx.coeffs())"
   ]
  },
  {
   "cell_type": "code",
   "execution_count": null,
   "metadata": {},
   "outputs": [],
   "source": [
    "len(eq_by_dy.coeffs())"
   ]
  },
  {
   "cell_type": "code",
   "execution_count": null,
   "metadata": {},
   "outputs": [],
   "source": [
    "# посмотреть что получилось\n",
    "len(eq_by_dx.coeffs())"
   ]
  },
  {
   "cell_type": "code",
   "execution_count": null,
   "metadata": {},
   "outputs": [],
   "source": [
    "# Пример группировки\n",
    "print(collect(eq_by_dx,\n",
    "        [Derivative(nu[1], t), Derivative(nu[2], t), Derivative(alpha, t,2)]))"
   ]
  },
  {
   "cell_type": "code",
   "execution_count": null,
   "metadata": {},
   "outputs": [],
   "source": [
    "# система уравнений left*[nu1', nu2', alpha''] = right\n",
    "\n",
    "left = Matrix([eq_by_dx.coeffs()[:3],\n",
    "               eq_by_dy.coeffs()[:3],\n",
    "               eq_by_dalpha.coeffs()[:3]])\n",
    "right = Matrix([eq_by_dx.coeffs()[-1],\n",
    "                eq_by_dy.coeffs()[-1],\n",
    "                eq_by_dalpha.coeffs()[-1]])"
   ]
  },
  {
   "cell_type": "code",
   "execution_count": null,
   "metadata": {},
   "outputs": [],
   "source": [
    "alpha_t, nu1_t, nu2_t = symbols('alpha_t, nu1_t, nu2_t')\n",
    "theta0, theta1, theta2 = symbols('theta0, theta1, theta2')\n",
    "alpha1, alpha2 = symbols('alpha1, alpha2')"
   ]
  },
  {
   "cell_type": "code",
   "execution_count": null,
   "metadata": {},
   "outputs": [],
   "source": [
    "def subs_for_ode(eq):\n",
    "    eq = eq.subs({\n",
    "            nu[1]: nu1_t, nu[2]: nu2_t,\n",
    "            theta[0]: theta0, theta[1]: theta1, theta[2]: theta2,\n",
    "            alpha: alpha1, Derivative(alpha, t): alpha2\n",
    "    })\n",
    "    return eq"
   ]
  },
  {
   "cell_type": "code",
   "execution_count": null,
   "metadata": {},
   "outputs": [],
   "source": [
    "a = []\n",
    "a += A_full_poly_sum.find(alpha)\n",
    "a\n"
   ]
  },
  {
   "cell_type": "code",
   "execution_count": null,
   "metadata": {},
   "outputs": [],
   "source": [
    "left = subs_init(left)\n",
    "right = subs_init(right)"
   ]
  },
  {
   "cell_type": "code",
   "execution_count": null,
   "metadata": {},
   "outputs": [],
   "source": [
    "print(left)"
   ]
  },
  {
   "cell_type": "code",
   "execution_count": null,
   "metadata": {},
   "outputs": [],
   "source": [
    "%%time\n",
    "\n",
    "left_inv = left.inv() # left^(-1)"
   ]
  },
  {
   "cell_type": "code",
   "execution_count": null,
   "metadata": {},
   "outputs": [],
   "source": [
    "# Какие то варианты, которые наверно делают тоже самое\n",
    "# from sympy.solvers.solveset import linsolve\n",
    "# from sympy.solvers.solvers import solve_linear_system_LU"
   ]
  },
  {
   "cell_type": "code",
   "execution_count": null,
   "metadata": {},
   "outputs": [],
   "source": [
    "eq['diff_eq'] = left_inv*right"
   ]
  },
  {
   "cell_type": "code",
   "execution_count": null,
   "metadata": {},
   "outputs": [],
   "source": [
    "len(eq['diff_eq']) # nu1', nu2', alpha''"
   ]
  },
  {
   "cell_type": "code",
   "execution_count": null,
   "metadata": {},
   "outputs": [],
   "source": [
    "eq['diff_eq']"
   ]
  },
  {
   "cell_type": "code",
   "execution_count": null,
   "metadata": {},
   "outputs": [],
   "source": [
    "len(eq['diff_eq'])"
   ]
  },
  {
   "cell_type": "code",
   "execution_count": null,
   "metadata": {},
   "outputs": [],
   "source": [
    "eq['psi']   = []\n",
    "eq['theta'] = []\n",
    "\n",
    "for k in range(3):\n",
    "    eq['theta'].append(subs_init(eq['diff(theta)_nu'](k)))\n",
    "    eq['psi'].append(subs_init(eq['diff(psi)_nu'](k)))"
   ]
  },
  {
   "cell_type": "code",
   "execution_count": null,
   "metadata": {},
   "outputs": [],
   "source": [
    "# уравнения с 6 по 10\n",
    "\n",
    "for k in range(3):\n",
    "    eq['theta'][k] = subs_for_ode(eq['theta'][k])\n",
    "    eq['psi'][k] = subs_for_ode(eq['psi'][k])\n",
    "    \n",
    "#####################\n",
    "# константы  подставлены\n",
    "#####################"
   ]
  },
  {
   "cell_type": "code",
   "execution_count": null,
   "metadata": {},
   "outputs": [],
   "source": [
    "eq['psi'][0]"
   ]
  },
  {
   "cell_type": "code",
   "execution_count": null,
   "metadata": {},
   "outputs": [],
   "source": [
    "for k in range(3):\n",
    "    eq['diff_eq'] = eq['diff_eq'].subs({\n",
    "        Derivative(theta[k], t): eq['theta'][k]\n",
    "    })"
   ]
  },
  {
   "cell_type": "code",
   "execution_count": null,
   "metadata": {},
   "outputs": [],
   "source": [
    "# уравнения с 1 по 3, с подставленными theta[i]'\n",
    "T0, W0 = symbols('T0, W0')\n",
    "eq['diff_eq'] = subs_for_ode(eq['diff_eq']).subs({\n",
    "    W[0]: W0,\n",
    "    T[0]: T0\n",
    "})[2]"
   ]
  },
  {
   "cell_type": "code",
   "execution_count": null,
   "metadata": {},
   "outputs": [],
   "source": [
    "dict_eq = {}\n",
    "list_eq = [0,0,0,0,0,0,0,0,0,0]\n",
    "\n",
    "list_eq[0] = dict_eq['nu1'] = eq['diff_eq'][0]\n",
    "list_eq[1] = dict_eq['nu2'] = eq['diff_eq'][1]\n",
    "list_eq[2] = dict_eq['alpha2'] = eq['diff_eq'][2]\n",
    "list_eq[3] = dict_eq['alpha1'] = alpha2\n",
    "list_eq[4] = dict_eq['theta0'] = eq['theta'][0]\n",
    "list_eq[5] = dict_eq['theta1'] = eq['theta'][1]\n",
    "list_eq[6] = dict_eq['theta2'] = eq['theta'][2]\n",
    "list_eq[7] = dict_eq['psi0'] = eq['psi'][0]\n",
    "list_eq[8] = dict_eq['psi1'] = eq['psi'][1]\n",
    "list_eq[9] = dict_eq['psi2'] = eq['psi'][2]"
   ]
  },
  {
   "cell_type": "code",
   "execution_count": null,
   "metadata": {},
   "outputs": [],
   "source": [
    "from mpmath import *\n",
    "\n",
    "mp.dps = 15;  # точность\n",
    "mp.pretty = True"
   ]
  },
  {
   "cell_type": "code",
   "execution_count": null,
   "metadata": {},
   "outputs": [],
   "source": [
    "list_eq[0]"
   ]
  },
  {
   "cell_type": "code",
   "execution_count": null,
   "metadata": {},
   "outputs": [],
   "source": [
    "temp = lambdify([nu[1], nu[2], alpha1, alpha2, theta0, theta1, theta2, psi[0], psi[1], psi[2]], list_eq[0])"
   ]
  },
  {
   "cell_type": "code",
   "execution_count": null,
   "metadata": {},
   "outputs": [],
   "source": [
    "#############################################\n",
    "# Далее решение этой системы дифф уравнений \n",
    "#############################################"
   ]
  },
  {
   "cell_type": "code",
   "execution_count": null,
   "metadata": {},
   "outputs": [],
   "source": [
    "import numpy as np\n",
    "from scipy.integrate import odeint\n",
    "import matplotlib.pyplot as plt\n",
    "from math import *"
   ]
  },
  {
   "cell_type": "code",
   "execution_count": null,
   "metadata": {},
   "outputs": [],
   "source": [
    "type(list_eq[0])"
   ]
  },
  {
   "cell_type": "code",
   "execution_count": null,
   "metadata": {},
   "outputs": [],
   "source": [
    "def f(y, t, T0, W0, d):\n",
    "    '''Определение правой части системы лин уравнений'''\n",
    "    nu1_t, nu2_t, alpha1, alpha2, theta0, theta1, theta2, psi0, psi1, psi2 = y\n",
    "    return list_eq"
   ]
  },
  {
   "cell_type": "code",
   "execution_count": null,
   "metadata": {},
   "outputs": [],
   "source": [
    "begin_v = [0,0,0,0,0,0,0,0,0,0]\n",
    "t = np.linspace(0, 1, 51) # ну вот такое себе конечно\n",
    "T0 = 1.0\n",
    "W0 = 1.0\n",
    "d = 0.5"
   ]
  },
  {
   "cell_type": "code",
   "execution_count": null,
   "metadata": {},
   "outputs": [],
   "source": [
    "res = odeint(f, begin_v, t, args=(T0, W0, d,))"
   ]
  },
  {
   "cell_type": "code",
   "execution_count": null,
   "metadata": {},
   "outputs": [],
   "source": [
    "list_res = []\n",
    "\n",
    "for x in range(10):\n",
    "    list_res.append(res[:,x])"
   ]
  },
  {
   "cell_type": "code",
   "execution_count": null,
   "metadata": {},
   "outputs": [],
   "source": []
  },
  {
   "cell_type": "code",
   "execution_count": null,
   "metadata": {},
   "outputs": [],
   "source": []
  }
 ],
 "metadata": {
  "kernelspec": {
   "display_name": "Python 3",
   "language": "python",
   "name": "python3"
  },
  "language_info": {
   "codemirror_mode": {
    "name": "ipython",
    "version": 3
   },
   "file_extension": ".py",
   "mimetype": "text/x-python",
   "name": "python",
   "nbconvert_exporter": "python",
   "pygments_lexer": "ipython3",
   "version": "3.7.2"
  },
  "toc": {
   "base_numbering": 1,
   "nav_menu": {},
   "number_sections": true,
   "sideBar": true,
   "skip_h1_title": false,
   "title_cell": "Table of Contents",
   "title_sidebar": "Contents",
   "toc_cell": false,
   "toc_position": {
    "height": "calc(100% - 180px)",
    "left": "10px",
    "top": "150px",
    "width": "165px"
   },
   "toc_section_display": true,
   "toc_window_display": true
  },
  "varInspector": {
   "cols": {
    "lenName": 16,
    "lenType": 16,
    "lenVar": 40
   },
   "kernels_config": {
    "python": {
     "delete_cmd_postfix": "",
     "delete_cmd_prefix": "del ",
     "library": "var_list.py",
     "varRefreshCmd": "print(var_dic_list())"
    },
    "r": {
     "delete_cmd_postfix": ") ",
     "delete_cmd_prefix": "rm(",
     "library": "var_list.r",
     "varRefreshCmd": "cat(var_dic_list()) "
    }
   },
   "position": {
    "height": "596px",
    "left": "-3px",
    "right": "20px",
    "top": "158px",
    "width": "323px"
   },
   "types_to_exclude": [
    "module",
    "function",
    "builtin_function_or_method",
    "instance",
    "_Feature"
   ],
   "window_display": false
  }
 },
 "nbformat": 4,
 "nbformat_minor": 2
}
