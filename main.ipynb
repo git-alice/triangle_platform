{
 "cells": [
  {
   "cell_type": "code",
   "execution_count": 1,
   "metadata": {},
   "outputs": [],
   "source": [
    "from sympy import *\n",
    "from sympy.tensor import *\n",
    "import sympy.printing as printing\n",
    "\n",
    "from variables import *\n",
    "from structure import *\n",
    "from functions import *\n",
    "from latex     import *"
   ]
  },
  {
   "cell_type": "code",
   "execution_count": 2,
   "metadata": {},
   "outputs": [],
   "source": [
    "# угловые скорости (платформы, вилки, колеса) относительно пола\n",
    "omega['platform']= lambda i: Derivative(alpha,t)*e['z']\n",
    "omega['fork']    = lambda i: omega['platform'](i) + Derivative(theta[i],t)*e['z']\n",
    "omega['wheel']   = lambda i: omega['fork'](i) + Derivative(psi[i],t)*n_wheel(i)"
   ]
  },
  {
   "cell_type": "code",
   "execution_count": 3,
   "metadata": {},
   "outputs": [],
   "source": [
    "# УРАНЕНИЯ ЭЁЛЕРА И ОТСУТСТВИЕ ПРОСКАЛЬЗЫВАНИЯ \n",
    "v[fkey(S)] = euler(S, P)\n",
    "v[fkey(P)] = euler(P, C)\n",
    "v[fkey(C)] = euler(C, D)\n",
    "v[fkey(D)] = lambda i: Matrix([0,0,0]) # проскальзывания нет"
   ]
  },
  {
   "cell_type": "code",
   "execution_count": 4,
   "metadata": {},
   "outputs": [
    {
     "name": "stdout",
     "output_type": "stream",
     "text": [
      "⎡                                                        ⎛d          d        \n",
      "⎢- d⋅(sin(α(t))⋅cos(theta[i]) + sin(theta[i])⋅cos(α(t)))⋅⎜──(α(t)) + ──(theta[\n",
      "⎢                                                        ⎝dt         dt       \n",
      "⎢                                                                             \n",
      "⎢                                                       ⎛d          d         \n",
      "⎢d⋅(-sin(α(t))⋅sin(theta[i]) + cos(α(t))⋅cos(theta[i]))⋅⎜──(α(t)) + ──(theta[i\n",
      "⎢                                                       ⎝dt         dt        \n",
      "⎢                                                                             \n",
      "⎣                                                                             \n",
      "\n",
      "   ⎞                                                          d               \n",
      "i])⎟ + r⋅(-sin(α(t))⋅sin(theta[i]) + cos(α(t))⋅cos(theta[i]))⋅──(psi[i]) - (si\n",
      "   ⎠                                                          dt              \n",
      "                                                                              \n",
      "  ⎞                                                          d                \n",
      "])⎟ - r⋅(-sin(α(t))⋅cos(theta[i]) - sin(theta[i])⋅cos(α(t)))⋅──(psi[i]) + (-si\n",
      "  ⎠                                                          dt               \n",
      "                                                                              \n",
      "                           0                                                  \n",
      "\n",
      "                                               d       ⎤\n",
      "n(α(t))⋅cos(beta[i]) + sin(beta[i])⋅cos(α(t)))⋅──(α(t))⎥\n",
      "                                               dt      ⎥\n",
      "                                                       ⎥\n",
      "                                               d       ⎥\n",
      "n(α(t))⋅sin(beta[i]) + cos(α(t))⋅cos(beta[i]))⋅──(α(t))⎥\n",
      "                                               dt      ⎥\n",
      "                                                       ⎥\n",
      "                                                       ⎦\n"
     ]
    }
   ],
   "source": [
    "pprint(v[fkey(S)](i))"
   ]
  },
  {
   "cell_type": "code",
   "execution_count": 5,
   "metadata": {},
   "outputs": [
    {
     "data": {
      "text/plain": [
       "'- d \\\\left(\\\\sin{\\\\left (\\\\alpha{\\\\left (t \\\\right )} \\\\right )} \\\\cos{\\\\left (\\\\theta_{0} \\\\right )} + \\\\sin{\\\\left (\\\\theta_{0} \\\\right )} \\\\cos{\\\\left (\\\\alpha{\\\\left (t \\\\right )} \\\\right )}\\\\right) \\\\left(\\\\frac{d}{d t} \\\\alpha{\\\\left (t \\\\right )} + \\\\frac{d}{d t} \\\\theta_{0}\\\\right) + r \\\\left(- \\\\sin{\\\\left (\\\\alpha{\\\\left (t \\\\right )} \\\\right )} \\\\sin{\\\\left (\\\\theta_{0} \\\\right )} + \\\\cos{\\\\left (\\\\alpha{\\\\left (t \\\\right )} \\\\right )} \\\\cos{\\\\left (\\\\theta_{0} \\\\right )}\\\\right) \\\\frac{d}{d t} \\\\psi_{0} - \\\\left(\\\\sin{\\\\left (\\\\alpha{\\\\left (t \\\\right )} \\\\right )} \\\\cos{\\\\left (\\\\beta_{0} \\\\right )} + \\\\sin{\\\\left (\\\\beta_{0} \\\\right )} \\\\cos{\\\\left (\\\\alpha{\\\\left (t \\\\right )} \\\\right )}\\\\right) \\\\frac{d}{d t} \\\\alpha{\\\\left (t \\\\right )}'"
      ]
     },
     "execution_count": 5,
     "metadata": {},
     "output_type": "execute_result"
    }
   ],
   "source": [
    "printing.latex(v[fkey(S)](0)[0], long_frac_ratio=3, fold_short_frac=True)"
   ]
  },
  {
   "cell_type": "code",
   "execution_count": 6,
   "metadata": {},
   "outputs": [
    {
     "name": "stdout",
     "output_type": "stream",
     "text": [
      "⎡    ⎛d          d           ⎞                                               d\n",
      "⎢- d⋅⎜──(α(t)) + ──(theta[0])⎟⋅sin(α(t) + theta[0]) + r⋅cos(α(t) + theta[0])⋅─\n",
      "⎢    ⎝dt         dt          ⎠                                               d\n",
      "⎢                                                                             \n",
      "⎢   ⎛d          d           ⎞                                               d \n",
      "⎢ d⋅⎜──(α(t)) + ──(theta[0])⎟⋅cos(α(t) + theta[0]) + r⋅sin(α(t) + theta[0])⋅──\n",
      "⎢   ⎝dt         dt          ⎠                                               dt\n",
      "⎢                                                                             \n",
      "⎣                                                          0                  \n",
      "\n",
      "                                d       ⎤\n",
      "─(psi[0]) - sin(α(t) + beta[0])⋅──(α(t))⎥\n",
      "t                               dt      ⎥\n",
      "                                        ⎥\n",
      "                               d        ⎥\n",
      "(psi[0]) + cos(α(t) + beta[0])⋅──(α(t)) ⎥\n",
      "                               dt       ⎥\n",
      "                                        ⎥\n",
      "                                        ⎦\n"
     ]
    }
   ],
   "source": [
    "pprint(simplify(v[fkey(S)](0)))"
   ]
  },
  {
   "cell_type": "code",
   "execution_count": 7,
   "metadata": {},
   "outputs": [],
   "source": [
    "#Полученные выражения из связей для nu1 nu2 delta_x delta_y\n",
    "eq[fkey(delta['x'])] = lambda i: scalar(v[fkey(S)](i), e['x'])\n",
    "eq[fkey(delta['y'])] = lambda i: scalar(v[fkey(S)](i), e['y'])\n",
    "eq[fkey(nu[1])]      = lambda i: scalar(v[fkey(S)](i), e['xi'])\n",
    "eq[fkey(nu[2])]      = lambda i: scalar(v[fkey(S)](i), e['eta'])"
   ]
  },
  {
   "cell_type": "code",
   "execution_count": 8,
   "metadata": {},
   "outputs": [
    {
     "name": "stdout",
     "output_type": "stream",
     "text": [
      "(d*(-sin(alpha(t))*sin(theta[0]) + cos(alpha(t))*cos(theta[0]))*(Derivative(alpha(t), t) + Derivative(theta[0], t)) - r*(-sin(alpha(t))*cos(theta[0]) - sin(theta[0])*cos(alpha(t)))*Derivative(psi[0], t) + (-sin(alpha(t))*sin(beta[0]) + cos(alpha(t))*cos(beta[0]))*Derivative(alpha(t), t))*sin(alpha(t)) + (-d*(sin(alpha(t))*cos(theta[0]) + sin(theta[0])*cos(alpha(t)))*(Derivative(alpha(t), t) + Derivative(theta[0], t)) + r*(-sin(alpha(t))*sin(theta[0]) + cos(alpha(t))*cos(theta[0]))*Derivative(psi[0], t) - (sin(alpha(t))*cos(beta[0]) + sin(beta[0])*cos(alpha(t)))*Derivative(alpha(t), t))*cos(alpha(t))\n",
      "(d*(-sin(alpha(t))*sin(theta[0]) + cos(alpha(t))*cos(theta[0]))*(Derivative(alpha(t), t) + Derivative(theta[0], t)) - r*(-sin(alpha(t))*cos(theta[0]) - sin(theta[0])*cos(alpha(t)))*Derivative(psi[0], t) + (-sin(alpha(t))*sin(beta[0]) + cos(alpha(t))*cos(beta[0]))*Derivative(alpha(t), t))*cos(alpha(t)) - (-d*(sin(alpha(t))*cos(theta[0]) + sin(theta[0])*cos(alpha(t)))*(Derivative(alpha(t), t) + Derivative(theta[0], t)) + r*(-sin(alpha(t))*sin(theta[0]) + cos(alpha(t))*cos(theta[0]))*Derivative(psi[0], t) - (sin(alpha(t))*cos(beta[0]) + sin(beta[0])*cos(alpha(t)))*Derivative(alpha(t), t))*sin(alpha(t))\n"
     ]
    }
   ],
   "source": [
    "print(eq[fkey(nu[1])](0))\n",
    "print(eq[fkey(nu[2])](0))"
   ]
  },
  {
   "cell_type": "code",
   "execution_count": 9,
   "metadata": {},
   "outputs": [],
   "source": [
    "eq['f(delta_x,delta_y)'] = lambda i: solve(\n",
    "                      [Eq(eq[fkey(delta['x'])](i), delta['x']), Eq(eq[fkey(delta['y'])](i), delta['y'])],\n",
    "                      [Derivative(psi[i],t), Derivative(theta[i],t)],\n",
    "                      dict=True)[0]; # возвращает словарь с выражениями для diff(psi) и diff(theta)\n",
    "\n",
    "eq['diff(psi)']   = lambda i: eq['f(delta_x,delta_y)'](i)[Derivative(psi[i],t)].subs(Derivative(alpha,t), delta['alpha'])\n",
    "eq['diff(theta)'] = lambda i: eq['f(delta_x,delta_y)'](i)[Derivative(theta[i],t)].subs(Derivative(alpha,t), delta['alpha'])"
   ]
  },
  {
   "cell_type": "code",
   "execution_count": 10,
   "metadata": {},
   "outputs": [],
   "source": [
    "eq['f(nu1,nu2)'] = lambda i: solve(\n",
    "                      [Eq(eq[fkey(nu[1])](i), nu[1]), Eq(eq[fkey(nu[2])](i), nu[2])],\n",
    "                      [Derivative(psi[i],t), Derivative(theta[i],t)],\n",
    "                      dict=True)[0]; # возвращает словарь с выражениями для diff(psi) и diff(theta)\n",
    "\n",
    "eq['diff(psi)_nu']   = lambda i: eq['f(nu1,nu2)'](i)[Derivative(psi[i],t)]\n",
    "eq['diff(theta)_nu'] = lambda i: eq['f(nu1,nu2)'](i)[Derivative(theta[i],t)]"
   ]
  },
  {
   "cell_type": "code",
   "execution_count": 11,
   "metadata": {},
   "outputs": [],
   "source": [
    "# eq['f(nu1,nu2)'] = lambda i: solve(\n",
    "#                       [Eq(eq[fkey(nu[1])](i), nu[1]), Eq(eq[fkey(nu[2])](i), nu[2])],\n",
    "#                       [Derivative(psi[i],t), Derivative(theta[i],t)],\n",
    "#                       dict=True)[0]; # возвращает словарь с выражениями для diff(psi) и diff(theta)\n",
    "# eq['diff(psi)']   = lambda i: eq['f(delta_x,delta_y)'](i)[Derivative(psi[i],t)].subs(Derivative(alpha,t), delta['alpha'])\n",
    "# eq['diff(theta)'] = lambda i: eq['f(delta_x,delta_y)'](i)[Derivative(theta[i],t)].subs(Derivative(alpha,t), delta['alpha'])"
   ]
  },
  {
   "cell_type": "code",
   "execution_count": 12,
   "metadata": {},
   "outputs": [],
   "source": [
    "#ТЕЛО 1 (платформа)\n",
    "velocity[fkey(S)]        = lambda i: nu[1]*e['xi'] + nu[2]*e['eta']\n",
    "F['platform']            = lambda i: zeros(3,1) # сил не действует\n",
    "delta_r[fkey(S)]         = subs_delta(lambda i: delta['x']*e['x'] + delta['y']*e['y'])\n",
    "J['platform']            = eye(3,3)*a  #  (симметричная) \n",
    "K['platform']            = lambda i: J['platform']*omega['platform'](i)\n",
    "omega_delta['platform']  = subs_delta(lambda i: omega['platform'](i).subs(Derivative(alpha,t),delta['alpha']))\n",
    "M['platform']            = lambda i: -W[i]*e['z']\n",
    "\n",
    "A['platform'] = dalamber(mass = m['platform'],\n",
    "                         velocity = velocity[fkey(S)],\n",
    "                         F = F['platform'],\n",
    "                         delta_r = delta_r[fkey(S)],\n",
    "                         K = K['platform'],\n",
    "                         M = M['platform'],\n",
    "                         omega_delta = omega_delta['platform'])"
   ]
  },
  {
   "cell_type": "code",
   "execution_count": 13,
   "metadata": {},
   "outputs": [],
   "source": [
    "#ТЕЛО 2 (вилки)\n",
    "velocity[fkey(P)]    = lambda i: velocity[fkey(S)](i) + cross(omega['platform'](i), vec_by_2dots(S,P)(i))   # !!!!\n",
    "# velocity['fork']   = v[fkey(P)]\n",
    "F['fork']            = lambda i: zeros(3,1) # сил не действует\n",
    "delta_r[fkey(P)]     = subs_delta(lambda i: delta_r[fkey(S)](i) + cross(omega['platform'](i), vec_by_2dots(S,P)(i)))\n",
    "J['fork']            = zeros(3,3) # невесома\n",
    "K['fork']            = lambda i: J['fork']*omega['fork'](i)\n",
    "omega_delta['fork']  = subs_delta(lambda i: omega['fork'](i))\n",
    "M['fork']            = lambda i: -(-W[i]*e['z']) -(-T[i]*n_wheel(i)) # magic\n",
    "\n",
    "A['fork'] = dalamber(mass = 0,\n",
    "                     velocity = velocity[fkey(P)],\n",
    "                     F = F['fork'],\n",
    "                     delta_r = delta_r[fkey(P)],\n",
    "                     K = K['fork'],\n",
    "                     M = M['fork'],\n",
    "                     omega_delta = omega_delta['fork'])"
   ]
  },
  {
   "cell_type": "code",
   "execution_count": 14,
   "metadata": {},
   "outputs": [],
   "source": [
    "#ТЕЛО 3 (колёса)\n",
    "velocity[fkey(C)]     = lambda i: velocity[fkey(P)](i) + cross(omega['fork'](i), vec_by_2dots(P,C)(i))   # !!!!\n",
    "F['wheel']            = lambda i: zeros(3,1) # сил не действует\n",
    "delta_r[fkey(C)]      = subs_delta(lambda i: delta_r[fkey(P)](i) + cross(omega['fork'](i), vec_by_2dots(S,P)(i)))\n",
    "J['wheel']            = Matrix([[b,0,0],[0,c,0],[0,0,b]])\n",
    "K['wheel']            = lambda i: J['wheel'] * Matrix([scalar(omega['wheel'](i), e_wheel(i)), \n",
    "                                                       scalar(omega['wheel'](i), n_wheel(i)),\n",
    "                                                       scalar(omega['wheel'](i), e['z'])])\n",
    "omega_delta['wheel']  = subs_delta(lambda i: omega['wheel'](i))\n",
    "M['wheel']            = lambda i: -(-W[i]*e['z']) -(-T[i]*n_wheel(i)) # magic\n",
    "\n",
    "A['wheel'] = dalamber(mass= m['wheel'],\n",
    "                     velocity = velocity[fkey(C)],\n",
    "                     F = F['wheel'],\n",
    "                     delta_r = delta_r[fkey(C)],\n",
    "                     K = K['wheel'],\n",
    "                     M = M['wheel'],\n",
    "                     omega_delta = omega_delta['wheel'])"
   ]
  },
  {
   "cell_type": "code",
   "execution_count": 15,
   "metadata": {},
   "outputs": [
    {
     "data": {
      "text/plain": [
       "Matrix([\n",
       "[ -d*(sin(alpha(t))*cos(theta[0]) + sin(theta[0])*cos(alpha(t)))*(Derivative(alpha(t), t) + Derivative(theta[0], t)) - (sin(alpha(t))*cos(beta[0]) + sin(beta[0])*cos(alpha(t)))*Derivative(alpha(t), t) + nu1(t)*cos(alpha(t)) - nu2(t)*sin(alpha(t))],\n",
       "[d*(-sin(alpha(t))*sin(theta[0]) + cos(alpha(t))*cos(theta[0]))*(Derivative(alpha(t), t) + Derivative(theta[0], t)) + (-sin(alpha(t))*sin(beta[0]) + cos(alpha(t))*cos(beta[0]))*Derivative(alpha(t), t) + nu1(t)*sin(alpha(t)) + nu2(t)*cos(alpha(t))],\n",
       "[                                                                                                                                                                                                                                                    0]])"
      ]
     },
     "execution_count": 15,
     "metadata": {},
     "output_type": "execute_result"
    }
   ],
   "source": [
    "velocity[fkey(C)](0)"
   ]
  },
  {
   "cell_type": "code",
   "execution_count": 16,
   "metadata": {},
   "outputs": [
    {
     "data": {
      "text/plain": [
       "Matrix([\n",
       "[-d*(sin(alpha(t))*cos(theta[0]) + sin(theta[0])*cos(alpha(t)))*(Derivative(alpha(t), t) + Derivative(theta[0], t)) + r*(-sin(alpha(t))*sin(theta[0]) + cos(alpha(t))*cos(theta[0]))*Derivative(psi[0], t)],\n",
       "[d*(-sin(alpha(t))*sin(theta[0]) + cos(alpha(t))*cos(theta[0]))*(Derivative(alpha(t), t) + Derivative(theta[0], t)) - r*(-sin(alpha(t))*cos(theta[0]) - sin(theta[0])*cos(alpha(t)))*Derivative(psi[0], t)],\n",
       "[                                                                                                                                                                                                        0]])"
      ]
     },
     "execution_count": 16,
     "metadata": {},
     "output_type": "execute_result"
    }
   ],
   "source": [
    "v[fkey(P)](0)"
   ]
  },
  {
   "cell_type": "code",
   "execution_count": 17,
   "metadata": {},
   "outputs": [],
   "source": [
    "# Полный Д'Аламбер Лагранжа, но только для одного тела\n",
    "A_full = 0\n",
    "A_full  = lambda i: A['platform'](i) + A['fork'](i) + A['wheel'](i)\n",
    "A_full_poly = lambda i: Poly(A_full(i).subs(delta['psi'][i], eq['diff(psi)'](i)).subs(delta['theta'][i], eq['diff(theta)'](i)), \n",
    "    [delta['x'], delta['y'], delta['alpha']])"
   ]
  },
  {
   "cell_type": "code",
   "execution_count": 18,
   "metadata": {},
   "outputs": [],
   "source": [
    "# Полный Д'Аламбер для всего тела, просуммированный \n",
    "# A_full_poly_sum = 0\n",
    "# for k in range(3):\n",
    "#     A_full_poly_sum += A_full_poly(k)\n",
    "# A_full_poly_sum"
   ]
  },
  {
   "cell_type": "code",
   "execution_count": 19,
   "metadata": {},
   "outputs": [],
   "source": [
    "# Коэффиценты\n",
    "A_coeffs = lambda i: A_full_poly(i).coeffs()"
   ]
  },
  {
   "cell_type": "code",
   "execution_count": 20,
   "metadata": {},
   "outputs": [],
   "source": [
    "# Здесь будут лежать коэффиценты при dx dy dalpha  для всех 3 колёс\n",
    "# ПОКА ДЛЯ ОДНОГО КОЛЕСА\n",
    "#var = A_coeffs(0)\n",
    "\n",
    "# coeff_wheel.append(A_coeffs(1))\n",
    "# coeff_wheel.append(A_coeffs(2))"
   ]
  },
  {
   "cell_type": "code",
   "execution_count": 21,
   "metadata": {},
   "outputs": [],
   "source": [
    "#l = 0\n",
    "#var[0] = var[0].subs({alpha: 0, beta[l]: 0, theta[l]: 0, nu[1]: 0, nu[2]: 0})\n",
    "#var[1] = var[1].subs({alpha: 0, beta[l]: 0, theta[l]: 0, nu[1]: 0, nu[2]: 0})\n",
    "#var[2] = var[2].subs({alpha: 0, beta[l]: 0, theta[l]: 0, nu[1]: 0, nu[2]: 0}) "
   ]
  },
  {
   "cell_type": "code",
   "execution_count": 22,
   "metadata": {},
   "outputs": [],
   "source": [
    "coeff[delta['x']]     = lambda i: simplify(A_coeffs(i)[0])#.subs({alpha: 0, beta[i]: 0, theta[i]: 0, nu[1]: 0, nu[2]: 0})\n",
    "coeff[delta['y']]     = lambda i: simplify(A_coeffs(i)[1])#.subs({alpha: 0, beta[i]: 0, theta[i]: 0, nu[1]: 0, nu[2]: 0})\n",
    "coeff[delta['alpha']] = lambda i: simplify(A_coeffs(i)[2])#.subs({alpha: 0, beta[i]: 0, theta[i]: 0, nu[1]: 0, nu[2]: 0})"
   ]
  },
  {
   "cell_type": "code",
   "execution_count": 23,
   "metadata": {},
   "outputs": [],
   "source": [
    "coeff_dx ={}\n",
    "coeff_dy ={}\n",
    "coeff_dalpha ={}"
   ]
  },
  {
   "cell_type": "code",
   "execution_count": null,
   "metadata": {},
   "outputs": [],
   "source": [
    "%%time\n",
    "#коэффиценты для колеса при dx dy dalpha, просто в отдельные переменные\n",
    "coeff_dx[0] = coeff[delta['x']](0)\n",
    "coeff_dy[0] = coeff[delta['y']](0)\n",
    "coeff_dalpha[0] = coeff[delta['alpha']](0)"
   ]
  },
  {
   "cell_type": "code",
   "execution_count": 31,
   "metadata": {},
   "outputs": [
    {
     "data": {
      "text/plain": [
       "(d*r*(a*Derivative(alpha(t), t, t) + d*m2*sin(beta[0] - theta[0])*Derivative(alpha(t), t)**2 + d*m2*sin(beta[0] - theta[0])*Derivative(alpha(t), t)*Derivative(theta[0], t) + d*m2*cos(beta[0] - theta[0])*Derivative(alpha(t), t, t) + m2*nu1(t)*cos(beta[0])*Derivative(alpha(t), t) + m2*nu2(t)*sin(beta[0])*Derivative(alpha(t), t) - m2*sin(2*beta[0] - 2*theta[0])*Derivative(alpha(t), t)**2/2 - m2*sin(2*beta[0] - 2*theta[0])*Derivative(alpha(t), t)*Derivative(theta[0], t)/2 - m2*sin(beta[0])*Derivative(nu1(t), t) - m2*cos(2*beta[0] - 2*theta[0])*Derivative(alpha(t), t, t)/2 + m2*cos(beta[0])*Derivative(nu2(t), t) + m2*Derivative(alpha(t), t, t)/2 - W[0]) + d*sin(beta[0] - theta[0])*T[0] + r*(-b*Derivative(alpha(t), t, t) - m2*nu1(t)*cos(beta[0])*Derivative(alpha(t), t) - m2*nu2(t)*sin(beta[0])*Derivative(alpha(t), t) + m2*sin(beta[0])*Derivative(nu1(t), t) - m2*cos(beta[0])*Derivative(nu2(t), t) - m2*Derivative(alpha(t), t, t) - 2*W[0])*cos(beta[0] - theta[0]))/(d*r)"
      ]
     },
     "execution_count": 31,
     "metadata": {},
     "output_type": "execute_result"
    }
   ],
   "source": [
    "coeff_dalpha[0]"
   ]
  },
  {
   "cell_type": "code",
   "execution_count": 32,
   "metadata": {},
   "outputs": [
    {
     "name": "stdout",
     "output_type": "stream",
     "text": [
      "CPU times: user 2min 38s, sys: 40 ms, total: 2min 38s\n",
      "Wall time: 2min 38s\n"
     ]
    }
   ],
   "source": [
    "%%time\n",
    "#коэффиценты для колеса при dx dy dalpha, просто в отдельные переменные\n",
    "coeff_dx[1] = coeff[delta['x']](1)\n",
    "coeff_dy[1] = coeff[delta['y']](1)\n",
    "coeff_dalpha[1] = coeff[delta['alpha']](1)"
   ]
  },
  {
   "cell_type": "code",
   "execution_count": 33,
   "metadata": {},
   "outputs": [
    {
     "name": "stdout",
     "output_type": "stream",
     "text": [
      "CPU times: user 2min 45s, sys: 120 ms, total: 2min 45s\n",
      "Wall time: 2min 45s\n"
     ]
    }
   ],
   "source": [
    "%%time\n",
    "#коэффиценты для колеса при dx dy dalpha, просто в отдельные переменные\n",
    "coeff_dx[2] = coeff[delta['x']](2)\n",
    "coeff_dy[2] = coeff[delta['y']](2)\n",
    "coeff_dalpha[2] = coeff[delta['alpha']](2)"
   ]
  },
  {
   "cell_type": "code",
   "execution_count": 34,
   "metadata": {},
   "outputs": [],
   "source": [
    "# надеюсь нормально их суммировать сейчас\n",
    "coeff_dx['sum'] = 0\n",
    "coeff_dy['sum'] = 0\n",
    "coeff_dalpha['sum'] = 0\n",
    "\n",
    "for k in range(3):\n",
    "    coeff_dx['sum'] += coeff_dx[k]\n",
    "    coeff_dy['sum'] += coeff_dy[k]\n",
    "    coeff_dalpha['sum'] += coeff_dalpha[k]"
   ]
  },
  {
   "cell_type": "code",
   "execution_count": 35,
   "metadata": {},
   "outputs": [],
   "source": [
    "# говорим что получившиеся выражения это полином, зависящий от nu1, nu2, (alpha)'' \n",
    "eq_by_dx     = Poly(coeff_dx[0],     [Derivative(nu[1],t), Derivative(nu[2],t), Derivative(alpha,t,2)])\n",
    "eq_by_dy     = Poly(coeff_dy[0],     [Derivative(nu[1],t), Derivative(nu[2],t), Derivative(alpha,t,2)])\n",
    "eq_by_dalpha = Poly(coeff_dalpha[0], [Derivative(nu[1],t), Derivative(nu[2],t), Derivative(alpha,t,2)])"
   ]
  },
  {
   "cell_type": "code",
   "execution_count": 36,
   "metadata": {},
   "outputs": [
    {
     "data": {
      "text/plain": [
       "4"
      ]
     },
     "execution_count": 36,
     "metadata": {},
     "output_type": "execute_result"
    }
   ],
   "source": [
    "len(eq_by_dx.coeffs())"
   ]
  },
  {
   "cell_type": "code",
   "execution_count": 37,
   "metadata": {},
   "outputs": [
    {
     "data": {
      "text/plain": [
       "4"
      ]
     },
     "execution_count": 37,
     "metadata": {},
     "output_type": "execute_result"
    }
   ],
   "source": [
    "len(eq_by_dy.coeffs())"
   ]
  },
  {
   "cell_type": "code",
   "execution_count": 38,
   "metadata": {},
   "outputs": [
    {
     "data": {
      "text/plain": [
       "4"
      ]
     },
     "execution_count": 38,
     "metadata": {},
     "output_type": "execute_result"
    }
   ],
   "source": [
    "# посмотреть что получилось\n",
    "len(eq_by_dx.coeffs())"
   ]
  },
  {
   "cell_type": "code",
   "execution_count": 39,
   "metadata": {},
   "outputs": [
    {
     "name": "stdout",
     "output_type": "stream",
     "text": [
      "Poly((m1*cos(alpha(t)) + m2*cos(alpha(t)) + m2*sin(alpha(t) + theta[0])*sin(beta[0])/d)*Derivative(nu1(t), t) + (-m1*sin(alpha(t)) - m2*sin(alpha(t)) - m2*sin(alpha(t) + theta[0])*cos(beta[0])/d)*Derivative(nu2(t), t) + (-b*sin(alpha(t) + theta[0])/d - d*m2*sin(alpha(t) + theta[0]) - m2*sin(alpha(t) + beta[0]) - m2*sin(alpha(t) + theta[0])*cos(beta[0] - theta[0]) - m2*sin(alpha(t) + theta[0])/d)*Derivative(alpha(t), t, t) - d*m2*cos(alpha(t) + theta[0])*Derivative(alpha(t), t)**2 - d*m2*cos(alpha(t) + theta[0])*Derivative(alpha(t), t)*Derivative(theta[0], t) - m1*nu1(t)*sin(alpha(t))*Derivative(alpha(t), t) - m1*nu2(t)*cos(alpha(t))*Derivative(alpha(t), t) - m2*nu1(t)*sin(alpha(t))*Derivative(alpha(t), t) - m2*nu2(t)*cos(alpha(t))*Derivative(alpha(t), t) - m2*sin(alpha(t) + theta[0])*sin(beta[0] - theta[0])*Derivative(alpha(t), t)**2 - m2*sin(alpha(t) + theta[0])*sin(beta[0] - theta[0])*Derivative(alpha(t), t)*Derivative(theta[0], t) - m2*cos(alpha(t) + beta[0])*Derivative(alpha(t), t)**2 + cos(alpha(t) + theta[0])*T[0]/r - m2*nu1(t)*sin(alpha(t) + theta[0])*cos(beta[0])*Derivative(alpha(t), t)/d - m2*nu2(t)*sin(alpha(t) + theta[0])*sin(beta[0])*Derivative(alpha(t), t)/d - 2*sin(alpha(t) + theta[0])*W[0]/d, Derivative(nu1(t), t), Derivative(nu2(t), t), Derivative(alpha(t), t, t), domain='EX')\n"
     ]
    }
   ],
   "source": [
    "# Пример группировки\n",
    "print(collect(eq_by_dx,\n",
    "        [Derivative(nu[1], t), Derivative(nu[2], t), Derivative(alpha, t,2)]))"
   ]
  },
  {
   "cell_type": "code",
   "execution_count": 40,
   "metadata": {},
   "outputs": [],
   "source": [
    "# система уравнений left*[nu1', nu2', alpha''] = right\n",
    "\n",
    "    left = Matrix([eq_by_dx.coeffs()[:3],\n",
    "                   eq_by_dy.coeffs()[:3],\n",
    "                   eq_by_dalpha.coeffs()[:3]])\n",
    "    right = Matrix([eq_by_dx.coeffs()[-1],\n",
    "                   eq_by_dy.coeffs()[-1],\n",
    "                   eq_by_dalpha.coeffs()[-1]])"
   ]
  },
  {
   "cell_type": "code",
   "execution_count": 41,
   "metadata": {},
   "outputs": [],
   "source": [
    "alpha_t, nu1_t, nu2_t = symbols('alpha_t, nu1_t, nu2_t')\n",
    "theta0, theta1, theta2 = symbols('theta0, theta1, theta2')\n",
    "alpha1, alpha2 = symbols('alpha1, alpha2')"
   ]
  },
  {
   "cell_type": "code",
   "execution_count": 42,
   "metadata": {},
   "outputs": [],
   "source": [
    "def subs_init(eq):\n",
    "    eq = eq.subs({\n",
    "            beta[0]: 0, beta[1]: 2*pi/3, beta[2]: 4*pi/3,  # раосторонний\n",
    "            m['platform']: 2, \n",
    "            m['wheel']: 1,\n",
    "            a: 3,\n",
    "            b: 0.01,\n",
    "            c: 0.02,\n",
    "            r: 0.2\n",
    "    })\n",
    "    return eq\n",
    "\n",
    "def subs_for_ode(eq):\n",
    "    eq = eq.subs({\n",
    "            nu[1]: nu1_t, nu[2]: nu2_t,\n",
    "            theta[0]: theta0, theta[1]: theta1, theta[2]: theta2,\n",
    "            alpha: alpha1, Derivative(alpha, t): alpha2\n",
    "    })\n",
    "    return eq"
   ]
  },
  {
   "cell_type": "code",
   "execution_count": 43,
   "metadata": {},
   "outputs": [],
   "source": [
    "left = subs_init(left)\n",
    "right = subs_init(right)"
   ]
  },
  {
   "cell_type": "code",
   "execution_count": 44,
   "metadata": {},
   "outputs": [
    {
     "name": "stdout",
     "output_type": "stream",
     "text": [
      "CPU times: user 11.8 s, sys: 2 µs, total: 11.8 s\n",
      "Wall time: 11.8 s\n"
     ]
    }
   ],
   "source": [
    "%%time\n",
    "\n",
    "left_inv = left.inv() # left^(-1)"
   ]
  },
  {
   "cell_type": "code",
   "execution_count": 45,
   "metadata": {},
   "outputs": [],
   "source": [
    "# Какие то варианты, которые наверно делают тоже самое\n",
    "# from sympy.solvers.solveset import linsolve\n",
    "# from sympy.solvers.solvers import solve_linear_system_LU"
   ]
  },
  {
   "cell_type": "code",
   "execution_count": 46,
   "metadata": {},
   "outputs": [],
   "source": [
    "eq['diff_eq'] = left_inv*right"
   ]
  },
  {
   "cell_type": "code",
   "execution_count": 47,
   "metadata": {},
   "outputs": [
    {
     "data": {
      "text/plain": [
       "3"
      ]
     },
     "execution_count": 47,
     "metadata": {},
     "output_type": "execute_result"
    }
   ],
   "source": [
    "len(eq['diff_eq']) # nu1', nu2', alpha''"
   ]
  },
  {
   "cell_type": "code",
   "execution_count": 48,
   "metadata": {},
   "outputs": [
    {
     "data": {
      "text/plain": [
       "Matrix([\n",
       "[-((-3*(-3*sin(alpha(t)) - sin(alpha(t) + theta[0])/d)*sin(alpha(t)) + 3*(3*cos(alpha(t)) + cos(alpha(t) + theta[0])/d)*cos(alpha(t)))*(-d*sin(alpha(t) + theta[0]) - sin(alpha(t) + theta[0])*cos(theta[0]) - sin(alpha(t)) - 1.01*sin(alpha(t) + theta[0])/d) - (-3*(-d*sin(alpha(t) + theta[0]) - sin(alpha(t) + theta[0])*cos(theta[0]) - sin(alpha(t)) - 1.01*sin(alpha(t) + theta[0])/d)*sin(alpha(t)) + 3*(d*cos(alpha(t) + theta[0]) + cos(alpha(t) + theta[0])*cos(theta[0]) + cos(alpha(t)) + 1.01*cos(alpha(t) + theta[0])/d)*cos(alpha(t)))*(-3*sin(alpha(t)) - sin(alpha(t) + theta[0])/d))*(-d*sin(theta[0])*Derivative(alpha(t), t)**2 - d*sin(theta[0])*Derivative(alpha(t), t)*Derivative(theta[0], t) + nu1(t)*Derivative(alpha(t), t) - 5.0*sin(theta[0])*T[0] + sin(2*theta[0])*Derivative(alpha(t), t)**2/2 + sin(2*theta[0])*Derivative(alpha(t), t)*Derivative(theta[0], t)/2 - W[0] - nu1(t)*cos(theta[0])*Derivative(alpha(t), t)/d - 2*cos(theta[0])*W[0]/d)/(3*(-(1 - cos(theta[0])/d)*(-3*(-d*sin(alpha(t) + theta[0]) - sin(alpha(t) + theta[0])*cos(theta[0]) - sin(alpha(t)) - 1.01*sin(alpha(t) + theta[0])/d)*sin(alpha(t)) + 3*(d*cos(alpha(t) + theta[0]) + cos(alpha(t) + theta[0])*cos(theta[0]) + cos(alpha(t)) + 1.01*cos(alpha(t) + theta[0])/d)*cos(alpha(t))) + (-3*(-3*sin(alpha(t)) - sin(alpha(t) + theta[0])/d)*sin(alpha(t)) + 3*(3*cos(alpha(t)) + cos(alpha(t) + theta[0])/d)*cos(alpha(t)))*(d*cos(theta[0]) - cos(2*theta[0])/2 + 7/2 - 1.01*cos(theta[0])/d))*cos(alpha(t))) + (-3*(1 - cos(theta[0])/d)*((-3*(-3*sin(alpha(t)) - sin(alpha(t) + theta[0])/d)*sin(alpha(t)) + 3*(3*cos(alpha(t)) + cos(alpha(t) + theta[0])/d)*cos(alpha(t)))*(-d*sin(alpha(t) + theta[0]) - sin(alpha(t) + theta[0])*cos(theta[0]) - sin(alpha(t)) - 1.01*sin(alpha(t) + theta[0])/d) - (-3*(-d*sin(alpha(t) + theta[0]) - sin(alpha(t) + theta[0])*cos(theta[0]) - sin(alpha(t)) - 1.01*sin(alpha(t) + theta[0])/d)*sin(alpha(t)) + 3*(d*cos(alpha(t) + theta[0]) + cos(alpha(t) + theta[0])*cos(theta[0]) + cos(alpha(t)) + 1.01*cos(alpha(t) + theta[0])/d)*cos(alpha(t)))*(-3*sin(alpha(t)) - sin(alpha(t) + theta[0])/d))*sin(alpha(t)) + 3*(-(1 - cos(theta[0])/d)*(-3*(-d*sin(alpha(t) + theta[0]) - sin(alpha(t) + theta[0])*cos(theta[0]) - sin(alpha(t)) - 1.01*sin(alpha(t) + theta[0])/d)*sin(alpha(t)) + 3*(d*cos(alpha(t) + theta[0]) + cos(alpha(t) + theta[0])*cos(theta[0]) + cos(alpha(t)) + 1.01*cos(alpha(t) + theta[0])/d)*cos(alpha(t))) + (-3*(-3*sin(alpha(t)) - sin(alpha(t) + theta[0])/d)*sin(alpha(t)) + 3*(3*cos(alpha(t)) + cos(alpha(t) + theta[0])/d)*cos(alpha(t)))*(d*cos(theta[0]) - cos(2*theta[0])/2 + 7/2 - 1.01*cos(theta[0])/d))*(3*cos(alpha(t)) + cos(alpha(t) + theta[0])/d)*cos(alpha(t)))*(-d*cos(alpha(t) + theta[0])*Derivative(alpha(t), t)**2 - d*cos(alpha(t) + theta[0])*Derivative(alpha(t), t)*Derivative(theta[0], t) - 3*nu1(t)*sin(alpha(t))*Derivative(alpha(t), t) - 3*nu2(t)*cos(alpha(t))*Derivative(alpha(t), t) + sin(alpha(t) + theta[0])*sin(theta[0])*Derivative(alpha(t), t)**2 + sin(alpha(t) + theta[0])*sin(theta[0])*Derivative(alpha(t), t)*Derivative(theta[0], t) + 5.0*cos(alpha(t) + theta[0])*T[0] - cos(alpha(t))*Derivative(alpha(t), t)**2 - nu1(t)*sin(alpha(t) + theta[0])*Derivative(alpha(t), t)/d - 2*sin(alpha(t) + theta[0])*W[0]/d)/(3*(-(1 - cos(theta[0])/d)*(-3*(-d*sin(alpha(t) + theta[0]) - sin(alpha(t) + theta[0])*cos(theta[0]) - sin(alpha(t)) - 1.01*sin(alpha(t) + theta[0])/d)*sin(alpha(t)) + 3*(d*cos(alpha(t) + theta[0]) + cos(alpha(t) + theta[0])*cos(theta[0]) + cos(alpha(t)) + 1.01*cos(alpha(t) + theta[0])/d)*cos(alpha(t))) + (-3*(-3*sin(alpha(t)) - sin(alpha(t) + theta[0])/d)*sin(alpha(t)) + 3*(3*cos(alpha(t)) + cos(alpha(t) + theta[0])/d)*cos(alpha(t)))*(d*cos(theta[0]) - cos(2*theta[0])/2 + 7/2 - 1.01*cos(theta[0])/d))*(-3*(-3*sin(alpha(t)) - sin(alpha(t) + theta[0])/d)*sin(alpha(t)) + 3*(3*cos(alpha(t)) + cos(alpha(t) + theta[0])/d)*cos(alpha(t)))*cos(alpha(t))) + (3*(1 - cos(theta[0])/d)*((-3*(-3*sin(alpha(t)) - sin(alpha(t) + theta[0])/d)*sin(alpha(t)) + 3*(3*cos(alpha(t)) + cos(alpha(t) + theta[0])/d)*cos(alpha(t)))*(-d*sin(alpha(t) + theta[0]) - sin(alpha(t) + theta[0])*cos(theta[0]) - sin(alpha(t)) - 1.01*sin(alpha(t) + theta[0])/d) - (-3*(-d*sin(alpha(t) + theta[0]) - sin(alpha(t) + theta[0])*cos(theta[0]) - sin(alpha(t)) - 1.01*sin(alpha(t) + theta[0])/d)*sin(alpha(t)) + 3*(d*cos(alpha(t) + theta[0]) + cos(alpha(t) + theta[0])*cos(theta[0]) + cos(alpha(t)) + 1.01*cos(alpha(t) + theta[0])/d)*cos(alpha(t)))*(-3*sin(alpha(t)) - sin(alpha(t) + theta[0])/d))*cos(alpha(t)) - 3*(-(1 - cos(theta[0])/d)*(-3*(-d*sin(alpha(t) + theta[0]) - sin(alpha(t) + theta[0])*cos(theta[0]) - sin(alpha(t)) - 1.01*sin(alpha(t) + theta[0])/d)*sin(alpha(t)) + 3*(d*cos(alpha(t) + theta[0]) + cos(alpha(t) + theta[0])*cos(theta[0]) + cos(alpha(t)) + 1.01*cos(alpha(t) + theta[0])/d)*cos(alpha(t))) + (-3*(-3*sin(alpha(t)) - sin(alpha(t) + theta[0])/d)*sin(alpha(t)) + 3*(3*cos(alpha(t)) + cos(alpha(t) + theta[0])/d)*cos(alpha(t)))*(d*cos(theta[0]) - cos(2*theta[0])/2 + 7/2 - 1.01*cos(theta[0])/d))*(-3*sin(alpha(t)) - sin(alpha(t) + theta[0])/d)*cos(alpha(t)))*(-d*sin(alpha(t) + theta[0])*Derivative(alpha(t), t)**2 - d*sin(alpha(t) + theta[0])*Derivative(alpha(t), t)*Derivative(theta[0], t) + 3*nu1(t)*cos(alpha(t))*Derivative(alpha(t), t) - 3*nu2(t)*sin(alpha(t))*Derivative(alpha(t), t) + 5.0*sin(alpha(t) + theta[0])*T[0] - sin(alpha(t))*Derivative(alpha(t), t)**2 - sin(theta[0])*cos(alpha(t) + theta[0])*Derivative(alpha(t), t)**2 - sin(theta[0])*cos(alpha(t) + theta[0])*Derivative(alpha(t), t)*Derivative(theta[0], t) + nu1(t)*cos(alpha(t) + theta[0])*Derivative(alpha(t), t)/d + 2*cos(alpha(t) + theta[0])*W[0]/d)/(3*(-(1 - cos(theta[0])/d)*(-3*(-d*sin(alpha(t) + theta[0]) - sin(alpha(t) + theta[0])*cos(theta[0]) - sin(alpha(t)) - 1.01*sin(alpha(t) + theta[0])/d)*sin(alpha(t)) + 3*(d*cos(alpha(t) + theta[0]) + cos(alpha(t) + theta[0])*cos(theta[0]) + cos(alpha(t)) + 1.01*cos(alpha(t) + theta[0])/d)*cos(alpha(t))) + (-3*(-3*sin(alpha(t)) - sin(alpha(t) + theta[0])/d)*sin(alpha(t)) + 3*(3*cos(alpha(t)) + cos(alpha(t) + theta[0])/d)*cos(alpha(t)))*(d*cos(theta[0]) - cos(2*theta[0])/2 + 7/2 - 1.01*cos(theta[0])/d))*(-3*(-3*sin(alpha(t)) - sin(alpha(t) + theta[0])/d)*sin(alpha(t)) + 3*(3*cos(alpha(t)) + cos(alpha(t) + theta[0])/d)*cos(alpha(t)))*cos(alpha(t)))],\n",
       "[                                                                                                                                                                                                                                                                                                                                                                                                                                                                                                                                                                                                                                                                                                                                                                                                                                                                                                                                                                                                                                                                                                    -(-3*(-d*sin(alpha(t) + theta[0]) - sin(alpha(t) + theta[0])*cos(theta[0]) - sin(alpha(t)) - 1.01*sin(alpha(t) + theta[0])/d)*sin(alpha(t)) + 3*(d*cos(alpha(t) + theta[0]) + cos(alpha(t) + theta[0])*cos(theta[0]) + cos(alpha(t)) + 1.01*cos(alpha(t) + theta[0])/d)*cos(alpha(t)))*(-d*sin(theta[0])*Derivative(alpha(t), t)**2 - d*sin(theta[0])*Derivative(alpha(t), t)*Derivative(theta[0], t) + nu1(t)*Derivative(alpha(t), t) - 5.0*sin(theta[0])*T[0] + sin(2*theta[0])*Derivative(alpha(t), t)**2/2 + sin(2*theta[0])*Derivative(alpha(t), t)*Derivative(theta[0], t)/2 - W[0] - nu1(t)*cos(theta[0])*Derivative(alpha(t), t)/d - 2*cos(theta[0])*W[0]/d)/(-(1 - cos(theta[0])/d)*(-3*(-d*sin(alpha(t) + theta[0]) - sin(alpha(t) + theta[0])*cos(theta[0]) - sin(alpha(t)) - 1.01*sin(alpha(t) + theta[0])/d)*sin(alpha(t)) + 3*(d*cos(alpha(t) + theta[0]) + cos(alpha(t) + theta[0])*cos(theta[0]) + cos(alpha(t)) + 1.01*cos(alpha(t) + theta[0])/d)*cos(alpha(t))) + (-3*(-3*sin(alpha(t)) - sin(alpha(t) + theta[0])/d)*sin(alpha(t)) + 3*(3*cos(alpha(t)) + cos(alpha(t) + theta[0])/d)*cos(alpha(t)))*(d*cos(theta[0]) - cos(2*theta[0])/2 + 7/2 - 1.01*cos(theta[0])/d)) + (-3*(1 - cos(theta[0])/d)*(-3*(-d*sin(alpha(t) + theta[0]) - sin(alpha(t) + theta[0])*cos(theta[0]) - sin(alpha(t)) - 1.01*sin(alpha(t) + theta[0])/d)*sin(alpha(t)) + 3*(d*cos(alpha(t) + theta[0]) + cos(alpha(t) + theta[0])*cos(theta[0]) + cos(alpha(t)) + 1.01*cos(alpha(t) + theta[0])/d)*cos(alpha(t)))*sin(alpha(t)) - 3*(-(1 - cos(theta[0])/d)*(-3*(-d*sin(alpha(t) + theta[0]) - sin(alpha(t) + theta[0])*cos(theta[0]) - sin(alpha(t)) - 1.01*sin(alpha(t) + theta[0])/d)*sin(alpha(t)) + 3*(d*cos(alpha(t) + theta[0]) + cos(alpha(t) + theta[0])*cos(theta[0]) + cos(alpha(t)) + 1.01*cos(alpha(t) + theta[0])/d)*cos(alpha(t))) + (-3*(-3*sin(alpha(t)) - sin(alpha(t) + theta[0])/d)*sin(alpha(t)) + 3*(3*cos(alpha(t)) + cos(alpha(t) + theta[0])/d)*cos(alpha(t)))*(d*cos(theta[0]) - cos(2*theta[0])/2 + 7/2 - 1.01*cos(theta[0])/d))*sin(alpha(t)))*(-d*cos(alpha(t) + theta[0])*Derivative(alpha(t), t)**2 - d*cos(alpha(t) + theta[0])*Derivative(alpha(t), t)*Derivative(theta[0], t) - 3*nu1(t)*sin(alpha(t))*Derivative(alpha(t), t) - 3*nu2(t)*cos(alpha(t))*Derivative(alpha(t), t) + sin(alpha(t) + theta[0])*sin(theta[0])*Derivative(alpha(t), t)**2 + sin(alpha(t) + theta[0])*sin(theta[0])*Derivative(alpha(t), t)*Derivative(theta[0], t) + 5.0*cos(alpha(t) + theta[0])*T[0] - cos(alpha(t))*Derivative(alpha(t), t)**2 - nu1(t)*sin(alpha(t) + theta[0])*Derivative(alpha(t), t)/d - 2*sin(alpha(t) + theta[0])*W[0]/d)/((-(1 - cos(theta[0])/d)*(-3*(-d*sin(alpha(t) + theta[0]) - sin(alpha(t) + theta[0])*cos(theta[0]) - sin(alpha(t)) - 1.01*sin(alpha(t) + theta[0])/d)*sin(alpha(t)) + 3*(d*cos(alpha(t) + theta[0]) + cos(alpha(t) + theta[0])*cos(theta[0]) + cos(alpha(t)) + 1.01*cos(alpha(t) + theta[0])/d)*cos(alpha(t))) + (-3*(-3*sin(alpha(t)) - sin(alpha(t) + theta[0])/d)*sin(alpha(t)) + 3*(3*cos(alpha(t)) + cos(alpha(t) + theta[0])/d)*cos(alpha(t)))*(d*cos(theta[0]) - cos(2*theta[0])/2 + 7/2 - 1.01*cos(theta[0])/d))*(-3*(-3*sin(alpha(t)) - sin(alpha(t) + theta[0])/d)*sin(alpha(t)) + 3*(3*cos(alpha(t)) + cos(alpha(t) + theta[0])/d)*cos(alpha(t)))) + (3*(1 - cos(theta[0])/d)*(-3*(-d*sin(alpha(t) + theta[0]) - sin(alpha(t) + theta[0])*cos(theta[0]) - sin(alpha(t)) - 1.01*sin(alpha(t) + theta[0])/d)*sin(alpha(t)) + 3*(d*cos(alpha(t) + theta[0]) + cos(alpha(t) + theta[0])*cos(theta[0]) + cos(alpha(t)) + 1.01*cos(alpha(t) + theta[0])/d)*cos(alpha(t)))*cos(alpha(t)) + 3*(-(1 - cos(theta[0])/d)*(-3*(-d*sin(alpha(t) + theta[0]) - sin(alpha(t) + theta[0])*cos(theta[0]) - sin(alpha(t)) - 1.01*sin(alpha(t) + theta[0])/d)*sin(alpha(t)) + 3*(d*cos(alpha(t) + theta[0]) + cos(alpha(t) + theta[0])*cos(theta[0]) + cos(alpha(t)) + 1.01*cos(alpha(t) + theta[0])/d)*cos(alpha(t))) + (-3*(-3*sin(alpha(t)) - sin(alpha(t) + theta[0])/d)*sin(alpha(t)) + 3*(3*cos(alpha(t)) + cos(alpha(t) + theta[0])/d)*cos(alpha(t)))*(d*cos(theta[0]) - cos(2*theta[0])/2 + 7/2 - 1.01*cos(theta[0])/d))*cos(alpha(t)))*(-d*sin(alpha(t) + theta[0])*Derivative(alpha(t), t)**2 - d*sin(alpha(t) + theta[0])*Derivative(alpha(t), t)*Derivative(theta[0], t) + 3*nu1(t)*cos(alpha(t))*Derivative(alpha(t), t) - 3*nu2(t)*sin(alpha(t))*Derivative(alpha(t), t) + 5.0*sin(alpha(t) + theta[0])*T[0] - sin(alpha(t))*Derivative(alpha(t), t)**2 - sin(theta[0])*cos(alpha(t) + theta[0])*Derivative(alpha(t), t)**2 - sin(theta[0])*cos(alpha(t) + theta[0])*Derivative(alpha(t), t)*Derivative(theta[0], t) + nu1(t)*cos(alpha(t) + theta[0])*Derivative(alpha(t), t)/d + 2*cos(alpha(t) + theta[0])*W[0]/d)/((-(1 - cos(theta[0])/d)*(-3*(-d*sin(alpha(t) + theta[0]) - sin(alpha(t) + theta[0])*cos(theta[0]) - sin(alpha(t)) - 1.01*sin(alpha(t) + theta[0])/d)*sin(alpha(t)) + 3*(d*cos(alpha(t) + theta[0]) + cos(alpha(t) + theta[0])*cos(theta[0]) + cos(alpha(t)) + 1.01*cos(alpha(t) + theta[0])/d)*cos(alpha(t))) + (-3*(-3*sin(alpha(t)) - sin(alpha(t) + theta[0])/d)*sin(alpha(t)) + 3*(3*cos(alpha(t)) + cos(alpha(t) + theta[0])/d)*cos(alpha(t)))*(d*cos(theta[0]) - cos(2*theta[0])/2 + 7/2 - 1.01*cos(theta[0])/d))*(-3*(-3*sin(alpha(t)) - sin(alpha(t) + theta[0])/d)*sin(alpha(t)) + 3*(3*cos(alpha(t)) + cos(alpha(t) + theta[0])/d)*cos(alpha(t))))],\n",
       "[                                                                                                                                                                                                                                                                                                                                                                                                                                                                                                                                                                                                                                                                                                                                                                                                                                                                                                                                                                                                                                                                                                                                                                                                                                                                                                                                                                                                                                                                                                                                                                                                                                                                                                                                                                                                                                                                                                                                                                                                                                                                                                                                                                                                                                                                                                                                                                                                                                                                                                                                                                                                                                                                                                                                                                                                                                                                                                                                                                                                                                                                                                                                                                                                       -3*(1 - cos(theta[0])/d)*(-d*sin(alpha(t) + theta[0])*Derivative(alpha(t), t)**2 - d*sin(alpha(t) + theta[0])*Derivative(alpha(t), t)*Derivative(theta[0], t) + 3*nu1(t)*cos(alpha(t))*Derivative(alpha(t), t) - 3*nu2(t)*sin(alpha(t))*Derivative(alpha(t), t) + 5.0*sin(alpha(t) + theta[0])*T[0] - sin(alpha(t))*Derivative(alpha(t), t)**2 - sin(theta[0])*cos(alpha(t) + theta[0])*Derivative(alpha(t), t)**2 - sin(theta[0])*cos(alpha(t) + theta[0])*Derivative(alpha(t), t)*Derivative(theta[0], t) + nu1(t)*cos(alpha(t) + theta[0])*Derivative(alpha(t), t)/d + 2*cos(alpha(t) + theta[0])*W[0]/d)*cos(alpha(t))/(-(1 - cos(theta[0])/d)*(-3*(-d*sin(alpha(t) + theta[0]) - sin(alpha(t) + theta[0])*cos(theta[0]) - sin(alpha(t)) - 1.01*sin(alpha(t) + theta[0])/d)*sin(alpha(t)) + 3*(d*cos(alpha(t) + theta[0]) + cos(alpha(t) + theta[0])*cos(theta[0]) + cos(alpha(t)) + 1.01*cos(alpha(t) + theta[0])/d)*cos(alpha(t))) + (-3*(-3*sin(alpha(t)) - sin(alpha(t) + theta[0])/d)*sin(alpha(t)) + 3*(3*cos(alpha(t)) + cos(alpha(t) + theta[0])/d)*cos(alpha(t)))*(d*cos(theta[0]) - cos(2*theta[0])/2 + 7/2 - 1.01*cos(theta[0])/d)) + 3*(1 - cos(theta[0])/d)*(-d*cos(alpha(t) + theta[0])*Derivative(alpha(t), t)**2 - d*cos(alpha(t) + theta[0])*Derivative(alpha(t), t)*Derivative(theta[0], t) - 3*nu1(t)*sin(alpha(t))*Derivative(alpha(t), t) - 3*nu2(t)*cos(alpha(t))*Derivative(alpha(t), t) + sin(alpha(t) + theta[0])*sin(theta[0])*Derivative(alpha(t), t)**2 + sin(alpha(t) + theta[0])*sin(theta[0])*Derivative(alpha(t), t)*Derivative(theta[0], t) + 5.0*cos(alpha(t) + theta[0])*T[0] - cos(alpha(t))*Derivative(alpha(t), t)**2 - nu1(t)*sin(alpha(t) + theta[0])*Derivative(alpha(t), t)/d - 2*sin(alpha(t) + theta[0])*W[0]/d)*sin(alpha(t))/(-(1 - cos(theta[0])/d)*(-3*(-d*sin(alpha(t) + theta[0]) - sin(alpha(t) + theta[0])*cos(theta[0]) - sin(alpha(t)) - 1.01*sin(alpha(t) + theta[0])/d)*sin(alpha(t)) + 3*(d*cos(alpha(t) + theta[0]) + cos(alpha(t) + theta[0])*cos(theta[0]) + cos(alpha(t)) + 1.01*cos(alpha(t) + theta[0])/d)*cos(alpha(t))) + (-3*(-3*sin(alpha(t)) - sin(alpha(t) + theta[0])/d)*sin(alpha(t)) + 3*(3*cos(alpha(t)) + cos(alpha(t) + theta[0])/d)*cos(alpha(t)))*(d*cos(theta[0]) - cos(2*theta[0])/2 + 7/2 - 1.01*cos(theta[0])/d)) + (-3*(-3*sin(alpha(t)) - sin(alpha(t) + theta[0])/d)*sin(alpha(t)) + 3*(3*cos(alpha(t)) + cos(alpha(t) + theta[0])/d)*cos(alpha(t)))*(-d*sin(theta[0])*Derivative(alpha(t), t)**2 - d*sin(theta[0])*Derivative(alpha(t), t)*Derivative(theta[0], t) + nu1(t)*Derivative(alpha(t), t) - 5.0*sin(theta[0])*T[0] + sin(2*theta[0])*Derivative(alpha(t), t)**2/2 + sin(2*theta[0])*Derivative(alpha(t), t)*Derivative(theta[0], t)/2 - W[0] - nu1(t)*cos(theta[0])*Derivative(alpha(t), t)/d - 2*cos(theta[0])*W[0]/d)/(-(1 - cos(theta[0])/d)*(-3*(-d*sin(alpha(t) + theta[0]) - sin(alpha(t) + theta[0])*cos(theta[0]) - sin(alpha(t)) - 1.01*sin(alpha(t) + theta[0])/d)*sin(alpha(t)) + 3*(d*cos(alpha(t) + theta[0]) + cos(alpha(t) + theta[0])*cos(theta[0]) + cos(alpha(t)) + 1.01*cos(alpha(t) + theta[0])/d)*cos(alpha(t))) + (-3*(-3*sin(alpha(t)) - sin(alpha(t) + theta[0])/d)*sin(alpha(t)) + 3*(3*cos(alpha(t)) + cos(alpha(t) + theta[0])/d)*cos(alpha(t)))*(d*cos(theta[0]) - cos(2*theta[0])/2 + 7/2 - 1.01*cos(theta[0])/d))]])"
      ]
     },
     "execution_count": 48,
     "metadata": {},
     "output_type": "execute_result"
    }
   ],
   "source": [
    "eq['diff_eq']"
   ]
  },
  {
   "cell_type": "code",
   "execution_count": 49,
   "metadata": {},
   "outputs": [],
   "source": [
    "eq['psi']   = []\n",
    "eq['theta'] = []\n",
    "\n",
    "for k in range(3):\n",
    "    eq['theta'].append(subs_init(eq['diff(theta)_nu'](k)))\n",
    "    eq['psi'].append(subs_init(eq['diff(psi)_nu'](k)))"
   ]
  },
  {
   "cell_type": "code",
   "execution_count": 50,
   "metadata": {},
   "outputs": [],
   "source": [
    "# уравнения с 6 по 10\n",
    "\n",
    "for k in range(3):\n",
    "    eq['theta'][k] = subs_for_ode(eq['theta'][k])\n",
    "    eq['psi'][k] = subs_for_ode(eq['psi'][k])\n",
    "    \n",
    "#####################\n",
    "# константы  подставлены\n",
    "#####################"
   ]
  },
  {
   "cell_type": "code",
   "execution_count": 51,
   "metadata": {},
   "outputs": [
    {
     "data": {
      "text/plain": [
       "-5.0*alpha2*sin(theta0) + 5.0*nu1_t*cos(theta0) + 5.0*nu2_t*sin(theta0)"
      ]
     },
     "execution_count": 51,
     "metadata": {},
     "output_type": "execute_result"
    }
   ],
   "source": [
    "eq['psi'][0]"
   ]
  },
  {
   "cell_type": "code",
   "execution_count": 52,
   "metadata": {},
   "outputs": [],
   "source": [
    "for k in range(3):\n",
    "    eq['diff_eq'] = eq['diff_eq'].subs({\n",
    "        Derivative(theta[k], t): eq['theta'][k]\n",
    "    })"
   ]
  },
  {
   "cell_type": "code",
   "execution_count": 53,
   "metadata": {},
   "outputs": [
    {
     "data": {
      "text/plain": [
       "-3*(1 - cos(theta0)/d)*(5.0*T0*sin(alpha1 + theta0) + 2*W0*cos(alpha1 + theta0)/d - alpha2**2*d*sin(alpha1 + theta0) - alpha2**2*sin(alpha1) - alpha2**2*sin(theta0)*cos(alpha1 + theta0) + 3*alpha2*nu1_t*cos(alpha1) - 3*alpha2*nu2_t*sin(alpha1) - alpha2*(-alpha2*d - alpha2*cos(theta0) - nu1_t*sin(theta0) + nu2_t*cos(theta0))*sin(alpha1 + theta0) + alpha2*nu1_t*cos(alpha1 + theta0)/d - alpha2*(-alpha2*d - alpha2*cos(theta0) - nu1_t*sin(theta0) + nu2_t*cos(theta0))*sin(theta0)*cos(alpha1 + theta0)/d)*cos(alpha1)/(-(1 - cos(theta0)/d)*(-3*(-d*sin(alpha1 + theta0) - sin(alpha1) - sin(alpha1 + theta0)*cos(theta0) - 1.01*sin(alpha1 + theta0)/d)*sin(alpha1) + 3*(d*cos(alpha1 + theta0) + cos(alpha1) + cos(theta0)*cos(alpha1 + theta0) + 1.01*cos(alpha1 + theta0)/d)*cos(alpha1)) + (-3*(-3*sin(alpha1) - sin(alpha1 + theta0)/d)*sin(alpha1) + 3*(3*cos(alpha1) + cos(alpha1 + theta0)/d)*cos(alpha1))*(d*cos(theta0) - cos(2*theta0)/2 + 7/2 - 1.01*cos(theta0)/d)) + 3*(1 - cos(theta0)/d)*(5.0*T0*cos(alpha1 + theta0) - 2*W0*sin(alpha1 + theta0)/d - alpha2**2*d*cos(alpha1 + theta0) + alpha2**2*sin(theta0)*sin(alpha1 + theta0) - alpha2**2*cos(alpha1) - 3*alpha2*nu1_t*sin(alpha1) - 3*alpha2*nu2_t*cos(alpha1) - alpha2*(-alpha2*d - alpha2*cos(theta0) - nu1_t*sin(theta0) + nu2_t*cos(theta0))*cos(alpha1 + theta0) - alpha2*nu1_t*sin(alpha1 + theta0)/d + alpha2*(-alpha2*d - alpha2*cos(theta0) - nu1_t*sin(theta0) + nu2_t*cos(theta0))*sin(theta0)*sin(alpha1 + theta0)/d)*sin(alpha1)/(-(1 - cos(theta0)/d)*(-3*(-d*sin(alpha1 + theta0) - sin(alpha1) - sin(alpha1 + theta0)*cos(theta0) - 1.01*sin(alpha1 + theta0)/d)*sin(alpha1) + 3*(d*cos(alpha1 + theta0) + cos(alpha1) + cos(theta0)*cos(alpha1 + theta0) + 1.01*cos(alpha1 + theta0)/d)*cos(alpha1)) + (-3*(-3*sin(alpha1) - sin(alpha1 + theta0)/d)*sin(alpha1) + 3*(3*cos(alpha1) + cos(alpha1 + theta0)/d)*cos(alpha1))*(d*cos(theta0) - cos(2*theta0)/2 + 7/2 - 1.01*cos(theta0)/d)) + (-3*(-3*sin(alpha1) - sin(alpha1 + theta0)/d)*sin(alpha1) + 3*(3*cos(alpha1) + cos(alpha1 + theta0)/d)*cos(alpha1))*(-5.0*T0*sin(theta0) - W0 - 2*W0*cos(theta0)/d - alpha2**2*d*sin(theta0) + alpha2**2*sin(2*theta0)/2 + alpha2*nu1_t - alpha2*(-alpha2*d - alpha2*cos(theta0) - nu1_t*sin(theta0) + nu2_t*cos(theta0))*sin(theta0) - alpha2*nu1_t*cos(theta0)/d + alpha2*(-alpha2*d - alpha2*cos(theta0) - nu1_t*sin(theta0) + nu2_t*cos(theta0))*sin(2*theta0)/(2*d))/(-(1 - cos(theta0)/d)*(-3*(-d*sin(alpha1 + theta0) - sin(alpha1) - sin(alpha1 + theta0)*cos(theta0) - 1.01*sin(alpha1 + theta0)/d)*sin(alpha1) + 3*(d*cos(alpha1 + theta0) + cos(alpha1) + cos(theta0)*cos(alpha1 + theta0) + 1.01*cos(alpha1 + theta0)/d)*cos(alpha1)) + (-3*(-3*sin(alpha1) - sin(alpha1 + theta0)/d)*sin(alpha1) + 3*(3*cos(alpha1) + cos(alpha1 + theta0)/d)*cos(alpha1))*(d*cos(theta0) - cos(2*theta0)/2 + 7/2 - 1.01*cos(theta0)/d))"
      ]
     },
     "execution_count": 53,
     "metadata": {},
     "output_type": "execute_result"
    }
   ],
   "source": [
    "# уравнения с 1 по 3, с подставленными theta[i]'\n",
    "T0, W0 = symbols('T0, W0')\n",
    "subs_for_ode(eq['diff_eq']).subs({\n",
    "    W[0]: W0,\n",
    "    T[0]: T0\n",
    "})[2]"
   ]
  },
  {
   "cell_type": "code",
   "execution_count": 54,
   "metadata": {},
   "outputs": [],
   "source": [
    "dict_eq = {}\n",
    "list_eq = [0,0,0,0,0,0,0,0,0,0]\n",
    "\n",
    "list_eq[0] = dict_eq['nu1'] = eq['diff_eq'][0]\n",
    "list_eq[1] = dict_eq['nu2'] = eq['diff_eq'][1]\n",
    "list_eq[2] = dict_eq['alpha2'] = eq['diff_eq'][2]\n",
    "list_eq[3] = dict_eq['alpha1'] = alpha2\n",
    "list_eq[4] = dict_eq['theta0'] = eq['theta'][0]\n",
    "list_eq[5] = dict_eq['theta1'] = eq['theta'][1]\n",
    "list_eq[6] = dict_eq['theta2'] = eq['theta'][2]\n",
    "list_eq[7] = dict_eq['psi0'] = eq['psi'][0]\n",
    "list_eq[8] = dict_eq['psi1'] = eq['psi'][1]\n",
    "list_eq[9] = dict_eq['psi2'] = eq['psi'][2]"
   ]
  },
  {
   "cell_type": "code",
   "execution_count": 219,
   "metadata": {},
   "outputs": [],
   "source": [
    "#############################################\n",
    "# Далее решение этой системы дифф уравнений \n",
    "#############################################"
   ]
  },
  {
   "cell_type": "code",
   "execution_count": 260,
   "metadata": {},
   "outputs": [],
   "source": [
    "import numpy as np\n",
    "from scipy.integrate import odeint\n",
    "import matplotlib.pyplot as plt\n",
    "from math import *"
   ]
  },
  {
   "cell_type": "code",
   "execution_count": 261,
   "metadata": {},
   "outputs": [
    {
     "data": {
      "text/plain": [
       "sympy.core.add.Add"
      ]
     },
     "execution_count": 261,
     "metadata": {},
     "output_type": "execute_result"
    }
   ],
   "source": [
    "type(list_eq[0])"
   ]
  },
  {
   "cell_type": "code",
   "execution_count": 271,
   "metadata": {},
   "outputs": [],
   "source": [
    "def f(y, t, T0, W0, d):\n",
    "    '''Определение правой части системы лин уравнений'''\n",
    "    nu1_t, nu2_t, alpha1, alpha2, theta0, theta1, theta2, psi0, psi1, psi2 = y\n",
    "    return list_eq"
   ]
  },
  {
   "cell_type": "code",
   "execution_count": 272,
   "metadata": {},
   "outputs": [],
   "source": [
    "begin_v = [0,0,0,0,0,0,0,0,0,0]\n",
    "t = np.linspace(0, 1, 51) # ну вот такое себе конечно\n",
    "T0 = 1.0\n",
    "W0 = 1.0\n",
    "d = 0.5"
   ]
  },
  {
   "cell_type": "code",
   "execution_count": 273,
   "metadata": {},
   "outputs": [
    {
     "ename": "TypeError",
     "evalue": "can't convert expression to float",
     "output_type": "error",
     "traceback": [
      "\u001b[0;31m---------------------------------------------------------------------------\u001b[0m",
      "\u001b[0;31mTypeError\u001b[0m                                 Traceback (most recent call last)",
      "\u001b[0;32m<ipython-input-273-96b1d3ab25ef>\u001b[0m in \u001b[0;36m<module>\u001b[0;34m()\u001b[0m\n\u001b[0;32m----> 1\u001b[0;31m \u001b[0mres\u001b[0m \u001b[0;34m=\u001b[0m \u001b[0modeint\u001b[0m\u001b[0;34m(\u001b[0m\u001b[0mf\u001b[0m\u001b[0;34m,\u001b[0m \u001b[0mbegin_v\u001b[0m\u001b[0;34m,\u001b[0m \u001b[0mt\u001b[0m\u001b[0;34m,\u001b[0m \u001b[0margs\u001b[0m\u001b[0;34m=\u001b[0m\u001b[0;34m(\u001b[0m\u001b[0mT0\u001b[0m\u001b[0;34m,\u001b[0m \u001b[0mW0\u001b[0m\u001b[0;34m,\u001b[0m \u001b[0md\u001b[0m\u001b[0;34m,\u001b[0m\u001b[0;34m)\u001b[0m\u001b[0;34m)\u001b[0m\u001b[0;34m\u001b[0m\u001b[0m\n\u001b[0m",
      "\u001b[0;32m~/.local/lib/python3.5/site-packages/scipy/integrate/odepack.py\u001b[0m in \u001b[0;36modeint\u001b[0;34m(func, y0, t, args, Dfun, col_deriv, full_output, ml, mu, rtol, atol, tcrit, h0, hmax, hmin, ixpr, mxstep, mxhnil, mxordn, mxords, printmessg, tfirst)\u001b[0m\n\u001b[1;32m    231\u001b[0m                              \u001b[0mfull_output\u001b[0m\u001b[0;34m,\u001b[0m \u001b[0mrtol\u001b[0m\u001b[0;34m,\u001b[0m \u001b[0matol\u001b[0m\u001b[0;34m,\u001b[0m \u001b[0mtcrit\u001b[0m\u001b[0;34m,\u001b[0m \u001b[0mh0\u001b[0m\u001b[0;34m,\u001b[0m \u001b[0mhmax\u001b[0m\u001b[0;34m,\u001b[0m \u001b[0mhmin\u001b[0m\u001b[0;34m,\u001b[0m\u001b[0;34m\u001b[0m\u001b[0m\n\u001b[1;32m    232\u001b[0m                              \u001b[0mixpr\u001b[0m\u001b[0;34m,\u001b[0m \u001b[0mmxstep\u001b[0m\u001b[0;34m,\u001b[0m \u001b[0mmxhnil\u001b[0m\u001b[0;34m,\u001b[0m \u001b[0mmxordn\u001b[0m\u001b[0;34m,\u001b[0m \u001b[0mmxords\u001b[0m\u001b[0;34m,\u001b[0m\u001b[0;34m\u001b[0m\u001b[0m\n\u001b[0;32m--> 233\u001b[0;31m                              int(bool(tfirst)))\n\u001b[0m\u001b[1;32m    234\u001b[0m     \u001b[0;32mif\u001b[0m \u001b[0moutput\u001b[0m\u001b[0;34m[\u001b[0m\u001b[0;34m-\u001b[0m\u001b[0;36m1\u001b[0m\u001b[0;34m]\u001b[0m \u001b[0;34m<\u001b[0m \u001b[0;36m0\u001b[0m\u001b[0;34m:\u001b[0m\u001b[0;34m\u001b[0m\u001b[0m\n\u001b[1;32m    235\u001b[0m         \u001b[0mwarning_msg\u001b[0m \u001b[0;34m=\u001b[0m \u001b[0m_msgs\u001b[0m\u001b[0;34m[\u001b[0m\u001b[0moutput\u001b[0m\u001b[0;34m[\u001b[0m\u001b[0;34m-\u001b[0m\u001b[0;36m1\u001b[0m\u001b[0;34m]\u001b[0m\u001b[0;34m]\u001b[0m \u001b[0;34m+\u001b[0m \u001b[0;34m\" Run with full_output = 1 to get quantitative information.\"\u001b[0m\u001b[0;34m\u001b[0m\u001b[0m\n",
      "\u001b[0;32m~/.local/lib/python3.5/site-packages/sympy/core/expr.py\u001b[0m in \u001b[0;36m__float__\u001b[0;34m(self)\u001b[0m\n\u001b[1;32m    237\u001b[0m         \u001b[0;32mif\u001b[0m \u001b[0mresult\u001b[0m\u001b[0;34m.\u001b[0m\u001b[0mis_number\u001b[0m \u001b[0;32mand\u001b[0m \u001b[0mresult\u001b[0m\u001b[0;34m.\u001b[0m\u001b[0mas_real_imag\u001b[0m\u001b[0;34m(\u001b[0m\u001b[0;34m)\u001b[0m\u001b[0;34m[\u001b[0m\u001b[0;36m1\u001b[0m\u001b[0;34m]\u001b[0m\u001b[0;34m:\u001b[0m\u001b[0;34m\u001b[0m\u001b[0m\n\u001b[1;32m    238\u001b[0m             \u001b[0;32mraise\u001b[0m \u001b[0mTypeError\u001b[0m\u001b[0;34m(\u001b[0m\u001b[0;34m\"can't convert complex to float\"\u001b[0m\u001b[0;34m)\u001b[0m\u001b[0;34m\u001b[0m\u001b[0m\n\u001b[0;32m--> 239\u001b[0;31m         \u001b[0;32mraise\u001b[0m \u001b[0mTypeError\u001b[0m\u001b[0;34m(\u001b[0m\u001b[0;34m\"can't convert expression to float\"\u001b[0m\u001b[0;34m)\u001b[0m\u001b[0;34m\u001b[0m\u001b[0m\n\u001b[0m\u001b[1;32m    240\u001b[0m \u001b[0;34m\u001b[0m\u001b[0m\n\u001b[1;32m    241\u001b[0m     \u001b[0;32mdef\u001b[0m \u001b[0m__complex__\u001b[0m\u001b[0;34m(\u001b[0m\u001b[0mself\u001b[0m\u001b[0;34m)\u001b[0m\u001b[0;34m:\u001b[0m\u001b[0;34m\u001b[0m\u001b[0m\n",
      "\u001b[0;31mTypeError\u001b[0m: can't convert expression to float"
     ]
    }
   ],
   "source": [
    "res = odeint(f, begin_v, t, args=(T0, W0, d,))"
   ]
  },
  {
   "cell_type": "code",
   "execution_count": 244,
   "metadata": {},
   "outputs": [
    {
     "ename": "NameError",
     "evalue": "name 'res' is not defined",
     "output_type": "error",
     "traceback": [
      "\u001b[0;31m---------------------------------------------------------------------------\u001b[0m",
      "\u001b[0;31mNameError\u001b[0m                                 Traceback (most recent call last)",
      "\u001b[0;32m<ipython-input-244-34960b713c88>\u001b[0m in \u001b[0;36m<module>\u001b[0;34m()\u001b[0m\n\u001b[1;32m      2\u001b[0m \u001b[0;34m\u001b[0m\u001b[0m\n\u001b[1;32m      3\u001b[0m \u001b[0;32mfor\u001b[0m \u001b[0mx\u001b[0m \u001b[0;32min\u001b[0m \u001b[0mrange\u001b[0m\u001b[0;34m(\u001b[0m\u001b[0;36m10\u001b[0m\u001b[0;34m)\u001b[0m\u001b[0;34m:\u001b[0m\u001b[0;34m\u001b[0m\u001b[0m\n\u001b[0;32m----> 4\u001b[0;31m     \u001b[0mlist_res\u001b[0m\u001b[0;34m.\u001b[0m\u001b[0mappend\u001b[0m\u001b[0;34m(\u001b[0m\u001b[0mres\u001b[0m\u001b[0;34m[\u001b[0m\u001b[0;34m:\u001b[0m\u001b[0;34m,\u001b[0m\u001b[0mx\u001b[0m\u001b[0;34m]\u001b[0m\u001b[0;34m)\u001b[0m\u001b[0;34m\u001b[0m\u001b[0m\n\u001b[0m",
      "\u001b[0;31mNameError\u001b[0m: name 'res' is not defined"
     ]
    }
   ],
   "source": [
    "list_res = []\n",
    "\n",
    "for x in range(10):\n",
    "    list_res.append(res[:,x])"
   ]
  },
  {
   "cell_type": "code",
   "execution_count": null,
   "metadata": {},
   "outputs": [],
   "source": []
  }
 ],
 "metadata": {
  "kernelspec": {
   "display_name": "Python 3",
   "language": "python",
   "name": "python3"
  },
  "language_info": {
   "codemirror_mode": {
    "name": "ipython",
    "version": 3
   },
   "file_extension": ".py",
   "mimetype": "text/x-python",
   "name": "python",
   "nbconvert_exporter": "python",
   "pygments_lexer": "ipython3",
   "version": "3.5.2"
  }
 },
 "nbformat": 4,
 "nbformat_minor": 2
}
