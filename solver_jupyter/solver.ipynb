{
 "cells": [
  {
   "cell_type": "code",
   "execution_count": 1,
   "metadata": {},
   "outputs": [
    {
     "ename": "ImportError",
     "evalue": "No module named 'pyodesys'",
     "output_type": "error",
     "traceback": [
      "\u001b[0;31m---------------------------------------------------------------------------\u001b[0m",
      "\u001b[0;31mImportError\u001b[0m                               Traceback (most recent call last)",
      "\u001b[0;32m<ipython-input-1-c9e2f0b942ef>\u001b[0m in \u001b[0;36m<module>\u001b[0;34m\u001b[0m\n\u001b[1;32m      6\u001b[0m \u001b[0;32mimport\u001b[0m \u001b[0mnumpy\u001b[0m \u001b[0;32mas\u001b[0m \u001b[0mnp\u001b[0m\u001b[0;34m\u001b[0m\u001b[0m\n\u001b[1;32m      7\u001b[0m \u001b[0;34m\u001b[0m\u001b[0m\n\u001b[0;32m----> 8\u001b[0;31m \u001b[0;32mfrom\u001b[0m \u001b[0mpyodesys\u001b[0m\u001b[0;34m.\u001b[0m\u001b[0msymbolic\u001b[0m \u001b[0;32mimport\u001b[0m \u001b[0mSymbolicSys\u001b[0m\u001b[0;34m\u001b[0m\u001b[0m\n\u001b[0m\u001b[1;32m      9\u001b[0m \u001b[0;32mfrom\u001b[0m \u001b[0mpyodesys\u001b[0m\u001b[0;34m.\u001b[0m\u001b[0mutil\u001b[0m \u001b[0;32mimport\u001b[0m \u001b[0mstack_1d_on_left\u001b[0m\u001b[0;34m\u001b[0m\u001b[0m\n\u001b[1;32m     10\u001b[0m \u001b[0;34m\u001b[0m\u001b[0m\n",
      "\u001b[0;31mImportError\u001b[0m: No module named 'pyodesys'"
     ]
    }
   ],
   "source": [
    "#!/usr/bin/env python\n",
    "# -*- coding: utf-8 -*-\n",
    "# thanks: http://bjodah.github.io/pyodesys/latest/pyodesys.html\n",
    "\n",
    "import sympy as sp\n",
    "import numpy as np\n",
    "\n",
    "from pyodesys.symbolic import SymbolicSys\n",
    "from pyodesys.util import stack_1d_on_left\n",
    "\n",
    "import matplotlib.pyplot as plt\n",
    "\n",
    "\n",
    "def numerical_solver(left, right, y0, params=[], params_value=[], tstart=0.,  tend=10., nt=50, plot=False,\n",
    "         savetxt='None', savefig='None', integrator='scipy', dpi=100, kwargs='', verbose=False):\n",
    "    ''' \n",
    "    Пояснение:\n",
    "    y0 - начальные значения для переменных в виде строки 'X0,X1, ..., Xn' \n",
    "    tstart,  tend, nt - начало, конец и количество шагов по времени соответственно\n",
    "    '''\n",
    "    \n",
    "    ''' \n",
    "    Zip группирует в соответствии левую и правую часть системы\n",
    "    x, y = 'x', 'y'\n",
    "    f = ['x**2 - y', 'y-y**3+x']\n",
    "    list(zip([x,y], f))   ->   [('x', 'x**2 - y'), ('y', 'y-y**3+x')]\n",
    "    '''\n",
    "    odesys = SymbolicSys(zip(left, right), params=params, names=True)\n",
    "    \n",
    "    ''' Создаем точки по t'''\n",
    "    tout = np.linspace(tstart, tend, nt)\n",
    "    \n",
    "    ''' Преобразуем начальные условия '''\n",
    "    y0 = list(map(float, y0.split(',')))\n",
    "    \n",
    "    '''kwargs пока не нужен'''\n",
    "    kwargs = dict(eval(kwargs) if kwargs else {})\n",
    "    \n",
    "    \n",
    "    ''' Интегрируем '''\n",
    "    xout, yout, info = odesys.integrate(tout, y0, params_value, integrator=integrator, **kwargs)\n",
    "    \n",
    "    \n",
    "    if verbose:\n",
    "        print(info)\n",
    "    if savetxt != 'None':\n",
    "        # stack_1d_on_left(xout, yout) -> [[t_0, x1_0, x2_0, x3_0], ... , [t_n, x1_n, x2_n, x3_n]]\n",
    "        np.savetxt(savetxt, stack_1d_on_left(xout, yout))\n",
    "    if plot:\n",
    "        odesys.plot_result()\n",
    "        plt.legend()\n",
    "        if savefig != 'None':\n",
    "            plt.savefig(savefig, dpi=dpi)\n",
    "        else:\n",
    "            plt.show()"
   ]
  },
  {
   "cell_type": "code",
   "execution_count": 3,
   "metadata": {},
   "outputs": [
    {
     "ename": "NameError",
     "evalue": "name 'numerical_solver' is not defined",
     "output_type": "error",
     "traceback": [
      "\u001b[0;31m---------------------------------------------------------------------------\u001b[0m",
      "\u001b[0;31mNameError\u001b[0m                                 Traceback (most recent call last)",
      "\u001b[0;32m<ipython-input-3-d3d46c81cb65>\u001b[0m in \u001b[0;36m<module>\u001b[0;34m\u001b[0m\n\u001b[1;32m      7\u001b[0m     \u001b[0minitial_conditions\u001b[0m \u001b[0;34m=\u001b[0m \u001b[0;34m'1, 1, 1'\u001b[0m  \u001b[0;31m# в строку конечно такое себе\u001b[0m\u001b[0;34m\u001b[0m\u001b[0m\n\u001b[1;32m      8\u001b[0m \u001b[0;34m\u001b[0m\u001b[0m\n\u001b[0;32m----> 9\u001b[0;31m     numerical_solver(left=left, right=right, y0=initial_conditions, params=[p1, p2], params_value=params_value, \n\u001b[0m\u001b[1;32m     10\u001b[0m                      savetxt='result.txt', plot=True)\n",
      "\u001b[0;31mNameError\u001b[0m: name 'numerical_solver' is not defined"
     ]
    }
   ],
   "source": [
    "if __name__ == '__main__':\n",
    "    p1, p2 = params = sp.symbols('p1, p2', real=True)\n",
    "    params_value = [1., 10.]\n",
    "\n",
    "    x , y, z = left = sp.symbols('x, y, z')\n",
    "    right = [x - y - z*p2, x + y, 3*x*p1 + z]\n",
    "    initial_conditions = '1, 1, 1'  # в строку конечно такое себе \n",
    "\n",
    "    numerical_solver(left=left, right=right, y0=initial_conditions, params=[p1, p2], params_value=params_value, \n",
    "                     savetxt='result.txt', plot=True)"
   ]
  },
  {
   "cell_type": "code",
   "execution_count": 7,
   "metadata": {},
   "outputs": [
    {
     "data": {
      "image/png": "[encoded data removed]",
      "text/plain": [
       "<Figure size 432x288 with 1 Axes>"
      ]
     },
     "metadata": {
      "needs_background": "light"
     },
     "output_type": "display_data"
    }
   ],
   "source": [
    "if __name__ == '__main__':\n",
    "    p1, p2 = params = sp.symbols('p1, p2', real=True)\n",
    "    params_value = [1., 10.]\n",
    "    \n",
    "    x , y = left = sp.symbols('x, y')\n",
    "    right = [y, sin(t)]\n",
    "    initial_conditions = '1, 0'  # в строку конечно такое себе \n",
    "\n",
    "    numerical_solver(left=left, right=right, y0=initial_conditions, params=[p1, p2], params_value=params_value, \n",
    "                     savetxt='result.txt', plot=True)"
   ]
  },
  {
   "cell_type": "code",
   "execution_count": null,
   "metadata": {},
   "outputs": [],
   "source": []
  }
 ],
 "metadata": {
  "kernelspec": {
   "display_name": "Python 3",
   "language": "python",
   "name": "python3"
  },
  "language_info": {
   "codemirror_mode": {
    "name": "ipython",
    "version": 3
   },
   "file_extension": ".py",
   "mimetype": "text/x-python",
   "name": "python",
   "nbconvert_exporter": "python",
   "pygments_lexer": "ipython3",
   "version": "3.7.2"
  }
 },
 "nbformat": 4,
 "nbformat_minor": 2
}
